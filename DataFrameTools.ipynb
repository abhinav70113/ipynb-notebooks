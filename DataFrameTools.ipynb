{
 "cells": [
  {
   "cell_type": "markdown",
   "metadata": {},
   "source": [
    "## DataFrameTools\n",
    "\n",
    "### Set environmental variables\n",
    "\n",
    "In order to properly load modules within this notebook from outside the repository folder, set the script **PATH** below,  e.g. ```C:/DataFrameTools```:"
   ]
  },
  {
   "cell_type": "code",
   "execution_count": null,
   "metadata": {},
   "outputs": [],
   "source": [
    "PATH = \"/path/to/DataFrameTools\" # <-- optional if running from native path"
   ]
  },
  {
   "cell_type": "code",
   "execution_count": null,
   "metadata": {},
   "outputs": [],
   "source": [
    "import importlib.util, os\n",
    "\n",
    "if not os.path.isdir(PATH):\n",
    "    PATH = os.getcwd()\n",
    "PATH = os.path.realpath(PATH)\n",
    "\n",
    "spec = importlib.util.spec_from_file_location(\"__init__\", PATH+'/__init__.py')\n",
    "init = importlib.util.module_from_spec(spec)\n",
    "spec.loader.exec_module(init)\n",
    "\n",
    "%matplotlib inline\n",
    "%load_ext autoreload\n",
    "%autoreload 2"
   ]
  },
  {
   "cell_type": "markdown",
   "metadata": {},
   "source": [
    "### Import functions"
   ]
  },
  {
   "cell_type": "code",
   "execution_count": null,
   "metadata": {},
   "outputs": [],
   "source": [
    "from concat import concat_files\n",
    "from dflib import df_load\n",
    "from filters import df_filter_text\n",
    "from filters import df_filter_interval\n",
    "from filters import df_filter_datetime\n",
    "from filters import df_filter_timestamp\n",
    "from normalize import normalize_df\n",
    "from write import df_write\n",
    "from xls2csv import convert_file"
   ]
  },
  {
   "cell_type": "markdown",
   "metadata": {},
   "source": [
    "### Load data from file\n",
    "\n",
    "Accepts both pure text files and Excel extension formats: `CSV`, `TAB`, `TXT`, `XLS`, `XLSX`."
   ]
  },
  {
   "cell_type": "code",
   "execution_count": null,
   "metadata": {},
   "outputs": [],
   "source": [
    "file_name = \"\"\n",
    "\n",
    "df = df_load(file_name); df.head(1)"
   ]
  },
  {
   "cell_type": "markdown",
   "metadata": {},
   "source": [
    "#### Alternative: convert file → `.csv/.xls(x)`\n",
    "\n",
    "Converts existing files to and from Excel format, separately by each sheet it contains."
   ]
  },
  {
   "cell_type": "code",
   "execution_count": null,
   "metadata": {},
   "outputs": [],
   "source": [
    "file_name = \"\"\n",
    "\n",
    "convert_file(file_name)"
   ]
  },
  {
   "cell_type": "markdown",
   "metadata": {},
   "source": [
    "#### Alternative: load multiple files\n",
    "\n",
    "Concatenate multiple files in the same folder to a single data frame."
   ]
  },
  {
   "cell_type": "code",
   "execution_count": null,
   "metadata": {},
   "outputs": [],
   "source": [
    "folder_name = \"\"\n",
    "\n",
    "df = concat_files(folder_name, extension=\"\", output_file=\"\", ignore_header=False); df"
   ]
  },
  {
   "cell_type": "markdown",
   "metadata": {},
   "source": [
    "#### Alternative: load multiple data frames\n",
    "\n",
    "Concatenate individually loaded files into a single data frame."
   ]
  },
  {
   "cell_type": "code",
   "execution_count": null,
   "metadata": {},
   "outputs": [],
   "source": [
    "list_of_data_frames = []\n",
    "\n",
    "df = df_concat(list_of_data_frames); df"
   ]
  },
  {
   "cell_type": "markdown",
   "metadata": {},
   "source": [
    "### Filter data from file\n",
    "\n",
    "Select parameters to filter file by text, numeric interval, timestamp interval or to cut columns.\n",
    "\n",
    "#### Select rows that match a text filter rule"
   ]
  },
  {
   "cell_type": "code",
   "execution_count": null,
   "metadata": {},
   "outputs": [],
   "source": [
    "keywords = \"\"            # comma separated (required)\n",
    "columns  = \"\"            # comma separated (optional)\n",
    "\n",
    "case_sensitive = False   # match keywords as case sensitive (AaBbCc) \n",
    "invert_match   = False   # tag unmatching rows only i.e. not matching any rule\n",
    "whole_words    = False   # do NOT allow partial matches (e.g 'book' matches 'books')\n",
    "\n",
    "new_df = df_filter_text(df, keywords, columns, case_sensitive, invert_match, whole_words)"
   ]
  },
  {
   "cell_type": "markdown",
   "metadata": {},
   "source": [
    "#### Select numeric interval to filter values"
   ]
  },
  {
   "cell_type": "code",
   "execution_count": null,
   "metadata": {},
   "outputs": [],
   "source": [
    "min_value = None\n",
    "max_value = None\n",
    "\n",
    "column    = \"\"\n",
    "invert    = False\n",
    "\n",
    "new_df = df_filter_interval(df, min_value=min_value, max_value=max_value, column=column, invert_match=invert)"
   ]
  },
  {
   "cell_type": "markdown",
   "metadata": {},
   "source": [
    "#### Select date interval to filter dates"
   ]
  },
  {
   "cell_type": "code",
   "execution_count": null,
   "metadata": {},
   "outputs": [],
   "source": [
    "min_date = \"2020-01-01\"\n",
    "max_date = \"2020-12-31 23:59:59\"\n",
    "\n",
    "column   = \"\"\n",
    "invert   = False\n",
    "\n",
    "new_df = df_filter_datetime(df, min_date=min_date, max_date=max_date, column=column, invert_match=invert)"
   ]
  },
  {
   "cell_type": "markdown",
   "metadata": {},
   "source": [
    "#### Select date interval to filter timestamps"
   ]
  },
  {
   "cell_type": "code",
   "execution_count": null,
   "metadata": {
    "scrolled": false
   },
   "outputs": [],
   "source": [
    "min_date = \"1970-01-01\"\n",
    "max_date = \"2038-01-18 03:14:07\"\n",
    "\n",
    "column   = \"\"\n",
    "invert   = False\n",
    "\n",
    "new_df = df_filter_timestamp(df, min_date=min_date, max_date=max_date, column=column, invert_match=invert)"
   ]
  },
  {
   "cell_type": "markdown",
   "metadata": {},
   "source": [
    "### Normalize data frame\n",
    "\n",
    "Normalize values in each column field by `MinMax`, `Standard` scale or `ECDF` (empirical distribution function)."
   ]
  },
  {
   "cell_type": "code",
   "execution_count": null,
   "metadata": {},
   "outputs": [],
   "source": [
    "method  = \"minmax\"\n",
    "columns = []\n",
    "\n",
    "new_df = normalize_df(df, method=method, columns=columns)"
   ]
  },
  {
   "cell_type": "markdown",
   "metadata": {},
   "source": [
    "### Write new data frame to file\n",
    "\n",
    "Accepts both pure text `CSV` (Comma Separated Values) and `XLS/XLSX` (Excel) extension formats."
   ]
  },
  {
   "cell_type": "code",
   "execution_count": null,
   "metadata": {},
   "outputs": [],
   "source": [
    "output_file = \"data.csv\" # \"data.xls\"\n",
    "\n",
    "df_write(new_df, output_file)"
   ]
  },
  {
   "cell_type": "markdown",
   "metadata": {},
   "source": [
    "#### Compress output →  `output.zip`"
   ]
  },
  {
   "cell_type": "code",
   "execution_count": null,
   "metadata": {},
   "outputs": [],
   "source": [
    "!zip output.zip data.csv data.xls"
   ]
  },
  {
   "cell_type": "markdown",
   "metadata": {},
   "source": [
    "### [Download output files](output.zip)"
   ]
  },
  {
   "cell_type": "markdown",
   "metadata": {},
   "source": [
    "___\n",
    "\n",
    "### References\n",
    "\n",
    "* Pandas documentation: https://pandas.pydata.org/"
   ]
  }
 ],
 "metadata": {
  "kernelspec": {
   "display_name": "Python 3",
   "language": "python",
   "name": "python3"
  },
  "language_info": {
   "codemirror_mode": {
    "name": "ipython",
    "version": 3
   },
   "file_extension": ".py",
   "mimetype": "text/x-python",
   "name": "python",
   "nbconvert_exporter": "python",
   "pygments_lexer": "ipython3",
   "version": "3.7.7"
  }
 },
 "nbformat": 4,
 "nbformat_minor": 2
}
