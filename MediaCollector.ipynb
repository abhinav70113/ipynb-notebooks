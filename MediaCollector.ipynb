{
 "cells": [
  {
   "cell_type": "markdown",
   "metadata": {},
   "source": [
    "## MediaCollector\n",
    "\n",
    "### Set environmental variables\n",
    "\n",
    "In order to properly load modules within this notebook from outside the repository folder, set the script **PATH** below,  e.g. ```C:/MediaCollector```:"
   ]
  },
  {
   "cell_type": "code",
   "execution_count": null,
   "metadata": {},
   "outputs": [],
   "source": [
    "PATH = \"/path/to/MediaCollector\" # <-- optional if running from native path"
   ]
  },
  {
   "cell_type": "code",
   "execution_count": null,
   "metadata": {},
   "outputs": [],
   "source": [
    "import importlib.util, os\n",
    "\n",
    "if not os.path.isdir(PATH):\n",
    "    PATH = os.getcwd()\n",
    "PATH = os.path.realpath(PATH)\n",
    "\n",
    "spec = importlib.util.spec_from_file_location(\"__init__\", PATH+'/__init__.py')\n",
    "init = importlib.util.module_from_spec(spec)\n",
    "spec.loader.exec_module(init)\n",
    "\n",
    "%matplotlib inline\n",
    "%load_ext autoreload\n",
    "%autoreload 2"
   ]
  },
  {
   "cell_type": "markdown",
   "metadata": {},
   "source": [
    "### Import functions"
   ]
  },
  {
   "cell_type": "code",
   "execution_count": null,
   "metadata": {},
   "outputs": [],
   "source": [
    "from MediaCollector import MediaCollector\n",
    "from articles import NewsApiArticles\n",
    "from content import NewsContent\n",
    "from hyperlinks import NewsHyperlinks\n",
    "from stories import MediaCloudStories"
   ]
  },
  {
   "cell_type": "markdown",
   "metadata": {},
   "source": [
    "#### Import API credentials"
   ]
  },
  {
   "cell_type": "code",
   "execution_count": null,
   "metadata": {},
   "outputs": [],
   "source": [
    "from config import MCLOUD_KEY\n",
    "from config import NEWSAPI_KEY"
   ]
  },
  {
   "cell_type": "markdown",
   "metadata": {},
   "source": [
    "#### Override API credentials\n",
    "\n",
    "User definitions stored in ```config.py``` make this step optional."
   ]
  },
  {
   "cell_type": "code",
   "execution_count": null,
   "metadata": {},
   "outputs": [],
   "source": [
    "#MCLOUD_KEY  = \"\" # <-- MediaCloud application key\n",
    "#NEWSAPI_KEY = \"\" # <-- News API application key"
   ]
  },
  {
   "cell_type": "markdown",
   "metadata": {},
   "source": [
    "#### Set parameters\n",
    "\n",
    "Set parameters to query either MediaCloud or News API. You may also pass a file containing articles or a list of URLs as input for content/hyperlinks.\n",
    "\n",
    "**Note:** the `category` and `country` ([ISO 3166-1 alpha-2 code](https://www.iso.org/obp/ui/#search) e.g. \"br\" for Brazil) parameters are only available when querying [News API headlines](https://newsapi.org/docs/endpoints/top-headlines)."
   ]
  },
  {
   "cell_type": "code",
   "execution_count": null,
   "metadata": {},
   "outputs": [],
   "source": [
    "input_query = \"\"        # string or text file with URLs\n",
    "language = \"\"           # language code e.g. \"en\" for English\n",
    "method = \"mediacloud\"   # \"mediacloud\" or \"newsapi\"\n",
    "\n",
    "start_date = \"\"         # as in \"YYYY-MM-DD\"\n",
    "end_date = \"\"           # as in \"YYYY-MM-DD\"\n",
    "limit = None            # maximum articles to get\n",
    "\n",
    "content = False         # get page content\n",
    "hyperlinks = False      # network of pages\n",
    "max_workers = 20        # concurrent workers\n",
    "\n",
    "category = \"\"           # for News API headlines only\n",
    "country = \"\"            # for News API headlines only\n",
    "\n",
    "output_folder = \"MEDIA\" # output folder name\n",
    "merge_output = False    # for multiple collections"
   ]
  },
  {
   "cell_type": "markdown",
   "metadata": {},
   "source": [
    "### Collect media\n",
    "\n",
    "Get news media articles, optionally gather page content and build a network of hyperlinks. If no date is set, get today's articles."
   ]
  },
  {
   "cell_type": "code",
   "execution_count": null,
   "metadata": {},
   "outputs": [],
   "source": [
    "output = MediaCollector(input_query,\n",
    "                        newsapi_key=NEWSAPI_KEY,\n",
    "                        mcloud_key=MCLOUD_KEY,\n",
    "                        method=method,\n",
    "                        lang=language,\n",
    "                        limit=limit,\n",
    "                        since=start_date,\n",
    "                        until=end_date,\n",
    "                        content=content,\n",
    "                        hyperlinks=hyperlinks,\n",
    "                        max_workers=max_workers,\n",
    "                        merge_output=merge_output,\n",
    "                        output_folder=output_folder,\n",
    "                        ext='csv')"
   ]
  },
  {
   "cell_type": "markdown",
   "metadata": {},
   "source": [
    "### Advanced usage\n",
    "\n",
    "Step-by-step execution of the main function by importing and executing classes."
   ]
  },
  {
   "cell_type": "code",
   "execution_count": null,
   "metadata": {},
   "outputs": [],
   "source": [
    "M = MediaCloudStories(MCLOUD_KEY)\n",
    "N = NewsApiArticles(NEWSAPI_KEY)\n",
    "C = NewsContent(max_workers=max_workers)\n",
    "H = NewsHyperlinks(max_workers=max_workers)"
   ]
  },
  {
   "cell_type": "markdown",
   "metadata": {},
   "source": [
    "#### Search MediaCloud stories\n",
    "\n",
    "**Note:** language parameter here works as a post-query filter, once MediaCloud does not seem to support it on search time."
   ]
  },
  {
   "cell_type": "code",
   "execution_count": null,
   "metadata": {},
   "outputs": [],
   "source": [
    "output = M.stories(input_query,\n",
    "                   lang=language,\n",
    "                   limit=limit,\n",
    "                   start_date=start_date,\n",
    "                   end_date=end_date)"
   ]
  },
  {
   "cell_type": "markdown",
   "metadata": {},
   "source": [
    "#### Search News API articles\n",
    "\n",
    "**Note:** free accounts are limited to a maximum of 100 articles for both `everything` and `headlines` endpoints."
   ]
  },
  {
   "cell_type": "code",
   "execution_count": null,
   "metadata": {
    "scrolled": true
   },
   "outputs": [],
   "source": [
    "output = N.articles(input_query,\n",
    "                    category=category,\n",
    "                    country=country,\n",
    "                    endpoint='everything',#'headlines',\n",
    "                    lang=language,\n",
    "                    limit=limit,\n",
    "                    start_date=start_date,\n",
    "                    end_date=end_date)"
   ]
  },
  {
   "cell_type": "markdown",
   "metadata": {},
   "source": [
    "#### Check News API sources\n",
    "\n",
    "Returns a subset of news publishers that are available for `headlines`."
   ]
  },
  {
   "cell_type": "code",
   "execution_count": null,
   "metadata": {
    "scrolled": true
   },
   "outputs": [],
   "source": [
    "output = N.sources()"
   ]
  },
  {
   "cell_type": "markdown",
   "metadata": {},
   "source": [
    "#### Get page content\n",
    "\n",
    "Gather the content of every previously collected article through `news-please`."
   ]
  },
  {
   "cell_type": "code",
   "execution_count": null,
   "metadata": {},
   "outputs": [],
   "source": [
    "output = C.from_articles(output)"
   ]
  },
  {
   "cell_type": "markdown",
   "metadata": {},
   "source": [
    "#### Get page hyperlinks\n",
    "\n",
    "Builds a network from page hyperlinks through `NewsPaper3k`. **Tip**: set a higher `depth` to also consider returned pages up to N levels."
   ]
  },
  {
   "cell_type": "code",
   "execution_count": null,
   "metadata": {},
   "outputs": [],
   "source": [
    "H.from_articles(output, output_folder=output_folder, depth=1)"
   ]
  },
  {
   "cell_type": "markdown",
   "metadata": {},
   "source": [
    "### Data frame from output\n",
    "\n",
    "Optionally build a data frame to inspect output objects. **Note:** requires importing `Pandas` beforehand."
   ]
  },
  {
   "cell_type": "code",
   "execution_count": null,
   "metadata": {},
   "outputs": [],
   "source": [
    "import pandas as pd"
   ]
  },
  {
   "cell_type": "code",
   "execution_count": null,
   "metadata": {},
   "outputs": [],
   "source": [
    "df = pd.DataFrame.from_dict(output); df"
   ]
  },
  {
   "cell_type": "markdown",
   "metadata": {},
   "source": [
    "#### Compress output →  `output.zip`"
   ]
  },
  {
   "cell_type": "code",
   "execution_count": null,
   "metadata": {},
   "outputs": [],
   "source": [
    "!zip -r output.zip MEDIA"
   ]
  },
  {
   "cell_type": "markdown",
   "metadata": {},
   "source": [
    "### [Download output files](output.zip)"
   ]
  },
  {
   "cell_type": "markdown",
   "metadata": {},
   "source": [
    "___\n",
    "### References\n",
    "\n",
    "* Beautiful Soup: https://pypi.org/project/beautifulsoup4/\n",
    "* MediaCloud API Client: https://pypi.org/project/mediacloud/\n",
    "* news-Please: https://pypi.org/project/news-please/\n",
    "* newsapi-python: https://pypi.org/project/newsapi-python/\n",
    "* Newspaper: https://pypi.org/project/newspaper3k/"
   ]
  }
 ],
 "metadata": {
  "celltoolbar": "Raw Cell Format",
  "kernelspec": {
   "display_name": "Python 3",
   "language": "python",
   "name": "python3"
  },
  "language_info": {
   "codemirror_mode": {
    "name": "ipython",
    "version": 3
   },
   "file_extension": ".py",
   "mimetype": "text/x-python",
   "name": "python",
   "nbconvert_exporter": "python",
   "pygments_lexer": "ipython3",
   "version": "3.7.7"
  }
 },
 "nbformat": 4,
 "nbformat_minor": 2
}
