{
 "cells": [
  {
   "cell_type": "markdown",
   "metadata": {},
   "source": [
    "## MediaCollector\n",
    "\n",
    "### Set environmental variables\n",
    "\n",
    "In order to properly load modules within this notebook from outside the repository folder, set the script **PATH** below,  e.g. ```C:/MediaCollector```:"
   ]
  },
  {
   "cell_type": "code",
   "execution_count": null,
   "metadata": {},
   "outputs": [],
   "source": [
    "PATH = \"/path/to/MediaCollector\" # <-- optional if running from native path"
   ]
  },
  {
   "cell_type": "code",
   "execution_count": null,
   "metadata": {},
   "outputs": [],
   "source": [
    "import importlib.util, os\n",
    "\n",
    "if not os.path.isdir(PATH):\n",
    "    PATH = os.getcwd()\n",
    "PATH = os.path.realpath(PATH)\n",
    "\n",
    "spec = importlib.util.spec_from_file_location(\"__init__\", PATH+'/__init__.py')\n",
    "init = importlib.util.module_from_spec(spec)\n",
    "spec.loader.exec_module(init)\n",
    "\n",
    "%matplotlib inline\n",
    "%load_ext autoreload\n",
    "%autoreload 2"
   ]
  },
  {
   "cell_type": "markdown",
   "metadata": {},
   "source": [
    "### Import functions"
   ]
  },
  {
   "cell_type": "code",
   "execution_count": null,
   "metadata": {},
   "outputs": [],
   "source": [
    "from MediaCollector import MediaCollector\n",
    "from articles import news_articles\n",
    "from content import news_content\n",
    "from hyperlinks import news_hyperlinks\n",
    "from stories import mc_stories"
   ]
  },
  {
   "cell_type": "markdown",
   "metadata": {},
   "source": [
    "#### Set default API credentials"
   ]
  },
  {
   "cell_type": "code",
   "execution_count": null,
   "metadata": {},
   "outputs": [],
   "source": [
    "from config import MCLOUD_KEY\n",
    "from config import NEWSAPI_KEY"
   ]
  },
  {
   "cell_type": "markdown",
   "metadata": {},
   "source": [
    "#### Override API credentials (optional)\n",
    "\n",
    "User definitions stored in ```config.py``` make this step optional."
   ]
  },
  {
   "cell_type": "code",
   "execution_count": null,
   "metadata": {},
   "outputs": [],
   "source": [
    "#MCLOUD_KEY  = \"\" # <-- MediaCloud application key\n",
    "#NEWSAPI_KEY = \"\" # <-- News API application key"
   ]
  },
  {
   "cell_type": "markdown",
   "metadata": {},
   "source": [
    "#### Set parameters\n",
    "\n",
    "Set parameters to query either News API articles or MediaCloud stories."
   ]
  },
  {
   "cell_type": "code",
   "execution_count": null,
   "metadata": {},
   "outputs": [],
   "source": [
    "query      = \"\"      # string or text file with URLs\n",
    "content    = True    # scrape page content\n",
    "hyperlinks = True    # network of pages\n",
    "days       = 30      # to dig for news\n",
    "limit      = 100     # maximum articles\n",
    "start_date = None    # \"YYYY-MM-DD\"\n",
    "end_date   = None    # \"YYYY-MM-DD\"\n",
    "lang       = 'all'   # language code\n",
    "method     = 'all'   # API endpoint\n",
    "output     = '.'     # folder name"
   ]
  },
  {
   "cell_type": "markdown",
   "metadata": {},
   "source": [
    "### Collect media\n",
    "\n",
    "Get articles, scrape page content and build a network of hyperlinks."
   ]
  },
  {
   "cell_type": "code",
   "execution_count": null,
   "metadata": {},
   "outputs": [],
   "source": [
    "articles = MediaCollector(query,\n",
    "                          newsapi_key=NEWSAPI_KEY,\n",
    "                          mcloud_key=MCLOUD_KEY,\n",
    "                          method=method,\n",
    "                          days=days,\n",
    "                          lang=lang,\n",
    "                          limit=limit,\n",
    "                          since=start_date,\n",
    "                          until=end_date,\n",
    "                          content=content,\n",
    "                          hyperlinks=hyperlinks,\n",
    "                          output_folder=output)"
   ]
  },
  {
   "cell_type": "markdown",
   "metadata": {},
   "source": [
    "### Alternative usage\n",
    "\n",
    "Step-by-step execution of the main function."
   ]
  },
  {
   "cell_type": "markdown",
   "metadata": {},
   "source": [
    "#### 1/3) From News API `headlines`\n",
    "\n",
    "Returns latest news containing query only, up to a maximum of 20 articles."
   ]
  },
  {
   "cell_type": "code",
   "execution_count": null,
   "metadata": {},
   "outputs": [],
   "source": [
    "articles = news_articles(query,\n",
    "                         NEWSAPI_KEY,\n",
    "                         method='headlines',\n",
    "                         lang=lang)"
   ]
  },
  {
   "cell_type": "markdown",
   "metadata": {},
   "source": [
    "#### 2/3) From News API `everything`\n",
    "\n",
    "**Note:** developer accounts are limited to a maximum of 100 results, otherwise returning an error code `maximumResultsReached`."
   ]
  },
  {
   "cell_type": "code",
   "execution_count": null,
   "metadata": {
    "scrolled": true
   },
   "outputs": [],
   "source": [
    "articles = news_articles(query,\n",
    "                         NEWSAPI_KEY,\n",
    "                         days=days,\n",
    "                         lang=lang,\n",
    "                         pages=(limit/20 if limit>20 else 1),\n",
    "                         start_date=start_date,\n",
    "                         end_date=end_date)"
   ]
  },
  {
   "cell_type": "markdown",
   "metadata": {},
   "source": [
    "#### 3/3) From MediaCloud `stories`\n",
    "\n",
    "**Note:** language parameter here works as a post-query filter, once MediaCloud does not seem to support it on search time."
   ]
  },
  {
   "cell_type": "code",
   "execution_count": null,
   "metadata": {},
   "outputs": [],
   "source": [
    "articles = mc_stories(query,\n",
    "                      MCLOUD_KEY,\n",
    "                      days=days,\n",
    "                      lang=lang,\n",
    "                      limit=limit,\n",
    "                      start_date=start_date,\n",
    "                      end_date=end_date)"
   ]
  },
  {
   "cell_type": "markdown",
   "metadata": {},
   "source": [
    "#### Get page content\n",
    "\n",
    "Calls `NewsPlease` and take the content of every previously collected article."
   ]
  },
  {
   "cell_type": "code",
   "execution_count": null,
   "metadata": {},
   "outputs": [],
   "source": [
    "articles = news_content(articles)"
   ]
  },
  {
   "cell_type": "markdown",
   "metadata": {},
   "source": [
    "#### Get page hyperlinks\n",
    "\n",
    "Builds a network of articles' hyperlinks using `NewsPaper` and `BeautifulSoup` to scrape pages. **Tip**: try and set a higher number of `levels` (depth)."
   ]
  },
  {
   "cell_type": "code",
   "execution_count": null,
   "metadata": {},
   "outputs": [],
   "source": [
    "levels = 1 # <-- set network depth\n",
    "\n",
    "G = news_hyperlinks(articles, levels=levels)"
   ]
  },
  {
   "cell_type": "markdown",
   "metadata": {},
   "source": [
    "#### Compress output →  `output.zip`"
   ]
  },
  {
   "cell_type": "code",
   "execution_count": null,
   "metadata": {},
   "outputs": [],
   "source": [
    "!zip output.zip *json *csv *gml"
   ]
  },
  {
   "cell_type": "markdown",
   "metadata": {},
   "source": [
    "### [Download output files](output.zip)"
   ]
  },
  {
   "cell_type": "markdown",
   "metadata": {},
   "source": [
    "___\n",
    "### References\n",
    "\n",
    "* Beautiful Soup: https://pypi.org/project/beautifulsoup4/\n",
    "* MediaCloud API Client: https://pypi.org/project/mediacloud/\n",
    "* news-Please: https://pypi.org/project/news-please/\n",
    "* newsapi-python: https://pypi.org/project/newsapi-python/\n",
    "* Newspaper: https://pypi.org/project/newspaper3k/"
   ]
  }
 ],
 "metadata": {
  "celltoolbar": "Raw Cell Format",
  "kernelspec": {
   "display_name": "Python 3",
   "language": "python",
   "name": "python3"
  },
  "language_info": {
   "codemirror_mode": {
    "name": "ipython",
    "version": 3
   },
   "file_extension": ".py",
   "mimetype": "text/x-python",
   "name": "python",
   "nbconvert_exporter": "python",
   "pygments_lexer": "ipython3",
   "version": "3.7.4"
  }
 },
 "nbformat": 4,
 "nbformat_minor": 2
}
