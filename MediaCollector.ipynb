{
 "cells": [
  {
   "cell_type": "markdown",
   "metadata": {},
   "source": [
    "## MediaCollector\n",
    "\n",
    "### Set environmental variables\n",
    "\n",
    "In order to properly load modules within this notebook from outside the repository folder, set the script **PATH** below,  e.g. ```C:/MediaCollector```:"
   ]
  },
  {
   "cell_type": "code",
   "execution_count": 1,
   "metadata": {},
   "outputs": [],
   "source": [
    "PATH = \"/media/data/scripts/chn@git/chn-tools/tools/MediaCollector\" # <-- optional if running from native path"
   ]
  },
  {
   "cell_type": "code",
   "execution_count": 2,
   "metadata": {},
   "outputs": [],
   "source": [
    "import importlib.util, os\n",
    "\n",
    "if not os.path.isdir(PATH):\n",
    "    PATH = os.getcwd()\n",
    "PATH = os.path.realpath(PATH)\n",
    "\n",
    "spec = importlib.util.spec_from_file_location(\"__init__\", PATH+'/__init__.py')\n",
    "init = importlib.util.module_from_spec(spec)\n",
    "spec.loader.exec_module(init)\n",
    "\n",
    "%matplotlib inline\n",
    "%load_ext autoreload\n",
    "%autoreload 2"
   ]
  },
  {
   "cell_type": "markdown",
   "metadata": {},
   "source": [
    "### Import functions"
   ]
  },
  {
   "cell_type": "code",
   "execution_count": 3,
   "metadata": {},
   "outputs": [],
   "source": [
    "from mclib import mc_stories\n",
    "from newslib import news_articles\n",
    "from newslib import news_content\n",
    "from newslib import news_hyperlinks"
   ]
  },
  {
   "cell_type": "markdown",
   "metadata": {},
   "source": [
    "#### Set default API credentials"
   ]
  },
  {
   "cell_type": "code",
   "execution_count": 4,
   "metadata": {},
   "outputs": [],
   "source": [
    "from config import MCLOUD_KEY\n",
    "from config import NEWSAPI_KEY"
   ]
  },
  {
   "cell_type": "markdown",
   "metadata": {},
   "source": [
    "#### Override API credentials (optional)\n",
    "\n",
    "User definitions stored in ```config.py``` make this step optional. **Note**: variables passed to functions on execution override the predefined settings."
   ]
  },
  {
   "cell_type": "code",
   "execution_count": null,
   "metadata": {},
   "outputs": [],
   "source": [
    "#MCLOUD_KEY  = \"\" # <-- MediaCloud application key\n",
    "#NEWSAPI_KEY = \"\" # <-- News API application key"
   ]
  },
  {
   "cell_type": "markdown",
   "metadata": {},
   "source": [
    "### Get news articles\n",
    "\n",
    "Set parameters to query either News API articles or MediaCloud stories. **Note:** both `lang` and `method` arguments below are for News API only."
   ]
  },
  {
   "cell_type": "code",
   "execution_count": 9,
   "metadata": {},
   "outputs": [],
   "source": [
    "query      = \"rap\"      # string to search\n",
    "days       = 30      # to dig for news\n",
    "limit      = 100     # maximum articles\n",
    "start_date = None    # \"YYYY-MM-DD\"\n",
    "end_date   = None    # \"YYYY-MM-DD\"\n",
    "lang       = 'all'   # language code"
   ]
  },
  {
   "cell_type": "markdown",
   "metadata": {},
   "source": [
    "#### 1/3) From News API `headlines`"
   ]
  },
  {
   "cell_type": "code",
   "execution_count": 10,
   "metadata": {},
   "outputs": [
    {
     "name": "stdout",
     "output_type": "stream",
     "text": [
      "Connecting to News API...\n",
      "\n",
      "Got 20 articles.\n"
     ]
    }
   ],
   "source": [
    "articles = news_articles(query, NEWSAPI_KEY, limit, days, start_date, end_date, lang, 'headlines')"
   ]
  },
  {
   "cell_type": "markdown",
   "metadata": {},
   "source": [
    "#### 2/3) From News API `all`\n",
    "\n",
    "**Note:** developer accounts are lmited to a maximum of 100 results, otherwise returning an error code `maximumResultsReached`."
   ]
  },
  {
   "cell_type": "code",
   "execution_count": null,
   "metadata": {
    "scrolled": true
   },
   "outputs": [
    {
     "name": "stdout",
     "output_type": "stream",
     "text": [
      "Connecting to News API...\n",
      "Start date: 2019-11-03 \n",
      "End date:   2019-10-04\n"
     ]
    }
   ],
   "source": [
    "articles = news_articles(query, NEWSAPI_KEY, limit, days, start_date, end_date, lang, 'all')"
   ]
  },
  {
   "cell_type": "markdown",
   "metadata": {},
   "source": [
    "#### 3/3) From MediaCloud `stories`"
   ]
  },
  {
   "cell_type": "code",
   "execution_count": null,
   "metadata": {},
   "outputs": [],
   "source": [
    "articles = mc_stories(query, MCLOUD_KEY, limit, days, start_date, end_date, lang)"
   ]
  },
  {
   "cell_type": "markdown",
   "metadata": {},
   "source": [
    "### Get content\n",
    "\n",
    "Calls `NewsPlease` and take the content of every previously collected article."
   ]
  },
  {
   "cell_type": "code",
   "execution_count": null,
   "metadata": {},
   "outputs": [],
   "source": [
    "content = news_content(articles)"
   ]
  },
  {
   "cell_type": "markdown",
   "metadata": {},
   "source": [
    "### Get hyperlinks\n",
    "\n",
    "Builds a network of articles' hyperlinks using `NewsPaper` and `BeautifulSoup` to scrape pages. **Tip**: try and set a higher number of `levels` (depth)."
   ]
  },
  {
   "cell_type": "code",
   "execution_count": null,
   "metadata": {},
   "outputs": [],
   "source": [
    "levels = 1 # <-- set network depth\n",
    "\n",
    "G = news_hyperlinks(articles, levels=levels)"
   ]
  },
  {
   "cell_type": "markdown",
   "metadata": {},
   "source": [
    "#### Compress output →  `output.zip`"
   ]
  },
  {
   "cell_type": "code",
   "execution_count": null,
   "metadata": {},
   "outputs": [],
   "source": [
    "!zip output.zip *{json,csv,gdf}"
   ]
  },
  {
   "cell_type": "markdown",
   "metadata": {},
   "source": [
    "### [Download output files](output.zip)"
   ]
  },
  {
   "cell_type": "markdown",
   "metadata": {},
   "source": [
    "___\n",
    "### References\n",
    "\n",
    "* Beautiful Soup: https://pypi.org/project/beautifulsoup4/\n",
    "* MediaCloud API Client: https://pypi.org/project/mediacloud/\n",
    "* news-Please: https://pypi.org/project/news-please/\n",
    "* newsapi-python: https://pypi.org/project/newsapi-python/\n",
    "* Newspaper: https://pypi.org/project/newspaper3k/"
   ]
  }
 ],
 "metadata": {
  "celltoolbar": "Raw Cell Format",
  "kernelspec": {
   "display_name": "Python 3",
   "language": "python",
   "name": "python3"
  },
  "language_info": {
   "codemirror_mode": {
    "name": "ipython",
    "version": 3
   },
   "file_extension": ".py",
   "mimetype": "text/x-python",
   "name": "python",
   "nbconvert_exporter": "python",
   "pygments_lexer": "ipython3",
   "version": "3.7.4"
  }
 },
 "nbformat": 4,
 "nbformat_minor": 2
}
