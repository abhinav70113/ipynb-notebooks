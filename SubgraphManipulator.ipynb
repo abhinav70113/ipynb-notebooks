{
 "cells": [
  {
   "cell_type": "markdown",
   "metadata": {},
   "source": [
    "## SubgraphManipulator\n",
    "\n",
    "### Set environmental variables\n",
    "\n",
    "In order to properly load modules within this notebook from outside the repository folder, set the script **PATH** below,  e.g. ```C:/SubgraphManipulator```:"
   ]
  },
  {
   "cell_type": "code",
   "execution_count": 1,
   "metadata": {},
   "outputs": [],
   "source": [
    "PATH = \"/path/to/SubgraphManipulator\" # <-- optional if running from native path"
   ]
  },
  {
   "cell_type": "code",
   "execution_count": 2,
   "metadata": {},
   "outputs": [],
   "source": [
    "import importlib.util, os\n",
    "\n",
    "if not os.path.isdir(PATH):\n",
    "    PATH = os.getcwd()\n",
    "PATH = os.path.realpath(PATH)\n",
    "\n",
    "spec = importlib.util.spec_from_file_location(\"__init__\", PATH+'/__init__.py')\n",
    "init = importlib.util.module_from_spec(spec)\n",
    "spec.loader.exec_module(init)\n",
    "\n",
    "%matplotlib inline\n",
    "%load_ext autoreload\n",
    "%autoreload 2"
   ]
  },
  {
   "cell_type": "markdown",
   "metadata": {},
   "source": [
    "### Import functions"
   ]
  },
  {
   "cell_type": "code",
   "execution_count": 3,
   "metadata": {},
   "outputs": [],
   "source": [
    "import IPython\n",
    "import plotly.offline as py\n",
    "\n",
    "from MSM import MSM\n",
    "from RSM import RSM\n",
    "from TSM import TSM\n",
    "from smlib import *"
   ]
  },
  {
   "cell_type": "markdown",
   "metadata": {},
   "source": [
    "#### IPython-exclusive"
   ]
  },
  {
   "cell_type": "code",
   "execution_count": 4,
   "metadata": {},
   "outputs": [
    {
     "data": {
      "text/html": [
       "        <script type=\"text/javascript\">\n",
       "        window.PlotlyConfig = {MathJaxConfig: 'local'};\n",
       "        if (window.MathJax) {MathJax.Hub.Config({SVG: {font: \"STIX-Web\"}});}\n",
       "        if (typeof require !== 'undefined') {\n",
       "        require.undef(\"plotly\");\n",
       "        requirejs.config({\n",
       "            paths: {\n",
       "                'plotly': ['https://cdn.plot.ly/plotly-latest.min']\n",
       "            }\n",
       "        });\n",
       "        require(['plotly'], function(Plotly) {\n",
       "            window._Plotly = Plotly;\n",
       "        });\n",
       "        }\n",
       "        </script>\n",
       "        "
      ]
     },
     "metadata": {},
     "output_type": "display_data"
    }
   ],
   "source": [
    "py.init_notebook_mode(connected=True)"
   ]
  },
  {
   "cell_type": "code",
   "execution_count": 5,
   "metadata": {},
   "outputs": [],
   "source": [
    "def configure_plotly_browser_state():\n",
    "    display(IPython.core.display.HTML('''\n",
    "            <script src=\"/static/components/requirejs/require.js\"></script>\n",
    "            <script>\n",
    "                requirejs.config({\n",
    "                paths: {\n",
    "                base: '/static/base',\n",
    "                plotly: 'https://cdn.plot.ly/plotly-1.5.1.min.js?noext',\n",
    "                },\n",
    "              });\n",
    "            </script>\n",
    "            '''))"
   ]
  },
  {
   "cell_type": "markdown",
   "metadata": {},
   "source": [
    "### Analyze data\n",
    "\n",
    "SubgraphManipulator will (1) slice the data into buckets, (2) find top communities in each bucket and (3) look for persistent communities."
   ]
  },
  {
   "cell_type": "code",
   "execution_count": 6,
   "metadata": {},
   "outputs": [],
   "source": [
    "split_number = 1  # <-- number of days for every slice\n",
    "max_items    = 15 # <-- maximum users, tags or items"
   ]
  },
  {
   "cell_type": "markdown",
   "metadata": {},
   "source": [
    "#### 1/3) Tweets dataset `OK`"
   ]
  },
  {
   "cell_type": "code",
   "execution_count": 1,
   "metadata": {},
   "outputs": [
    {
     "ename": "NameError",
     "evalue": "name 'TSM' is not defined",
     "output_type": "error",
     "traceback": [
      "\u001b[0;31m---------------------------------------------------------------------------\u001b[0m",
      "\u001b[0;31mNameError\u001b[0m                                 Traceback (most recent call last)",
      "\u001b[0;32m<timed exec>\u001b[0m in \u001b[0;36m<module>\u001b[0;34m\u001b[0m\n",
      "\u001b[0;31mNameError\u001b[0m: name 'TSM' is not defined"
     ]
    }
   ],
   "source": [
    "input_file = \"\" # \"tweets.csv\"\n",
    "input_file = \"/home/neo/workspace/tweets/spiderman_80k.csv\"\n",
    "\n",
    "%time matches, gini_coef, time,\\\n",
    "top_rt, top_ht, dates = TSM(input_file,\\\n",
    "                            split_number=split_number,\\\n",
    "                            min_hashtags=max_items,\\\n",
    "                            min_retweets=max_items)"
   ]
  },
  {
   "cell_type": "markdown",
   "metadata": {},
   "source": [
    "#### 2/3) News media dataset `WIP`"
   ]
  },
  {
   "cell_type": "code",
   "execution_count": null,
   "metadata": {},
   "outputs": [],
   "source": [
    "input_path = \".\" # <-- folder containing articles/stories JSON files\n",
    "\n",
    "graph_file = \"news_network.gexf\"    # <-- graph network file output from MediaCollector\n",
    "cent_file  = \"news_centrality.xlsx\" # <-- previously saved network measures (optional)\n",
    "\n",
    "gini_coef, time = MSM(input_path,\n",
    "                      graph_file=graph_file,\n",
    "                      centrality_file=cent_file)"
   ]
  },
  {
   "cell_type": "markdown",
   "metadata": {},
   "source": [
    "#### 3/3) RIS datasets `DEPRECATED`"
   ]
  },
  {
   "cell_type": "code",
   "execution_count": null,
   "metadata": {},
   "outputs": [],
   "source": [
    "input_path = \"\" # <-- \"ISJ_Citations\"\n",
    "\n",
    "matches, gini_coef, time,\\\n",
    "top_rt, top_ht, dates = RSM(input_path,\n",
    "                            output_file='dataset.csv',\n",
    "                            split_number=7,\n",
    "                            top=30)"
   ]
  },
  {
   "cell_type": "markdown",
   "metadata": {},
   "source": [
    "### Visualization\n",
    "#### Communities over time\n",
    "Displays identified communities and their persistence over analyzed periods."
   ]
  },
  {
   "cell_type": "code",
   "execution_count": 22,
   "metadata": {},
   "outputs": [
    {
     "data": {
      "application/vnd.plotly.v1+json": {
       "config": {
        "linkText": "Export to plot.ly",
        "plotlyServerURL": "https://plot.ly",
        "responsive": true,
        "showLink": {
         "legend": {
          "font": {
           "color": "grey",
           "family": "Arial, sans-serif",
           "size": 20
          },
          "y": 0.5,
          "yref": "paper"
         },
         "title": "Persistence of communities",
         "xaxis": {
          "autorange": true,
          "title": "Period"
         },
         "yaxis": {
          "autorange": true,
          "title": "Community ID"
         }
        }
       },
       "data": [
        {
         "marker": {
          "size": 6
         },
         "mode": "lines+markers",
         "name": "Com. 0xP1",
         "text": [
          "ID 0 on this period",
          "ID 0 on this period"
         ],
         "textfont": {
          "family": "Raleway, sans-serif"
         },
         "textposition": "top center",
         "type": "scatter",
         "uid": "98b4b2a5-c15e-4236-a36d-dfa0156bac23",
         "x": [
          "2019-10-12",
          "2019-10-13"
         ],
         "y": [
          0,
          0
         ]
        },
        {
         "marker": {
          "size": 6
         },
         "mode": "lines+markers",
         "name": "Com. 49xP1",
         "text": [
          "ID 10 on this period",
          "ID 49 on this period"
         ],
         "textfont": {
          "family": "Raleway, sans-serif"
         },
         "textposition": "top center",
         "type": "scatter",
         "uid": "7c9e91b5-dc4d-40d5-b078-4f4fe9af1ac8",
         "x": [
          "2019-10-12",
          "2019-10-13"
         ],
         "y": [
          1,
          1
         ]
        },
        {
         "marker": {
          "size": 6
         },
         "mode": "lines+markers",
         "name": "Com. 50xP1",
         "text": [
          "ID 13 on this period",
          "ID 50 on this period"
         ],
         "textfont": {
          "family": "Raleway, sans-serif"
         },
         "textposition": "top center",
         "type": "scatter",
         "uid": "0b9901e1-1198-4ecf-9a53-bf77cf4d52fc",
         "x": [
          "2019-10-12",
          "2019-10-13"
         ],
         "y": [
          2,
          2
         ]
        },
        {
         "marker": {
          "size": 6
         },
         "mode": "lines+markers",
         "name": "Com. 6xP1",
         "text": [
          "ID 19 on this period",
          "ID 6 on this period"
         ],
         "textfont": {
          "family": "Raleway, sans-serif"
         },
         "textposition": "top center",
         "type": "scatter",
         "uid": "138d7d0d-0cff-409f-a15f-9a0ff9861d33",
         "x": [
          "2019-10-12",
          "2019-10-13"
         ],
         "y": [
          3,
          3
         ]
        },
        {
         "marker": {
          "size": 6
         },
         "mode": "lines+markers",
         "name": "Com. 4xP1",
         "text": [
          "ID 22 on this period",
          "ID 4 on this period"
         ],
         "textfont": {
          "family": "Raleway, sans-serif"
         },
         "textposition": "top center",
         "type": "scatter",
         "uid": "363f8802-4863-472c-8fab-31909f3600f3",
         "x": [
          "2019-10-12",
          "2019-10-13"
         ],
         "y": [
          4,
          4
         ]
        },
        {
         "marker": {
          "size": 6
         },
         "mode": "lines+markers",
         "name": "Com. 26xP1",
         "text": [
          "ID 29 on this period",
          "ID 26 on this period"
         ],
         "textfont": {
          "family": "Raleway, sans-serif"
         },
         "textposition": "top center",
         "type": "scatter",
         "uid": "844beedb-9449-41bf-9876-4b674cd78eb5",
         "x": [
          "2019-10-12",
          "2019-10-13"
         ],
         "y": [
          5,
          5
         ]
        },
        {
         "marker": {
          "size": 6
         },
         "mode": "lines+markers",
         "name": "Com. 40xP2",
         "text": [
          "ID 1 on this period",
          "ID 40 on this period"
         ],
         "textfont": {
          "family": "Raleway, sans-serif"
         },
         "textposition": "top center",
         "type": "scatter",
         "uid": "525f5a75-9ffa-42c7-ae77-dd7003a3f8ff",
         "x": [
          "2019-10-13",
          "2019-10-14"
         ],
         "y": [
          6,
          6
         ]
        },
        {
         "marker": {
          "size": 6
         },
         "mode": "lines+markers",
         "name": "Com. 18xP2",
         "text": [
          "ID 3 on this period",
          "ID 20 on this period",
          "ID 18 on this period"
         ],
         "textfont": {
          "family": "Raleway, sans-serif"
         },
         "textposition": "top center",
         "type": "scatter",
         "uid": "1cfad1f2-74cb-4519-850c-0592fb5ae9b5",
         "x": [
          "2019-10-12",
          "2019-10-13",
          "2019-10-14"
         ],
         "y": [
          7,
          7,
          7
         ]
        },
        {
         "marker": {
          "size": 6
         },
         "mode": "lines+markers",
         "name": "Com. 5xP2",
         "text": [
          "ID 23 on this period",
          "ID 5 on this period"
         ],
         "textfont": {
          "family": "Raleway, sans-serif"
         },
         "textposition": "top center",
         "type": "scatter",
         "uid": "358e8238-1dfc-45b0-ac94-c0ec9c6d1a01",
         "x": [
          "2019-10-13",
          "2019-10-14"
         ],
         "y": [
          8,
          8
         ]
        },
        {
         "marker": {
          "size": 6
         },
         "mode": "lines+markers",
         "name": "Com. 4xP2",
         "text": [
          "ID 37 on this period",
          "ID 4 on this period"
         ],
         "textfont": {
          "family": "Raleway, sans-serif"
         },
         "textposition": "top center",
         "type": "scatter",
         "uid": "f9c81b6a-eaa5-4773-8981-23203aa98826",
         "x": [
          "2019-10-13",
          "2019-10-14"
         ],
         "y": [
          9,
          9
         ]
        },
        {
         "marker": {
          "size": 6
         },
         "mode": "lines+markers",
         "name": "Com. 14xP2",
         "text": [
          "ID 70 on this period",
          "ID 14 on this period"
         ],
         "textfont": {
          "family": "Raleway, sans-serif"
         },
         "textposition": "top center",
         "type": "scatter",
         "uid": "4c3301b1-833b-4780-be70-b109de0ff522",
         "x": [
          "2019-10-13",
          "2019-10-14"
         ],
         "y": [
          10,
          10
         ]
        },
        {
         "marker": {
          "size": 6
         },
         "mode": "lines+markers",
         "name": "Com. 7xP3",
         "text": [
          "ID 16 on this period",
          "ID 7 on this period"
         ],
         "textfont": {
          "family": "Raleway, sans-serif"
         },
         "textposition": "top center",
         "type": "scatter",
         "uid": "28d1183f-580e-469d-9be9-424efd9e3353",
         "x": [
          "2019-10-14",
          "2019-10-15"
         ],
         "y": [
          11,
          11
         ]
        },
        {
         "marker": {
          "size": 6
         },
         "mode": "lines+markers",
         "name": "Com. 4xP3",
         "text": [
          "ID 2 on this period",
          "ID 4 on this period"
         ],
         "textfont": {
          "family": "Raleway, sans-serif"
         },
         "textposition": "top center",
         "type": "scatter",
         "uid": "28cff6a2-ab74-4259-bb22-f67db3f04e97",
         "x": [
          "2019-10-14",
          "2019-10-15"
         ],
         "y": [
          12,
          12
         ]
        },
        {
         "marker": {
          "size": 6
         },
         "mode": "lines+markers",
         "name": "Com. 55xP3",
         "text": [
          "ID 13 on this period",
          "ID 35 on this period",
          "ID 55 on this period"
         ],
         "textfont": {
          "family": "Raleway, sans-serif"
         },
         "textposition": "top center",
         "type": "scatter",
         "uid": "29c99d98-dbfe-4d18-b304-79ce79b892af",
         "x": [
          "2019-10-13",
          "2019-10-14",
          "2019-10-15"
         ],
         "y": [
          13,
          13,
          13
         ]
        },
        {
         "marker": {
          "size": 6
         },
         "mode": "lines+markers",
         "name": "Com. 15xP3",
         "text": [
          "ID 58 on this period",
          "ID 9 on this period",
          "ID 15 on this period"
         ],
         "textfont": {
          "family": "Raleway, sans-serif"
         },
         "textposition": "top center",
         "type": "scatter",
         "uid": "430b515d-f1eb-414a-9da3-8bd0575960e4",
         "x": [
          "2019-10-13",
          "2019-10-14",
          "2019-10-15"
         ],
         "y": [
          14,
          14,
          14
         ]
        },
        {
         "marker": {
          "size": 6
         },
         "mode": "lines+markers",
         "name": "Com. 49xP4",
         "text": [
          "ID 17 on this period",
          "ID 49 on this period"
         ],
         "textfont": {
          "family": "Raleway, sans-serif"
         },
         "textposition": "top center",
         "type": "scatter",
         "uid": "98b6e266-5352-4221-9969-91d4bbd156c5",
         "x": [
          "2019-10-15",
          "2019-10-16"
         ],
         "y": [
          15,
          15
         ]
        },
        {
         "marker": {
          "size": 6
         },
         "mode": "lines+markers",
         "name": "Com. 75xP4",
         "text": [
          "ID 23 on this period",
          "ID 31 on this period",
          "ID 75 on this period"
         ],
         "textfont": {
          "family": "Raleway, sans-serif"
         },
         "textposition": "top center",
         "type": "scatter",
         "uid": "e35da8ae-607f-454c-b345-a79bd3a4144e",
         "x": [
          "2019-10-14",
          "2019-10-15",
          "2019-10-16"
         ],
         "y": [
          16,
          16,
          16
         ]
        },
        {
         "marker": {
          "size": 6
         },
         "mode": "lines+markers",
         "name": "Com. 52xP4",
         "text": [
          "ID 15 on this period",
          "ID 34 on this period",
          "ID 52 on this period"
         ],
         "textfont": {
          "family": "Raleway, sans-serif"
         },
         "textposition": "top center",
         "type": "scatter",
         "uid": "44751d7b-0086-4215-8c41-914dff8b25af",
         "x": [
          "2019-10-14",
          "2019-10-15",
          "2019-10-16"
         ],
         "y": [
          17,
          17,
          17
         ]
        },
        {
         "marker": {
          "size": 6
         },
         "mode": "lines+markers",
         "name": "Com. 32xP4",
         "text": [
          "ID 48 on this period",
          "ID 32 on this period"
         ],
         "textfont": {
          "family": "Raleway, sans-serif"
         },
         "textposition": "top center",
         "type": "scatter",
         "uid": "ad05b355-da6a-4c20-9b9a-633ad280390e",
         "x": [
          "2019-10-15",
          "2019-10-16"
         ],
         "y": [
          18,
          18
         ]
        },
        {
         "marker": {
          "size": 6
         },
         "mode": "lines+markers",
         "name": "Com. 4xP4",
         "text": [
          "ID 39 on this period",
          "ID 0 on this period",
          "ID 53 on this period",
          "ID 4 on this period"
         ],
         "textfont": {
          "family": "Raleway, sans-serif"
         },
         "textposition": "top center",
         "type": "scatter",
         "uid": "ca275227-3217-4c8a-a685-644bdf3fde0f",
         "x": [
          "2019-10-13",
          "2019-10-14",
          "2019-10-15",
          "2019-10-16"
         ],
         "y": [
          19,
          19,
          19,
          19
         ]
        },
        {
         "marker": {
          "size": 6
         },
         "mode": "lines+markers",
         "name": "Com. 21xP4",
         "text": [
          "ID 62 on this period",
          "ID 21 on this period"
         ],
         "textfont": {
          "family": "Raleway, sans-serif"
         },
         "textposition": "top center",
         "type": "scatter",
         "uid": "9c915ebd-8e73-4dbf-b54e-4fe55dc91f10",
         "x": [
          "2019-10-15",
          "2019-10-16"
         ],
         "y": [
          20,
          20
         ]
        },
        {
         "marker": {
          "size": 6
         },
         "mode": "lines+markers",
         "name": "Com. 37xP4",
         "text": [
          "ID 65 on this period",
          "ID 37 on this period"
         ],
         "textfont": {
          "family": "Raleway, sans-serif"
         },
         "textposition": "top center",
         "type": "scatter",
         "uid": "56e22384-bde2-4bc9-9476-7bd60ada43e4",
         "x": [
          "2019-10-15",
          "2019-10-16"
         ],
         "y": [
          21,
          21
         ]
        },
        {
         "marker": {
          "size": 6
         },
         "mode": "lines+markers",
         "name": "Com. 8xP4",
         "text": [
          "ID 67 on this period",
          "ID 8 on this period"
         ],
         "textfont": {
          "family": "Raleway, sans-serif"
         },
         "textposition": "top center",
         "type": "scatter",
         "uid": "13620941-ab55-46dd-98f1-acb72ec1ef4c",
         "x": [
          "2019-10-15",
          "2019-10-16"
         ],
         "y": [
          22,
          22
         ]
        },
        {
         "marker": {
          "size": 6
         },
         "mode": "lines+markers",
         "name": "Com. 13xP5",
         "text": [
          "ID 26 on this period",
          "ID 13 on this period"
         ],
         "textfont": {
          "family": "Raleway, sans-serif"
         },
         "textposition": "top center",
         "type": "scatter",
         "uid": "cc96056e-d878-4826-b61f-2b24eec6c259",
         "x": [
          "2019-10-16",
          "2019-10-17"
         ],
         "y": [
          23,
          23
         ]
        },
        {
         "marker": {
          "size": 6
         },
         "mode": "lines+markers",
         "name": "Com. 35xP5",
         "text": [
          "ID 5 on this period",
          "ID 35 on this period"
         ],
         "textfont": {
          "family": "Raleway, sans-serif"
         },
         "textposition": "top center",
         "type": "scatter",
         "uid": "be1e8eb4-b6ca-40c6-a1eb-8c8f3159dd76",
         "x": [
          "2019-10-16",
          "2019-10-17"
         ],
         "y": [
          24,
          24
         ]
        },
        {
         "marker": {
          "size": 6
         },
         "mode": "lines+markers",
         "name": "Com. 75xP6",
         "text": [
          "ID 14 on this period",
          "ID 75 on this period"
         ],
         "textfont": {
          "family": "Raleway, sans-serif"
         },
         "textposition": "top center",
         "type": "scatter",
         "uid": "467535b2-9cb9-4880-9aca-ebe23cbe4b1a",
         "x": [
          "2019-10-17",
          "2019-10-18"
         ],
         "y": [
          25,
          25
         ]
        },
        {
         "marker": {
          "size": 6
         },
         "mode": "lines+markers",
         "name": "Com. 1xP6",
         "text": [
          "ID 2 on this period",
          "ID 1 on this period"
         ],
         "textfont": {
          "family": "Raleway, sans-serif"
         },
         "textposition": "top center",
         "type": "scatter",
         "uid": "488a1139-bdbe-4c5c-9f63-0c87f1a2fa4b",
         "x": [
          "2019-10-17",
          "2019-10-18"
         ],
         "y": [
          26,
          26
         ]
        },
        {
         "marker": {
          "size": 6
         },
         "mode": "lines+markers",
         "name": "Com. 39xP6",
         "text": [
          "ID 48 on this period",
          "ID 39 on this period"
         ],
         "textfont": {
          "family": "Raleway, sans-serif"
         },
         "textposition": "top center",
         "type": "scatter",
         "uid": "8f382f8c-d41b-4ea7-b6f3-7f321ebc61e0",
         "x": [
          "2019-10-17",
          "2019-10-18"
         ],
         "y": [
          27,
          27
         ]
        },
        {
         "marker": {
          "size": 6
         },
         "mode": "lines+markers",
         "name": "Com. 9xP6",
         "text": [
          "ID 23 on this period",
          "ID 55 on this period",
          "ID 9 on this period"
         ],
         "textfont": {
          "family": "Raleway, sans-serif"
         },
         "textposition": "top center",
         "type": "scatter",
         "uid": "1749360d-3ade-4f8a-9cfe-80a698ea54db",
         "x": [
          "2019-10-16",
          "2019-10-17",
          "2019-10-18"
         ],
         "y": [
          28,
          28,
          28
         ]
        },
        {
         "marker": {
          "size": 6
         },
         "mode": "lines+markers",
         "name": "Com. 2xP6",
         "text": [
          "ID 56 on this period",
          "ID 2 on this period"
         ],
         "textfont": {
          "family": "Raleway, sans-serif"
         },
         "textposition": "top center",
         "type": "scatter",
         "uid": "269d4142-babf-4e4a-aed1-2fd75219da78",
         "x": [
          "2019-10-17",
          "2019-10-18"
         ],
         "y": [
          29,
          29
         ]
        },
        {
         "marker": {
          "size": 6
         },
         "mode": "lines+markers",
         "name": "Com. 20xP6",
         "text": [
          "ID 8 on this period",
          "ID 20 on this period"
         ],
         "textfont": {
          "family": "Raleway, sans-serif"
         },
         "textposition": "top center",
         "type": "scatter",
         "uid": "d57032d6-0628-4c35-a170-36ac4ee512fd",
         "x": [
          "2019-10-17",
          "2019-10-18"
         ],
         "y": [
          30,
          30
         ]
        },
        {
         "marker": {
          "size": 6
         },
         "mode": "lines+markers",
         "name": "Com. 48xP6",
         "text": [
          "ID 9 on this period",
          "ID 48 on this period"
         ],
         "textfont": {
          "family": "Raleway, sans-serif"
         },
         "textposition": "top center",
         "type": "scatter",
         "uid": "fd750708-f512-41db-9b95-3c849148b892",
         "x": [
          "2019-10-17",
          "2019-10-18"
         ],
         "y": [
          31,
          31
         ]
        },
        {
         "marker": {
          "size": 6
         },
         "mode": "lines+markers",
         "name": "Com. 23xP7",
         "text": [
          "ID 0 on this period",
          "ID 24 on this period",
          "ID 23 on this period"
         ],
         "textfont": {
          "family": "Raleway, sans-serif"
         },
         "textposition": "top center",
         "type": "scatter",
         "uid": "46bd40d3-b7d5-41c4-ad8c-e0a924bf25f8",
         "x": [
          "2019-10-17",
          "2019-10-18",
          "2019-10-19"
         ],
         "y": [
          32,
          32,
          32
         ]
        },
        {
         "marker": {
          "size": 6
         },
         "mode": "lines+markers",
         "name": "Com. 10xP7",
         "text": [
          "ID 30 on this period",
          "ID 10 on this period"
         ],
         "textfont": {
          "family": "Raleway, sans-serif"
         },
         "textposition": "top center",
         "type": "scatter",
         "uid": "1145cab0-827d-41b5-b2ab-c6c543039921",
         "x": [
          "2019-10-18",
          "2019-10-19"
         ],
         "y": [
          33,
          33
         ]
        },
        {
         "marker": {
          "size": 6
         },
         "mode": "lines+markers",
         "name": "Com. 34xP7",
         "text": [
          "ID 36 on this period",
          "ID 34 on this period"
         ],
         "textfont": {
          "family": "Raleway, sans-serif"
         },
         "textposition": "top center",
         "type": "scatter",
         "uid": "42467d6a-4cd1-459f-85de-048954124eb0",
         "x": [
          "2019-10-18",
          "2019-10-19"
         ],
         "y": [
          34,
          34
         ]
        },
        {
         "marker": {
          "size": 6
         },
         "mode": "lines+markers",
         "name": "Com. 11xP7",
         "text": [
          "ID 3 on this period",
          "ID 11 on this period"
         ],
         "textfont": {
          "family": "Raleway, sans-serif"
         },
         "textposition": "top center",
         "type": "scatter",
         "uid": "fba22750-d95a-41c3-b4f3-cb29360312d8",
         "x": [
          "2019-10-18",
          "2019-10-19"
         ],
         "y": [
          35,
          35
         ]
        },
        {
         "marker": {
          "size": 6
         },
         "mode": "lines+markers",
         "name": "Com. 30xP7",
         "text": [
          "ID 21 on this period",
          "ID 45 on this period",
          "ID 30 on this period"
         ],
         "textfont": {
          "family": "Raleway, sans-serif"
         },
         "textposition": "top center",
         "type": "scatter",
         "uid": "3f7bf36a-9e83-488a-9486-f47438634001",
         "x": [
          "2019-10-17",
          "2019-10-18",
          "2019-10-19"
         ],
         "y": [
          36,
          36,
          36
         ]
        },
        {
         "marker": {
          "size": 6
         },
         "mode": "lines+markers",
         "name": "Com. 29xP7",
         "text": [
          "ID 4 on this period",
          "ID 29 on this period"
         ],
         "textfont": {
          "family": "Raleway, sans-serif"
         },
         "textposition": "top center",
         "type": "scatter",
         "uid": "26e2137c-1381-4e91-a362-f867890f0a1a",
         "x": [
          "2019-10-18",
          "2019-10-19"
         ],
         "y": [
          37,
          37
         ]
        },
        {
         "marker": {
          "size": 6
         },
         "mode": "lines+markers",
         "name": "Com. 46xP7",
         "text": [
          "ID 8 on this period",
          "ID 46 on this period"
         ],
         "textfont": {
          "family": "Raleway, sans-serif"
         },
         "textposition": "top center",
         "type": "scatter",
         "uid": "fd4c32af-60ea-415f-b78e-294366986d44",
         "x": [
          "2019-10-18",
          "2019-10-19"
         ],
         "y": [
          38,
          38
         ]
        },
        {
         "marker": {
          "size": 6
         },
         "mode": "lines+markers",
         "name": "Com. 36xP8",
         "text": [
          "ID 12 on this period",
          "ID 36 on this period"
         ],
         "textfont": {
          "family": "Raleway, sans-serif"
         },
         "textposition": "top center",
         "type": "scatter",
         "uid": "0b16db45-b2a2-4fa3-8f1b-4178dd1a1cb9",
         "x": [
          "2019-10-19",
          "2019-10-20"
         ],
         "y": [
          39,
          39
         ]
        },
        {
         "marker": {
          "size": 6
         },
         "mode": "lines+markers",
         "name": "Com. 54xP8",
         "text": [
          "ID 1 on this period",
          "ID 54 on this period"
         ],
         "textfont": {
          "family": "Raleway, sans-serif"
         },
         "textposition": "top center",
         "type": "scatter",
         "uid": "2385858a-9253-46c8-b7fd-5e0500118c30",
         "x": [
          "2019-10-19",
          "2019-10-20"
         ],
         "y": [
          40,
          40
         ]
        },
        {
         "marker": {
          "size": 6
         },
         "mode": "lines+markers",
         "name": "Com. 7xP8",
         "text": [
          "ID 22 on this period",
          "ID 7 on this period"
         ],
         "textfont": {
          "family": "Raleway, sans-serif"
         },
         "textposition": "top center",
         "type": "scatter",
         "uid": "6ee92138-79f9-4a39-b057-c2db84fb2f26",
         "x": [
          "2019-10-19",
          "2019-10-20"
         ],
         "y": [
          41,
          41
         ]
        },
        {
         "marker": {
          "size": 6
         },
         "mode": "lines+markers",
         "name": "Com. 39xP8",
         "text": [
          "ID 2 on this period",
          "ID 39 on this period"
         ],
         "textfont": {
          "family": "Raleway, sans-serif"
         },
         "textposition": "top center",
         "type": "scatter",
         "uid": "2d82486e-d39e-4e1c-ab46-ab03d88a1b29",
         "x": [
          "2019-10-19",
          "2019-10-20"
         ],
         "y": [
          42,
          42
         ]
        },
        {
         "marker": {
          "size": 6
         },
         "mode": "lines+markers",
         "name": "Com. 42xP9",
         "text": [
          "ID 11 on this period",
          "ID 42 on this period"
         ],
         "textfont": {
          "family": "Raleway, sans-serif"
         },
         "textposition": "top center",
         "type": "scatter",
         "uid": "be9d4809-093e-47f8-9dd2-bb583c62dcdd",
         "x": [
          "2019-10-20",
          "2019-10-21"
         ],
         "y": [
          43,
          43
         ]
        },
        {
         "marker": {
          "size": 6
         },
         "mode": "lines+markers",
         "name": "Com. 0xP9",
         "text": [
          "ID 1 on this period",
          "ID 0 on this period"
         ],
         "textfont": {
          "family": "Raleway, sans-serif"
         },
         "textposition": "top center",
         "type": "scatter",
         "uid": "802ac985-e2c4-45ca-bde9-916687e46331",
         "x": [
          "2019-10-20",
          "2019-10-21"
         ],
         "y": [
          44,
          44
         ]
        },
        {
         "marker": {
          "size": 6
         },
         "mode": "lines+markers",
         "name": "Com. 19xP9",
         "text": [
          "ID 2 on this period",
          "ID 19 on this period"
         ],
         "textfont": {
          "family": "Raleway, sans-serif"
         },
         "textposition": "top center",
         "type": "scatter",
         "uid": "e41368b3-eb01-4c02-bba5-2a98cbc3faa5",
         "x": [
          "2019-10-20",
          "2019-10-21"
         ],
         "y": [
          45,
          45
         ]
        },
        {
         "marker": {
          "size": 6
         },
         "mode": "lines+markers",
         "name": "Com. 55xP9",
         "text": [
          "ID 31 on this period",
          "ID 55 on this period"
         ],
         "textfont": {
          "family": "Raleway, sans-serif"
         },
         "textposition": "top center",
         "type": "scatter",
         "uid": "551d8fb2-1bb0-4449-9db1-e07f5a1cfb61",
         "x": [
          "2019-10-20",
          "2019-10-21"
         ],
         "y": [
          46,
          46
         ]
        },
        {
         "marker": {
          "size": 6
         },
         "mode": "lines+markers",
         "name": "Com. 38xP9",
         "text": [
          "ID 34 on this period",
          "ID 38 on this period"
         ],
         "textfont": {
          "family": "Raleway, sans-serif"
         },
         "textposition": "top center",
         "type": "scatter",
         "uid": "032e1272-89f0-483a-aa72-24da17bed52d",
         "x": [
          "2019-10-20",
          "2019-10-21"
         ],
         "y": [
          47,
          47
         ]
        },
        {
         "marker": {
          "size": 6
         },
         "mode": "lines+markers",
         "name": "Com. 48xP9",
         "text": [
          "ID 3 on this period",
          "ID 48 on this period"
         ],
         "textfont": {
          "family": "Raleway, sans-serif"
         },
         "textposition": "top center",
         "type": "scatter",
         "uid": "bbb62aaa-ca43-4ed5-a4f7-91d2f921c000",
         "x": [
          "2019-10-20",
          "2019-10-21"
         ],
         "y": [
          48,
          48
         ]
        },
        {
         "marker": {
          "size": 6
         },
         "mode": "lines+markers",
         "name": "Com. 1xP9",
         "text": [
          "ID 4 on this period",
          "ID 1 on this period"
         ],
         "textfont": {
          "family": "Raleway, sans-serif"
         },
         "textposition": "top center",
         "type": "scatter",
         "uid": "622324fc-41d7-4bb5-a373-6a8289ef1b2e",
         "x": [
          "2019-10-20",
          "2019-10-21"
         ],
         "y": [
          49,
          49
         ]
        },
        {
         "marker": {
          "size": 6
         },
         "mode": "lines+markers",
         "name": "Com. 16xP9",
         "text": [
          "ID 5 on this period",
          "ID 16 on this period"
         ],
         "textfont": {
          "family": "Raleway, sans-serif"
         },
         "textposition": "top center",
         "type": "scatter",
         "uid": "dc58e1ac-5781-4a04-8e65-6efa4f1c93f6",
         "x": [
          "2019-10-20",
          "2019-10-21"
         ],
         "y": [
          50,
          50
         ]
        }
       ],
       "layout": {}
      },
      "text/html": [
       "<div>\n",
       "        \n",
       "        \n",
       "            <div id=\"383e7ed3-1622-4d76-8731-e4729e8698bb\" class=\"plotly-graph-div\" style=\"height:525px; width:100%;\"></div>\n",
       "            <script type=\"text/javascript\">\n",
       "                require([\"plotly\"], function(Plotly) {\n",
       "                    window.PLOTLYENV=window.PLOTLYENV || {};\n",
       "                    window.PLOTLYENV.BASE_URL='https://plot.ly';\n",
       "                    \n",
       "                if (document.getElementById(\"383e7ed3-1622-4d76-8731-e4729e8698bb\")) {\n",
       "                    Plotly.newPlot(\n",
       "                        '383e7ed3-1622-4d76-8731-e4729e8698bb',\n",
       "                        [{\"marker\": {\"size\": 6}, \"mode\": \"lines+markers\", \"name\": \"Com. 0xP1\", \"text\": [\"ID 0 on this period\", \"ID 0 on this period\"], \"textfont\": {\"family\": \"Raleway, sans-serif\"}, \"textposition\": \"top center\", \"type\": \"scatter\", \"uid\": \"5aa73d64-bf7c-45eb-91a9-2ab161ce6479\", \"x\": [\"2019-10-12\", \"2019-10-13\"], \"y\": [0, 0]}, {\"marker\": {\"size\": 6}, \"mode\": \"lines+markers\", \"name\": \"Com. 49xP1\", \"text\": [\"ID 10 on this period\", \"ID 49 on this period\"], \"textfont\": {\"family\": \"Raleway, sans-serif\"}, \"textposition\": \"top center\", \"type\": \"scatter\", \"uid\": \"f827df58-6c24-489b-b063-1ada0b073553\", \"x\": [\"2019-10-12\", \"2019-10-13\"], \"y\": [1, 1]}, {\"marker\": {\"size\": 6}, \"mode\": \"lines+markers\", \"name\": \"Com. 50xP1\", \"text\": [\"ID 13 on this period\", \"ID 50 on this period\"], \"textfont\": {\"family\": \"Raleway, sans-serif\"}, \"textposition\": \"top center\", \"type\": \"scatter\", \"uid\": \"c8842c35-7003-4c6a-bdf4-10e4dbbc2ba1\", \"x\": [\"2019-10-12\", \"2019-10-13\"], \"y\": [2, 2]}, {\"marker\": {\"size\": 6}, \"mode\": \"lines+markers\", \"name\": \"Com. 6xP1\", \"text\": [\"ID 19 on this period\", \"ID 6 on this period\"], \"textfont\": {\"family\": \"Raleway, sans-serif\"}, \"textposition\": \"top center\", \"type\": \"scatter\", \"uid\": \"5a8978e3-15ab-4859-8b1e-37b509adc7cb\", \"x\": [\"2019-10-12\", \"2019-10-13\"], \"y\": [3, 3]}, {\"marker\": {\"size\": 6}, \"mode\": \"lines+markers\", \"name\": \"Com. 4xP1\", \"text\": [\"ID 22 on this period\", \"ID 4 on this period\"], \"textfont\": {\"family\": \"Raleway, sans-serif\"}, \"textposition\": \"top center\", \"type\": \"scatter\", \"uid\": \"37aff7d4-a458-4820-a8e2-8c48bc952336\", \"x\": [\"2019-10-12\", \"2019-10-13\"], \"y\": [4, 4]}, {\"marker\": {\"size\": 6}, \"mode\": \"lines+markers\", \"name\": \"Com. 26xP1\", \"text\": [\"ID 29 on this period\", \"ID 26 on this period\"], \"textfont\": {\"family\": \"Raleway, sans-serif\"}, \"textposition\": \"top center\", \"type\": \"scatter\", \"uid\": \"aaf4e265-21d4-483d-8316-377353c398ff\", \"x\": [\"2019-10-12\", \"2019-10-13\"], \"y\": [5, 5]}, {\"marker\": {\"size\": 6}, \"mode\": \"lines+markers\", \"name\": \"Com. 40xP2\", \"text\": [\"ID 1 on this period\", \"ID 40 on this period\"], \"textfont\": {\"family\": \"Raleway, sans-serif\"}, \"textposition\": \"top center\", \"type\": \"scatter\", \"uid\": \"c1a24884-4197-43e3-a48d-b6a75a00d1d6\", \"x\": [\"2019-10-13\", \"2019-10-14\"], \"y\": [6, 6]}, {\"marker\": {\"size\": 6}, \"mode\": \"lines+markers\", \"name\": \"Com. 18xP2\", \"text\": [\"ID 3 on this period\", \"ID 20 on this period\", \"ID 18 on this period\"], \"textfont\": {\"family\": \"Raleway, sans-serif\"}, \"textposition\": \"top center\", \"type\": \"scatter\", \"uid\": \"60352430-704c-4471-9a6e-721f4e047a65\", \"x\": [\"2019-10-12\", \"2019-10-13\", \"2019-10-14\"], \"y\": [7, 7, 7]}, {\"marker\": {\"size\": 6}, \"mode\": \"lines+markers\", \"name\": \"Com. 5xP2\", \"text\": [\"ID 23 on this period\", \"ID 5 on this period\"], \"textfont\": {\"family\": \"Raleway, sans-serif\"}, \"textposition\": \"top center\", \"type\": \"scatter\", \"uid\": \"69ebe5e3-d591-4ce9-8dc7-56259fa06ec5\", \"x\": [\"2019-10-13\", \"2019-10-14\"], \"y\": [8, 8]}, {\"marker\": {\"size\": 6}, \"mode\": \"lines+markers\", \"name\": \"Com. 4xP2\", \"text\": [\"ID 37 on this period\", \"ID 4 on this period\"], \"textfont\": {\"family\": \"Raleway, sans-serif\"}, \"textposition\": \"top center\", \"type\": \"scatter\", \"uid\": \"6dc9b8ae-5fd8-4b31-8364-1b07a532db53\", \"x\": [\"2019-10-13\", \"2019-10-14\"], \"y\": [9, 9]}, {\"marker\": {\"size\": 6}, \"mode\": \"lines+markers\", \"name\": \"Com. 14xP2\", \"text\": [\"ID 70 on this period\", \"ID 14 on this period\"], \"textfont\": {\"family\": \"Raleway, sans-serif\"}, \"textposition\": \"top center\", \"type\": \"scatter\", \"uid\": \"708c069a-88a6-4770-a528-3567e67e7ac2\", \"x\": [\"2019-10-13\", \"2019-10-14\"], \"y\": [10, 10]}, {\"marker\": {\"size\": 6}, \"mode\": \"lines+markers\", \"name\": \"Com. 7xP3\", \"text\": [\"ID 16 on this period\", \"ID 7 on this period\"], \"textfont\": {\"family\": \"Raleway, sans-serif\"}, \"textposition\": \"top center\", \"type\": \"scatter\", \"uid\": \"1ed86f01-fa08-483f-9cbe-b3a3ffdc6c1a\", \"x\": [\"2019-10-14\", \"2019-10-15\"], \"y\": [11, 11]}, {\"marker\": {\"size\": 6}, \"mode\": \"lines+markers\", \"name\": \"Com. 4xP3\", \"text\": [\"ID 2 on this period\", \"ID 4 on this period\"], \"textfont\": {\"family\": \"Raleway, sans-serif\"}, \"textposition\": \"top center\", \"type\": \"scatter\", \"uid\": \"97fa330f-286d-498e-9b2e-9fa1fbce3f09\", \"x\": [\"2019-10-14\", \"2019-10-15\"], \"y\": [12, 12]}, {\"marker\": {\"size\": 6}, \"mode\": \"lines+markers\", \"name\": \"Com. 55xP3\", \"text\": [\"ID 13 on this period\", \"ID 35 on this period\", \"ID 55 on this period\"], \"textfont\": {\"family\": \"Raleway, sans-serif\"}, \"textposition\": \"top center\", \"type\": \"scatter\", \"uid\": \"f21452dc-c44d-4ea7-98c6-2c4f4272e9b7\", \"x\": [\"2019-10-13\", \"2019-10-14\", \"2019-10-15\"], \"y\": [13, 13, 13]}, {\"marker\": {\"size\": 6}, \"mode\": \"lines+markers\", \"name\": \"Com. 15xP3\", \"text\": [\"ID 58 on this period\", \"ID 9 on this period\", \"ID 15 on this period\"], \"textfont\": {\"family\": \"Raleway, sans-serif\"}, \"textposition\": \"top center\", \"type\": \"scatter\", \"uid\": \"094e013c-51ca-4d20-a7e3-34762f86ff60\", \"x\": [\"2019-10-13\", \"2019-10-14\", \"2019-10-15\"], \"y\": [14, 14, 14]}, {\"marker\": {\"size\": 6}, \"mode\": \"lines+markers\", \"name\": \"Com. 49xP4\", \"text\": [\"ID 17 on this period\", \"ID 49 on this period\"], \"textfont\": {\"family\": \"Raleway, sans-serif\"}, \"textposition\": \"top center\", \"type\": \"scatter\", \"uid\": \"bf7bf877-0ae1-4ddf-afc3-ae86c0d9ea62\", \"x\": [\"2019-10-15\", \"2019-10-16\"], \"y\": [15, 15]}, {\"marker\": {\"size\": 6}, \"mode\": \"lines+markers\", \"name\": \"Com. 75xP4\", \"text\": [\"ID 23 on this period\", \"ID 31 on this period\", \"ID 75 on this period\"], \"textfont\": {\"family\": \"Raleway, sans-serif\"}, \"textposition\": \"top center\", \"type\": \"scatter\", \"uid\": \"ad25059b-a409-4850-9f6f-87166279e0d8\", \"x\": [\"2019-10-14\", \"2019-10-15\", \"2019-10-16\"], \"y\": [16, 16, 16]}, {\"marker\": {\"size\": 6}, \"mode\": \"lines+markers\", \"name\": \"Com. 52xP4\", \"text\": [\"ID 15 on this period\", \"ID 34 on this period\", \"ID 52 on this period\"], \"textfont\": {\"family\": \"Raleway, sans-serif\"}, \"textposition\": \"top center\", \"type\": \"scatter\", \"uid\": \"dddec54e-2f05-418f-82ba-96eeb7ab0bcc\", \"x\": [\"2019-10-14\", \"2019-10-15\", \"2019-10-16\"], \"y\": [17, 17, 17]}, {\"marker\": {\"size\": 6}, \"mode\": \"lines+markers\", \"name\": \"Com. 32xP4\", \"text\": [\"ID 48 on this period\", \"ID 32 on this period\"], \"textfont\": {\"family\": \"Raleway, sans-serif\"}, \"textposition\": \"top center\", \"type\": \"scatter\", \"uid\": \"e5fbac45-64ca-46d0-bab3-c00c6a5ecbbe\", \"x\": [\"2019-10-15\", \"2019-10-16\"], \"y\": [18, 18]}, {\"marker\": {\"size\": 6}, \"mode\": \"lines+markers\", \"name\": \"Com. 4xP4\", \"text\": [\"ID 39 on this period\", \"ID 0 on this period\", \"ID 53 on this period\", \"ID 4 on this period\"], \"textfont\": {\"family\": \"Raleway, sans-serif\"}, \"textposition\": \"top center\", \"type\": \"scatter\", \"uid\": \"b4dd617d-f4cd-4e18-aa11-29f9d976ec64\", \"x\": [\"2019-10-13\", \"2019-10-14\", \"2019-10-15\", \"2019-10-16\"], \"y\": [19, 19, 19, 19]}, {\"marker\": {\"size\": 6}, \"mode\": \"lines+markers\", \"name\": \"Com. 21xP4\", \"text\": [\"ID 62 on this period\", \"ID 21 on this period\"], \"textfont\": {\"family\": \"Raleway, sans-serif\"}, \"textposition\": \"top center\", \"type\": \"scatter\", \"uid\": \"9ef84a23-9656-406c-ac8e-ada46b8cb229\", \"x\": [\"2019-10-15\", \"2019-10-16\"], \"y\": [20, 20]}, {\"marker\": {\"size\": 6}, \"mode\": \"lines+markers\", \"name\": \"Com. 37xP4\", \"text\": [\"ID 65 on this period\", \"ID 37 on this period\"], \"textfont\": {\"family\": \"Raleway, sans-serif\"}, \"textposition\": \"top center\", \"type\": \"scatter\", \"uid\": \"22b8b062-d385-4303-a045-63d0500b756c\", \"x\": [\"2019-10-15\", \"2019-10-16\"], \"y\": [21, 21]}, {\"marker\": {\"size\": 6}, \"mode\": \"lines+markers\", \"name\": \"Com. 8xP4\", \"text\": [\"ID 67 on this period\", \"ID 8 on this period\"], \"textfont\": {\"family\": \"Raleway, sans-serif\"}, \"textposition\": \"top center\", \"type\": \"scatter\", \"uid\": \"8fa510a3-fc80-47f8-859e-4dec34c6ccdf\", \"x\": [\"2019-10-15\", \"2019-10-16\"], \"y\": [22, 22]}, {\"marker\": {\"size\": 6}, \"mode\": \"lines+markers\", \"name\": \"Com. 13xP5\", \"text\": [\"ID 26 on this period\", \"ID 13 on this period\"], \"textfont\": {\"family\": \"Raleway, sans-serif\"}, \"textposition\": \"top center\", \"type\": \"scatter\", \"uid\": \"a378b782-301a-4689-8227-0bcef3b39e42\", \"x\": [\"2019-10-16\", \"2019-10-17\"], \"y\": [23, 23]}, {\"marker\": {\"size\": 6}, \"mode\": \"lines+markers\", \"name\": \"Com. 35xP5\", \"text\": [\"ID 5 on this period\", \"ID 35 on this period\"], \"textfont\": {\"family\": \"Raleway, sans-serif\"}, \"textposition\": \"top center\", \"type\": \"scatter\", \"uid\": \"481faf02-0812-4215-a1ec-ac4659ed006c\", \"x\": [\"2019-10-16\", \"2019-10-17\"], \"y\": [24, 24]}, {\"marker\": {\"size\": 6}, \"mode\": \"lines+markers\", \"name\": \"Com. 75xP6\", \"text\": [\"ID 14 on this period\", \"ID 75 on this period\"], \"textfont\": {\"family\": \"Raleway, sans-serif\"}, \"textposition\": \"top center\", \"type\": \"scatter\", \"uid\": \"f103d743-d678-46bc-bff7-1cc6e2ade6a0\", \"x\": [\"2019-10-17\", \"2019-10-18\"], \"y\": [25, 25]}, {\"marker\": {\"size\": 6}, \"mode\": \"lines+markers\", \"name\": \"Com. 1xP6\", \"text\": [\"ID 2 on this period\", \"ID 1 on this period\"], \"textfont\": {\"family\": \"Raleway, sans-serif\"}, \"textposition\": \"top center\", \"type\": \"scatter\", \"uid\": \"ea24b732-0859-42d7-aa2f-317141cd1691\", \"x\": [\"2019-10-17\", \"2019-10-18\"], \"y\": [26, 26]}, {\"marker\": {\"size\": 6}, \"mode\": \"lines+markers\", \"name\": \"Com. 39xP6\", \"text\": [\"ID 48 on this period\", \"ID 39 on this period\"], \"textfont\": {\"family\": \"Raleway, sans-serif\"}, \"textposition\": \"top center\", \"type\": \"scatter\", \"uid\": \"426c5fc7-f7dd-4b8f-aac4-aad4d3505746\", \"x\": [\"2019-10-17\", \"2019-10-18\"], \"y\": [27, 27]}, {\"marker\": {\"size\": 6}, \"mode\": \"lines+markers\", \"name\": \"Com. 9xP6\", \"text\": [\"ID 23 on this period\", \"ID 55 on this period\", \"ID 9 on this period\"], \"textfont\": {\"family\": \"Raleway, sans-serif\"}, \"textposition\": \"top center\", \"type\": \"scatter\", \"uid\": \"daee5a60-3575-4849-9981-a1bfb15eac1b\", \"x\": [\"2019-10-16\", \"2019-10-17\", \"2019-10-18\"], \"y\": [28, 28, 28]}, {\"marker\": {\"size\": 6}, \"mode\": \"lines+markers\", \"name\": \"Com. 2xP6\", \"text\": [\"ID 56 on this period\", \"ID 2 on this period\"], \"textfont\": {\"family\": \"Raleway, sans-serif\"}, \"textposition\": \"top center\", \"type\": \"scatter\", \"uid\": \"5a48734d-4482-4cba-9222-502b359b54f0\", \"x\": [\"2019-10-17\", \"2019-10-18\"], \"y\": [29, 29]}, {\"marker\": {\"size\": 6}, \"mode\": \"lines+markers\", \"name\": \"Com. 20xP6\", \"text\": [\"ID 8 on this period\", \"ID 20 on this period\"], \"textfont\": {\"family\": \"Raleway, sans-serif\"}, \"textposition\": \"top center\", \"type\": \"scatter\", \"uid\": \"d5822326-32ea-44fb-b4b5-55b88f453c73\", \"x\": [\"2019-10-17\", \"2019-10-18\"], \"y\": [30, 30]}, {\"marker\": {\"size\": 6}, \"mode\": \"lines+markers\", \"name\": \"Com. 48xP6\", \"text\": [\"ID 9 on this period\", \"ID 48 on this period\"], \"textfont\": {\"family\": \"Raleway, sans-serif\"}, \"textposition\": \"top center\", \"type\": \"scatter\", \"uid\": \"be8e5458-1c9c-4fdd-9e1b-db0c32a1ac71\", \"x\": [\"2019-10-17\", \"2019-10-18\"], \"y\": [31, 31]}, {\"marker\": {\"size\": 6}, \"mode\": \"lines+markers\", \"name\": \"Com. 23xP7\", \"text\": [\"ID 0 on this period\", \"ID 24 on this period\", \"ID 23 on this period\"], \"textfont\": {\"family\": \"Raleway, sans-serif\"}, \"textposition\": \"top center\", \"type\": \"scatter\", \"uid\": \"6a966349-16cd-435f-8949-55c112dc91b6\", \"x\": [\"2019-10-17\", \"2019-10-18\", \"2019-10-19\"], \"y\": [32, 32, 32]}, {\"marker\": {\"size\": 6}, \"mode\": \"lines+markers\", \"name\": \"Com. 10xP7\", \"text\": [\"ID 30 on this period\", \"ID 10 on this period\"], \"textfont\": {\"family\": \"Raleway, sans-serif\"}, \"textposition\": \"top center\", \"type\": \"scatter\", \"uid\": \"900bbb2e-e954-466f-a720-ec88ffa486ad\", \"x\": [\"2019-10-18\", \"2019-10-19\"], \"y\": [33, 33]}, {\"marker\": {\"size\": 6}, \"mode\": \"lines+markers\", \"name\": \"Com. 34xP7\", \"text\": [\"ID 36 on this period\", \"ID 34 on this period\"], \"textfont\": {\"family\": \"Raleway, sans-serif\"}, \"textposition\": \"top center\", \"type\": \"scatter\", \"uid\": \"011a7dcf-77e9-4a2d-8cea-e2c66ab8164d\", \"x\": [\"2019-10-18\", \"2019-10-19\"], \"y\": [34, 34]}, {\"marker\": {\"size\": 6}, \"mode\": \"lines+markers\", \"name\": \"Com. 11xP7\", \"text\": [\"ID 3 on this period\", \"ID 11 on this period\"], \"textfont\": {\"family\": \"Raleway, sans-serif\"}, \"textposition\": \"top center\", \"type\": \"scatter\", \"uid\": \"3b2a4282-d4f4-4462-8bff-31f0c1728e5f\", \"x\": [\"2019-10-18\", \"2019-10-19\"], \"y\": [35, 35]}, {\"marker\": {\"size\": 6}, \"mode\": \"lines+markers\", \"name\": \"Com. 30xP7\", \"text\": [\"ID 21 on this period\", \"ID 45 on this period\", \"ID 30 on this period\"], \"textfont\": {\"family\": \"Raleway, sans-serif\"}, \"textposition\": \"top center\", \"type\": \"scatter\", \"uid\": \"5bbec859-7d52-4817-95dd-48b020f25330\", \"x\": [\"2019-10-17\", \"2019-10-18\", \"2019-10-19\"], \"y\": [36, 36, 36]}, {\"marker\": {\"size\": 6}, \"mode\": \"lines+markers\", \"name\": \"Com. 29xP7\", \"text\": [\"ID 4 on this period\", \"ID 29 on this period\"], \"textfont\": {\"family\": \"Raleway, sans-serif\"}, \"textposition\": \"top center\", \"type\": \"scatter\", \"uid\": \"b389ded3-7857-4427-bf7f-361f9b95202a\", \"x\": [\"2019-10-18\", \"2019-10-19\"], \"y\": [37, 37]}, {\"marker\": {\"size\": 6}, \"mode\": \"lines+markers\", \"name\": \"Com. 46xP7\", \"text\": [\"ID 8 on this period\", \"ID 46 on this period\"], \"textfont\": {\"family\": \"Raleway, sans-serif\"}, \"textposition\": \"top center\", \"type\": \"scatter\", \"uid\": \"c692a158-a8d9-49d3-80a8-34db317c3015\", \"x\": [\"2019-10-18\", \"2019-10-19\"], \"y\": [38, 38]}, {\"marker\": {\"size\": 6}, \"mode\": \"lines+markers\", \"name\": \"Com. 36xP8\", \"text\": [\"ID 12 on this period\", \"ID 36 on this period\"], \"textfont\": {\"family\": \"Raleway, sans-serif\"}, \"textposition\": \"top center\", \"type\": \"scatter\", \"uid\": \"e69c01d2-4005-4b6c-b5f5-037c7530c009\", \"x\": [\"2019-10-19\", \"2019-10-20\"], \"y\": [39, 39]}, {\"marker\": {\"size\": 6}, \"mode\": \"lines+markers\", \"name\": \"Com. 54xP8\", \"text\": [\"ID 1 on this period\", \"ID 54 on this period\"], \"textfont\": {\"family\": \"Raleway, sans-serif\"}, \"textposition\": \"top center\", \"type\": \"scatter\", \"uid\": \"87fb4a71-2990-4bf0-bf23-c16e2d73391b\", \"x\": [\"2019-10-19\", \"2019-10-20\"], \"y\": [40, 40]}, {\"marker\": {\"size\": 6}, \"mode\": \"lines+markers\", \"name\": \"Com. 7xP8\", \"text\": [\"ID 22 on this period\", \"ID 7 on this period\"], \"textfont\": {\"family\": \"Raleway, sans-serif\"}, \"textposition\": \"top center\", \"type\": \"scatter\", \"uid\": \"f59165c1-a1df-4780-ad12-1db6c2c1efcc\", \"x\": [\"2019-10-19\", \"2019-10-20\"], \"y\": [41, 41]}, {\"marker\": {\"size\": 6}, \"mode\": \"lines+markers\", \"name\": \"Com. 39xP8\", \"text\": [\"ID 2 on this period\", \"ID 39 on this period\"], \"textfont\": {\"family\": \"Raleway, sans-serif\"}, \"textposition\": \"top center\", \"type\": \"scatter\", \"uid\": \"f13e8af1-197a-4d3c-8976-846331acb8e3\", \"x\": [\"2019-10-19\", \"2019-10-20\"], \"y\": [42, 42]}, {\"marker\": {\"size\": 6}, \"mode\": \"lines+markers\", \"name\": \"Com. 42xP9\", \"text\": [\"ID 11 on this period\", \"ID 42 on this period\"], \"textfont\": {\"family\": \"Raleway, sans-serif\"}, \"textposition\": \"top center\", \"type\": \"scatter\", \"uid\": \"0e903bd5-d582-4f8c-a214-0c9f5251a98e\", \"x\": [\"2019-10-20\", \"2019-10-21\"], \"y\": [43, 43]}, {\"marker\": {\"size\": 6}, \"mode\": \"lines+markers\", \"name\": \"Com. 0xP9\", \"text\": [\"ID 1 on this period\", \"ID 0 on this period\"], \"textfont\": {\"family\": \"Raleway, sans-serif\"}, \"textposition\": \"top center\", \"type\": \"scatter\", \"uid\": \"4734521d-568a-4ac8-a5c7-5c5eecff02c9\", \"x\": [\"2019-10-20\", \"2019-10-21\"], \"y\": [44, 44]}, {\"marker\": {\"size\": 6}, \"mode\": \"lines+markers\", \"name\": \"Com. 19xP9\", \"text\": [\"ID 2 on this period\", \"ID 19 on this period\"], \"textfont\": {\"family\": \"Raleway, sans-serif\"}, \"textposition\": \"top center\", \"type\": \"scatter\", \"uid\": \"fc214a44-b567-4429-962e-ad182c6c4308\", \"x\": [\"2019-10-20\", \"2019-10-21\"], \"y\": [45, 45]}, {\"marker\": {\"size\": 6}, \"mode\": \"lines+markers\", \"name\": \"Com. 55xP9\", \"text\": [\"ID 31 on this period\", \"ID 55 on this period\"], \"textfont\": {\"family\": \"Raleway, sans-serif\"}, \"textposition\": \"top center\", \"type\": \"scatter\", \"uid\": \"551c93d2-a1a3-431a-ab26-c1cbf48c939d\", \"x\": [\"2019-10-20\", \"2019-10-21\"], \"y\": [46, 46]}, {\"marker\": {\"size\": 6}, \"mode\": \"lines+markers\", \"name\": \"Com. 38xP9\", \"text\": [\"ID 34 on this period\", \"ID 38 on this period\"], \"textfont\": {\"family\": \"Raleway, sans-serif\"}, \"textposition\": \"top center\", \"type\": \"scatter\", \"uid\": \"e6d0ef2b-61d3-4283-a55e-651cb9c78f9f\", \"x\": [\"2019-10-20\", \"2019-10-21\"], \"y\": [47, 47]}, {\"marker\": {\"size\": 6}, \"mode\": \"lines+markers\", \"name\": \"Com. 48xP9\", \"text\": [\"ID 3 on this period\", \"ID 48 on this period\"], \"textfont\": {\"family\": \"Raleway, sans-serif\"}, \"textposition\": \"top center\", \"type\": \"scatter\", \"uid\": \"7d0f28e7-005f-41ea-9d5c-91303a59d1c1\", \"x\": [\"2019-10-20\", \"2019-10-21\"], \"y\": [48, 48]}, {\"marker\": {\"size\": 6}, \"mode\": \"lines+markers\", \"name\": \"Com. 1xP9\", \"text\": [\"ID 4 on this period\", \"ID 1 on this period\"], \"textfont\": {\"family\": \"Raleway, sans-serif\"}, \"textposition\": \"top center\", \"type\": \"scatter\", \"uid\": \"28481188-af86-49da-9ffd-b429a6689596\", \"x\": [\"2019-10-20\", \"2019-10-21\"], \"y\": [49, 49]}, {\"marker\": {\"size\": 6}, \"mode\": \"lines+markers\", \"name\": \"Com. 16xP9\", \"text\": [\"ID 5 on this period\", \"ID 16 on this period\"], \"textfont\": {\"family\": \"Raleway, sans-serif\"}, \"textposition\": \"top center\", \"type\": \"scatter\", \"uid\": \"40e05b16-6db4-4149-84ac-fb19dcf96684\", \"x\": [\"2019-10-20\", \"2019-10-21\"], \"y\": [50, 50]}],\n",
       "                        {},\n",
       "                        {\"showLink\": {\"xaxis\": {\"autorange\": true, \"title\": \"Period\"}, \"yaxis\": {\"autorange\": true, \"title\": \"Community ID\"}, \"legend\": {\"y\": 0.5, \"yref\": \"paper\", \"font\": {\"family\": \"Arial, sans-serif\", \"size\": 20, \"color\": \"grey\"}}, \"title\": \"Persistence of communities\"}, \"linkText\": \"Export to plot.ly\", \"plotlyServerURL\": \"https://plot.ly\", \"responsive\": true}\n",
       "                    ).then(function(){\n",
       "                            \n",
       "var gd = document.getElementById('383e7ed3-1622-4d76-8731-e4729e8698bb');\n",
       "var x = new MutationObserver(function (mutations, observer) {{\n",
       "        var display = window.getComputedStyle(gd).display;\n",
       "        if (!display || display === 'none') {{\n",
       "            console.log([gd, 'removed!']);\n",
       "            Plotly.purge(gd);\n",
       "            observer.disconnect();\n",
       "        }}\n",
       "}});\n",
       "\n",
       "// Listen for the removal of the full notebook cells\n",
       "var notebookContainer = gd.closest('#notebook-container');\n",
       "if (notebookContainer) {{\n",
       "    x.observe(notebookContainer, {childList: true});\n",
       "}}\n",
       "\n",
       "// Listen for the clearing of the current output cell\n",
       "var outputEl = gd.closest('.output');\n",
       "if (outputEl) {{\n",
       "    x.observe(outputEl, {childList: true});\n",
       "}}\n",
       "\n",
       "                        })\n",
       "                };\n",
       "                });\n",
       "            </script>\n",
       "        </div>"
      ]
     },
     "metadata": {},
     "output_type": "display_data"
    }
   ],
   "source": [
    "#configure_plotly_browser_state()\n",
    "communities_over_time(matches, output=None, inline=True)"
   ]
  },
  {
   "cell_type": "markdown",
   "metadata": {},
   "source": [
    "#### Population size"
   ]
  },
  {
   "cell_type": "code",
   "execution_count": 23,
   "metadata": {},
   "outputs": [
    {
     "data": {
      "application/vnd.plotly.v1+json": {
       "config": {
        "linkText": "Export to plot.ly",
        "plotlyServerURL": "https://plot.ly",
        "responsive": true,
        "showLink": {
         "legend": {
          "font": {
           "color": "grey",
           "family": "Arial, sans-serif",
           "size": 20
          },
          "y": 0.5,
          "yref": "paper"
         },
         "title": "Population size",
         "xaxis": {
          "autorange": true,
          "title": "Period"
         },
         "yaxis": {
          "autorange": true,
          "title": "Population size"
         }
        }
       },
       "data": [
        {
         "marker": {
          "size": 6
         },
         "mode": "lines+markers",
         "name": "Com. 0xP1",
         "text": [
          "ID 0 on this period",
          "ID 0 on this period"
         ],
         "textfont": {
          "family": "Raleway, sans-serif"
         },
         "textposition": "top center",
         "type": "scatter",
         "uid": "2c980dbe-770b-42f0-801a-7381667d6f27",
         "x": [
          "2019-10-12",
          "2019-10-13"
         ],
         "y": [
          7,
          8
         ]
        },
        {
         "marker": {
          "size": 6
         },
         "mode": "lines+markers",
         "name": "Com. 49xP1",
         "text": [
          "ID 10 on this period",
          "ID 49 on this period"
         ],
         "textfont": {
          "family": "Raleway, sans-serif"
         },
         "textposition": "top center",
         "type": "scatter",
         "uid": "04abf1c1-77f8-4fe1-b961-ef20d7df09e9",
         "x": [
          "2019-10-12",
          "2019-10-13"
         ],
         "y": [
          5,
          4
         ]
        },
        {
         "marker": {
          "size": 6
         },
         "mode": "lines+markers",
         "name": "Com. 50xP1",
         "text": [
          "ID 13 on this period",
          "ID 50 on this period"
         ],
         "textfont": {
          "family": "Raleway, sans-serif"
         },
         "textposition": "top center",
         "type": "scatter",
         "uid": "49bff7ba-2448-4c81-b727-9d21026a6f9c",
         "x": [
          "2019-10-12",
          "2019-10-13"
         ],
         "y": [
          4,
          5
         ]
        },
        {
         "marker": {
          "size": 6
         },
         "mode": "lines+markers",
         "name": "Com. 6xP1",
         "text": [
          "ID 19 on this period",
          "ID 6 on this period"
         ],
         "textfont": {
          "family": "Raleway, sans-serif"
         },
         "textposition": "top center",
         "type": "scatter",
         "uid": "7abf8c3b-f478-4bc7-a00c-b40b9ba807fc",
         "x": [
          "2019-10-12",
          "2019-10-13"
         ],
         "y": [
          3,
          8
         ]
        },
        {
         "marker": {
          "size": 6
         },
         "mode": "lines+markers",
         "name": "Com. 4xP1",
         "text": [
          "ID 22 on this period",
          "ID 4 on this period"
         ],
         "textfont": {
          "family": "Raleway, sans-serif"
         },
         "textposition": "top center",
         "type": "scatter",
         "uid": "f5f5ce68-3a2a-4096-bddb-2a697d22a8d2",
         "x": [
          "2019-10-12",
          "2019-10-13"
         ],
         "y": [
          2,
          30
         ]
        },
        {
         "marker": {
          "size": 6
         },
         "mode": "lines+markers",
         "name": "Com. 26xP1",
         "text": [
          "ID 29 on this period",
          "ID 26 on this period"
         ],
         "textfont": {
          "family": "Raleway, sans-serif"
         },
         "textposition": "top center",
         "type": "scatter",
         "uid": "7b750668-35e3-4cbc-99a4-913ca4b2e855",
         "x": [
          "2019-10-12",
          "2019-10-13"
         ],
         "y": [
          4,
          21
         ]
        },
        {
         "marker": {
          "size": 6
         },
         "mode": "lines+markers",
         "name": "Com. 40xP2",
         "text": [
          "ID 1 on this period",
          "ID 40 on this period"
         ],
         "textfont": {
          "family": "Raleway, sans-serif"
         },
         "textposition": "top center",
         "type": "scatter",
         "uid": "b6b99bf5-c47f-469c-a1ef-4fb91343e458",
         "x": [
          "2019-10-13",
          "2019-10-14"
         ],
         "y": [
          168,
          12
         ]
        },
        {
         "marker": {
          "size": 6
         },
         "mode": "lines+markers",
         "name": "Com. 18xP2",
         "text": [
          "ID 3 on this period",
          "ID 20 on this period",
          "ID 18 on this period"
         ],
         "textfont": {
          "family": "Raleway, sans-serif"
         },
         "textposition": "top center",
         "type": "scatter",
         "uid": "1062838a-cb4e-4ad5-89ec-30eb01bf823e",
         "x": [
          "2019-10-12",
          "2019-10-13",
          "2019-10-14"
         ],
         "y": [
          59,
          25,
          5
         ]
        },
        {
         "marker": {
          "size": 6
         },
         "mode": "lines+markers",
         "name": "Com. 5xP2",
         "text": [
          "ID 23 on this period",
          "ID 5 on this period"
         ],
         "textfont": {
          "family": "Raleway, sans-serif"
         },
         "textposition": "top center",
         "type": "scatter",
         "uid": "2ca3cec1-532d-4f6d-8052-53b778e9be42",
         "x": [
          "2019-10-13",
          "2019-10-14"
         ],
         "y": [
          7,
          5
         ]
        },
        {
         "marker": {
          "size": 6
         },
         "mode": "lines+markers",
         "name": "Com. 4xP2",
         "text": [
          "ID 37 on this period",
          "ID 4 on this period"
         ],
         "textfont": {
          "family": "Raleway, sans-serif"
         },
         "textposition": "top center",
         "type": "scatter",
         "uid": "4fb32233-08d8-47eb-9e8e-27ad0c87f4ab",
         "x": [
          "2019-10-13",
          "2019-10-14"
         ],
         "y": [
          7,
          6
         ]
        },
        {
         "marker": {
          "size": 6
         },
         "mode": "lines+markers",
         "name": "Com. 14xP2",
         "text": [
          "ID 70 on this period",
          "ID 14 on this period"
         ],
         "textfont": {
          "family": "Raleway, sans-serif"
         },
         "textposition": "top center",
         "type": "scatter",
         "uid": "15a46d2f-6767-499f-9a2f-10738cfc2206",
         "x": [
          "2019-10-13",
          "2019-10-14"
         ],
         "y": [
          8,
          4
         ]
        },
        {
         "marker": {
          "size": 6
         },
         "mode": "lines+markers",
         "name": "Com. 7xP3",
         "text": [
          "ID 16 on this period",
          "ID 7 on this period"
         ],
         "textfont": {
          "family": "Raleway, sans-serif"
         },
         "textposition": "top center",
         "type": "scatter",
         "uid": "24d10aa5-2db6-4bc2-b54b-14548725d6fe",
         "x": [
          "2019-10-14",
          "2019-10-15"
         ],
         "y": [
          23,
          7
         ]
        },
        {
         "marker": {
          "size": 6
         },
         "mode": "lines+markers",
         "name": "Com. 4xP3",
         "text": [
          "ID 2 on this period",
          "ID 4 on this period"
         ],
         "textfont": {
          "family": "Raleway, sans-serif"
         },
         "textposition": "top center",
         "type": "scatter",
         "uid": "eb753ff4-a75d-4319-9701-cd2bfbbefa7c",
         "x": [
          "2019-10-14",
          "2019-10-15"
         ],
         "y": [
          52,
          54
         ]
        },
        {
         "marker": {
          "size": 6
         },
         "mode": "lines+markers",
         "name": "Com. 55xP3",
         "text": [
          "ID 13 on this period",
          "ID 35 on this period",
          "ID 55 on this period"
         ],
         "textfont": {
          "family": "Raleway, sans-serif"
         },
         "textposition": "top center",
         "type": "scatter",
         "uid": "6bae9c83-7c0f-4675-99fb-506ad30404e5",
         "x": [
          "2019-10-13",
          "2019-10-14",
          "2019-10-15"
         ],
         "y": [
          51,
          8,
          7
         ]
        },
        {
         "marker": {
          "size": 6
         },
         "mode": "lines+markers",
         "name": "Com. 15xP3",
         "text": [
          "ID 58 on this period",
          "ID 9 on this period",
          "ID 15 on this period"
         ],
         "textfont": {
          "family": "Raleway, sans-serif"
         },
         "textposition": "top center",
         "type": "scatter",
         "uid": "97fab56b-e878-4ac5-82f9-8dcd50f5158d",
         "x": [
          "2019-10-13",
          "2019-10-14",
          "2019-10-15"
         ],
         "y": [
          7,
          71,
          6
         ]
        },
        {
         "marker": {
          "size": 6
         },
         "mode": "lines+markers",
         "name": "Com. 49xP4",
         "text": [
          "ID 17 on this period",
          "ID 49 on this period"
         ],
         "textfont": {
          "family": "Raleway, sans-serif"
         },
         "textposition": "top center",
         "type": "scatter",
         "uid": "dec59c75-45fb-4a8b-b3c8-eec5e16fd319",
         "x": [
          "2019-10-15",
          "2019-10-16"
         ],
         "y": [
          62,
          8
         ]
        },
        {
         "marker": {
          "size": 6
         },
         "mode": "lines+markers",
         "name": "Com. 75xP4",
         "text": [
          "ID 23 on this period",
          "ID 31 on this period",
          "ID 75 on this period"
         ],
         "textfont": {
          "family": "Raleway, sans-serif"
         },
         "textposition": "top center",
         "type": "scatter",
         "uid": "80d83cc9-5151-4d5b-84ea-83c185ece776",
         "x": [
          "2019-10-14",
          "2019-10-15",
          "2019-10-16"
         ],
         "y": [
          8,
          6,
          5
         ]
        },
        {
         "marker": {
          "size": 6
         },
         "mode": "lines+markers",
         "name": "Com. 52xP4",
         "text": [
          "ID 15 on this period",
          "ID 34 on this period",
          "ID 52 on this period"
         ],
         "textfont": {
          "family": "Raleway, sans-serif"
         },
         "textposition": "top center",
         "type": "scatter",
         "uid": "115c3a5d-ca22-4c3f-87b8-2f8bfa77fd27",
         "x": [
          "2019-10-14",
          "2019-10-15",
          "2019-10-16"
         ],
         "y": [
          8,
          7,
          4
         ]
        },
        {
         "marker": {
          "size": 6
         },
         "mode": "lines+markers",
         "name": "Com. 32xP4",
         "text": [
          "ID 48 on this period",
          "ID 32 on this period"
         ],
         "textfont": {
          "family": "Raleway, sans-serif"
         },
         "textposition": "top center",
         "type": "scatter",
         "uid": "218173fd-32ca-4d5a-89eb-c8626d762c5c",
         "x": [
          "2019-10-15",
          "2019-10-16"
         ],
         "y": [
          14,
          5
         ]
        },
        {
         "marker": {
          "size": 6
         },
         "mode": "lines+markers",
         "name": "Com. 4xP4",
         "text": [
          "ID 39 on this period",
          "ID 0 on this period",
          "ID 53 on this period",
          "ID 4 on this period"
         ],
         "textfont": {
          "family": "Raleway, sans-serif"
         },
         "textposition": "top center",
         "type": "scatter",
         "uid": "39b322bc-56cb-4195-861e-9fda4cf77d9b",
         "x": [
          "2019-10-13",
          "2019-10-14",
          "2019-10-15",
          "2019-10-16"
         ],
         "y": [
          8,
          26,
          12,
          4
         ]
        },
        {
         "marker": {
          "size": 6
         },
         "mode": "lines+markers",
         "name": "Com. 21xP4",
         "text": [
          "ID 62 on this period",
          "ID 21 on this period"
         ],
         "textfont": {
          "family": "Raleway, sans-serif"
         },
         "textposition": "top center",
         "type": "scatter",
         "uid": "e4350ad9-82b4-4356-8ab0-3e3cafa4c0d6",
         "x": [
          "2019-10-15",
          "2019-10-16"
         ],
         "y": [
          10,
          4
         ]
        },
        {
         "marker": {
          "size": 6
         },
         "mode": "lines+markers",
         "name": "Com. 37xP4",
         "text": [
          "ID 65 on this period",
          "ID 37 on this period"
         ],
         "textfont": {
          "family": "Raleway, sans-serif"
         },
         "textposition": "top center",
         "type": "scatter",
         "uid": "df9e9e6c-3a61-458f-8572-79f94799b208",
         "x": [
          "2019-10-15",
          "2019-10-16"
         ],
         "y": [
          9,
          4
         ]
        },
        {
         "marker": {
          "size": 6
         },
         "mode": "lines+markers",
         "name": "Com. 8xP4",
         "text": [
          "ID 67 on this period",
          "ID 8 on this period"
         ],
         "textfont": {
          "family": "Raleway, sans-serif"
         },
         "textposition": "top center",
         "type": "scatter",
         "uid": "c1187d93-447d-4204-bf0f-18ef044af55c",
         "x": [
          "2019-10-15",
          "2019-10-16"
         ],
         "y": [
          4,
          3
         ]
        },
        {
         "marker": {
          "size": 6
         },
         "mode": "lines+markers",
         "name": "Com. 13xP5",
         "text": [
          "ID 26 on this period",
          "ID 13 on this period"
         ],
         "textfont": {
          "family": "Raleway, sans-serif"
         },
         "textposition": "top center",
         "type": "scatter",
         "uid": "b027fabc-7d9f-48b8-9946-5f7107ee9777",
         "x": [
          "2019-10-16",
          "2019-10-17"
         ],
         "y": [
          5,
          3
         ]
        },
        {
         "marker": {
          "size": 6
         },
         "mode": "lines+markers",
         "name": "Com. 35xP5",
         "text": [
          "ID 5 on this period",
          "ID 35 on this period"
         ],
         "textfont": {
          "family": "Raleway, sans-serif"
         },
         "textposition": "top center",
         "type": "scatter",
         "uid": "f8c27cd5-7b10-4dc5-8255-28bc5d19839a",
         "x": [
          "2019-10-16",
          "2019-10-17"
         ],
         "y": [
          19,
          5
         ]
        },
        {
         "marker": {
          "size": 6
         },
         "mode": "lines+markers",
         "name": "Com. 75xP6",
         "text": [
          "ID 14 on this period",
          "ID 75 on this period"
         ],
         "textfont": {
          "family": "Raleway, sans-serif"
         },
         "textposition": "top center",
         "type": "scatter",
         "uid": "d42f0be2-7d5d-49f3-9f3f-30f651491870",
         "x": [
          "2019-10-17",
          "2019-10-18"
         ],
         "y": [
          25,
          4
         ]
        },
        {
         "marker": {
          "size": 6
         },
         "mode": "lines+markers",
         "name": "Com. 1xP6",
         "text": [
          "ID 2 on this period",
          "ID 1 on this period"
         ],
         "textfont": {
          "family": "Raleway, sans-serif"
         },
         "textposition": "top center",
         "type": "scatter",
         "uid": "6f7b27b0-1b43-4d60-befe-26451e897feb",
         "x": [
          "2019-10-17",
          "2019-10-18"
         ],
         "y": [
          21,
          5
         ]
        },
        {
         "marker": {
          "size": 6
         },
         "mode": "lines+markers",
         "name": "Com. 39xP6",
         "text": [
          "ID 48 on this period",
          "ID 39 on this period"
         ],
         "textfont": {
          "family": "Raleway, sans-serif"
         },
         "textposition": "top center",
         "type": "scatter",
         "uid": "8063f4d6-0077-4323-bb3e-c73e6ba933e2",
         "x": [
          "2019-10-17",
          "2019-10-18"
         ],
         "y": [
          9,
          9
         ]
        },
        {
         "marker": {
          "size": 6
         },
         "mode": "lines+markers",
         "name": "Com. 9xP6",
         "text": [
          "ID 23 on this period",
          "ID 55 on this period",
          "ID 9 on this period"
         ],
         "textfont": {
          "family": "Raleway, sans-serif"
         },
         "textposition": "top center",
         "type": "scatter",
         "uid": "ceb0ba41-69ff-4d9f-aeb4-d0889fc33732",
         "x": [
          "2019-10-16",
          "2019-10-17",
          "2019-10-18"
         ],
         "y": [
          5,
          4,
          9
         ]
        },
        {
         "marker": {
          "size": 6
         },
         "mode": "lines+markers",
         "name": "Com. 2xP6",
         "text": [
          "ID 56 on this period",
          "ID 2 on this period"
         ],
         "textfont": {
          "family": "Raleway, sans-serif"
         },
         "textposition": "top center",
         "type": "scatter",
         "uid": "63d3d879-4769-4502-b3d1-2cfae7364dab",
         "x": [
          "2019-10-17",
          "2019-10-18"
         ],
         "y": [
          4,
          4
         ]
        },
        {
         "marker": {
          "size": 6
         },
         "mode": "lines+markers",
         "name": "Com. 20xP6",
         "text": [
          "ID 8 on this period",
          "ID 20 on this period"
         ],
         "textfont": {
          "family": "Raleway, sans-serif"
         },
         "textposition": "top center",
         "type": "scatter",
         "uid": "0b9b7a0b-889f-43e1-835c-f33e766139c1",
         "x": [
          "2019-10-17",
          "2019-10-18"
         ],
         "y": [
          5,
          4
         ]
        },
        {
         "marker": {
          "size": 6
         },
         "mode": "lines+markers",
         "name": "Com. 48xP6",
         "text": [
          "ID 9 on this period",
          "ID 48 on this period"
         ],
         "textfont": {
          "family": "Raleway, sans-serif"
         },
         "textposition": "top center",
         "type": "scatter",
         "uid": "396f9c18-c972-435a-b813-93aabb62e82d",
         "x": [
          "2019-10-17",
          "2019-10-18"
         ],
         "y": [
          13,
          4
         ]
        },
        {
         "marker": {
          "size": 6
         },
         "mode": "lines+markers",
         "name": "Com. 23xP7",
         "text": [
          "ID 0 on this period",
          "ID 24 on this period",
          "ID 23 on this period"
         ],
         "textfont": {
          "family": "Raleway, sans-serif"
         },
         "textposition": "top center",
         "type": "scatter",
         "uid": "f18a57d3-63cb-4ed6-8899-28b3c751f97a",
         "x": [
          "2019-10-17",
          "2019-10-18",
          "2019-10-19"
         ],
         "y": [
          67,
          21,
          6
         ]
        },
        {
         "marker": {
          "size": 6
         },
         "mode": "lines+markers",
         "name": "Com. 10xP7",
         "text": [
          "ID 30 on this period",
          "ID 10 on this period"
         ],
         "textfont": {
          "family": "Raleway, sans-serif"
         },
         "textposition": "top center",
         "type": "scatter",
         "uid": "0ca1633b-1a8d-4b78-bd52-1d93a591013d",
         "x": [
          "2019-10-18",
          "2019-10-19"
         ],
         "y": [
          4,
          4
         ]
        },
        {
         "marker": {
          "size": 6
         },
         "mode": "lines+markers",
         "name": "Com. 34xP7",
         "text": [
          "ID 36 on this period",
          "ID 34 on this period"
         ],
         "textfont": {
          "family": "Raleway, sans-serif"
         },
         "textposition": "top center",
         "type": "scatter",
         "uid": "f471fcbb-3ffd-486e-bf11-3cea4024a03c",
         "x": [
          "2019-10-18",
          "2019-10-19"
         ],
         "y": [
          6,
          10
         ]
        },
        {
         "marker": {
          "size": 6
         },
         "mode": "lines+markers",
         "name": "Com. 11xP7",
         "text": [
          "ID 3 on this period",
          "ID 11 on this period"
         ],
         "textfont": {
          "family": "Raleway, sans-serif"
         },
         "textposition": "top center",
         "type": "scatter",
         "uid": "6becee9c-ba00-4a04-a18d-3d6552eca0c7",
         "x": [
          "2019-10-18",
          "2019-10-19"
         ],
         "y": [
          56,
          9
         ]
        },
        {
         "marker": {
          "size": 6
         },
         "mode": "lines+markers",
         "name": "Com. 30xP7",
         "text": [
          "ID 21 on this period",
          "ID 45 on this period",
          "ID 30 on this period"
         ],
         "textfont": {
          "family": "Raleway, sans-serif"
         },
         "textposition": "top center",
         "type": "scatter",
         "uid": "ff294d8a-9f07-498a-b66c-ec117d2ae490",
         "x": [
          "2019-10-17",
          "2019-10-18",
          "2019-10-19"
         ],
         "y": [
          4,
          5,
          6
         ]
        },
        {
         "marker": {
          "size": 6
         },
         "mode": "lines+markers",
         "name": "Com. 29xP7",
         "text": [
          "ID 4 on this period",
          "ID 29 on this period"
         ],
         "textfont": {
          "family": "Raleway, sans-serif"
         },
         "textposition": "top center",
         "type": "scatter",
         "uid": "23bd3742-b141-4644-90b0-9c96ad146b88",
         "x": [
          "2019-10-18",
          "2019-10-19"
         ],
         "y": [
          18,
          3
         ]
        },
        {
         "marker": {
          "size": 6
         },
         "mode": "lines+markers",
         "name": "Com. 46xP7",
         "text": [
          "ID 8 on this period",
          "ID 46 on this period"
         ],
         "textfont": {
          "family": "Raleway, sans-serif"
         },
         "textposition": "top center",
         "type": "scatter",
         "uid": "cdcecc0b-f1c3-421e-ba27-a3a19dc6a0e4",
         "x": [
          "2019-10-18",
          "2019-10-19"
         ],
         "y": [
          33,
          5
         ]
        },
        {
         "marker": {
          "size": 6
         },
         "mode": "lines+markers",
         "name": "Com. 36xP8",
         "text": [
          "ID 12 on this period",
          "ID 36 on this period"
         ],
         "textfont": {
          "family": "Raleway, sans-serif"
         },
         "textposition": "top center",
         "type": "scatter",
         "uid": "432c0c4a-2599-447b-ae43-bce9db057e68",
         "x": [
          "2019-10-19",
          "2019-10-20"
         ],
         "y": [
          12,
          8
         ]
        },
        {
         "marker": {
          "size": 6
         },
         "mode": "lines+markers",
         "name": "Com. 54xP8",
         "text": [
          "ID 1 on this period",
          "ID 54 on this period"
         ],
         "textfont": {
          "family": "Raleway, sans-serif"
         },
         "textposition": "top center",
         "type": "scatter",
         "uid": "d8c508fe-31a3-4d45-81eb-ce0705df929c",
         "x": [
          "2019-10-19",
          "2019-10-20"
         ],
         "y": [
          9,
          8
         ]
        },
        {
         "marker": {
          "size": 6
         },
         "mode": "lines+markers",
         "name": "Com. 7xP8",
         "text": [
          "ID 22 on this period",
          "ID 7 on this period"
         ],
         "textfont": {
          "family": "Raleway, sans-serif"
         },
         "textposition": "top center",
         "type": "scatter",
         "uid": "85284914-95ec-46fe-b826-7369df1efbcc",
         "x": [
          "2019-10-19",
          "2019-10-20"
         ],
         "y": [
          17,
          31
         ]
        },
        {
         "marker": {
          "size": 6
         },
         "mode": "lines+markers",
         "name": "Com. 39xP8",
         "text": [
          "ID 2 on this period",
          "ID 39 on this period"
         ],
         "textfont": {
          "family": "Raleway, sans-serif"
         },
         "textposition": "top center",
         "type": "scatter",
         "uid": "a7113c20-f538-4a54-be09-628d8d8b8e4d",
         "x": [
          "2019-10-19",
          "2019-10-20"
         ],
         "y": [
          42,
          4
         ]
        },
        {
         "marker": {
          "size": 6
         },
         "mode": "lines+markers",
         "name": "Com. 42xP9",
         "text": [
          "ID 11 on this period",
          "ID 42 on this period"
         ],
         "textfont": {
          "family": "Raleway, sans-serif"
         },
         "textposition": "top center",
         "type": "scatter",
         "uid": "cb53f64c-c191-4ec1-b70f-387849202bc7",
         "x": [
          "2019-10-20",
          "2019-10-21"
         ],
         "y": [
          57,
          5
         ]
        },
        {
         "marker": {
          "size": 6
         },
         "mode": "lines+markers",
         "name": "Com. 0xP9",
         "text": [
          "ID 1 on this period",
          "ID 0 on this period"
         ],
         "textfont": {
          "family": "Raleway, sans-serif"
         },
         "textposition": "top center",
         "type": "scatter",
         "uid": "7a0192e8-4675-4251-8a1c-8f8a95156dd1",
         "x": [
          "2019-10-20",
          "2019-10-21"
         ],
         "y": [
          77,
          302
         ]
        },
        {
         "marker": {
          "size": 6
         },
         "mode": "lines+markers",
         "name": "Com. 19xP9",
         "text": [
          "ID 2 on this period",
          "ID 19 on this period"
         ],
         "textfont": {
          "family": "Raleway, sans-serif"
         },
         "textposition": "top center",
         "type": "scatter",
         "uid": "7524b063-f13a-4d62-bfbe-2b2f0c709511",
         "x": [
          "2019-10-20",
          "2019-10-21"
         ],
         "y": [
          51,
          34
         ]
        },
        {
         "marker": {
          "size": 6
         },
         "mode": "lines+markers",
         "name": "Com. 55xP9",
         "text": [
          "ID 31 on this period",
          "ID 55 on this period"
         ],
         "textfont": {
          "family": "Raleway, sans-serif"
         },
         "textposition": "top center",
         "type": "scatter",
         "uid": "bf13a9c1-0152-44c7-941c-0453a9ef49e2",
         "x": [
          "2019-10-20",
          "2019-10-21"
         ],
         "y": [
          6,
          4
         ]
        },
        {
         "marker": {
          "size": 6
         },
         "mode": "lines+markers",
         "name": "Com. 38xP9",
         "text": [
          "ID 34 on this period",
          "ID 38 on this period"
         ],
         "textfont": {
          "family": "Raleway, sans-serif"
         },
         "textposition": "top center",
         "type": "scatter",
         "uid": "e3f62954-c7a9-4163-a640-3a6e430610da",
         "x": [
          "2019-10-20",
          "2019-10-21"
         ],
         "y": [
          6,
          4
         ]
        },
        {
         "marker": {
          "size": 6
         },
         "mode": "lines+markers",
         "name": "Com. 48xP9",
         "text": [
          "ID 3 on this period",
          "ID 48 on this period"
         ],
         "textfont": {
          "family": "Raleway, sans-serif"
         },
         "textposition": "top center",
         "type": "scatter",
         "uid": "3c5ec260-d4a3-4494-886c-745c8c74ce68",
         "x": [
          "2019-10-20",
          "2019-10-21"
         ],
         "y": [
          36,
          4
         ]
        },
        {
         "marker": {
          "size": 6
         },
         "mode": "lines+markers",
         "name": "Com. 1xP9",
         "text": [
          "ID 4 on this period",
          "ID 1 on this period"
         ],
         "textfont": {
          "family": "Raleway, sans-serif"
         },
         "textposition": "top center",
         "type": "scatter",
         "uid": "da6e16e8-7b24-45be-b748-d55315dbfd28",
         "x": [
          "2019-10-20",
          "2019-10-21"
         ],
         "y": [
          36,
          881
         ]
        },
        {
         "marker": {
          "size": 6
         },
         "mode": "lines+markers",
         "name": "Com. 16xP9",
         "text": [
          "ID 5 on this period",
          "ID 16 on this period"
         ],
         "textfont": {
          "family": "Raleway, sans-serif"
         },
         "textposition": "top center",
         "type": "scatter",
         "uid": "7a1f80f9-b160-40ee-8f0d-07bfad5fa151",
         "x": [
          "2019-10-20",
          "2019-10-21"
         ],
         "y": [
          24,
          7
         ]
        }
       ],
       "layout": {}
      },
      "text/html": [
       "<div>\n",
       "        \n",
       "        \n",
       "            <div id=\"a71ee9ba-9c9c-4a83-b9d9-e0863472f843\" class=\"plotly-graph-div\" style=\"height:525px; width:100%;\"></div>\n",
       "            <script type=\"text/javascript\">\n",
       "                require([\"plotly\"], function(Plotly) {\n",
       "                    window.PLOTLYENV=window.PLOTLYENV || {};\n",
       "                    window.PLOTLYENV.BASE_URL='https://plot.ly';\n",
       "                    \n",
       "                if (document.getElementById(\"a71ee9ba-9c9c-4a83-b9d9-e0863472f843\")) {\n",
       "                    Plotly.newPlot(\n",
       "                        'a71ee9ba-9c9c-4a83-b9d9-e0863472f843',\n",
       "                        [{\"marker\": {\"size\": 6}, \"mode\": \"lines+markers\", \"name\": \"Com. 0xP1\", \"text\": [\"ID 0 on this period\", \"ID 0 on this period\"], \"textfont\": {\"family\": \"Raleway, sans-serif\"}, \"textposition\": \"top center\", \"type\": \"scatter\", \"uid\": \"585e6ba3-353d-43f9-be56-95b9d0b79ec2\", \"x\": [\"2019-10-12\", \"2019-10-13\"], \"y\": [7, 8]}, {\"marker\": {\"size\": 6}, \"mode\": \"lines+markers\", \"name\": \"Com. 49xP1\", \"text\": [\"ID 10 on this period\", \"ID 49 on this period\"], \"textfont\": {\"family\": \"Raleway, sans-serif\"}, \"textposition\": \"top center\", \"type\": \"scatter\", \"uid\": \"53592ed7-b7b0-4d45-946c-774f87b90170\", \"x\": [\"2019-10-12\", \"2019-10-13\"], \"y\": [5, 4]}, {\"marker\": {\"size\": 6}, \"mode\": \"lines+markers\", \"name\": \"Com. 50xP1\", \"text\": [\"ID 13 on this period\", \"ID 50 on this period\"], \"textfont\": {\"family\": \"Raleway, sans-serif\"}, \"textposition\": \"top center\", \"type\": \"scatter\", \"uid\": \"31da9b29-e22e-447e-8b47-1a266844f0dd\", \"x\": [\"2019-10-12\", \"2019-10-13\"], \"y\": [4, 5]}, {\"marker\": {\"size\": 6}, \"mode\": \"lines+markers\", \"name\": \"Com. 6xP1\", \"text\": [\"ID 19 on this period\", \"ID 6 on this period\"], \"textfont\": {\"family\": \"Raleway, sans-serif\"}, \"textposition\": \"top center\", \"type\": \"scatter\", \"uid\": \"efe32c83-9391-46ee-b0db-5460223ddae9\", \"x\": [\"2019-10-12\", \"2019-10-13\"], \"y\": [3, 8]}, {\"marker\": {\"size\": 6}, \"mode\": \"lines+markers\", \"name\": \"Com. 4xP1\", \"text\": [\"ID 22 on this period\", \"ID 4 on this period\"], \"textfont\": {\"family\": \"Raleway, sans-serif\"}, \"textposition\": \"top center\", \"type\": \"scatter\", \"uid\": \"b63bc8e6-b22b-422e-a6ac-9478524bd3cb\", \"x\": [\"2019-10-12\", \"2019-10-13\"], \"y\": [2, 30]}, {\"marker\": {\"size\": 6}, \"mode\": \"lines+markers\", \"name\": \"Com. 26xP1\", \"text\": [\"ID 29 on this period\", \"ID 26 on this period\"], \"textfont\": {\"family\": \"Raleway, sans-serif\"}, \"textposition\": \"top center\", \"type\": \"scatter\", \"uid\": \"3d5deb3b-749d-419a-af1b-bb8c2241ba69\", \"x\": [\"2019-10-12\", \"2019-10-13\"], \"y\": [4, 21]}, {\"marker\": {\"size\": 6}, \"mode\": \"lines+markers\", \"name\": \"Com. 40xP2\", \"text\": [\"ID 1 on this period\", \"ID 40 on this period\"], \"textfont\": {\"family\": \"Raleway, sans-serif\"}, \"textposition\": \"top center\", \"type\": \"scatter\", \"uid\": \"41270889-3114-4a24-8392-b803cdd56a83\", \"x\": [\"2019-10-13\", \"2019-10-14\"], \"y\": [168, 12]}, {\"marker\": {\"size\": 6}, \"mode\": \"lines+markers\", \"name\": \"Com. 18xP2\", \"text\": [\"ID 3 on this period\", \"ID 20 on this period\", \"ID 18 on this period\"], \"textfont\": {\"family\": \"Raleway, sans-serif\"}, \"textposition\": \"top center\", \"type\": \"scatter\", \"uid\": \"4f7d14ad-c8b0-4883-ba53-10055f633dcc\", \"x\": [\"2019-10-12\", \"2019-10-13\", \"2019-10-14\"], \"y\": [59, 25, 5]}, {\"marker\": {\"size\": 6}, \"mode\": \"lines+markers\", \"name\": \"Com. 5xP2\", \"text\": [\"ID 23 on this period\", \"ID 5 on this period\"], \"textfont\": {\"family\": \"Raleway, sans-serif\"}, \"textposition\": \"top center\", \"type\": \"scatter\", \"uid\": \"06451828-1610-4d9a-a867-f9beb27b4bae\", \"x\": [\"2019-10-13\", \"2019-10-14\"], \"y\": [7, 5]}, {\"marker\": {\"size\": 6}, \"mode\": \"lines+markers\", \"name\": \"Com. 4xP2\", \"text\": [\"ID 37 on this period\", \"ID 4 on this period\"], \"textfont\": {\"family\": \"Raleway, sans-serif\"}, \"textposition\": \"top center\", \"type\": \"scatter\", \"uid\": \"9a498773-3326-49c6-8f45-b9e0e065a93c\", \"x\": [\"2019-10-13\", \"2019-10-14\"], \"y\": [7, 6]}, {\"marker\": {\"size\": 6}, \"mode\": \"lines+markers\", \"name\": \"Com. 14xP2\", \"text\": [\"ID 70 on this period\", \"ID 14 on this period\"], \"textfont\": {\"family\": \"Raleway, sans-serif\"}, \"textposition\": \"top center\", \"type\": \"scatter\", \"uid\": \"93d56b73-a241-41d5-a1cf-90c87932c690\", \"x\": [\"2019-10-13\", \"2019-10-14\"], \"y\": [8, 4]}, {\"marker\": {\"size\": 6}, \"mode\": \"lines+markers\", \"name\": \"Com. 7xP3\", \"text\": [\"ID 16 on this period\", \"ID 7 on this period\"], \"textfont\": {\"family\": \"Raleway, sans-serif\"}, \"textposition\": \"top center\", \"type\": \"scatter\", \"uid\": \"dbef7a46-3a14-4519-ac9b-ed3528e04517\", \"x\": [\"2019-10-14\", \"2019-10-15\"], \"y\": [23, 7]}, {\"marker\": {\"size\": 6}, \"mode\": \"lines+markers\", \"name\": \"Com. 4xP3\", \"text\": [\"ID 2 on this period\", \"ID 4 on this period\"], \"textfont\": {\"family\": \"Raleway, sans-serif\"}, \"textposition\": \"top center\", \"type\": \"scatter\", \"uid\": \"22437b60-3118-4c55-82a6-0d6f6c5e8851\", \"x\": [\"2019-10-14\", \"2019-10-15\"], \"y\": [52, 54]}, {\"marker\": {\"size\": 6}, \"mode\": \"lines+markers\", \"name\": \"Com. 55xP3\", \"text\": [\"ID 13 on this period\", \"ID 35 on this period\", \"ID 55 on this period\"], \"textfont\": {\"family\": \"Raleway, sans-serif\"}, \"textposition\": \"top center\", \"type\": \"scatter\", \"uid\": \"863ea7a9-94a8-4f94-9edc-8a4a118308f7\", \"x\": [\"2019-10-13\", \"2019-10-14\", \"2019-10-15\"], \"y\": [51, 8, 7]}, {\"marker\": {\"size\": 6}, \"mode\": \"lines+markers\", \"name\": \"Com. 15xP3\", \"text\": [\"ID 58 on this period\", \"ID 9 on this period\", \"ID 15 on this period\"], \"textfont\": {\"family\": \"Raleway, sans-serif\"}, \"textposition\": \"top center\", \"type\": \"scatter\", \"uid\": \"3b2aa5d4-a425-483c-9f69-fb86dd3745b0\", \"x\": [\"2019-10-13\", \"2019-10-14\", \"2019-10-15\"], \"y\": [7, 71, 6]}, {\"marker\": {\"size\": 6}, \"mode\": \"lines+markers\", \"name\": \"Com. 49xP4\", \"text\": [\"ID 17 on this period\", \"ID 49 on this period\"], \"textfont\": {\"family\": \"Raleway, sans-serif\"}, \"textposition\": \"top center\", \"type\": \"scatter\", \"uid\": \"8de6f0eb-1490-452a-94a1-aec5f9bb2553\", \"x\": [\"2019-10-15\", \"2019-10-16\"], \"y\": [62, 8]}, {\"marker\": {\"size\": 6}, \"mode\": \"lines+markers\", \"name\": \"Com. 75xP4\", \"text\": [\"ID 23 on this period\", \"ID 31 on this period\", \"ID 75 on this period\"], \"textfont\": {\"family\": \"Raleway, sans-serif\"}, \"textposition\": \"top center\", \"type\": \"scatter\", \"uid\": \"d0f1c830-270b-4cd8-bc29-23e4a99cd105\", \"x\": [\"2019-10-14\", \"2019-10-15\", \"2019-10-16\"], \"y\": [8, 6, 5]}, {\"marker\": {\"size\": 6}, \"mode\": \"lines+markers\", \"name\": \"Com. 52xP4\", \"text\": [\"ID 15 on this period\", \"ID 34 on this period\", \"ID 52 on this period\"], \"textfont\": {\"family\": \"Raleway, sans-serif\"}, \"textposition\": \"top center\", \"type\": \"scatter\", \"uid\": \"5bcd93ee-ba67-40f7-bb83-3249b5b9b4d7\", \"x\": [\"2019-10-14\", \"2019-10-15\", \"2019-10-16\"], \"y\": [8, 7, 4]}, {\"marker\": {\"size\": 6}, \"mode\": \"lines+markers\", \"name\": \"Com. 32xP4\", \"text\": [\"ID 48 on this period\", \"ID 32 on this period\"], \"textfont\": {\"family\": \"Raleway, sans-serif\"}, \"textposition\": \"top center\", \"type\": \"scatter\", \"uid\": \"7d504d53-426b-43d5-8e59-24186b605163\", \"x\": [\"2019-10-15\", \"2019-10-16\"], \"y\": [14, 5]}, {\"marker\": {\"size\": 6}, \"mode\": \"lines+markers\", \"name\": \"Com. 4xP4\", \"text\": [\"ID 39 on this period\", \"ID 0 on this period\", \"ID 53 on this period\", \"ID 4 on this period\"], \"textfont\": {\"family\": \"Raleway, sans-serif\"}, \"textposition\": \"top center\", \"type\": \"scatter\", \"uid\": \"c999c867-7b01-45a0-9279-eedb55d3b699\", \"x\": [\"2019-10-13\", \"2019-10-14\", \"2019-10-15\", \"2019-10-16\"], \"y\": [8, 26, 12, 4]}, {\"marker\": {\"size\": 6}, \"mode\": \"lines+markers\", \"name\": \"Com. 21xP4\", \"text\": [\"ID 62 on this period\", \"ID 21 on this period\"], \"textfont\": {\"family\": \"Raleway, sans-serif\"}, \"textposition\": \"top center\", \"type\": \"scatter\", \"uid\": \"4236aaf0-aa81-436c-b988-d0ed0dc33dc5\", \"x\": [\"2019-10-15\", \"2019-10-16\"], \"y\": [10, 4]}, {\"marker\": {\"size\": 6}, \"mode\": \"lines+markers\", \"name\": \"Com. 37xP4\", \"text\": [\"ID 65 on this period\", \"ID 37 on this period\"], \"textfont\": {\"family\": \"Raleway, sans-serif\"}, \"textposition\": \"top center\", \"type\": \"scatter\", \"uid\": \"47995031-7bb5-4b03-8dbf-9d13b3873328\", \"x\": [\"2019-10-15\", \"2019-10-16\"], \"y\": [9, 4]}, {\"marker\": {\"size\": 6}, \"mode\": \"lines+markers\", \"name\": \"Com. 8xP4\", \"text\": [\"ID 67 on this period\", \"ID 8 on this period\"], \"textfont\": {\"family\": \"Raleway, sans-serif\"}, \"textposition\": \"top center\", \"type\": \"scatter\", \"uid\": \"1587dd85-46be-495d-8972-d29b40543741\", \"x\": [\"2019-10-15\", \"2019-10-16\"], \"y\": [4, 3]}, {\"marker\": {\"size\": 6}, \"mode\": \"lines+markers\", \"name\": \"Com. 13xP5\", \"text\": [\"ID 26 on this period\", \"ID 13 on this period\"], \"textfont\": {\"family\": \"Raleway, sans-serif\"}, \"textposition\": \"top center\", \"type\": \"scatter\", \"uid\": \"70cd1053-314e-4c80-9155-1444ca183b77\", \"x\": [\"2019-10-16\", \"2019-10-17\"], \"y\": [5, 3]}, {\"marker\": {\"size\": 6}, \"mode\": \"lines+markers\", \"name\": \"Com. 35xP5\", \"text\": [\"ID 5 on this period\", \"ID 35 on this period\"], \"textfont\": {\"family\": \"Raleway, sans-serif\"}, \"textposition\": \"top center\", \"type\": \"scatter\", \"uid\": \"0124e9fd-1616-49a0-b2d2-fd98ca3d59f3\", \"x\": [\"2019-10-16\", \"2019-10-17\"], \"y\": [19, 5]}, {\"marker\": {\"size\": 6}, \"mode\": \"lines+markers\", \"name\": \"Com. 75xP6\", \"text\": [\"ID 14 on this period\", \"ID 75 on this period\"], \"textfont\": {\"family\": \"Raleway, sans-serif\"}, \"textposition\": \"top center\", \"type\": \"scatter\", \"uid\": \"307f0889-788f-4ebf-9752-40d0f461f6d2\", \"x\": [\"2019-10-17\", \"2019-10-18\"], \"y\": [25, 4]}, {\"marker\": {\"size\": 6}, \"mode\": \"lines+markers\", \"name\": \"Com. 1xP6\", \"text\": [\"ID 2 on this period\", \"ID 1 on this period\"], \"textfont\": {\"family\": \"Raleway, sans-serif\"}, \"textposition\": \"top center\", \"type\": \"scatter\", \"uid\": \"603d7ce1-969c-443f-97a1-7cdca7d50671\", \"x\": [\"2019-10-17\", \"2019-10-18\"], \"y\": [21, 5]}, {\"marker\": {\"size\": 6}, \"mode\": \"lines+markers\", \"name\": \"Com. 39xP6\", \"text\": [\"ID 48 on this period\", \"ID 39 on this period\"], \"textfont\": {\"family\": \"Raleway, sans-serif\"}, \"textposition\": \"top center\", \"type\": \"scatter\", \"uid\": \"4f95382e-3394-4358-a002-96717409dbf9\", \"x\": [\"2019-10-17\", \"2019-10-18\"], \"y\": [9, 9]}, {\"marker\": {\"size\": 6}, \"mode\": \"lines+markers\", \"name\": \"Com. 9xP6\", \"text\": [\"ID 23 on this period\", \"ID 55 on this period\", \"ID 9 on this period\"], \"textfont\": {\"family\": \"Raleway, sans-serif\"}, \"textposition\": \"top center\", \"type\": \"scatter\", \"uid\": \"b0e75aff-0f8d-4d29-abcb-61e6ac7d87b6\", \"x\": [\"2019-10-16\", \"2019-10-17\", \"2019-10-18\"], \"y\": [5, 4, 9]}, {\"marker\": {\"size\": 6}, \"mode\": \"lines+markers\", \"name\": \"Com. 2xP6\", \"text\": [\"ID 56 on this period\", \"ID 2 on this period\"], \"textfont\": {\"family\": \"Raleway, sans-serif\"}, \"textposition\": \"top center\", \"type\": \"scatter\", \"uid\": \"1b6be80c-bf85-4a01-b427-e0847d41651b\", \"x\": [\"2019-10-17\", \"2019-10-18\"], \"y\": [4, 4]}, {\"marker\": {\"size\": 6}, \"mode\": \"lines+markers\", \"name\": \"Com. 20xP6\", \"text\": [\"ID 8 on this period\", \"ID 20 on this period\"], \"textfont\": {\"family\": \"Raleway, sans-serif\"}, \"textposition\": \"top center\", \"type\": \"scatter\", \"uid\": \"32a58f35-f845-4154-aa9e-577478fe9327\", \"x\": [\"2019-10-17\", \"2019-10-18\"], \"y\": [5, 4]}, {\"marker\": {\"size\": 6}, \"mode\": \"lines+markers\", \"name\": \"Com. 48xP6\", \"text\": [\"ID 9 on this period\", \"ID 48 on this period\"], \"textfont\": {\"family\": \"Raleway, sans-serif\"}, \"textposition\": \"top center\", \"type\": \"scatter\", \"uid\": \"90851259-9aec-45e7-a551-dfa2d00e9de1\", \"x\": [\"2019-10-17\", \"2019-10-18\"], \"y\": [13, 4]}, {\"marker\": {\"size\": 6}, \"mode\": \"lines+markers\", \"name\": \"Com. 23xP7\", \"text\": [\"ID 0 on this period\", \"ID 24 on this period\", \"ID 23 on this period\"], \"textfont\": {\"family\": \"Raleway, sans-serif\"}, \"textposition\": \"top center\", \"type\": \"scatter\", \"uid\": \"605b294a-890b-4e18-b6a0-99f56f0cf9a9\", \"x\": [\"2019-10-17\", \"2019-10-18\", \"2019-10-19\"], \"y\": [67, 21, 6]}, {\"marker\": {\"size\": 6}, \"mode\": \"lines+markers\", \"name\": \"Com. 10xP7\", \"text\": [\"ID 30 on this period\", \"ID 10 on this period\"], \"textfont\": {\"family\": \"Raleway, sans-serif\"}, \"textposition\": \"top center\", \"type\": \"scatter\", \"uid\": \"9f469142-76cf-49bc-9ab5-16a4a7717b7d\", \"x\": [\"2019-10-18\", \"2019-10-19\"], \"y\": [4, 4]}, {\"marker\": {\"size\": 6}, \"mode\": \"lines+markers\", \"name\": \"Com. 34xP7\", \"text\": [\"ID 36 on this period\", \"ID 34 on this period\"], \"textfont\": {\"family\": \"Raleway, sans-serif\"}, \"textposition\": \"top center\", \"type\": \"scatter\", \"uid\": \"450dcb6d-bb5d-4ba1-81a9-24ea953f8368\", \"x\": [\"2019-10-18\", \"2019-10-19\"], \"y\": [6, 10]}, {\"marker\": {\"size\": 6}, \"mode\": \"lines+markers\", \"name\": \"Com. 11xP7\", \"text\": [\"ID 3 on this period\", \"ID 11 on this period\"], \"textfont\": {\"family\": \"Raleway, sans-serif\"}, \"textposition\": \"top center\", \"type\": \"scatter\", \"uid\": \"2a9ef544-82bb-4bb6-904d-ded6c103fe8a\", \"x\": [\"2019-10-18\", \"2019-10-19\"], \"y\": [56, 9]}, {\"marker\": {\"size\": 6}, \"mode\": \"lines+markers\", \"name\": \"Com. 30xP7\", \"text\": [\"ID 21 on this period\", \"ID 45 on this period\", \"ID 30 on this period\"], \"textfont\": {\"family\": \"Raleway, sans-serif\"}, \"textposition\": \"top center\", \"type\": \"scatter\", \"uid\": \"c252960d-3a96-4465-9a29-4ca792756f2a\", \"x\": [\"2019-10-17\", \"2019-10-18\", \"2019-10-19\"], \"y\": [4, 5, 6]}, {\"marker\": {\"size\": 6}, \"mode\": \"lines+markers\", \"name\": \"Com. 29xP7\", \"text\": [\"ID 4 on this period\", \"ID 29 on this period\"], \"textfont\": {\"family\": \"Raleway, sans-serif\"}, \"textposition\": \"top center\", \"type\": \"scatter\", \"uid\": \"b528ab75-8435-4834-9771-04998d5884e3\", \"x\": [\"2019-10-18\", \"2019-10-19\"], \"y\": [18, 3]}, {\"marker\": {\"size\": 6}, \"mode\": \"lines+markers\", \"name\": \"Com. 46xP7\", \"text\": [\"ID 8 on this period\", \"ID 46 on this period\"], \"textfont\": {\"family\": \"Raleway, sans-serif\"}, \"textposition\": \"top center\", \"type\": \"scatter\", \"uid\": \"ba64f68b-d823-435b-8a7f-8ba787498ebb\", \"x\": [\"2019-10-18\", \"2019-10-19\"], \"y\": [33, 5]}, {\"marker\": {\"size\": 6}, \"mode\": \"lines+markers\", \"name\": \"Com. 36xP8\", \"text\": [\"ID 12 on this period\", \"ID 36 on this period\"], \"textfont\": {\"family\": \"Raleway, sans-serif\"}, \"textposition\": \"top center\", \"type\": \"scatter\", \"uid\": \"b71e1e47-5c63-411d-ac04-2f1920f27835\", \"x\": [\"2019-10-19\", \"2019-10-20\"], \"y\": [12, 8]}, {\"marker\": {\"size\": 6}, \"mode\": \"lines+markers\", \"name\": \"Com. 54xP8\", \"text\": [\"ID 1 on this period\", \"ID 54 on this period\"], \"textfont\": {\"family\": \"Raleway, sans-serif\"}, \"textposition\": \"top center\", \"type\": \"scatter\", \"uid\": \"773c61ad-9d58-443a-8c43-af7c2b5d985b\", \"x\": [\"2019-10-19\", \"2019-10-20\"], \"y\": [9, 8]}, {\"marker\": {\"size\": 6}, \"mode\": \"lines+markers\", \"name\": \"Com. 7xP8\", \"text\": [\"ID 22 on this period\", \"ID 7 on this period\"], \"textfont\": {\"family\": \"Raleway, sans-serif\"}, \"textposition\": \"top center\", \"type\": \"scatter\", \"uid\": \"3bdb702c-aaa3-4d19-a192-baa920388d6f\", \"x\": [\"2019-10-19\", \"2019-10-20\"], \"y\": [17, 31]}, {\"marker\": {\"size\": 6}, \"mode\": \"lines+markers\", \"name\": \"Com. 39xP8\", \"text\": [\"ID 2 on this period\", \"ID 39 on this period\"], \"textfont\": {\"family\": \"Raleway, sans-serif\"}, \"textposition\": \"top center\", \"type\": \"scatter\", \"uid\": \"9758a9df-9055-48aa-a30e-41abfad1c9ca\", \"x\": [\"2019-10-19\", \"2019-10-20\"], \"y\": [42, 4]}, {\"marker\": {\"size\": 6}, \"mode\": \"lines+markers\", \"name\": \"Com. 42xP9\", \"text\": [\"ID 11 on this period\", \"ID 42 on this period\"], \"textfont\": {\"family\": \"Raleway, sans-serif\"}, \"textposition\": \"top center\", \"type\": \"scatter\", \"uid\": \"dd2b9637-9468-4188-93de-341e490ca9f5\", \"x\": [\"2019-10-20\", \"2019-10-21\"], \"y\": [57, 5]}, {\"marker\": {\"size\": 6}, \"mode\": \"lines+markers\", \"name\": \"Com. 0xP9\", \"text\": [\"ID 1 on this period\", \"ID 0 on this period\"], \"textfont\": {\"family\": \"Raleway, sans-serif\"}, \"textposition\": \"top center\", \"type\": \"scatter\", \"uid\": \"7984cbe3-7891-4ae0-a604-e98a9accafff\", \"x\": [\"2019-10-20\", \"2019-10-21\"], \"y\": [77, 302]}, {\"marker\": {\"size\": 6}, \"mode\": \"lines+markers\", \"name\": \"Com. 19xP9\", \"text\": [\"ID 2 on this period\", \"ID 19 on this period\"], \"textfont\": {\"family\": \"Raleway, sans-serif\"}, \"textposition\": \"top center\", \"type\": \"scatter\", \"uid\": \"e61fa1dd-f138-466b-844b-b34a32a9f1dd\", \"x\": [\"2019-10-20\", \"2019-10-21\"], \"y\": [51, 34]}, {\"marker\": {\"size\": 6}, \"mode\": \"lines+markers\", \"name\": \"Com. 55xP9\", \"text\": [\"ID 31 on this period\", \"ID 55 on this period\"], \"textfont\": {\"family\": \"Raleway, sans-serif\"}, \"textposition\": \"top center\", \"type\": \"scatter\", \"uid\": \"f45dbdfe-f9bd-4d34-aba2-fb6876e10ceb\", \"x\": [\"2019-10-20\", \"2019-10-21\"], \"y\": [6, 4]}, {\"marker\": {\"size\": 6}, \"mode\": \"lines+markers\", \"name\": \"Com. 38xP9\", \"text\": [\"ID 34 on this period\", \"ID 38 on this period\"], \"textfont\": {\"family\": \"Raleway, sans-serif\"}, \"textposition\": \"top center\", \"type\": \"scatter\", \"uid\": \"cbfce055-f199-486d-a383-538e949f899a\", \"x\": [\"2019-10-20\", \"2019-10-21\"], \"y\": [6, 4]}, {\"marker\": {\"size\": 6}, \"mode\": \"lines+markers\", \"name\": \"Com. 48xP9\", \"text\": [\"ID 3 on this period\", \"ID 48 on this period\"], \"textfont\": {\"family\": \"Raleway, sans-serif\"}, \"textposition\": \"top center\", \"type\": \"scatter\", \"uid\": \"8ddf1669-d268-4461-8bf6-34ebde6428d4\", \"x\": [\"2019-10-20\", \"2019-10-21\"], \"y\": [36, 4]}, {\"marker\": {\"size\": 6}, \"mode\": \"lines+markers\", \"name\": \"Com. 1xP9\", \"text\": [\"ID 4 on this period\", \"ID 1 on this period\"], \"textfont\": {\"family\": \"Raleway, sans-serif\"}, \"textposition\": \"top center\", \"type\": \"scatter\", \"uid\": \"6eaf38c2-f7a4-45f8-a343-e8093a694f13\", \"x\": [\"2019-10-20\", \"2019-10-21\"], \"y\": [36, 881]}, {\"marker\": {\"size\": 6}, \"mode\": \"lines+markers\", \"name\": \"Com. 16xP9\", \"text\": [\"ID 5 on this period\", \"ID 16 on this period\"], \"textfont\": {\"family\": \"Raleway, sans-serif\"}, \"textposition\": \"top center\", \"type\": \"scatter\", \"uid\": \"8923b8f6-1773-444d-b3d3-69f16d906879\", \"x\": [\"2019-10-20\", \"2019-10-21\"], \"y\": [24, 7]}],\n",
       "                        {},\n",
       "                        {\"showLink\": {\"xaxis\": {\"autorange\": true, \"title\": \"Period\"}, \"yaxis\": {\"autorange\": true, \"title\": \"Population size\"}, \"legend\": {\"y\": 0.5, \"yref\": \"paper\", \"font\": {\"family\": \"Arial, sans-serif\", \"size\": 20, \"color\": \"grey\"}}, \"title\": \"Population size\"}, \"linkText\": \"Export to plot.ly\", \"plotlyServerURL\": \"https://plot.ly\", \"responsive\": true}\n",
       "                    ).then(function(){\n",
       "                            \n",
       "var gd = document.getElementById('a71ee9ba-9c9c-4a83-b9d9-e0863472f843');\n",
       "var x = new MutationObserver(function (mutations, observer) {{\n",
       "        var display = window.getComputedStyle(gd).display;\n",
       "        if (!display || display === 'none') {{\n",
       "            console.log([gd, 'removed!']);\n",
       "            Plotly.purge(gd);\n",
       "            observer.disconnect();\n",
       "        }}\n",
       "}});\n",
       "\n",
       "// Listen for the removal of the full notebook cells\n",
       "var notebookContainer = gd.closest('#notebook-container');\n",
       "if (notebookContainer) {{\n",
       "    x.observe(notebookContainer, {childList: true});\n",
       "}}\n",
       "\n",
       "// Listen for the clearing of the current output cell\n",
       "var outputEl = gd.closest('.output');\n",
       "if (outputEl) {{\n",
       "    x.observe(outputEl, {childList: true});\n",
       "}}\n",
       "\n",
       "                        })\n",
       "                };\n",
       "                });\n",
       "            </script>\n",
       "        </div>"
      ]
     },
     "metadata": {},
     "output_type": "display_data"
    }
   ],
   "source": [
    "#configure_plotly_browser_state()\n",
    "population_size(matches, output=None, inline=True)"
   ]
  },
  {
   "cell_type": "markdown",
   "metadata": {},
   "source": [
    "#### Time rates\n",
    "\n",
    "For each community, get the partition time rate, i.e. ``part_rate = (P2.users & P1.users)/(P1.users)``, in order to plot over time."
   ]
  },
  {
   "cell_type": "code",
   "execution_count": 24,
   "metadata": {},
   "outputs": [
    {
     "data": {
      "application/vnd.plotly.v1+json": {
       "config": {
        "linkText": "Export to plot.ly",
        "plotlyServerURL": "https://plot.ly",
        "responsive": true,
        "showLink": {
         "showlegend": false,
         "title": "Time rate",
         "xaxis": {
          "autorange": true,
          "title": "Period"
         },
         "yaxis": {
          "autorange": true,
          "title": "Time rate"
         }
        }
       },
       "data": [
        {
         "marker": {
          "size": 6
         },
         "mode": "lines+markers",
         "name": "Com. 0xP1",
         "text": [
          "ID 0 on this period",
          "ID 0 on this period"
         ],
         "textfont": {
          "family": "Raleway, sans-serif"
         },
         "textposition": "top center",
         "type": "scatter",
         "uid": "e000b05d-64d6-41b2-b079-206390a6da13",
         "x": [
          "2019-10-12"
         ],
         "y": [
          0.14285714285714285
         ]
        },
        {
         "marker": {
          "size": 6
         },
         "mode": "lines+markers",
         "name": "Com. 49xP1",
         "text": [
          "ID 10 on this period",
          "ID 49 on this period"
         ],
         "textfont": {
          "family": "Raleway, sans-serif"
         },
         "textposition": "top center",
         "type": "scatter",
         "uid": "f4cd469d-4325-406b-8d44-718ba4f9db64",
         "x": [
          "2019-10-12"
         ],
         "y": [
          0.4
         ]
        },
        {
         "marker": {
          "size": 6
         },
         "mode": "lines+markers",
         "name": "Com. 50xP1",
         "text": [
          "ID 13 on this period",
          "ID 50 on this period"
         ],
         "textfont": {
          "family": "Raleway, sans-serif"
         },
         "textposition": "top center",
         "type": "scatter",
         "uid": "3a0ede4a-d6ec-43a7-bbbb-a35982626ae3",
         "x": [
          "2019-10-12"
         ],
         "y": [
          0.25
         ]
        },
        {
         "marker": {
          "size": 6
         },
         "mode": "lines+markers",
         "name": "Com. 6xP1",
         "text": [
          "ID 19 on this period",
          "ID 6 on this period"
         ],
         "textfont": {
          "family": "Raleway, sans-serif"
         },
         "textposition": "top center",
         "type": "scatter",
         "uid": "332bedd2-f263-42a0-9d37-a2b04ea32662",
         "x": [
          "2019-10-12"
         ],
         "y": [
          0.3333333333333333
         ]
        },
        {
         "marker": {
          "size": 6
         },
         "mode": "lines+markers",
         "name": "Com. 4xP1",
         "text": [
          "ID 22 on this period",
          "ID 4 on this period"
         ],
         "textfont": {
          "family": "Raleway, sans-serif"
         },
         "textposition": "top center",
         "type": "scatter",
         "uid": "cd99a3a6-270a-40b9-a44f-ea24e160c149",
         "x": [
          "2019-10-12"
         ],
         "y": [
          0.5
         ]
        },
        {
         "marker": {
          "size": 6
         },
         "mode": "lines+markers",
         "name": "Com. 26xP1",
         "text": [
          "ID 29 on this period",
          "ID 26 on this period"
         ],
         "textfont": {
          "family": "Raleway, sans-serif"
         },
         "textposition": "top center",
         "type": "scatter",
         "uid": "7f59d312-4c0c-4527-928b-91c1137a43d3",
         "x": [
          "2019-10-12"
         ],
         "y": [
          0.25
         ]
        },
        {
         "marker": {
          "size": 6
         },
         "mode": "lines+markers",
         "name": "Com. 40xP2",
         "text": [
          "ID 1 on this period",
          "ID 40 on this period"
         ],
         "textfont": {
          "family": "Raleway, sans-serif"
         },
         "textposition": "top center",
         "type": "scatter",
         "uid": "c6aa6bf2-d26c-49ca-ab1d-144473ebd9ef",
         "x": [
          "2019-10-13"
         ],
         "y": [
          0.005952380952380952
         ]
        },
        {
         "marker": {
          "size": 6
         },
         "mode": "lines+markers",
         "name": "Com. 18xP2",
         "text": [
          "ID 3 on this period",
          "ID 20 on this period",
          "ID 18 on this period"
         ],
         "textfont": {
          "family": "Raleway, sans-serif"
         },
         "textposition": "top center",
         "type": "scatter",
         "uid": "fec2fee8-5e63-4449-8daa-6772be8c414c",
         "x": [
          "2019-10-12",
          "2019-10-13"
         ],
         "y": [
          0.01694915254237288,
          0.04
         ]
        },
        {
         "marker": {
          "size": 6
         },
         "mode": "lines+markers",
         "name": "Com. 5xP2",
         "text": [
          "ID 23 on this period",
          "ID 5 on this period"
         ],
         "textfont": {
          "family": "Raleway, sans-serif"
         },
         "textposition": "top center",
         "type": "scatter",
         "uid": "d898e0ca-e825-4464-93f1-917d10a2c6b0",
         "x": [
          "2019-10-13"
         ],
         "y": [
          0.42857142857142855
         ]
        },
        {
         "marker": {
          "size": 6
         },
         "mode": "lines+markers",
         "name": "Com. 4xP2",
         "text": [
          "ID 37 on this period",
          "ID 4 on this period"
         ],
         "textfont": {
          "family": "Raleway, sans-serif"
         },
         "textposition": "top center",
         "type": "scatter",
         "uid": "58c23e8c-2493-42ff-9124-0d40e473c325",
         "x": [
          "2019-10-13"
         ],
         "y": [
          0.2857142857142857
         ]
        },
        {
         "marker": {
          "size": 6
         },
         "mode": "lines+markers",
         "name": "Com. 14xP2",
         "text": [
          "ID 70 on this period",
          "ID 14 on this period"
         ],
         "textfont": {
          "family": "Raleway, sans-serif"
         },
         "textposition": "top center",
         "type": "scatter",
         "uid": "55d1e533-1a72-4b6c-8173-da8d9623d84b",
         "x": [
          "2019-10-13"
         ],
         "y": [
          0.125
         ]
        },
        {
         "marker": {
          "size": 6
         },
         "mode": "lines+markers",
         "name": "Com. 7xP3",
         "text": [
          "ID 16 on this period",
          "ID 7 on this period"
         ],
         "textfont": {
          "family": "Raleway, sans-serif"
         },
         "textposition": "top center",
         "type": "scatter",
         "uid": "fadcb1c3-f7c9-448e-8e52-3b4adc8b814c",
         "x": [
          "2019-10-14"
         ],
         "y": [
          0.043478260869565216
         ]
        },
        {
         "marker": {
          "size": 6
         },
         "mode": "lines+markers",
         "name": "Com. 4xP3",
         "text": [
          "ID 2 on this period",
          "ID 4 on this period"
         ],
         "textfont": {
          "family": "Raleway, sans-serif"
         },
         "textposition": "top center",
         "type": "scatter",
         "uid": "68d2f84f-d097-48ca-9f80-c2f03765eb64",
         "x": [
          "2019-10-14"
         ],
         "y": [
          0.9807692307692307
         ]
        },
        {
         "marker": {
          "size": 6
         },
         "mode": "lines+markers",
         "name": "Com. 55xP3",
         "text": [
          "ID 13 on this period",
          "ID 35 on this period",
          "ID 55 on this period"
         ],
         "textfont": {
          "family": "Raleway, sans-serif"
         },
         "textposition": "top center",
         "type": "scatter",
         "uid": "daa1be72-c7d7-48e0-95cb-bd652f978457",
         "x": [
          "2019-10-13",
          "2019-10-14"
         ],
         "y": [
          0.0196078431372549,
          0.125
         ]
        },
        {
         "marker": {
          "size": 6
         },
         "mode": "lines+markers",
         "name": "Com. 15xP3",
         "text": [
          "ID 58 on this period",
          "ID 9 on this period",
          "ID 15 on this period"
         ],
         "textfont": {
          "family": "Raleway, sans-serif"
         },
         "textposition": "top center",
         "type": "scatter",
         "uid": "005ec4de-9233-4970-a9dc-68fa304eaaf3",
         "x": [
          "2019-10-13",
          "2019-10-14"
         ],
         "y": [
          0.14285714285714285,
          0.014084507042253521
         ]
        },
        {
         "marker": {
          "size": 6
         },
         "mode": "lines+markers",
         "name": "Com. 49xP4",
         "text": [
          "ID 17 on this period",
          "ID 49 on this period"
         ],
         "textfont": {
          "family": "Raleway, sans-serif"
         },
         "textposition": "top center",
         "type": "scatter",
         "uid": "77c5565b-adcc-4b90-9cd9-6dc173104950",
         "x": [
          "2019-10-15"
         ],
         "y": [
          0.016129032258064516
         ]
        },
        {
         "marker": {
          "size": 6
         },
         "mode": "lines+markers",
         "name": "Com. 75xP4",
         "text": [
          "ID 23 on this period",
          "ID 31 on this period",
          "ID 75 on this period"
         ],
         "textfont": {
          "family": "Raleway, sans-serif"
         },
         "textposition": "top center",
         "type": "scatter",
         "uid": "80754d8a-323b-4b0b-be9d-4e955f815d86",
         "x": [
          "2019-10-14",
          "2019-10-15"
         ],
         "y": [
          0.5,
          0.6666666666666666
         ]
        },
        {
         "marker": {
          "size": 6
         },
         "mode": "lines+markers",
         "name": "Com. 52xP4",
         "text": [
          "ID 15 on this period",
          "ID 34 on this period",
          "ID 52 on this period"
         ],
         "textfont": {
          "family": "Raleway, sans-serif"
         },
         "textposition": "top center",
         "type": "scatter",
         "uid": "9f582538-3611-4566-8d8f-a5b1cd539f5c",
         "x": [
          "2019-10-14",
          "2019-10-15"
         ],
         "y": [
          0.25,
          0.2857142857142857
         ]
        },
        {
         "marker": {
          "size": 6
         },
         "mode": "lines+markers",
         "name": "Com. 32xP4",
         "text": [
          "ID 48 on this period",
          "ID 32 on this period"
         ],
         "textfont": {
          "family": "Raleway, sans-serif"
         },
         "textposition": "top center",
         "type": "scatter",
         "uid": "b158ad0b-4e85-4e4a-8c42-c88d79888ede",
         "x": [
          "2019-10-15"
         ],
         "y": [
          0.07142857142857142
         ]
        },
        {
         "marker": {
          "size": 6
         },
         "mode": "lines+markers",
         "name": "Com. 4xP4",
         "text": [
          "ID 39 on this period",
          "ID 0 on this period",
          "ID 53 on this period",
          "ID 4 on this period"
         ],
         "textfont": {
          "family": "Raleway, sans-serif"
         },
         "textposition": "top center",
         "type": "scatter",
         "uid": "ace5fd33-da9a-44f9-910c-2dd40e870c5a",
         "x": [
          "2019-10-13",
          "2019-10-14",
          "2019-10-15"
         ],
         "y": [
          0.125,
          0.038461538461538464,
          0.08333333333333333
         ]
        },
        {
         "marker": {
          "size": 6
         },
         "mode": "lines+markers",
         "name": "Com. 21xP4",
         "text": [
          "ID 62 on this period",
          "ID 21 on this period"
         ],
         "textfont": {
          "family": "Raleway, sans-serif"
         },
         "textposition": "top center",
         "type": "scatter",
         "uid": "b58d8d20-1aa1-458f-a965-f67b3bd8810a",
         "x": [
          "2019-10-15"
         ],
         "y": [
          0.1
         ]
        },
        {
         "marker": {
          "size": 6
         },
         "mode": "lines+markers",
         "name": "Com. 37xP4",
         "text": [
          "ID 65 on this period",
          "ID 37 on this period"
         ],
         "textfont": {
          "family": "Raleway, sans-serif"
         },
         "textposition": "top center",
         "type": "scatter",
         "uid": "9ae04b14-6cdd-4c5a-b91e-2c6ab0600f53",
         "x": [
          "2019-10-15"
         ],
         "y": [
          0.1111111111111111
         ]
        },
        {
         "marker": {
          "size": 6
         },
         "mode": "lines+markers",
         "name": "Com. 8xP4",
         "text": [
          "ID 67 on this period",
          "ID 8 on this period"
         ],
         "textfont": {
          "family": "Raleway, sans-serif"
         },
         "textposition": "top center",
         "type": "scatter",
         "uid": "f9be1edf-e42e-4f94-b3bd-f858d7be34df",
         "x": [
          "2019-10-15"
         ],
         "y": [
          0.5
         ]
        },
        {
         "marker": {
          "size": 6
         },
         "mode": "lines+markers",
         "name": "Com. 13xP5",
         "text": [
          "ID 26 on this period",
          "ID 13 on this period"
         ],
         "textfont": {
          "family": "Raleway, sans-serif"
         },
         "textposition": "top center",
         "type": "scatter",
         "uid": "a71b741a-b9f3-4d64-8b61-b0556665b792",
         "x": [
          "2019-10-16"
         ],
         "y": [
          0.2
         ]
        },
        {
         "marker": {
          "size": 6
         },
         "mode": "lines+markers",
         "name": "Com. 35xP5",
         "text": [
          "ID 5 on this period",
          "ID 35 on this period"
         ],
         "textfont": {
          "family": "Raleway, sans-serif"
         },
         "textposition": "top center",
         "type": "scatter",
         "uid": "da3f71c0-c522-4ad4-b39b-9c6d346f97a9",
         "x": [
          "2019-10-16"
         ],
         "y": [
          0.05263157894736842
         ]
        },
        {
         "marker": {
          "size": 6
         },
         "mode": "lines+markers",
         "name": "Com. 75xP6",
         "text": [
          "ID 14 on this period",
          "ID 75 on this period"
         ],
         "textfont": {
          "family": "Raleway, sans-serif"
         },
         "textposition": "top center",
         "type": "scatter",
         "uid": "268f405c-d892-4c1f-8fec-183b120069fc",
         "x": [
          "2019-10-17"
         ],
         "y": [
          0.04
         ]
        },
        {
         "marker": {
          "size": 6
         },
         "mode": "lines+markers",
         "name": "Com. 1xP6",
         "text": [
          "ID 2 on this period",
          "ID 1 on this period"
         ],
         "textfont": {
          "family": "Raleway, sans-serif"
         },
         "textposition": "top center",
         "type": "scatter",
         "uid": "83c09128-4457-4c86-8402-0be869bd3609",
         "x": [
          "2019-10-17"
         ],
         "y": [
          0.047619047619047616
         ]
        },
        {
         "marker": {
          "size": 6
         },
         "mode": "lines+markers",
         "name": "Com. 39xP6",
         "text": [
          "ID 48 on this period",
          "ID 39 on this period"
         ],
         "textfont": {
          "family": "Raleway, sans-serif"
         },
         "textposition": "top center",
         "type": "scatter",
         "uid": "d138bcec-5977-466e-921c-562c3b11638a",
         "x": [
          "2019-10-17"
         ],
         "y": [
          0.1111111111111111
         ]
        },
        {
         "marker": {
          "size": 6
         },
         "mode": "lines+markers",
         "name": "Com. 9xP6",
         "text": [
          "ID 23 on this period",
          "ID 55 on this period",
          "ID 9 on this period"
         ],
         "textfont": {
          "family": "Raleway, sans-serif"
         },
         "textposition": "top center",
         "type": "scatter",
         "uid": "6d2563c4-8f9e-4174-a8fb-beefe6a1fddc",
         "x": [
          "2019-10-16",
          "2019-10-17"
         ],
         "y": [
          0.6,
          0.25
         ]
        },
        {
         "marker": {
          "size": 6
         },
         "mode": "lines+markers",
         "name": "Com. 2xP6",
         "text": [
          "ID 56 on this period",
          "ID 2 on this period"
         ],
         "textfont": {
          "family": "Raleway, sans-serif"
         },
         "textposition": "top center",
         "type": "scatter",
         "uid": "134c2819-91c6-49fd-94d0-41b81ec792c7",
         "x": [
          "2019-10-17"
         ],
         "y": [
          0.5
         ]
        },
        {
         "marker": {
          "size": 6
         },
         "mode": "lines+markers",
         "name": "Com. 20xP6",
         "text": [
          "ID 8 on this period",
          "ID 20 on this period"
         ],
         "textfont": {
          "family": "Raleway, sans-serif"
         },
         "textposition": "top center",
         "type": "scatter",
         "uid": "7127edfa-add9-4a87-a604-1ba0f37cbc18",
         "x": [
          "2019-10-17"
         ],
         "y": [
          0.6
         ]
        },
        {
         "marker": {
          "size": 6
         },
         "mode": "lines+markers",
         "name": "Com. 48xP6",
         "text": [
          "ID 9 on this period",
          "ID 48 on this period"
         ],
         "textfont": {
          "family": "Raleway, sans-serif"
         },
         "textposition": "top center",
         "type": "scatter",
         "uid": "53b5ad29-cd34-4453-9459-5c5666c710d7",
         "x": [
          "2019-10-17"
         ],
         "y": [
          0.07692307692307693
         ]
        },
        {
         "marker": {
          "size": 6
         },
         "mode": "lines+markers",
         "name": "Com. 23xP7",
         "text": [
          "ID 0 on this period",
          "ID 24 on this period",
          "ID 23 on this period"
         ],
         "textfont": {
          "family": "Raleway, sans-serif"
         },
         "textposition": "top center",
         "type": "scatter",
         "uid": "a4832633-e389-48db-926a-c75a664f4ddc",
         "x": [
          "2019-10-17",
          "2019-10-18"
         ],
         "y": [
          0.014925373134328358,
          0.047619047619047616
         ]
        },
        {
         "marker": {
          "size": 6
         },
         "mode": "lines+markers",
         "name": "Com. 10xP7",
         "text": [
          "ID 30 on this period",
          "ID 10 on this period"
         ],
         "textfont": {
          "family": "Raleway, sans-serif"
         },
         "textposition": "top center",
         "type": "scatter",
         "uid": "7168d721-5f77-46d8-a000-77793ab93c92",
         "x": [
          "2019-10-18"
         ],
         "y": [
          0.25
         ]
        },
        {
         "marker": {
          "size": 6
         },
         "mode": "lines+markers",
         "name": "Com. 34xP7",
         "text": [
          "ID 36 on this period",
          "ID 34 on this period"
         ],
         "textfont": {
          "family": "Raleway, sans-serif"
         },
         "textposition": "top center",
         "type": "scatter",
         "uid": "b22b8df4-7198-4660-9a89-fc168745c4b5",
         "x": [
          "2019-10-18"
         ],
         "y": [
          0.16666666666666666
         ]
        },
        {
         "marker": {
          "size": 6
         },
         "mode": "lines+markers",
         "name": "Com. 11xP7",
         "text": [
          "ID 3 on this period",
          "ID 11 on this period"
         ],
         "textfont": {
          "family": "Raleway, sans-serif"
         },
         "textposition": "top center",
         "type": "scatter",
         "uid": "9d65a18e-c718-4356-8a3e-b46dd0cfd15e",
         "x": [
          "2019-10-18"
         ],
         "y": [
          0.03571428571428571
         ]
        },
        {
         "marker": {
          "size": 6
         },
         "mode": "lines+markers",
         "name": "Com. 30xP7",
         "text": [
          "ID 21 on this period",
          "ID 45 on this period",
          "ID 30 on this period"
         ],
         "textfont": {
          "family": "Raleway, sans-serif"
         },
         "textposition": "top center",
         "type": "scatter",
         "uid": "21a02f5c-b13c-48f0-b857-7136c898ca97",
         "x": [
          "2019-10-17",
          "2019-10-18"
         ],
         "y": [
          0.5,
          0.4
         ]
        },
        {
         "marker": {
          "size": 6
         },
         "mode": "lines+markers",
         "name": "Com. 29xP7",
         "text": [
          "ID 4 on this period",
          "ID 29 on this period"
         ],
         "textfont": {
          "family": "Raleway, sans-serif"
         },
         "textposition": "top center",
         "type": "scatter",
         "uid": "a0d2dc71-7133-484b-a547-1b6d7befb7db",
         "x": [
          "2019-10-18"
         ],
         "y": [
          0.05555555555555555
         ]
        },
        {
         "marker": {
          "size": 6
         },
         "mode": "lines+markers",
         "name": "Com. 46xP7",
         "text": [
          "ID 8 on this period",
          "ID 46 on this period"
         ],
         "textfont": {
          "family": "Raleway, sans-serif"
         },
         "textposition": "top center",
         "type": "scatter",
         "uid": "b83dfd65-8c17-447c-a9bb-9cae81e0e909",
         "x": [
          "2019-10-18"
         ],
         "y": [
          0.030303030303030304
         ]
        },
        {
         "marker": {
          "size": 6
         },
         "mode": "lines+markers",
         "name": "Com. 36xP8",
         "text": [
          "ID 12 on this period",
          "ID 36 on this period"
         ],
         "textfont": {
          "family": "Raleway, sans-serif"
         },
         "textposition": "top center",
         "type": "scatter",
         "uid": "f5571001-0f80-4956-b6d2-7d212da82e67",
         "x": [
          "2019-10-19"
         ],
         "y": [
          0.08333333333333333
         ]
        },
        {
         "marker": {
          "size": 6
         },
         "mode": "lines+markers",
         "name": "Com. 54xP8",
         "text": [
          "ID 1 on this period",
          "ID 54 on this period"
         ],
         "textfont": {
          "family": "Raleway, sans-serif"
         },
         "textposition": "top center",
         "type": "scatter",
         "uid": "1699a4ea-d115-499e-9484-387be2b417ff",
         "x": [
          "2019-10-19"
         ],
         "y": [
          0.8888888888888888
         ]
        },
        {
         "marker": {
          "size": 6
         },
         "mode": "lines+markers",
         "name": "Com. 7xP8",
         "text": [
          "ID 22 on this period",
          "ID 7 on this period"
         ],
         "textfont": {
          "family": "Raleway, sans-serif"
         },
         "textposition": "top center",
         "type": "scatter",
         "uid": "cac9fb1e-78a5-4f75-a1a9-0fb2d628d41c",
         "x": [
          "2019-10-19"
         ],
         "y": [
          0.058823529411764705
         ]
        },
        {
         "marker": {
          "size": 6
         },
         "mode": "lines+markers",
         "name": "Com. 39xP8",
         "text": [
          "ID 2 on this period",
          "ID 39 on this period"
         ],
         "textfont": {
          "family": "Raleway, sans-serif"
         },
         "textposition": "top center",
         "type": "scatter",
         "uid": "049f9b0b-2a61-43f3-be0e-eaa71da67414",
         "x": [
          "2019-10-19"
         ],
         "y": [
          0.023809523809523808
         ]
        },
        {
         "marker": {
          "size": 6
         },
         "mode": "lines+markers",
         "name": "Com. 42xP9",
         "text": [
          "ID 11 on this period",
          "ID 42 on this period"
         ],
         "textfont": {
          "family": "Raleway, sans-serif"
         },
         "textposition": "top center",
         "type": "scatter",
         "uid": "00bc6007-6530-408a-973d-e7bb6017b3ba",
         "x": [
          "2019-10-20"
         ],
         "y": [
          0.017543859649122806
         ]
        },
        {
         "marker": {
          "size": 6
         },
         "mode": "lines+markers",
         "name": "Com. 0xP9",
         "text": [
          "ID 1 on this period",
          "ID 0 on this period"
         ],
         "textfont": {
          "family": "Raleway, sans-serif"
         },
         "textposition": "top center",
         "type": "scatter",
         "uid": "1b595ca0-6c55-4da7-bc40-75c02c800788",
         "x": [
          "2019-10-20"
         ],
         "y": [
          0.012987012987012988
         ]
        },
        {
         "marker": {
          "size": 6
         },
         "mode": "lines+markers",
         "name": "Com. 19xP9",
         "text": [
          "ID 2 on this period",
          "ID 19 on this period"
         ],
         "textfont": {
          "family": "Raleway, sans-serif"
         },
         "textposition": "top center",
         "type": "scatter",
         "uid": "a5065013-b17e-4041-8e34-e1e8278829bb",
         "x": [
          "2019-10-20"
         ],
         "y": [
          0.0196078431372549
         ]
        },
        {
         "marker": {
          "size": 6
         },
         "mode": "lines+markers",
         "name": "Com. 55xP9",
         "text": [
          "ID 31 on this period",
          "ID 55 on this period"
         ],
         "textfont": {
          "family": "Raleway, sans-serif"
         },
         "textposition": "top center",
         "type": "scatter",
         "uid": "d46f28ac-3601-4a33-a3ef-9652ec49a529",
         "x": [
          "2019-10-20"
         ],
         "y": [
          0.16666666666666666
         ]
        },
        {
         "marker": {
          "size": 6
         },
         "mode": "lines+markers",
         "name": "Com. 38xP9",
         "text": [
          "ID 34 on this period",
          "ID 38 on this period"
         ],
         "textfont": {
          "family": "Raleway, sans-serif"
         },
         "textposition": "top center",
         "type": "scatter",
         "uid": "f297dda9-537f-4171-a5e4-5bc8b13ca422",
         "x": [
          "2019-10-20"
         ],
         "y": [
          0.3333333333333333
         ]
        },
        {
         "marker": {
          "size": 6
         },
         "mode": "lines+markers",
         "name": "Com. 48xP9",
         "text": [
          "ID 3 on this period",
          "ID 48 on this period"
         ],
         "textfont": {
          "family": "Raleway, sans-serif"
         },
         "textposition": "top center",
         "type": "scatter",
         "uid": "69f32c1c-22bb-4254-a87c-be7f9b3a2a86",
         "x": [
          "2019-10-20"
         ],
         "y": [
          0.027777777777777776
         ]
        },
        {
         "marker": {
          "size": 6
         },
         "mode": "lines+markers",
         "name": "Com. 1xP9",
         "text": [
          "ID 4 on this period",
          "ID 1 on this period"
         ],
         "textfont": {
          "family": "Raleway, sans-serif"
         },
         "textposition": "top center",
         "type": "scatter",
         "uid": "d4858e36-c51d-4ba3-8c4d-52233a796ddc",
         "x": [
          "2019-10-20"
         ],
         "y": [
          0.027777777777777776
         ]
        },
        {
         "marker": {
          "size": 6
         },
         "mode": "lines+markers",
         "name": "Com. 16xP9",
         "text": [
          "ID 5 on this period",
          "ID 16 on this period"
         ],
         "textfont": {
          "family": "Raleway, sans-serif"
         },
         "textposition": "top center",
         "type": "scatter",
         "uid": "aa305eec-10b3-40c8-ae42-31c8358acfe7",
         "x": [
          "2019-10-20"
         ],
         "y": [
          0.041666666666666664
         ]
        }
       ],
       "layout": {}
      },
      "text/html": [
       "<div>\n",
       "        \n",
       "        \n",
       "            <div id=\"211bc308-8dc3-4d8f-af77-30462d5e3b51\" class=\"plotly-graph-div\" style=\"height:525px; width:100%;\"></div>\n",
       "            <script type=\"text/javascript\">\n",
       "                require([\"plotly\"], function(Plotly) {\n",
       "                    window.PLOTLYENV=window.PLOTLYENV || {};\n",
       "                    window.PLOTLYENV.BASE_URL='https://plot.ly';\n",
       "                    \n",
       "                if (document.getElementById(\"211bc308-8dc3-4d8f-af77-30462d5e3b51\")) {\n",
       "                    Plotly.newPlot(\n",
       "                        '211bc308-8dc3-4d8f-af77-30462d5e3b51',\n",
       "                        [{\"marker\": {\"size\": 6}, \"mode\": \"lines+markers\", \"name\": \"Com. 0xP1\", \"text\": [\"ID 0 on this period\", \"ID 0 on this period\"], \"textfont\": {\"family\": \"Raleway, sans-serif\"}, \"textposition\": \"top center\", \"type\": \"scatter\", \"uid\": \"246e3180-018e-4488-9b2b-6d3c0d00374d\", \"x\": [\"2019-10-12\"], \"y\": [0.14285714285714285]}, {\"marker\": {\"size\": 6}, \"mode\": \"lines+markers\", \"name\": \"Com. 49xP1\", \"text\": [\"ID 10 on this period\", \"ID 49 on this period\"], \"textfont\": {\"family\": \"Raleway, sans-serif\"}, \"textposition\": \"top center\", \"type\": \"scatter\", \"uid\": \"0040904d-3f03-497d-b14c-07d542793b95\", \"x\": [\"2019-10-12\"], \"y\": [0.4]}, {\"marker\": {\"size\": 6}, \"mode\": \"lines+markers\", \"name\": \"Com. 50xP1\", \"text\": [\"ID 13 on this period\", \"ID 50 on this period\"], \"textfont\": {\"family\": \"Raleway, sans-serif\"}, \"textposition\": \"top center\", \"type\": \"scatter\", \"uid\": \"e1e74ddd-4085-4e73-aae8-d993261cf66e\", \"x\": [\"2019-10-12\"], \"y\": [0.25]}, {\"marker\": {\"size\": 6}, \"mode\": \"lines+markers\", \"name\": \"Com. 6xP1\", \"text\": [\"ID 19 on this period\", \"ID 6 on this period\"], \"textfont\": {\"family\": \"Raleway, sans-serif\"}, \"textposition\": \"top center\", \"type\": \"scatter\", \"uid\": \"2d3d0781-d44f-42ab-a1b7-9fee548b5f0c\", \"x\": [\"2019-10-12\"], \"y\": [0.3333333333333333]}, {\"marker\": {\"size\": 6}, \"mode\": \"lines+markers\", \"name\": \"Com. 4xP1\", \"text\": [\"ID 22 on this period\", \"ID 4 on this period\"], \"textfont\": {\"family\": \"Raleway, sans-serif\"}, \"textposition\": \"top center\", \"type\": \"scatter\", \"uid\": \"9d53138f-3518-4198-bcde-158cee4cd21e\", \"x\": [\"2019-10-12\"], \"y\": [0.5]}, {\"marker\": {\"size\": 6}, \"mode\": \"lines+markers\", \"name\": \"Com. 26xP1\", \"text\": [\"ID 29 on this period\", \"ID 26 on this period\"], \"textfont\": {\"family\": \"Raleway, sans-serif\"}, \"textposition\": \"top center\", \"type\": \"scatter\", \"uid\": \"d4bfde5d-0945-4742-bf54-f2fe40cb48a2\", \"x\": [\"2019-10-12\"], \"y\": [0.25]}, {\"marker\": {\"size\": 6}, \"mode\": \"lines+markers\", \"name\": \"Com. 40xP2\", \"text\": [\"ID 1 on this period\", \"ID 40 on this period\"], \"textfont\": {\"family\": \"Raleway, sans-serif\"}, \"textposition\": \"top center\", \"type\": \"scatter\", \"uid\": \"b7e43dc3-1265-496a-a7a0-d84906943ad2\", \"x\": [\"2019-10-13\"], \"y\": [0.005952380952380952]}, {\"marker\": {\"size\": 6}, \"mode\": \"lines+markers\", \"name\": \"Com. 18xP2\", \"text\": [\"ID 3 on this period\", \"ID 20 on this period\", \"ID 18 on this period\"], \"textfont\": {\"family\": \"Raleway, sans-serif\"}, \"textposition\": \"top center\", \"type\": \"scatter\", \"uid\": \"ed49d387-e7db-4548-b1c0-8fb83c0bf56d\", \"x\": [\"2019-10-12\", \"2019-10-13\"], \"y\": [0.01694915254237288, 0.04]}, {\"marker\": {\"size\": 6}, \"mode\": \"lines+markers\", \"name\": \"Com. 5xP2\", \"text\": [\"ID 23 on this period\", \"ID 5 on this period\"], \"textfont\": {\"family\": \"Raleway, sans-serif\"}, \"textposition\": \"top center\", \"type\": \"scatter\", \"uid\": \"3821d6a6-8fe0-4a84-98e6-cf58011faec4\", \"x\": [\"2019-10-13\"], \"y\": [0.42857142857142855]}, {\"marker\": {\"size\": 6}, \"mode\": \"lines+markers\", \"name\": \"Com. 4xP2\", \"text\": [\"ID 37 on this period\", \"ID 4 on this period\"], \"textfont\": {\"family\": \"Raleway, sans-serif\"}, \"textposition\": \"top center\", \"type\": \"scatter\", \"uid\": \"64792a72-0c7f-47a8-a809-49a603fc77d5\", \"x\": [\"2019-10-13\"], \"y\": [0.2857142857142857]}, {\"marker\": {\"size\": 6}, \"mode\": \"lines+markers\", \"name\": \"Com. 14xP2\", \"text\": [\"ID 70 on this period\", \"ID 14 on this period\"], \"textfont\": {\"family\": \"Raleway, sans-serif\"}, \"textposition\": \"top center\", \"type\": \"scatter\", \"uid\": \"08d77cce-3ecb-4bf9-8b4d-f6ec35fefb51\", \"x\": [\"2019-10-13\"], \"y\": [0.125]}, {\"marker\": {\"size\": 6}, \"mode\": \"lines+markers\", \"name\": \"Com. 7xP3\", \"text\": [\"ID 16 on this period\", \"ID 7 on this period\"], \"textfont\": {\"family\": \"Raleway, sans-serif\"}, \"textposition\": \"top center\", \"type\": \"scatter\", \"uid\": \"f980f9fe-749c-4e62-9ad5-a3e7a30d8a75\", \"x\": [\"2019-10-14\"], \"y\": [0.043478260869565216]}, {\"marker\": {\"size\": 6}, \"mode\": \"lines+markers\", \"name\": \"Com. 4xP3\", \"text\": [\"ID 2 on this period\", \"ID 4 on this period\"], \"textfont\": {\"family\": \"Raleway, sans-serif\"}, \"textposition\": \"top center\", \"type\": \"scatter\", \"uid\": \"c4e0e577-48ff-47a4-9080-a1d8f0ea9207\", \"x\": [\"2019-10-14\"], \"y\": [0.9807692307692307]}, {\"marker\": {\"size\": 6}, \"mode\": \"lines+markers\", \"name\": \"Com. 55xP3\", \"text\": [\"ID 13 on this period\", \"ID 35 on this period\", \"ID 55 on this period\"], \"textfont\": {\"family\": \"Raleway, sans-serif\"}, \"textposition\": \"top center\", \"type\": \"scatter\", \"uid\": \"8f1a4344-3748-42b2-892d-4bac50c0d594\", \"x\": [\"2019-10-13\", \"2019-10-14\"], \"y\": [0.0196078431372549, 0.125]}, {\"marker\": {\"size\": 6}, \"mode\": \"lines+markers\", \"name\": \"Com. 15xP3\", \"text\": [\"ID 58 on this period\", \"ID 9 on this period\", \"ID 15 on this period\"], \"textfont\": {\"family\": \"Raleway, sans-serif\"}, \"textposition\": \"top center\", \"type\": \"scatter\", \"uid\": \"5856a851-8afe-4227-b80a-2635aef27aab\", \"x\": [\"2019-10-13\", \"2019-10-14\"], \"y\": [0.14285714285714285, 0.014084507042253521]}, {\"marker\": {\"size\": 6}, \"mode\": \"lines+markers\", \"name\": \"Com. 49xP4\", \"text\": [\"ID 17 on this period\", \"ID 49 on this period\"], \"textfont\": {\"family\": \"Raleway, sans-serif\"}, \"textposition\": \"top center\", \"type\": \"scatter\", \"uid\": \"3c2b8c14-9a12-4d59-9b02-c0cf0197be0e\", \"x\": [\"2019-10-15\"], \"y\": [0.016129032258064516]}, {\"marker\": {\"size\": 6}, \"mode\": \"lines+markers\", \"name\": \"Com. 75xP4\", \"text\": [\"ID 23 on this period\", \"ID 31 on this period\", \"ID 75 on this period\"], \"textfont\": {\"family\": \"Raleway, sans-serif\"}, \"textposition\": \"top center\", \"type\": \"scatter\", \"uid\": \"ff0dab11-5742-4d7c-90b2-86e563c59b2d\", \"x\": [\"2019-10-14\", \"2019-10-15\"], \"y\": [0.5, 0.6666666666666666]}, {\"marker\": {\"size\": 6}, \"mode\": \"lines+markers\", \"name\": \"Com. 52xP4\", \"text\": [\"ID 15 on this period\", \"ID 34 on this period\", \"ID 52 on this period\"], \"textfont\": {\"family\": \"Raleway, sans-serif\"}, \"textposition\": \"top center\", \"type\": \"scatter\", \"uid\": \"37b65e39-7a8b-4863-825a-25776c7a76ed\", \"x\": [\"2019-10-14\", \"2019-10-15\"], \"y\": [0.25, 0.2857142857142857]}, {\"marker\": {\"size\": 6}, \"mode\": \"lines+markers\", \"name\": \"Com. 32xP4\", \"text\": [\"ID 48 on this period\", \"ID 32 on this period\"], \"textfont\": {\"family\": \"Raleway, sans-serif\"}, \"textposition\": \"top center\", \"type\": \"scatter\", \"uid\": \"75f98079-f450-422e-ab34-cba3f5b48d07\", \"x\": [\"2019-10-15\"], \"y\": [0.07142857142857142]}, {\"marker\": {\"size\": 6}, \"mode\": \"lines+markers\", \"name\": \"Com. 4xP4\", \"text\": [\"ID 39 on this period\", \"ID 0 on this period\", \"ID 53 on this period\", \"ID 4 on this period\"], \"textfont\": {\"family\": \"Raleway, sans-serif\"}, \"textposition\": \"top center\", \"type\": \"scatter\", \"uid\": \"5f458974-3c45-416c-aa21-b7799b6f789b\", \"x\": [\"2019-10-13\", \"2019-10-14\", \"2019-10-15\"], \"y\": [0.125, 0.038461538461538464, 0.08333333333333333]}, {\"marker\": {\"size\": 6}, \"mode\": \"lines+markers\", \"name\": \"Com. 21xP4\", \"text\": [\"ID 62 on this period\", \"ID 21 on this period\"], \"textfont\": {\"family\": \"Raleway, sans-serif\"}, \"textposition\": \"top center\", \"type\": \"scatter\", \"uid\": \"657c49eb-35ed-40e3-a2ac-2664756354a2\", \"x\": [\"2019-10-15\"], \"y\": [0.1]}, {\"marker\": {\"size\": 6}, \"mode\": \"lines+markers\", \"name\": \"Com. 37xP4\", \"text\": [\"ID 65 on this period\", \"ID 37 on this period\"], \"textfont\": {\"family\": \"Raleway, sans-serif\"}, \"textposition\": \"top center\", \"type\": \"scatter\", \"uid\": \"521f6056-8525-4f7a-9512-ca1eb71a0d28\", \"x\": [\"2019-10-15\"], \"y\": [0.1111111111111111]}, {\"marker\": {\"size\": 6}, \"mode\": \"lines+markers\", \"name\": \"Com. 8xP4\", \"text\": [\"ID 67 on this period\", \"ID 8 on this period\"], \"textfont\": {\"family\": \"Raleway, sans-serif\"}, \"textposition\": \"top center\", \"type\": \"scatter\", \"uid\": \"24d93ba3-65ad-44ce-8b40-221612642383\", \"x\": [\"2019-10-15\"], \"y\": [0.5]}, {\"marker\": {\"size\": 6}, \"mode\": \"lines+markers\", \"name\": \"Com. 13xP5\", \"text\": [\"ID 26 on this period\", \"ID 13 on this period\"], \"textfont\": {\"family\": \"Raleway, sans-serif\"}, \"textposition\": \"top center\", \"type\": \"scatter\", \"uid\": \"c44aa00d-1e1c-4765-89e0-51d2e04fbb16\", \"x\": [\"2019-10-16\"], \"y\": [0.2]}, {\"marker\": {\"size\": 6}, \"mode\": \"lines+markers\", \"name\": \"Com. 35xP5\", \"text\": [\"ID 5 on this period\", \"ID 35 on this period\"], \"textfont\": {\"family\": \"Raleway, sans-serif\"}, \"textposition\": \"top center\", \"type\": \"scatter\", \"uid\": \"1c3d68fc-80d9-4a8f-809a-01783de07c49\", \"x\": [\"2019-10-16\"], \"y\": [0.05263157894736842]}, {\"marker\": {\"size\": 6}, \"mode\": \"lines+markers\", \"name\": \"Com. 75xP6\", \"text\": [\"ID 14 on this period\", \"ID 75 on this period\"], \"textfont\": {\"family\": \"Raleway, sans-serif\"}, \"textposition\": \"top center\", \"type\": \"scatter\", \"uid\": \"3bcdb6ed-e234-43a2-84f7-a5e4683896b9\", \"x\": [\"2019-10-17\"], \"y\": [0.04]}, {\"marker\": {\"size\": 6}, \"mode\": \"lines+markers\", \"name\": \"Com. 1xP6\", \"text\": [\"ID 2 on this period\", \"ID 1 on this period\"], \"textfont\": {\"family\": \"Raleway, sans-serif\"}, \"textposition\": \"top center\", \"type\": \"scatter\", \"uid\": \"539f4d02-8d4c-4241-a1c7-7e02128f48c3\", \"x\": [\"2019-10-17\"], \"y\": [0.047619047619047616]}, {\"marker\": {\"size\": 6}, \"mode\": \"lines+markers\", \"name\": \"Com. 39xP6\", \"text\": [\"ID 48 on this period\", \"ID 39 on this period\"], \"textfont\": {\"family\": \"Raleway, sans-serif\"}, \"textposition\": \"top center\", \"type\": \"scatter\", \"uid\": \"ffe53c6c-d506-407d-a896-5f10668311b6\", \"x\": [\"2019-10-17\"], \"y\": [0.1111111111111111]}, {\"marker\": {\"size\": 6}, \"mode\": \"lines+markers\", \"name\": \"Com. 9xP6\", \"text\": [\"ID 23 on this period\", \"ID 55 on this period\", \"ID 9 on this period\"], \"textfont\": {\"family\": \"Raleway, sans-serif\"}, \"textposition\": \"top center\", \"type\": \"scatter\", \"uid\": \"5d0c375a-72b3-4732-b77a-db9e3f7d8c82\", \"x\": [\"2019-10-16\", \"2019-10-17\"], \"y\": [0.6, 0.25]}, {\"marker\": {\"size\": 6}, \"mode\": \"lines+markers\", \"name\": \"Com. 2xP6\", \"text\": [\"ID 56 on this period\", \"ID 2 on this period\"], \"textfont\": {\"family\": \"Raleway, sans-serif\"}, \"textposition\": \"top center\", \"type\": \"scatter\", \"uid\": \"8a1d64bc-6263-421b-898e-7c7f272cc981\", \"x\": [\"2019-10-17\"], \"y\": [0.5]}, {\"marker\": {\"size\": 6}, \"mode\": \"lines+markers\", \"name\": \"Com. 20xP6\", \"text\": [\"ID 8 on this period\", \"ID 20 on this period\"], \"textfont\": {\"family\": \"Raleway, sans-serif\"}, \"textposition\": \"top center\", \"type\": \"scatter\", \"uid\": \"2ba20364-3766-44ca-bdb3-c73cd1d8b7b3\", \"x\": [\"2019-10-17\"], \"y\": [0.6]}, {\"marker\": {\"size\": 6}, \"mode\": \"lines+markers\", \"name\": \"Com. 48xP6\", \"text\": [\"ID 9 on this period\", \"ID 48 on this period\"], \"textfont\": {\"family\": \"Raleway, sans-serif\"}, \"textposition\": \"top center\", \"type\": \"scatter\", \"uid\": \"e49bb999-3ad6-4ca6-bc00-4b60deb7e8c1\", \"x\": [\"2019-10-17\"], \"y\": [0.07692307692307693]}, {\"marker\": {\"size\": 6}, \"mode\": \"lines+markers\", \"name\": \"Com. 23xP7\", \"text\": [\"ID 0 on this period\", \"ID 24 on this period\", \"ID 23 on this period\"], \"textfont\": {\"family\": \"Raleway, sans-serif\"}, \"textposition\": \"top center\", \"type\": \"scatter\", \"uid\": \"227f0c0c-1add-418a-b1d3-f2b59c16b996\", \"x\": [\"2019-10-17\", \"2019-10-18\"], \"y\": [0.014925373134328358, 0.047619047619047616]}, {\"marker\": {\"size\": 6}, \"mode\": \"lines+markers\", \"name\": \"Com. 10xP7\", \"text\": [\"ID 30 on this period\", \"ID 10 on this period\"], \"textfont\": {\"family\": \"Raleway, sans-serif\"}, \"textposition\": \"top center\", \"type\": \"scatter\", \"uid\": \"68336a4c-1acc-4d2e-be5c-e01c5efa4edb\", \"x\": [\"2019-10-18\"], \"y\": [0.25]}, {\"marker\": {\"size\": 6}, \"mode\": \"lines+markers\", \"name\": \"Com. 34xP7\", \"text\": [\"ID 36 on this period\", \"ID 34 on this period\"], \"textfont\": {\"family\": \"Raleway, sans-serif\"}, \"textposition\": \"top center\", \"type\": \"scatter\", \"uid\": \"ef2b30c7-2e52-48cd-8cec-8260da041f71\", \"x\": [\"2019-10-18\"], \"y\": [0.16666666666666666]}, {\"marker\": {\"size\": 6}, \"mode\": \"lines+markers\", \"name\": \"Com. 11xP7\", \"text\": [\"ID 3 on this period\", \"ID 11 on this period\"], \"textfont\": {\"family\": \"Raleway, sans-serif\"}, \"textposition\": \"top center\", \"type\": \"scatter\", \"uid\": \"f5d32b4b-f687-4fdb-9d9c-6f743abbcd52\", \"x\": [\"2019-10-18\"], \"y\": [0.03571428571428571]}, {\"marker\": {\"size\": 6}, \"mode\": \"lines+markers\", \"name\": \"Com. 30xP7\", \"text\": [\"ID 21 on this period\", \"ID 45 on this period\", \"ID 30 on this period\"], \"textfont\": {\"family\": \"Raleway, sans-serif\"}, \"textposition\": \"top center\", \"type\": \"scatter\", \"uid\": \"57b3e4a0-fab1-45d5-be40-e5289277ff6d\", \"x\": [\"2019-10-17\", \"2019-10-18\"], \"y\": [0.5, 0.4]}, {\"marker\": {\"size\": 6}, \"mode\": \"lines+markers\", \"name\": \"Com. 29xP7\", \"text\": [\"ID 4 on this period\", \"ID 29 on this period\"], \"textfont\": {\"family\": \"Raleway, sans-serif\"}, \"textposition\": \"top center\", \"type\": \"scatter\", \"uid\": \"d5d530b6-5642-4056-8e61-966115ed685c\", \"x\": [\"2019-10-18\"], \"y\": [0.05555555555555555]}, {\"marker\": {\"size\": 6}, \"mode\": \"lines+markers\", \"name\": \"Com. 46xP7\", \"text\": [\"ID 8 on this period\", \"ID 46 on this period\"], \"textfont\": {\"family\": \"Raleway, sans-serif\"}, \"textposition\": \"top center\", \"type\": \"scatter\", \"uid\": \"813ebc18-1198-42ff-a50a-9b89824c0c7d\", \"x\": [\"2019-10-18\"], \"y\": [0.030303030303030304]}, {\"marker\": {\"size\": 6}, \"mode\": \"lines+markers\", \"name\": \"Com. 36xP8\", \"text\": [\"ID 12 on this period\", \"ID 36 on this period\"], \"textfont\": {\"family\": \"Raleway, sans-serif\"}, \"textposition\": \"top center\", \"type\": \"scatter\", \"uid\": \"9184da63-a6d5-48ad-9dec-ff113d9265ee\", \"x\": [\"2019-10-19\"], \"y\": [0.08333333333333333]}, {\"marker\": {\"size\": 6}, \"mode\": \"lines+markers\", \"name\": \"Com. 54xP8\", \"text\": [\"ID 1 on this period\", \"ID 54 on this period\"], \"textfont\": {\"family\": \"Raleway, sans-serif\"}, \"textposition\": \"top center\", \"type\": \"scatter\", \"uid\": \"c4e62795-f607-4766-9e5d-883437cdfae7\", \"x\": [\"2019-10-19\"], \"y\": [0.8888888888888888]}, {\"marker\": {\"size\": 6}, \"mode\": \"lines+markers\", \"name\": \"Com. 7xP8\", \"text\": [\"ID 22 on this period\", \"ID 7 on this period\"], \"textfont\": {\"family\": \"Raleway, sans-serif\"}, \"textposition\": \"top center\", \"type\": \"scatter\", \"uid\": \"253075b8-900e-4235-b060-020ba25baa99\", \"x\": [\"2019-10-19\"], \"y\": [0.058823529411764705]}, {\"marker\": {\"size\": 6}, \"mode\": \"lines+markers\", \"name\": \"Com. 39xP8\", \"text\": [\"ID 2 on this period\", \"ID 39 on this period\"], \"textfont\": {\"family\": \"Raleway, sans-serif\"}, \"textposition\": \"top center\", \"type\": \"scatter\", \"uid\": \"af0b36d8-68fb-4e3b-8165-68383739ab83\", \"x\": [\"2019-10-19\"], \"y\": [0.023809523809523808]}, {\"marker\": {\"size\": 6}, \"mode\": \"lines+markers\", \"name\": \"Com. 42xP9\", \"text\": [\"ID 11 on this period\", \"ID 42 on this period\"], \"textfont\": {\"family\": \"Raleway, sans-serif\"}, \"textposition\": \"top center\", \"type\": \"scatter\", \"uid\": \"e259d250-983e-4777-957b-e5618febe162\", \"x\": [\"2019-10-20\"], \"y\": [0.017543859649122806]}, {\"marker\": {\"size\": 6}, \"mode\": \"lines+markers\", \"name\": \"Com. 0xP9\", \"text\": [\"ID 1 on this period\", \"ID 0 on this period\"], \"textfont\": {\"family\": \"Raleway, sans-serif\"}, \"textposition\": \"top center\", \"type\": \"scatter\", \"uid\": \"880bfb9b-d78d-4f92-81c0-9f07785e74e3\", \"x\": [\"2019-10-20\"], \"y\": [0.012987012987012988]}, {\"marker\": {\"size\": 6}, \"mode\": \"lines+markers\", \"name\": \"Com. 19xP9\", \"text\": [\"ID 2 on this period\", \"ID 19 on this period\"], \"textfont\": {\"family\": \"Raleway, sans-serif\"}, \"textposition\": \"top center\", \"type\": \"scatter\", \"uid\": \"b3d07d7d-5428-4ca9-9406-85da0ad3cbe5\", \"x\": [\"2019-10-20\"], \"y\": [0.0196078431372549]}, {\"marker\": {\"size\": 6}, \"mode\": \"lines+markers\", \"name\": \"Com. 55xP9\", \"text\": [\"ID 31 on this period\", \"ID 55 on this period\"], \"textfont\": {\"family\": \"Raleway, sans-serif\"}, \"textposition\": \"top center\", \"type\": \"scatter\", \"uid\": \"e07ab0f2-b822-4d29-983c-ec03d588cba3\", \"x\": [\"2019-10-20\"], \"y\": [0.16666666666666666]}, {\"marker\": {\"size\": 6}, \"mode\": \"lines+markers\", \"name\": \"Com. 38xP9\", \"text\": [\"ID 34 on this period\", \"ID 38 on this period\"], \"textfont\": {\"family\": \"Raleway, sans-serif\"}, \"textposition\": \"top center\", \"type\": \"scatter\", \"uid\": \"1d2f9eee-6d61-4ae2-b24f-964d178d91c7\", \"x\": [\"2019-10-20\"], \"y\": [0.3333333333333333]}, {\"marker\": {\"size\": 6}, \"mode\": \"lines+markers\", \"name\": \"Com. 48xP9\", \"text\": [\"ID 3 on this period\", \"ID 48 on this period\"], \"textfont\": {\"family\": \"Raleway, sans-serif\"}, \"textposition\": \"top center\", \"type\": \"scatter\", \"uid\": \"64a2e32b-064c-470d-b26c-34e2bbb2001a\", \"x\": [\"2019-10-20\"], \"y\": [0.027777777777777776]}, {\"marker\": {\"size\": 6}, \"mode\": \"lines+markers\", \"name\": \"Com. 1xP9\", \"text\": [\"ID 4 on this period\", \"ID 1 on this period\"], \"textfont\": {\"family\": \"Raleway, sans-serif\"}, \"textposition\": \"top center\", \"type\": \"scatter\", \"uid\": \"d14df935-c3a4-46fd-8b9d-e72d3f9d29ee\", \"x\": [\"2019-10-20\"], \"y\": [0.027777777777777776]}, {\"marker\": {\"size\": 6}, \"mode\": \"lines+markers\", \"name\": \"Com. 16xP9\", \"text\": [\"ID 5 on this period\", \"ID 16 on this period\"], \"textfont\": {\"family\": \"Raleway, sans-serif\"}, \"textposition\": \"top center\", \"type\": \"scatter\", \"uid\": \"594802b9-e0cf-4a3c-90c7-4ca9be50c807\", \"x\": [\"2019-10-20\"], \"y\": [0.041666666666666664]}],\n",
       "                        {},\n",
       "                        {\"showLink\": {\"xaxis\": {\"autorange\": true, \"title\": \"Period\"}, \"yaxis\": {\"autorange\": true, \"title\": \"Time rate\"}, \"showlegend\": false, \"title\": \"Time rate\"}, \"linkText\": \"Export to plot.ly\", \"plotlyServerURL\": \"https://plot.ly\", \"responsive\": true}\n",
       "                    ).then(function(){\n",
       "                            \n",
       "var gd = document.getElementById('211bc308-8dc3-4d8f-af77-30462d5e3b51');\n",
       "var x = new MutationObserver(function (mutations, observer) {{\n",
       "        var display = window.getComputedStyle(gd).display;\n",
       "        if (!display || display === 'none') {{\n",
       "            console.log([gd, 'removed!']);\n",
       "            Plotly.purge(gd);\n",
       "            observer.disconnect();\n",
       "        }}\n",
       "}});\n",
       "\n",
       "// Listen for the removal of the full notebook cells\n",
       "var notebookContainer = gd.closest('#notebook-container');\n",
       "if (notebookContainer) {{\n",
       "    x.observe(notebookContainer, {childList: true});\n",
       "}}\n",
       "\n",
       "// Listen for the clearing of the current output cell\n",
       "var outputEl = gd.closest('.output');\n",
       "if (outputEl) {{\n",
       "    x.observe(outputEl, {childList: true});\n",
       "}}\n",
       "\n",
       "                        })\n",
       "                };\n",
       "                });\n",
       "            </script>\n",
       "        </div>"
      ]
     },
     "metadata": {},
     "output_type": "display_data"
    }
   ],
   "source": [
    "#configure_plotly_browser_state()\n",
    "time_rate(matches, output=None, inline=True)"
   ]
  },
  {
   "cell_type": "markdown",
   "metadata": {},
   "source": [
    "#### Gini Coefficient"
   ]
  },
  {
   "cell_type": "code",
   "execution_count": 25,
   "metadata": {},
   "outputs": [
    {
     "data": {
      "application/vnd.plotly.v1+json": {
       "config": {
        "linkText": "Export to plot.ly",
        "plotlyServerURL": "https://plot.ly",
        "responsive": true,
        "showLink": {
         "legend": {
          "font": {
           "color": "grey",
           "family": "Arial, sans-serif",
           "size": 20
          },
          "y": 0.5,
          "yref": "paper"
         },
         "title": "Gini coefficient",
         "xaxis": {
          "autorange": true,
          "title": "Period"
         },
         "yaxis": {
          "autorange": true,
          "title": "Gini coefficient"
         }
        }
       },
       "data": [
        {
         "marker": {
          "size": 6
         },
         "mode": "lines+markers",
         "name": "Com. 49xP1",
         "text": "Community 49xP1",
         "textfont": {
          "family": "Raleway, sans-serif"
         },
         "textposition": "top center",
         "type": "scatter",
         "uid": "2c562418-dba9-4fcb-828c-1b9965aed513",
         "x": [
          0,
          1
         ],
         "y": [
          0,
          0
         ]
        },
        {
         "marker": {
          "size": 6
         },
         "mode": "lines+markers",
         "name": "Com. 18xP2",
         "text": "Community 18xP2",
         "textfont": {
          "family": "Raleway, sans-serif"
         },
         "textposition": "top center",
         "type": "scatter",
         "uid": "04a9be25-245a-4b13-8471-3971c9edf331",
         "x": [
          0,
          1,
          2
         ],
         "y": [
          0,
          0,
          0
         ]
        },
        {
         "marker": {
          "size": 6
         },
         "mode": "lines+markers",
         "name": "Com. 4xP2",
         "text": "Community 4xP2",
         "textfont": {
          "family": "Raleway, sans-serif"
         },
         "textposition": "top center",
         "type": "scatter",
         "uid": "c8821f4a-8bae-4d77-ad57-25ef8344434b",
         "x": [
          1,
          2
         ],
         "y": [
          0,
          0
         ]
        },
        {
         "marker": {
          "size": 6
         },
         "mode": "lines+markers",
         "name": "Com. 14xP2",
         "text": "Community 14xP2",
         "textfont": {
          "family": "Raleway, sans-serif"
         },
         "textposition": "top center",
         "type": "scatter",
         "uid": "123ee8af-0fcb-4838-a557-02b615eaa56f",
         "x": [
          1,
          2
         ],
         "y": [
          0,
          0
         ]
        },
        {
         "marker": {
          "size": 6
         },
         "mode": "lines+markers",
         "name": "Com. 7xP3",
         "text": "Community 7xP3",
         "textfont": {
          "family": "Raleway, sans-serif"
         },
         "textposition": "top center",
         "type": "scatter",
         "uid": "e28af39b-14de-4557-bbf1-620d05a4eecd",
         "x": [
          2,
          3
         ],
         "y": [
          0,
          0
         ]
        },
        {
         "marker": {
          "size": 6
         },
         "mode": "lines+markers",
         "name": "Com. 75xP4",
         "text": "Community 75xP4",
         "textfont": {
          "family": "Raleway, sans-serif"
         },
         "textposition": "top center",
         "type": "scatter",
         "uid": "00a46a8a-ca3d-49a8-a013-82ee343233cd",
         "x": [
          2,
          3,
          4
         ],
         "y": [
          0,
          0,
          0
         ]
        },
        {
         "marker": {
          "size": 6
         },
         "mode": "lines+markers",
         "name": "Com. 2xP6",
         "text": "Community 2xP6",
         "textfont": {
          "family": "Raleway, sans-serif"
         },
         "textposition": "top center",
         "type": "scatter",
         "uid": "a3a1f35a-69e4-46c3-8292-4ea3b7bad4b3",
         "x": [
          5,
          6
         ],
         "y": [
          0,
          0
         ]
        },
        {
         "marker": {
          "size": 6
         },
         "mode": "lines+markers",
         "name": "Com. 20xP6",
         "text": "Community 20xP6",
         "textfont": {
          "family": "Raleway, sans-serif"
         },
         "textposition": "top center",
         "type": "scatter",
         "uid": "d8b8e28c-e014-4e03-bc9a-a211bafb1505",
         "x": [
          5,
          6
         ],
         "y": [
          0,
          0
         ]
        },
        {
         "marker": {
          "size": 6
         },
         "mode": "lines+markers",
         "name": "Com. 42xP9",
         "text": "Community 42xP9",
         "textfont": {
          "family": "Raleway, sans-serif"
         },
         "textposition": "top center",
         "type": "scatter",
         "uid": "91961b06-5c5b-4ea0-a4da-cf947f2741ed",
         "x": [
          8,
          9
         ],
         "y": [
          0,
          0
         ]
        },
        {
         "marker": {
          "size": 6
         },
         "mode": "lines+markers",
         "name": "Com. 38xP9",
         "text": "Community 38xP9",
         "textfont": {
          "family": "Raleway, sans-serif"
         },
         "textposition": "top center",
         "type": "scatter",
         "uid": "84b58b38-3ec3-4316-a6f9-9fc89a7e08bf",
         "x": [
          8,
          9
         ],
         "y": [
          0,
          0
         ]
        }
       ],
       "layout": {}
      },
      "text/html": [
       "<div>\n",
       "        \n",
       "        \n",
       "            <div id=\"1969a72d-ada6-43e1-9bdd-4d9779ee8a03\" class=\"plotly-graph-div\" style=\"height:525px; width:100%;\"></div>\n",
       "            <script type=\"text/javascript\">\n",
       "                require([\"plotly\"], function(Plotly) {\n",
       "                    window.PLOTLYENV=window.PLOTLYENV || {};\n",
       "                    window.PLOTLYENV.BASE_URL='https://plot.ly';\n",
       "                    \n",
       "                if (document.getElementById(\"1969a72d-ada6-43e1-9bdd-4d9779ee8a03\")) {\n",
       "                    Plotly.newPlot(\n",
       "                        '1969a72d-ada6-43e1-9bdd-4d9779ee8a03',\n",
       "                        [{\"marker\": {\"size\": 6}, \"mode\": \"lines+markers\", \"name\": \"Com. 49xP1\", \"text\": \"Community 49xP1\", \"textfont\": {\"family\": \"Raleway, sans-serif\"}, \"textposition\": \"top center\", \"type\": \"scatter\", \"uid\": \"367f88cc-1390-4784-bbda-06d82c87d7e2\", \"x\": [0, 1], \"y\": [0.0, 0.0]}, {\"marker\": {\"size\": 6}, \"mode\": \"lines+markers\", \"name\": \"Com. 18xP2\", \"text\": \"Community 18xP2\", \"textfont\": {\"family\": \"Raleway, sans-serif\"}, \"textposition\": \"top center\", \"type\": \"scatter\", \"uid\": \"64913514-3905-42db-9827-b5cd747ec8b7\", \"x\": [0, 1, 2], \"y\": [0.0, 0.0, 0.0]}, {\"marker\": {\"size\": 6}, \"mode\": \"lines+markers\", \"name\": \"Com. 4xP2\", \"text\": \"Community 4xP2\", \"textfont\": {\"family\": \"Raleway, sans-serif\"}, \"textposition\": \"top center\", \"type\": \"scatter\", \"uid\": \"c0a49406-a47e-4b87-8b03-a33bc2e11dfe\", \"x\": [1, 2], \"y\": [0.0, 0.0]}, {\"marker\": {\"size\": 6}, \"mode\": \"lines+markers\", \"name\": \"Com. 14xP2\", \"text\": \"Community 14xP2\", \"textfont\": {\"family\": \"Raleway, sans-serif\"}, \"textposition\": \"top center\", \"type\": \"scatter\", \"uid\": \"4e07a72f-c866-4d68-9bab-96598ed4bd01\", \"x\": [1, 2], \"y\": [0.0, 0.0]}, {\"marker\": {\"size\": 6}, \"mode\": \"lines+markers\", \"name\": \"Com. 7xP3\", \"text\": \"Community 7xP3\", \"textfont\": {\"family\": \"Raleway, sans-serif\"}, \"textposition\": \"top center\", \"type\": \"scatter\", \"uid\": \"e3be8890-1569-4727-8157-6e55ead83b7c\", \"x\": [2, 3], \"y\": [0.0, 0.0]}, {\"marker\": {\"size\": 6}, \"mode\": \"lines+markers\", \"name\": \"Com. 75xP4\", \"text\": \"Community 75xP4\", \"textfont\": {\"family\": \"Raleway, sans-serif\"}, \"textposition\": \"top center\", \"type\": \"scatter\", \"uid\": \"f058ebd3-6fed-49a9-a6ec-d3a3cee7d52b\", \"x\": [2, 3, 4], \"y\": [0.0, 0.0, 0.0]}, {\"marker\": {\"size\": 6}, \"mode\": \"lines+markers\", \"name\": \"Com. 2xP6\", \"text\": \"Community 2xP6\", \"textfont\": {\"family\": \"Raleway, sans-serif\"}, \"textposition\": \"top center\", \"type\": \"scatter\", \"uid\": \"0b249d90-ba7b-4b0e-bb09-8675de133a3b\", \"x\": [5, 6], \"y\": [0.0, 0.0]}, {\"marker\": {\"size\": 6}, \"mode\": \"lines+markers\", \"name\": \"Com. 20xP6\", \"text\": \"Community 20xP6\", \"textfont\": {\"family\": \"Raleway, sans-serif\"}, \"textposition\": \"top center\", \"type\": \"scatter\", \"uid\": \"43235a49-bb88-43b4-a992-6b5fc2a38873\", \"x\": [5, 6], \"y\": [0.0, 0.0]}, {\"marker\": {\"size\": 6}, \"mode\": \"lines+markers\", \"name\": \"Com. 42xP9\", \"text\": \"Community 42xP9\", \"textfont\": {\"family\": \"Raleway, sans-serif\"}, \"textposition\": \"top center\", \"type\": \"scatter\", \"uid\": \"d525a6ff-0590-4c5f-8bd8-cc87a3f53141\", \"x\": [8, 9], \"y\": [0.0, 0.0]}, {\"marker\": {\"size\": 6}, \"mode\": \"lines+markers\", \"name\": \"Com. 38xP9\", \"text\": \"Community 38xP9\", \"textfont\": {\"family\": \"Raleway, sans-serif\"}, \"textposition\": \"top center\", \"type\": \"scatter\", \"uid\": \"635d1ba6-ca9b-4484-ae75-31598d0003de\", \"x\": [8, 9], \"y\": [0.0, 0.0]}],\n",
       "                        {},\n",
       "                        {\"showLink\": {\"xaxis\": {\"autorange\": true, \"title\": \"Period\"}, \"yaxis\": {\"autorange\": true, \"title\": \"Gini coefficient\"}, \"legend\": {\"y\": 0.5, \"yref\": \"paper\", \"font\": {\"family\": \"Arial, sans-serif\", \"size\": 20, \"color\": \"grey\"}}, \"title\": \"Gini coefficient\"}, \"linkText\": \"Export to plot.ly\", \"plotlyServerURL\": \"https://plot.ly\", \"responsive\": true}\n",
       "                    ).then(function(){\n",
       "                            \n",
       "var gd = document.getElementById('1969a72d-ada6-43e1-9bdd-4d9779ee8a03');\n",
       "var x = new MutationObserver(function (mutations, observer) {{\n",
       "        var display = window.getComputedStyle(gd).display;\n",
       "        if (!display || display === 'none') {{\n",
       "            console.log([gd, 'removed!']);\n",
       "            Plotly.purge(gd);\n",
       "            observer.disconnect();\n",
       "        }}\n",
       "}});\n",
       "\n",
       "// Listen for the removal of the full notebook cells\n",
       "var notebookContainer = gd.closest('#notebook-container');\n",
       "if (notebookContainer) {{\n",
       "    x.observe(notebookContainer, {childList: true});\n",
       "}}\n",
       "\n",
       "// Listen for the clearing of the current output cell\n",
       "var outputEl = gd.closest('.output');\n",
       "if (outputEl) {{\n",
       "    x.observe(outputEl, {childList: true});\n",
       "}}\n",
       "\n",
       "                        })\n",
       "                };\n",
       "                });\n",
       "            </script>\n",
       "        </div>"
      ]
     },
     "metadata": {},
     "output_type": "display_data"
    }
   ],
   "source": [
    "#configure_plotly_browser_state()\n",
    "communities_gini(gini_coef, output=None, inline=True)"
   ]
  },
  {
   "cell_type": "markdown",
   "metadata": {},
   "source": [
    "#### Top influencers"
   ]
  },
  {
   "cell_type": "code",
   "execution_count": 26,
   "metadata": {
    "scrolled": false
   },
   "outputs": [
    {
     "data": {
      "application/vnd.plotly.v1+json": {
       "config": {
        "linkText": "Export to plot.ly",
        "plotlyServerURL": "https://plot.ly",
        "responsive": true,
        "showLink": {
         "legend": {
          "font": {
           "color": "grey",
           "family": "Arial, sans-serif",
           "size": 20
          },
          "y": 0.5,
          "yref": "paper"
         },
         "title": "Top over time",
         "xaxis": {
          "autorange": true,
          "title": "Period"
         },
         "yaxis": {
          "autorange": true,
          "title": "Top"
         }
        }
       },
       "data": [
        {
         "marker": {
          "size": 10
         },
         "mode": "lines+markers",
         "name": "@kimkardashian",
         "text": [
          "2019-10-12",
          "2019-10-13",
          "2019-10-14"
         ],
         "textfont": {
          "family": "Raleway, sans-serif"
         },
         "textposition": "top center",
         "type": "scatter",
         "uid": "81927818-172c-4057-8ba5-fd8d9d2565ed",
         "x": [
          0,
          1,
          2
         ],
         "y": [
          406,
          176,
          36
         ]
        },
        {
         "marker": {
          "size": 10
         },
         "mode": "lines+markers",
         "name": "@geulisceunah",
         "text": [
          "2019-10-12",
          "2019-10-13"
         ],
         "textfont": {
          "family": "Raleway, sans-serif"
         },
         "textposition": "top center",
         "type": "scatter",
         "uid": "99067763-9f56-478c-985d-780e41480561",
         "x": [
          0,
          1
         ],
         "y": [
          42,
          56
         ]
        },
        {
         "marker": {
          "size": 10
         },
         "mode": "lines+markers",
         "name": "@_harururu",
         "text": [
          "2019-10-12",
          "2019-10-13"
         ],
         "textfont": {
          "family": "Raleway, sans-serif"
         },
         "textposition": "top center",
         "type": "scatter",
         "uid": "7be7ac8c-3737-4282-9081-329ed4113f28",
         "x": [
          0,
          1
         ],
         "y": [
          28,
          16
         ]
        },
        {
         "marker": {
          "size": 10
         },
         "mode": "lines+markers",
         "name": "@yunhobub",
         "text": [
          "2019-10-12",
          "2019-10-13"
         ],
         "textfont": {
          "family": "Raleway, sans-serif"
         },
         "textposition": "top center",
         "type": "scatter",
         "uid": "a9b3ac35-4135-4411-94a9-32a91773e800",
         "x": [
          0,
          1
         ],
         "y": [
          21,
          32
         ]
        },
        {
         "marker": {
          "size": 10
         },
         "mode": "lines+markers",
         "name": "@ketodietapp",
         "text": [
          "2019-10-12",
          "2019-10-17"
         ],
         "textfont": {
          "family": "Raleway, sans-serif"
         },
         "textposition": "top center",
         "type": "scatter",
         "uid": "2a3f6cdb-2ca9-47b9-97d9-ac836c47a6f1",
         "x": [
          0,
          5
         ],
         "y": [
          21,
          35
         ]
        },
        {
         "marker": {
          "size": 10
         },
         "mode": "lines+markers",
         "name": "@foodislyfph",
         "text": [
          "2019-10-12",
          "2019-10-13",
          "2019-10-20"
         ],
         "textfont": {
          "family": "Raleway, sans-serif"
         },
         "textposition": "top center",
         "type": "scatter",
         "uid": "8695debe-73be-4486-8b0f-fa80f870fe18",
         "x": [
          0,
          1,
          8
         ],
         "y": [
          14,
          56,
          12
         ]
        },
        {
         "marker": {
          "size": 10
         },
         "mode": "lines+markers",
         "name": "@fairievante",
         "text": [
          "2019-10-12",
          "2019-10-13"
         ],
         "textfont": {
          "family": "Raleway, sans-serif"
         },
         "textposition": "top center",
         "type": "scatter",
         "uid": "1003791a-a293-4919-9502-fc89e86725ab",
         "x": [
          0,
          1
         ],
         "y": [
          7,
          160
         ]
        },
        {
         "marker": {
          "size": 10
         },
         "mode": "lines+markers",
         "name": "@landoffacts",
         "text": [
          "2019-10-12",
          "2019-10-13",
          "2019-10-15",
          "2019-10-17",
          "2019-10-18"
         ],
         "textfont": {
          "family": "Raleway, sans-serif"
         },
         "textposition": "top center",
         "type": "scatter",
         "uid": "f4e8e6be-d15b-4fa2-a0ee-c699b6735ac6",
         "x": [
          0,
          1,
          3,
          5,
          6
         ],
         "y": [
          21,
          232,
          42,
          182,
          18
         ]
        },
        {
         "marker": {
          "size": 10
         },
         "mode": "lines+markers",
         "name": "@fact",
         "text": [
          "2019-10-13",
          "2019-10-14",
          "2019-10-21"
         ],
         "textfont": {
          "family": "Raleway, sans-serif"
         },
         "textposition": "top center",
         "type": "scatter",
         "uid": "08564bc6-bf6a-4da4-9886-e07ddc9553a2",
         "x": [
          1,
          2,
          9
         ],
         "y": [
          1336,
          99,
          1239
         ]
        },
        {
         "marker": {
          "size": 10
         },
         "mode": "lines+markers",
         "name": "@jonghosneckmole",
         "text": [
          "2019-10-13",
          "2019-10-14",
          "2019-10-15",
          "2019-10-17"
         ],
         "textfont": {
          "family": "Raleway, sans-serif"
         },
         "textposition": "top center",
         "type": "scatter",
         "uid": "c49410e4-8ba7-4ae8-9f3d-6a4d90b0a3f9",
         "x": [
          1,
          2,
          3,
          5
         ],
         "y": [
          400,
          63,
          18,
          21
         ]
        },
        {
         "marker": {
          "size": 10
         },
         "mode": "lines+markers",
         "name": "@awkwardgoogle",
         "text": [
          "2019-10-13"
         ],
         "textfont": {
          "family": "Raleway, sans-serif"
         },
         "textposition": "top center",
         "type": "scatter",
         "uid": "426c66a7-0d9a-44c6-9c2e-6cdd8b4382c2",
         "x": [
          1
         ],
         "y": [
          288
         ]
        },
        {
         "marker": {
          "size": 10
         },
         "mode": "lines+markers",
         "name": "@anebhel14",
         "text": [
          "2019-10-13"
         ],
         "textfont": {
          "family": "Raleway, sans-serif"
         },
         "textposition": "top center",
         "type": "scatter",
         "uid": "d638656b-b34b-44e3-a68a-7c7046592276",
         "x": [
          1
         ],
         "y": [
          128
         ]
        },
        {
         "marker": {
          "size": 10
         },
         "mode": "lines+markers",
         "name": "@jimintyy",
         "text": [
          "2019-10-13"
         ],
         "textfont": {
          "family": "Raleway, sans-serif"
         },
         "textposition": "top center",
         "type": "scatter",
         "uid": "9ad484cf-1fb5-4fa4-a401-1e9db7827396",
         "x": [
          1
         ],
         "y": [
          64
         ]
        },
        {
         "marker": {
          "size": 10
         },
         "mode": "lines+markers",
         "name": "@darth_vaderno1",
         "text": [
          "2019-10-13",
          "2019-10-14"
         ],
         "textfont": {
          "family": "Raleway, sans-serif"
         },
         "textposition": "top center",
         "type": "scatter",
         "uid": "42712a59-99ba-4c1e-bb20-733aab7d26ef",
         "x": [
          1,
          2
         ],
         "y": [
          56,
          27
         ]
        },
        {
         "marker": {
          "size": 10
         },
         "mode": "lines+markers",
         "name": "@skylarr_kleinn",
         "text": [
          "2019-10-13",
          "2019-10-14",
          "2019-10-15",
          "2019-10-16"
         ],
         "textfont": {
          "family": "Raleway, sans-serif"
         },
         "textposition": "top center",
         "type": "scatter",
         "uid": "8ca50034-728f-4564-a328-c463283342f1",
         "x": [
          1,
          2,
          3,
          4
         ],
         "y": [
          56,
          225,
          33,
          12
         ]
        },
        {
         "marker": {
          "size": 10
         },
         "mode": "lines+markers",
         "name": "@chookook",
         "text": [
          "2019-10-13",
          "2019-10-14",
          "2019-10-15"
         ],
         "textfont": {
          "family": "Raleway, sans-serif"
         },
         "textposition": "top center",
         "type": "scatter",
         "uid": "a61b828d-80aa-4b10-8631-4374fc5e0355",
         "x": [
          1,
          2,
          3
         ],
         "y": [
          48,
          639,
          15
         ]
        },
        {
         "marker": {
          "size": 10
         },
         "mode": "lines+markers",
         "name": "@bieberftonfroy",
         "text": [
          "2019-10-13"
         ],
         "textfont": {
          "family": "Raleway, sans-serif"
         },
         "textposition": "top center",
         "type": "scatter",
         "uid": "8cef1fcc-c134-49a6-b82b-9d70c5e6e164",
         "x": [
          1
         ],
         "y": [
          48
         ]
        },
        {
         "marker": {
          "size": 10
         },
         "mode": "lines+markers",
         "name": "@philyeomans",
         "text": [
          "2019-10-13"
         ],
         "textfont": {
          "family": "Raleway, sans-serif"
         },
         "textposition": "top center",
         "type": "scatter",
         "uid": "390b17a3-615e-4866-9600-2e754a94abbd",
         "x": [
          1
         ],
         "y": [
          40
         ]
        },
        {
         "marker": {
          "size": 10
         },
         "mode": "lines+markers",
         "name": "@factsseungmin",
         "text": [
          "2019-10-13",
          "2019-10-14"
         ],
         "textfont": {
          "family": "Raleway, sans-serif"
         },
         "textposition": "top center",
         "type": "scatter",
         "uid": "4a09c034-57c7-4b90-a9d6-eac251ca288a",
         "x": [
          1,
          2
         ],
         "y": [
          40,
          36
         ]
        },
        {
         "marker": {
          "size": 10
         },
         "mode": "lines+markers",
         "name": "@rivaled_",
         "text": [
          "2019-10-13"
         ],
         "textfont": {
          "family": "Raleway, sans-serif"
         },
         "textposition": "top center",
         "type": "scatter",
         "uid": "9c6f8ed6-df84-4f17-8940-3ebc6a15d286",
         "x": [
          1
         ],
         "y": [
          40
         ]
        },
        {
         "marker": {
          "size": 10
         },
         "mode": "lines+markers",
         "name": "@emirichuyt",
         "text": [
          "2019-10-13",
          "2019-10-14"
         ],
         "textfont": {
          "family": "Raleway, sans-serif"
         },
         "textposition": "top center",
         "type": "scatter",
         "uid": "76fd00a2-aaf5-4171-b8b2-61156b665c45",
         "x": [
          1,
          2
         ],
         "y": [
          32,
          18
         ]
        },
        {
         "marker": {
          "size": 10
         },
         "mode": "lines+markers",
         "name": "@justdawnm",
         "text": [
          "2019-10-13"
         ],
         "textfont": {
          "family": "Raleway, sans-serif"
         },
         "textposition": "top center",
         "type": "scatter",
         "uid": "9ed17815-1675-43cf-a8d8-2c118d13716c",
         "x": [
          1
         ],
         "y": [
          32
         ]
        },
        {
         "marker": {
          "size": 10
         },
         "mode": "lines+markers",
         "name": "@oprahmagazine",
         "text": [
          "2019-10-13",
          "2019-10-15",
          "2019-10-17",
          "2019-10-18",
          "2019-10-19"
         ],
         "textfont": {
          "family": "Raleway, sans-serif"
         },
         "textposition": "top center",
         "type": "scatter",
         "uid": "a864b8e1-2981-4093-8236-49dc232e80aa",
         "x": [
          1,
          3,
          5,
          6,
          7
         ],
         "y": [
          24,
          9,
          14,
          12,
          20
         ]
        },
        {
         "marker": {
          "size": 10
         },
         "mode": "lines+markers",
         "name": "@ayshahbukar",
         "text": [
          "2019-10-13"
         ],
         "textfont": {
          "family": "Raleway, sans-serif"
         },
         "textposition": "top center",
         "type": "scatter",
         "uid": "bd12d2e4-d7f0-4225-b2d1-c37b5f36641c",
         "x": [
          1
         ],
         "y": [
          24
         ]
        },
        {
         "marker": {
          "size": 10
         },
         "mode": "lines+markers",
         "name": "@batman007562411",
         "text": [
          "2019-10-13",
          "2019-10-15"
         ],
         "textfont": {
          "family": "Raleway, sans-serif"
         },
         "textposition": "top center",
         "type": "scatter",
         "uid": "7369da23-f089-456d-b71d-a9ef08bc4ef5",
         "x": [
          1,
          3
         ],
         "y": [
          24,
          3
         ]
        },
        {
         "marker": {
          "size": 10
         },
         "mode": "lines+markers",
         "name": "@larissafae",
         "text": [
          "2019-10-13"
         ],
         "textfont": {
          "family": "Raleway, sans-serif"
         },
         "textposition": "top center",
         "type": "scatter",
         "uid": "1654ebe1-811a-4902-b8b8-5edad38f0a63",
         "x": [
          1
         ],
         "y": [
          24
         ]
        },
        {
         "marker": {
          "size": 10
         },
         "mode": "lines+markers",
         "name": "@mo49alshaif",
         "text": [
          "2019-10-13"
         ],
         "textfont": {
          "family": "Raleway, sans-serif"
         },
         "textposition": "top center",
         "type": "scatter",
         "uid": "50a0379f-bb4b-4767-87d1-4a1180f495ab",
         "x": [
          1
         ],
         "y": [
          16
         ]
        },
        {
         "marker": {
          "size": 10
         },
         "mode": "lines+markers",
         "name": "@ag611127",
         "text": [
          "2019-10-13"
         ],
         "textfont": {
          "family": "Raleway, sans-serif"
         },
         "textposition": "top center",
         "type": "scatter",
         "uid": "8f52fe0c-ca73-4a98-a11c-c2321cbb8f09",
         "x": [
          1
         ],
         "y": [
          16
         ]
        },
        {
         "marker": {
          "size": 10
         },
         "mode": "lines+markers",
         "name": "@nouqdubai",
         "text": [
          "2019-10-13"
         ],
         "textfont": {
          "family": "Raleway, sans-serif"
         },
         "textposition": "top center",
         "type": "scatter",
         "uid": "3ccd7a4c-64b6-4444-9e00-d8d8a76106db",
         "x": [
          1
         ],
         "y": [
          16
         ]
        },
        {
         "marker": {
          "size": 10
         },
         "mode": "lines+markers",
         "name": "@jamescraigmyle",
         "text": [
          "2019-10-14",
          "2019-10-15"
         ],
         "textfont": {
          "family": "Raleway, sans-serif"
         },
         "textposition": "top center",
         "type": "scatter",
         "uid": "3e4de06a-5a72-4418-815a-45e6367b1e78",
         "x": [
          2,
          3
         ],
         "y": [
          198,
          18
         ]
        },
        {
         "marker": {
          "size": 10
         },
         "mode": "lines+markers",
         "name": "@flooderino",
         "text": [
          "2019-10-14"
         ],
         "textfont": {
          "family": "Raleway, sans-serif"
         },
         "textposition": "top center",
         "type": "scatter",
         "uid": "c9e35073-3b79-4621-92e7-11876f5d59c8",
         "x": [
          2
         ],
         "y": [
          117
         ]
        },
        {
         "marker": {
          "size": 10
         },
         "mode": "lines+markers",
         "name": "@sujjjwqx3znqkyj",
         "text": [
          "2019-10-14",
          "2019-10-16",
          "2019-10-20"
         ],
         "textfont": {
          "family": "Raleway, sans-serif"
         },
         "textposition": "top center",
         "type": "scatter",
         "uid": "1083bb9a-cc6f-4f19-a85c-ec407574714b",
         "x": [
          2,
          4,
          8
         ],
         "y": [
          81,
          24,
          16
         ]
        },
        {
         "marker": {
          "size": 10
         },
         "mode": "lines+markers",
         "name": "@chipichipibmbn",
         "text": [
          "2019-10-14",
          "2019-10-15",
          "2019-10-16"
         ],
         "textfont": {
          "family": "Raleway, sans-serif"
         },
         "textposition": "top center",
         "type": "scatter",
         "uid": "943c2326-1db3-460f-8977-ab3764aabc85",
         "x": [
          2,
          3,
          4
         ],
         "y": [
          63,
          15,
          8
         ]
        },
        {
         "marker": {
          "size": 10
         },
         "mode": "lines+markers",
         "name": "@hasmitarora",
         "text": [
          "2019-10-14"
         ],
         "textfont": {
          "family": "Raleway, sans-serif"
         },
         "textposition": "top center",
         "type": "scatter",
         "uid": "6a09ddb1-7c40-4701-aac0-55e1adafabba",
         "x": [
          2
         ],
         "y": [
          54
         ]
        },
        {
         "marker": {
          "size": 10
         },
         "mode": "lines+markers",
         "name": "@thesun",
         "text": [
          "2019-10-14"
         ],
         "textfont": {
          "family": "Raleway, sans-serif"
         },
         "textposition": "top center",
         "type": "scatter",
         "uid": "c4f3053a-d8c1-43e0-b590-a50f18ada754",
         "x": [
          2
         ],
         "y": [
          45
         ]
        },
        {
         "marker": {
          "size": 10
         },
         "mode": "lines+markers",
         "name": "@natalieptay",
         "text": [
          "2019-10-14"
         ],
         "textfont": {
          "family": "Raleway, sans-serif"
         },
         "textposition": "top center",
         "type": "scatter",
         "uid": "155e8ecd-11da-4c3d-a91f-0603f4cbc64e",
         "x": [
          2
         ],
         "y": [
          45
         ]
        },
        {
         "marker": {
          "size": 10
         },
         "mode": "lines+markers",
         "name": "@denniskwilliams",
         "text": [
          "2019-10-14"
         ],
         "textfont": {
          "family": "Raleway, sans-serif"
         },
         "textposition": "top center",
         "type": "scatter",
         "uid": "28a643e5-29f7-4b5b-8efb-e8321ee7cecb",
         "x": [
          2
         ],
         "y": [
          45
         ]
        },
        {
         "marker": {
          "size": 10
         },
         "mode": "lines+markers",
         "name": "@wrightsbaking",
         "text": [
          "2019-10-14"
         ],
         "textfont": {
          "family": "Raleway, sans-serif"
         },
         "textposition": "top center",
         "type": "scatter",
         "uid": "10eefe36-3918-48eb-bbfa-ea6e0a3cf2f5",
         "x": [
          2
         ],
         "y": [
          36
         ]
        },
        {
         "marker": {
          "size": 10
         },
         "mode": "lines+markers",
         "name": "@jmudukesvote",
         "text": [
          "2019-10-14"
         ],
         "textfont": {
          "family": "Raleway, sans-serif"
         },
         "textposition": "top center",
         "type": "scatter",
         "uid": "cb3428b4-310e-4316-ae4c-008d330cc77b",
         "x": [
          2
         ],
         "y": [
          36
         ]
        },
        {
         "marker": {
          "size": 10
         },
         "mode": "lines+markers",
         "name": "@visitfelixstowe",
         "text": [
          "2019-10-14",
          "2019-10-15",
          "2019-10-16"
         ],
         "textfont": {
          "family": "Raleway, sans-serif"
         },
         "textposition": "top center",
         "type": "scatter",
         "uid": "7e38ea5d-bee2-4375-984a-ba86cebdc6a5",
         "x": [
          2,
          3,
          4
         ],
         "y": [
          36,
          6,
          4
         ]
        },
        {
         "marker": {
          "size": 10
         },
         "mode": "lines+markers",
         "name": "@allanimalrights",
         "text": [
          "2019-10-14"
         ],
         "textfont": {
          "family": "Raleway, sans-serif"
         },
         "textposition": "top center",
         "type": "scatter",
         "uid": "66806cb8-e546-458d-a848-11dd097981dd",
         "x": [
          2
         ],
         "y": [
          36
         ]
        },
        {
         "marker": {
          "size": 10
         },
         "mode": "lines+markers",
         "name": "@chrisshaffa222",
         "text": [
          "2019-10-14"
         ],
         "textfont": {
          "family": "Raleway, sans-serif"
         },
         "textposition": "top center",
         "type": "scatter",
         "uid": "8953be2b-4e99-4594-a95a-ef0c290c8fa5",
         "x": [
          2
         ],
         "y": [
          36
         ]
        },
        {
         "marker": {
          "size": 10
         },
         "mode": "lines+markers",
         "name": "@maneatsdragon",
         "text": [
          "2019-10-14"
         ],
         "textfont": {
          "family": "Raleway, sans-serif"
         },
         "textposition": "top center",
         "type": "scatter",
         "uid": "4ddbc0fe-533f-493c-9028-89d2d73c472f",
         "x": [
          2
         ],
         "y": [
          36
         ]
        },
        {
         "marker": {
          "size": 10
         },
         "mode": "lines+markers",
         "name": "@adamhayes900",
         "text": [
          "2019-10-14"
         ],
         "textfont": {
          "family": "Raleway, sans-serif"
         },
         "textposition": "top center",
         "type": "scatter",
         "uid": "73e5b01e-b80d-432e-9947-f37bdd895bee",
         "x": [
          2
         ],
         "y": [
          27
         ]
        },
        {
         "marker": {
          "size": 10
         },
         "mode": "lines+markers",
         "name": "@leoslivelife",
         "text": [
          "2019-10-14"
         ],
         "textfont": {
          "family": "Raleway, sans-serif"
         },
         "textposition": "top center",
         "type": "scatter",
         "uid": "c7a4f06b-e6fe-4037-9e6d-1cf960aa3ac8",
         "x": [
          2
         ],
         "y": [
          27
         ]
        },
        {
         "marker": {
          "size": 10
         },
         "mode": "lines+markers",
         "name": "@sleepygurll",
         "text": [
          "2019-10-14"
         ],
         "textfont": {
          "family": "Raleway, sans-serif"
         },
         "textposition": "top center",
         "type": "scatter",
         "uid": "f9971809-4594-4cd2-a8d5-35c43913b123",
         "x": [
          2
         ],
         "y": [
          27
         ]
        },
        {
         "marker": {
          "size": 10
         },
         "mode": "lines+markers",
         "name": "@ballarina_",
         "text": [
          "2019-10-14"
         ],
         "textfont": {
          "family": "Raleway, sans-serif"
         },
         "textposition": "top center",
         "type": "scatter",
         "uid": "241a4b53-ddf4-4808-a25a-b9ba41c28aba",
         "x": [
          2
         ],
         "y": [
          27
         ]
        },
        {
         "marker": {
          "size": 10
         },
         "mode": "lines+markers",
         "name": "@_channz",
         "text": [
          "2019-10-14"
         ],
         "textfont": {
          "family": "Raleway, sans-serif"
         },
         "textposition": "top center",
         "type": "scatter",
         "uid": "8d9700b8-dad5-4da5-b4ab-b4e4b8f624a1",
         "x": [
          2
         ],
         "y": [
          27
         ]
        },
        {
         "marker": {
          "size": 10
         },
         "mode": "lines+markers",
         "name": "@usdays4",
         "text": [
          "2019-10-14"
         ],
         "textfont": {
          "family": "Raleway, sans-serif"
         },
         "textposition": "top center",
         "type": "scatter",
         "uid": "1685e0c6-317b-4c15-bfe4-91f9a3ea3243",
         "x": [
          2
         ],
         "y": [
          18
         ]
        },
        {
         "marker": {
          "size": 10
         },
         "mode": "lines+markers",
         "name": "@g2pengu",
         "text": [
          "2019-10-15",
          "2019-10-16"
         ],
         "textfont": {
          "family": "Raleway, sans-serif"
         },
         "textposition": "top center",
         "type": "scatter",
         "uid": "d8048890-835e-41b9-ba9d-215c6e269ddf",
         "x": [
          3,
          4
         ],
         "y": [
          183,
          28
         ]
        },
        {
         "marker": {
          "size": 10
         },
         "mode": "lines+markers",
         "name": "@di8nna",
         "text": [
          "2019-10-15"
         ],
         "textfont": {
          "family": "Raleway, sans-serif"
         },
         "textposition": "top center",
         "type": "scatter",
         "uid": "230ba056-4baa-44dc-bf74-4bb7423b3b07",
         "x": [
          3
         ],
         "y": [
          57
         ]
        },
        {
         "marker": {
          "size": 10
         },
         "mode": "lines+markers",
         "name": "@bloomingtae",
         "text": [
          "2019-10-15"
         ],
         "textfont": {
          "family": "Raleway, sans-serif"
         },
         "textposition": "top center",
         "type": "scatter",
         "uid": "3b1a0e14-b06d-4cfb-9fb3-c282d9a36970",
         "x": [
          3
         ],
         "y": [
          42
         ]
        },
        {
         "marker": {
          "size": 10
         },
         "mode": "lines+markers",
         "name": "@saragaza1",
         "text": [
          "2019-10-15",
          "2019-10-16"
         ],
         "textfont": {
          "family": "Raleway, sans-serif"
         },
         "textposition": "top center",
         "type": "scatter",
         "uid": "6b33c358-6763-4b66-ad64-838613b37f73",
         "x": [
          3,
          4
         ],
         "y": [
          39,
          16
         ]
        },
        {
         "marker": {
          "size": 10
         },
         "mode": "lines+markers",
         "name": "@hubertvestra",
         "text": [
          "2019-10-15",
          "2019-10-16"
         ],
         "textfont": {
          "family": "Raleway, sans-serif"
         },
         "textposition": "top center",
         "type": "scatter",
         "uid": "8482a2a7-af86-4432-a9e6-508d562d4a27",
         "x": [
          3,
          4
         ],
         "y": [
          27,
          12
         ]
        },
        {
         "marker": {
          "size": 10
         },
         "mode": "lines+markers",
         "name": "@amnasalah_",
         "text": [
          "2019-10-15"
         ],
         "textfont": {
          "family": "Raleway, sans-serif"
         },
         "textposition": "top center",
         "type": "scatter",
         "uid": "158081ac-aee5-4b70-b953-88c8113d681e",
         "x": [
          3
         ],
         "y": [
          27
         ]
        },
        {
         "marker": {
          "size": 10
         },
         "mode": "lines+markers",
         "name": "@mariagaza3",
         "text": [
          "2019-10-15",
          "2019-10-16"
         ],
         "textfont": {
          "family": "Raleway, sans-serif"
         },
         "textposition": "top center",
         "type": "scatter",
         "uid": "2149204e-75ad-4140-9e78-11fd0ebc0972",
         "x": [
          3,
          4
         ],
         "y": [
          24,
          12
         ]
        },
        {
         "marker": {
          "size": 10
         },
         "mode": "lines+markers",
         "name": "@delishdotcom",
         "text": [
          "2019-10-15",
          "2019-10-18",
          "2019-10-21"
         ],
         "textfont": {
          "family": "Raleway, sans-serif"
         },
         "textposition": "top center",
         "type": "scatter",
         "uid": "3b118ce7-dab7-4cb7-87ae-6202fbc10b46",
         "x": [
          3,
          6,
          9
         ],
         "y": [
          3,
          6,
          21
         ]
        },
        {
         "marker": {
          "size": 10
         },
         "mode": "lines+markers",
         "name": "@katiequixotic",
         "text": [
          "2019-10-16",
          "2019-10-17"
         ],
         "textfont": {
          "family": "Raleway, sans-serif"
         },
         "textposition": "top center",
         "type": "scatter",
         "uid": "7ff2e15f-d892-4b8d-a9e1-f86ffab2a1f8",
         "x": [
          4,
          5
         ],
         "y": [
          72,
          28
         ]
        },
        {
         "marker": {
          "size": 10
         },
         "mode": "lines+markers",
         "name": "@christi_stevens",
         "text": [
          "2019-10-16"
         ],
         "textfont": {
          "family": "Raleway, sans-serif"
         },
         "textposition": "top center",
         "type": "scatter",
         "uid": "5165e4fa-8df3-4e37-a9e6-c5ca6e3d50b1",
         "x": [
          4
         ],
         "y": [
          40
         ]
        },
        {
         "marker": {
          "size": 10
         },
         "mode": "lines+markers",
         "name": "@carterpeak",
         "text": [
          "2019-10-16"
         ],
         "textfont": {
          "family": "Raleway, sans-serif"
         },
         "textposition": "top center",
         "type": "scatter",
         "uid": "5fc1735d-38b8-4564-97bc-5fe20e85e9f2",
         "x": [
          4
         ],
         "y": [
          28
         ]
        },
        {
         "marker": {
          "size": 10
         },
         "mode": "lines+markers",
         "name": "@cesar_7300",
         "text": [
          "2019-10-16"
         ],
         "textfont": {
          "family": "Raleway, sans-serif"
         },
         "textposition": "top center",
         "type": "scatter",
         "uid": "908ecf7a-bffd-4be2-b685-4d03c5db71dc",
         "x": [
          4
         ],
         "y": [
          20
         ]
        },
        {
         "marker": {
          "size": 10
         },
         "mode": "lines+markers",
         "name": "@reallyavampyre",
         "text": [
          "2019-10-16"
         ],
         "textfont": {
          "family": "Raleway, sans-serif"
         },
         "textposition": "top center",
         "type": "scatter",
         "uid": "173358b5-7e86-4214-8589-f5ca34c19fc9",
         "x": [
          4
         ],
         "y": [
          20
         ]
        },
        {
         "marker": {
          "size": 10
         },
         "mode": "lines+markers",
         "name": "@okxynaaji",
         "text": [
          "2019-10-16"
         ],
         "textfont": {
          "family": "Raleway, sans-serif"
         },
         "textposition": "top center",
         "type": "scatter",
         "uid": "ee1ebc03-b980-4f8e-9672-b44eaba07da5",
         "x": [
          4
         ],
         "y": [
          20
         ]
        },
        {
         "marker": {
          "size": 10
         },
         "mode": "lines+markers",
         "name": "@shawajason",
         "text": [
          "2019-10-16"
         ],
         "textfont": {
          "family": "Raleway, sans-serif"
         },
         "textposition": "top center",
         "type": "scatter",
         "uid": "ef17eade-3413-4f03-920d-c8d786786224",
         "x": [
          4
         ],
         "y": [
          16
         ]
        },
        {
         "marker": {
          "size": 10
         },
         "mode": "lines+markers",
         "name": "@brasseriesixty6",
         "text": [
          "2019-10-16"
         ],
         "textfont": {
          "family": "Raleway, sans-serif"
         },
         "textposition": "top center",
         "type": "scatter",
         "uid": "ab750ba9-59b4-4fca-a937-427b8bcd0e2a",
         "x": [
          4
         ],
         "y": [
          16
         ]
        },
        {
         "marker": {
          "size": 10
         },
         "mode": "lines+markers",
         "name": "@nymoneeyy",
         "text": [
          "2019-10-16"
         ],
         "textfont": {
          "family": "Raleway, sans-serif"
         },
         "textposition": "top center",
         "type": "scatter",
         "uid": "62285592-6510-4026-b660-9048a6735445",
         "x": [
          4
         ],
         "y": [
          16
         ]
        },
        {
         "marker": {
          "size": 10
         },
         "mode": "lines+markers",
         "name": "@angeldawnsam",
         "text": [
          "2019-10-16",
          "2019-10-17"
         ],
         "textfont": {
          "family": "Raleway, sans-serif"
         },
         "textposition": "top center",
         "type": "scatter",
         "uid": "ce52c355-42c4-4bb4-9d38-1c3052fec754",
         "x": [
          4,
          5
         ],
         "y": [
          16,
          14
         ]
        },
        {
         "marker": {
          "size": 10
         },
         "mode": "lines+markers",
         "name": "@joallenparker",
         "text": [
          "2019-10-16"
         ],
         "textfont": {
          "family": "Raleway, sans-serif"
         },
         "textposition": "top center",
         "type": "scatter",
         "uid": "ca31e9e7-550a-4c26-98e2-82959c4e1150",
         "x": [
          4
         ],
         "y": [
          16
         ]
        },
        {
         "marker": {
          "size": 10
         },
         "mode": "lines+markers",
         "name": "@vegnews",
         "text": [
          "2019-10-16",
          "2019-10-17",
          "2019-10-18"
         ],
         "textfont": {
          "family": "Raleway, sans-serif"
         },
         "textposition": "top center",
         "type": "scatter",
         "uid": "e7f8540c-2e4e-43e0-b77e-2107b38f6507",
         "x": [
          4,
          5,
          6
         ],
         "y": [
          8,
          7,
          24
         ]
        },
        {
         "marker": {
          "size": 10
         },
         "mode": "lines+markers",
         "name": "@ilovebluebell",
         "text": [
          "2019-10-17",
          "2019-10-18",
          "2019-10-19"
         ],
         "textfont": {
          "family": "Raleway, sans-serif"
         },
         "textposition": "top center",
         "type": "scatter",
         "uid": "29c312d2-cfe1-4dab-a122-e9b1b6a959b0",
         "x": [
          5,
          6,
          7
         ],
         "y": [
          462,
          120,
          25
         ]
        },
        {
         "marker": {
          "size": 10
         },
         "mode": "lines+markers",
         "name": "@jbf1755",
         "text": [
          "2019-10-17",
          "2019-10-18"
         ],
         "textfont": {
          "family": "Raleway, sans-serif"
         },
         "textposition": "top center",
         "type": "scatter",
         "uid": "0fca96df-5469-48a6-b9c3-5083d295dd9d",
         "x": [
          5,
          6
         ],
         "y": [
          140,
          24
         ]
        },
        {
         "marker": {
          "size": 10
         },
         "mode": "lines+markers",
         "name": "@metickleu",
         "text": [
          "2019-10-17",
          "2019-10-18"
         ],
         "textfont": {
          "family": "Raleway, sans-serif"
         },
         "textposition": "top center",
         "type": "scatter",
         "uid": "2df40665-1d6a-4d68-82d6-1f51f8ab4553",
         "x": [
          5,
          6
         ],
         "y": [
          84,
          24
         ]
        },
        {
         "marker": {
          "size": 10
         },
         "mode": "lines+markers",
         "name": "@uncletypewriter",
         "text": [
          "2019-10-17",
          "2019-10-18"
         ],
         "textfont": {
          "family": "Raleway, sans-serif"
         },
         "textposition": "top center",
         "type": "scatter",
         "uid": "ceb3ff78-6678-4255-8db2-e5ab00155726",
         "x": [
          5,
          6
         ],
         "y": [
          56,
          48
         ]
        },
        {
         "marker": {
          "size": 10
         },
         "mode": "lines+markers",
         "name": "@bsnapz2019",
         "text": [
          "2019-10-17"
         ],
         "textfont": {
          "family": "Raleway, sans-serif"
         },
         "textposition": "top center",
         "type": "scatter",
         "uid": "57c32d4c-5634-4573-962c-6c2efdd2b17e",
         "x": [
          5
         ],
         "y": [
          56
         ]
        },
        {
         "marker": {
          "size": 10
         },
         "mode": "lines+markers",
         "name": "@vanessa12news",
         "text": [
          "2019-10-17"
         ],
         "textfont": {
          "family": "Raleway, sans-serif"
         },
         "textposition": "top center",
         "type": "scatter",
         "uid": "e46f1520-5f00-4232-b993-0c04523f2dbc",
         "x": [
          5
         ],
         "y": [
          49
         ]
        },
        {
         "marker": {
          "size": 10
         },
         "mode": "lines+markers",
         "name": "@gnormous15",
         "text": [
          "2019-10-17"
         ],
         "textfont": {
          "family": "Raleway, sans-serif"
         },
         "textposition": "top center",
         "type": "scatter",
         "uid": "0bcfe74e-a1e0-477e-a2c3-6818575a5b60",
         "x": [
          5
         ],
         "y": [
          42
         ]
        },
        {
         "marker": {
          "size": 10
         },
         "mode": "lines+markers",
         "name": "@pavilion_road",
         "text": [
          "2019-10-17"
         ],
         "textfont": {
          "family": "Raleway, sans-serif"
         },
         "textposition": "top center",
         "type": "scatter",
         "uid": "4b2125aa-f9ff-48fd-b12c-2ae519ab6ed6",
         "x": [
          5
         ],
         "y": [
          35
         ]
        },
        {
         "marker": {
          "size": 10
         },
         "mode": "lines+markers",
         "name": "@ericaonabc13",
         "text": [
          "2019-10-17"
         ],
         "textfont": {
          "family": "Raleway, sans-serif"
         },
         "textposition": "top center",
         "type": "scatter",
         "uid": "58880c85-15fb-431b-92c2-7463ae8261fd",
         "x": [
          5
         ],
         "y": [
          35
         ]
        },
        {
         "marker": {
          "size": 10
         },
         "mode": "lines+markers",
         "name": "@joannasare",
         "text": [
          "2019-10-17"
         ],
         "textfont": {
          "family": "Raleway, sans-serif"
         },
         "textposition": "top center",
         "type": "scatter",
         "uid": "610a6738-f657-4eb0-bed2-73ea14fd836a",
         "x": [
          5
         ],
         "y": [
          35
         ]
        },
        {
         "marker": {
          "size": 10
         },
         "mode": "lines+markers",
         "name": "@cornell",
         "text": [
          "2019-10-17"
         ],
         "textfont": {
          "family": "Raleway, sans-serif"
         },
         "textposition": "top center",
         "type": "scatter",
         "uid": "77392e85-790a-4404-bb34-fec01a9f8829",
         "x": [
          5
         ],
         "y": [
          28
         ]
        },
        {
         "marker": {
          "size": 10
         },
         "mode": "lines+markers",
         "name": "@news6wkmg",
         "text": [
          "2019-10-17"
         ],
         "textfont": {
          "family": "Raleway, sans-serif"
         },
         "textposition": "top center",
         "type": "scatter",
         "uid": "5f9e1c1c-e26e-463d-a860-fee3580a097b",
         "x": [
          5
         ],
         "y": [
          21
         ]
        },
        {
         "marker": {
          "size": 10
         },
         "mode": "lines+markers",
         "name": "@dmcgale76",
         "text": [
          "2019-10-17",
          "2019-10-18"
         ],
         "textfont": {
          "family": "Raleway, sans-serif"
         },
         "textposition": "top center",
         "type": "scatter",
         "uid": "ca711ac9-9a3b-4771-a271-a7e789a8c617",
         "x": [
          5,
          6
         ],
         "y": [
          21,
          12
         ]
        },
        {
         "marker": {
          "size": 10
         },
         "mode": "lines+markers",
         "name": "@heart10looks3",
         "text": [
          "2019-10-17"
         ],
         "textfont": {
          "family": "Raleway, sans-serif"
         },
         "textposition": "top center",
         "type": "scatter",
         "uid": "cc62332a-7087-48d7-b6ac-63a6c61a7410",
         "x": [
          5
         ],
         "y": [
          21
         ]
        },
        {
         "marker": {
          "size": 10
         },
         "mode": "lines+markers",
         "name": "@bluezenbrwnskin",
         "text": [
          "2019-10-17"
         ],
         "textfont": {
          "family": "Raleway, sans-serif"
         },
         "textposition": "top center",
         "type": "scatter",
         "uid": "53c9d206-609c-42d3-9859-03f4386d273f",
         "x": [
          5
         ],
         "y": [
          21
         ]
        },
        {
         "marker": {
          "size": 10
         },
         "mode": "lines+markers",
         "name": "@nobuworldwide",
         "text": [
          "2019-10-17"
         ],
         "textfont": {
          "family": "Raleway, sans-serif"
         },
         "textposition": "top center",
         "type": "scatter",
         "uid": "ad6648d4-383d-45b5-a229-04a44a4fe6e1",
         "x": [
          5
         ],
         "y": [
          21
         ]
        },
        {
         "marker": {
          "size": 10
         },
         "mode": "lines+markers",
         "name": "@nandiniv",
         "text": [
          "2019-10-17"
         ],
         "textfont": {
          "family": "Raleway, sans-serif"
         },
         "textposition": "top center",
         "type": "scatter",
         "uid": "bb334cf0-dfe9-451b-ae51-237d4dbbe1d6",
         "x": [
          5
         ],
         "y": [
          21
         ]
        },
        {
         "marker": {
          "size": 10
         },
         "mode": "lines+markers",
         "name": "@inmykitchen_uk",
         "text": [
          "2019-10-17",
          "2019-10-18"
         ],
         "textfont": {
          "family": "Raleway, sans-serif"
         },
         "textposition": "top center",
         "type": "scatter",
         "uid": "6bc69f0a-19ae-4d26-a903-6dbd33744ad1",
         "x": [
          5,
          6
         ],
         "y": [
          14,
          18
         ]
        },
        {
         "marker": {
          "size": 10
         },
         "mode": "lines+markers",
         "name": "@samagram93",
         "text": [
          "2019-10-18",
          "2019-10-19"
         ],
         "textfont": {
          "family": "Raleway, sans-serif"
         },
         "textposition": "top center",
         "type": "scatter",
         "uid": "1b852815-4b26-44d6-b6cf-84b165a2dad6",
         "x": [
          6,
          7
         ],
         "y": [
          330,
          35
         ]
        },
        {
         "marker": {
          "size": 10
         },
         "mode": "lines+markers",
         "name": "@wowfactsoflife",
         "text": [
          "2019-10-18",
          "2019-10-19"
         ],
         "textfont": {
          "family": "Raleway, sans-serif"
         },
         "textposition": "top center",
         "type": "scatter",
         "uid": "c62389ac-1706-45da-a703-93a034bcd236",
         "x": [
          6,
          7
         ],
         "y": [
          192,
          20
         ]
        },
        {
         "marker": {
          "size": 10
         },
         "mode": "lines+markers",
         "name": "@littlenova20",
         "text": [
          "2019-10-18",
          "2019-10-19"
         ],
         "textfont": {
          "family": "Raleway, sans-serif"
         },
         "textposition": "top center",
         "type": "scatter",
         "uid": "763f8cd1-e75f-4ac5-99c5-239df788e1e4",
         "x": [
          6,
          7
         ],
         "y": [
          102,
          10
         ]
        },
        {
         "marker": {
          "size": 10
         },
         "mode": "lines+markers",
         "name": "@detective_files",
         "text": [
          "2019-10-18"
         ],
         "textfont": {
          "family": "Raleway, sans-serif"
         },
         "textposition": "top center",
         "type": "scatter",
         "uid": "38426e52-5acd-41c7-9181-0aebc1634a52",
         "x": [
          6
         ],
         "y": [
          96
         ]
        },
        {
         "marker": {
          "size": 10
         },
         "mode": "lines+markers",
         "name": "@dansharifuddin",
         "text": [
          "2019-10-18"
         ],
         "textfont": {
          "family": "Raleway, sans-serif"
         },
         "textposition": "top center",
         "type": "scatter",
         "uid": "5ff3db2a-c2c2-48b1-95a7-1790f9ddb44b",
         "x": [
          6
         ],
         "y": [
          54
         ]
        },
        {
         "marker": {
          "size": 10
         },
         "mode": "lines+markers",
         "name": "@skziest",
         "text": [
          "2019-10-18"
         ],
         "textfont": {
          "family": "Raleway, sans-serif"
         },
         "textposition": "top center",
         "type": "scatter",
         "uid": "d36a9dc8-c353-4a86-9c1a-a74d0c5ae16c",
         "x": [
          6
         ],
         "y": [
          42
         ]
        },
        {
         "marker": {
          "size": 10
         },
         "mode": "lines+markers",
         "name": "@retrocherrycoke",
         "text": [
          "2019-10-18",
          "2019-10-19"
         ],
         "textfont": {
          "family": "Raleway, sans-serif"
         },
         "textposition": "top center",
         "type": "scatter",
         "uid": "1802e2af-ec3a-4fc5-8301-bd361581a489",
         "x": [
          6,
          7
         ],
         "y": [
          30,
          45
         ]
        },
        {
         "marker": {
          "size": 10
         },
         "mode": "lines+markers",
         "name": "@fcbarcelonafl",
         "text": [
          "2019-10-18"
         ],
         "textfont": {
          "family": "Raleway, sans-serif"
         },
         "textposition": "top center",
         "type": "scatter",
         "uid": "b2daecc8-269e-42e2-b209-69d40b183d1f",
         "x": [
          6
         ],
         "y": [
          30
         ]
        },
        {
         "marker": {
          "size": 10
         },
         "mode": "lines+markers",
         "name": "@ezzhasya",
         "text": [
          "2019-10-18"
         ],
         "textfont": {
          "family": "Raleway, sans-serif"
         },
         "textposition": "top center",
         "type": "scatter",
         "uid": "1de4d7d3-ced0-46d5-978e-d02fc6ccb670",
         "x": [
          6
         ],
         "y": [
          24
         ]
        },
        {
         "marker": {
          "size": 10
         },
         "mode": "lines+markers",
         "name": "@viti_kid",
         "text": [
          "2019-10-18"
         ],
         "textfont": {
          "family": "Raleway, sans-serif"
         },
         "textposition": "top center",
         "type": "scatter",
         "uid": "98339634-d4cd-4e6b-a70d-43b808b1a94b",
         "x": [
          6
         ],
         "y": [
          24
         ]
        },
        {
         "marker": {
          "size": 10
         },
         "mode": "lines+markers",
         "name": "@hyunllama1",
         "text": [
          "2019-10-18"
         ],
         "textfont": {
          "family": "Raleway, sans-serif"
         },
         "textposition": "top center",
         "type": "scatter",
         "uid": "c819d4dc-567c-48c7-914d-4ea1785f1fc4",
         "x": [
          6
         ],
         "y": [
          24
         ]
        },
        {
         "marker": {
          "size": 10
         },
         "mode": "lines+markers",
         "name": "@smilinginventor",
         "text": [
          "2019-10-18"
         ],
         "textfont": {
          "family": "Raleway, sans-serif"
         },
         "textposition": "top center",
         "type": "scatter",
         "uid": "5d193492-0808-42fc-ba62-d551a2bd8ab4",
         "x": [
          6
         ],
         "y": [
          18
         ]
        },
        {
         "marker": {
          "size": 10
         },
         "mode": "lines+markers",
         "name": "@gankush1",
         "text": [
          "2019-10-18"
         ],
         "textfont": {
          "family": "Raleway, sans-serif"
         },
         "textposition": "top center",
         "type": "scatter",
         "uid": "371ce98c-210a-4de5-9e3a-131515969453",
         "x": [
          6
         ],
         "y": [
          18
         ]
        },
        {
         "marker": {
          "size": 10
         },
         "mode": "lines+markers",
         "name": "@cosmicblackgirl",
         "text": [
          "2019-10-18"
         ],
         "textfont": {
          "family": "Raleway, sans-serif"
         },
         "textposition": "top center",
         "type": "scatter",
         "uid": "f3179b27-e727-40df-835a-c6591c551abd",
         "x": [
          6
         ],
         "y": [
          18
         ]
        },
        {
         "marker": {
          "size": 10
         },
         "mode": "lines+markers",
         "name": "@harithjohari_",
         "text": [
          "2019-10-18",
          "2019-10-19"
         ],
         "textfont": {
          "family": "Raleway, sans-serif"
         },
         "textposition": "top center",
         "type": "scatter",
         "uid": "10e9dc47-bb9d-4d94-86ea-153a58550a46",
         "x": [
          6,
          7
         ],
         "y": [
          18,
          15
         ]
        },
        {
         "marker": {
          "size": 10
         },
         "mode": "lines+markers",
         "name": "@foodpornaddicts",
         "text": [
          "2019-10-18"
         ],
         "textfont": {
          "family": "Raleway, sans-serif"
         },
         "textposition": "top center",
         "type": "scatter",
         "uid": "4f4cf091-88e8-4694-83e0-b3248d4fb3d9",
         "x": [
          6
         ],
         "y": [
          36
         ]
        },
        {
         "marker": {
          "size": 10
         },
         "mode": "lines+markers",
         "name": "@theresasnyder19",
         "text": [
          "2019-10-18"
         ],
         "textfont": {
          "family": "Raleway, sans-serif"
         },
         "textposition": "top center",
         "type": "scatter",
         "uid": "40e0af71-7fbb-4548-b712-04c040de4287",
         "x": [
          6
         ],
         "y": [
          18
         ]
        },
        {
         "marker": {
          "size": 10
         },
         "mode": "lines+markers",
         "name": "@vej_gee",
         "text": [
          "2019-10-18"
         ],
         "textfont": {
          "family": "Raleway, sans-serif"
         },
         "textposition": "top center",
         "type": "scatter",
         "uid": "caa35cdf-f425-4914-b42b-301c8f3bc27c",
         "x": [
          6
         ],
         "y": [
          18
         ]
        },
        {
         "marker": {
          "size": 10
         },
         "mode": "lines+markers",
         "name": "@thejaxdane",
         "text": [
          "2019-10-19",
          "2019-10-20"
         ],
         "textfont": {
          "family": "Raleway, sans-serif"
         },
         "textposition": "top center",
         "type": "scatter",
         "uid": "321511f1-b875-4b8c-8d9f-2992b760bf33",
         "x": [
          7,
          8
         ],
         "y": [
          205,
          12
         ]
        },
        {
         "marker": {
          "size": 10
         },
         "mode": "lines+markers",
         "name": "@chaenmail",
         "text": [
          "2019-10-19"
         ],
         "textfont": {
          "family": "Raleway, sans-serif"
         },
         "textposition": "top center",
         "type": "scatter",
         "uid": "7d1abdc0-5330-4dbb-a4dc-aa760fe35f18",
         "x": [
          7
         ],
         "y": [
          130
         ]
        },
        {
         "marker": {
          "size": 10
         },
         "mode": "lines+markers",
         "name": "@venusjinnie",
         "text": [
          "2019-10-19"
         ],
         "textfont": {
          "family": "Raleway, sans-serif"
         },
         "textposition": "top center",
         "type": "scatter",
         "uid": "0fe562af-d4bf-4c88-81fa-22fd22172750",
         "x": [
          7
         ],
         "y": [
          130
         ]
        },
        {
         "marker": {
          "size": 10
         },
         "mode": "lines+markers",
         "name": "@x4milly",
         "text": [
          "2019-10-19",
          "2019-10-20"
         ],
         "textfont": {
          "family": "Raleway, sans-serif"
         },
         "textposition": "top center",
         "type": "scatter",
         "uid": "60973313-f2a1-46de-9719-420c3b0c3534",
         "x": [
          7,
          8
         ],
         "y": [
          80,
          120
         ]
        },
        {
         "marker": {
          "size": 10
         },
         "mode": "lines+markers",
         "name": "@kateness8",
         "text": [
          "2019-10-19"
         ],
         "textfont": {
          "family": "Raleway, sans-serif"
         },
         "textposition": "top center",
         "type": "scatter",
         "uid": "84a3f783-18a8-4803-a5e4-c1d0be5922a7",
         "x": [
          7
         ],
         "y": [
          80
         ]
        },
        {
         "marker": {
          "size": 10
         },
         "mode": "lines+markers",
         "name": "@northernovation",
         "text": [
          "2019-10-19",
          "2019-10-20"
         ],
         "textfont": {
          "family": "Raleway, sans-serif"
         },
         "textposition": "top center",
         "type": "scatter",
         "uid": "f0f3d01b-dee5-4d89-a6e6-08206d473c62",
         "x": [
          7,
          8
         ],
         "y": [
          55,
          28
         ]
        },
        {
         "marker": {
          "size": 10
         },
         "mode": "lines+markers",
         "name": "@bkikulina",
         "text": [
          "2019-10-19"
         ],
         "textfont": {
          "family": "Raleway, sans-serif"
         },
         "textposition": "top center",
         "type": "scatter",
         "uid": "82966d9c-8045-44c9-bf87-64ece810bae0",
         "x": [
          7
         ],
         "y": [
          40
         ]
        },
        {
         "marker": {
          "size": 10
         },
         "mode": "lines+markers",
         "name": "@jamesdrodger",
         "text": [
          "2019-10-19"
         ],
         "textfont": {
          "family": "Raleway, sans-serif"
         },
         "textposition": "top center",
         "type": "scatter",
         "uid": "13529552-b96a-465c-acd3-ca429345d166",
         "x": [
          7
         ],
         "y": [
          40
         ]
        },
        {
         "marker": {
          "size": 10
         },
         "mode": "lines+markers",
         "name": "@pixielixe",
         "text": [
          "2019-10-19"
         ],
         "textfont": {
          "family": "Raleway, sans-serif"
         },
         "textposition": "top center",
         "type": "scatter",
         "uid": "309dde5b-4cf2-47ad-bf4b-db33aa4587c1",
         "x": [
          7
         ],
         "y": [
          30
         ]
        },
        {
         "marker": {
          "size": 10
         },
         "mode": "lines+markers",
         "name": "@chrisburtchef",
         "text": [
          "2019-10-19",
          "2019-10-20"
         ],
         "textfont": {
          "family": "Raleway, sans-serif"
         },
         "textposition": "top center",
         "type": "scatter",
         "uid": "99f1fc86-a8e2-45c4-9be3-4bd6b7ab1e4a",
         "x": [
          7,
          8
         ],
         "y": [
          20,
          8
         ]
        },
        {
         "marker": {
          "size": 10
         },
         "mode": "lines+markers",
         "name": "@samantha_giese",
         "text": [
          "2019-10-19"
         ],
         "textfont": {
          "family": "Raleway, sans-serif"
         },
         "textposition": "top center",
         "type": "scatter",
         "uid": "43f241b7-f214-4d69-a464-f767dbea5ffa",
         "x": [
          7
         ],
         "y": [
          20
         ]
        },
        {
         "marker": {
          "size": 10
         },
         "mode": "lines+markers",
         "name": "@montyjustchilln",
         "text": [
          "2019-10-19"
         ],
         "textfont": {
          "family": "Raleway, sans-serif"
         },
         "textposition": "top center",
         "type": "scatter",
         "uid": "1fb0279e-edef-469e-b9bf-680f6d133fb2",
         "x": [
          7
         ],
         "y": [
          20
         ]
        },
        {
         "marker": {
          "size": 10
         },
         "mode": "lines+markers",
         "name": "@coldrockaspley",
         "text": [
          "2019-10-19",
          "2019-10-21"
         ],
         "textfont": {
          "family": "Raleway, sans-serif"
         },
         "textposition": "top center",
         "type": "scatter",
         "uid": "27afc4dc-8097-4a9b-a674-111fc277d3ba",
         "x": [
          7,
          9
         ],
         "y": [
          10,
          28
         ]
        },
        {
         "marker": {
          "size": 10
         },
         "mode": "lines+markers",
         "name": "@gayhefner",
         "text": [
          "2019-10-20",
          "2019-10-21"
         ],
         "textfont": {
          "family": "Raleway, sans-serif"
         },
         "textposition": "top center",
         "type": "scatter",
         "uid": "e527d678-4569-4d44-9136-bd99370fbf7b",
         "x": [
          8,
          9
         ],
         "y": [
          304,
          2114
         ]
        },
        {
         "marker": {
          "size": 10
         },
         "mode": "lines+markers",
         "name": "@unicef",
         "text": [
          "2019-10-20",
          "2019-10-21"
         ],
         "textfont": {
          "family": "Raleway, sans-serif"
         },
         "textposition": "top center",
         "type": "scatter",
         "uid": "8c39f8eb-b0d2-4248-b2a1-12723f271b4d",
         "x": [
          8,
          9
         ],
         "y": [
          224,
          28
         ]
        },
        {
         "marker": {
          "size": 10
         },
         "mode": "lines+markers",
         "name": "@andlikelaura",
         "text": [
          "2019-10-20",
          "2019-10-21"
         ],
         "textfont": {
          "family": "Raleway, sans-serif"
         },
         "textposition": "top center",
         "type": "scatter",
         "uid": "76cdd4a6-c199-4425-bd68-9ab829e41db2",
         "x": [
          8,
          9
         ],
         "y": [
          204,
          231
         ]
        },
        {
         "marker": {
          "size": 10
         },
         "mode": "lines+markers",
         "name": "@kpophappenings_",
         "text": [
          "2019-10-20",
          "2019-10-21"
         ],
         "textfont": {
          "family": "Raleway, sans-serif"
         },
         "textposition": "top center",
         "type": "scatter",
         "uid": "002c849f-9e2f-44bf-992f-d9ce6781d3b9",
         "x": [
          8,
          9
         ],
         "y": [
          144,
          6202
         ]
        },
        {
         "marker": {
          "size": 10
         },
         "mode": "lines+markers",
         "name": "@sammystela",
         "text": [
          "2019-10-20",
          "2019-10-21"
         ],
         "textfont": {
          "family": "Raleway, sans-serif"
         },
         "textposition": "top center",
         "type": "scatter",
         "uid": "966e76a0-37f3-49e4-85a6-2bb448ac6867",
         "x": [
          8,
          9
         ],
         "y": [
          144,
          21
         ]
        },
        {
         "marker": {
          "size": 10
         },
         "mode": "lines+markers",
         "name": "@grampasweater",
         "text": [
          "2019-10-20",
          "2019-10-21"
         ],
         "textfont": {
          "family": "Raleway, sans-serif"
         },
         "textposition": "top center",
         "type": "scatter",
         "uid": "1abac6b1-0f66-4ff1-8ea2-cd60d5dda557",
         "x": [
          8,
          9
         ],
         "y": [
          92,
          42
         ]
        },
        {
         "marker": {
          "size": 10
         },
         "mode": "lines+markers",
         "name": "@galaxyseungmin",
         "text": [
          "2019-10-20"
         ],
         "textfont": {
          "family": "Raleway, sans-serif"
         },
         "textposition": "top center",
         "type": "scatter",
         "uid": "b5cb7407-02f4-4911-a937-95f5d4a6c780",
         "x": [
          8
         ],
         "y": [
          92
         ]
        },
        {
         "marker": {
          "size": 10
         },
         "mode": "lines+markers",
         "name": "@bloomyngjm",
         "text": [
          "2019-10-20"
         ],
         "textfont": {
          "family": "Raleway, sans-serif"
         },
         "textposition": "top center",
         "type": "scatter",
         "uid": "eac3a0ef-3408-4e18-ab7d-80269a76a1a9",
         "x": [
          8
         ],
         "y": [
          56
         ]
        },
        {
         "marker": {
          "size": 10
         },
         "mode": "lines+markers",
         "name": "@ihpower",
         "text": [
          "2019-10-20"
         ],
         "textfont": {
          "family": "Raleway, sans-serif"
         },
         "textposition": "top center",
         "type": "scatter",
         "uid": "e2823ed1-e807-4e94-b89f-360b91f033cd",
         "x": [
          8
         ],
         "y": [
          32
         ]
        },
        {
         "marker": {
          "size": 10
         },
         "mode": "lines+markers",
         "name": "@soobakery",
         "text": [
          "2019-10-20"
         ],
         "textfont": {
          "family": "Raleway, sans-serif"
         },
         "textposition": "top center",
         "type": "scatter",
         "uid": "fb77c8ee-71f6-4c8f-86f4-e6a8097e5ac0",
         "x": [
          8
         ],
         "y": [
          32
         ]
        },
        {
         "marker": {
          "size": 10
         },
         "mode": "lines+markers",
         "name": "@ateneodsws",
         "text": [
          "2019-10-20",
          "2019-10-21"
         ],
         "textfont": {
          "family": "Raleway, sans-serif"
         },
         "textposition": "top center",
         "type": "scatter",
         "uid": "61a43c68-887f-43ff-a162-61464bdd9673",
         "x": [
          8,
          9
         ],
         "y": [
          20,
          21
         ]
        },
        {
         "marker": {
          "size": 10
         },
         "mode": "lines+markers",
         "name": "@taniarubiod",
         "text": [
          "2019-10-20"
         ],
         "textfont": {
          "family": "Raleway, sans-serif"
         },
         "textposition": "top center",
         "type": "scatter",
         "uid": "30b1ede0-73d2-4ce2-9445-7d45cbd40d60",
         "x": [
          8
         ],
         "y": [
          20
         ]
        },
        {
         "marker": {
          "size": 10
         },
         "mode": "lines+markers",
         "name": "@whiffleyeol",
         "text": [
          "2019-10-20"
         ],
         "textfont": {
          "family": "Raleway, sans-serif"
         },
         "textposition": "top center",
         "type": "scatter",
         "uid": "4f1c4695-fa83-4b33-9e24-093568b2ed6c",
         "x": [
          8
         ],
         "y": [
          20
         ]
        },
        {
         "marker": {
          "size": 10
         },
         "mode": "lines+markers",
         "name": "@cookglobal",
         "text": [
          "2019-10-20",
          "2019-10-21"
         ],
         "textfont": {
          "family": "Raleway, sans-serif"
         },
         "textposition": "top center",
         "type": "scatter",
         "uid": "d0e2e7ce-2d29-4b1d-af15-df9b601489af",
         "x": [
          8,
          9
         ],
         "y": [
          16,
          14
         ]
        },
        {
         "marker": {
          "size": 10
         },
         "mode": "lines+markers",
         "name": "@torontovino",
         "text": [
          "2019-10-20"
         ],
         "textfont": {
          "family": "Raleway, sans-serif"
         },
         "textposition": "top center",
         "type": "scatter",
         "uid": "5efd296a-b5ad-45f1-8b74-194671960866",
         "x": [
          8
         ],
         "y": [
          16
         ]
        },
        {
         "marker": {
          "size": 10
         },
         "mode": "lines+markers",
         "name": "@foodpornsx",
         "text": [
          "2019-10-21"
         ],
         "textfont": {
          "family": "Raleway, sans-serif"
         },
         "textposition": "top center",
         "type": "scatter",
         "uid": "0edd1652-b522-4bca-ad38-212fb4273243",
         "x": [
          9
         ],
         "y": [
          1561
         ]
        },
        {
         "marker": {
          "size": 10
         },
         "mode": "lines+markers",
         "name": "@euphorihan",
         "text": [
          "2019-10-21"
         ],
         "textfont": {
          "family": "Raleway, sans-serif"
         },
         "textposition": "top center",
         "type": "scatter",
         "uid": "3cdd3b6a-4b47-4517-927a-e347ef8da102",
         "x": [
          9
         ],
         "y": [
          168
         ]
        },
        {
         "marker": {
          "size": 10
         },
         "mode": "lines+markers",
         "name": "@hertlife",
         "text": [
          "2019-10-21"
         ],
         "textfont": {
          "family": "Raleway, sans-serif"
         },
         "textposition": "top center",
         "type": "scatter",
         "uid": "5a51e6f1-f5fa-4885-b30c-c825dc885dce",
         "x": [
          9
         ],
         "y": [
          154
         ]
        },
        {
         "marker": {
          "size": 10
         },
         "mode": "lines+markers",
         "name": "@letestpic",
         "text": [
          "2019-10-21"
         ],
         "textfont": {
          "family": "Raleway, sans-serif"
         },
         "textposition": "top center",
         "type": "scatter",
         "uid": "73c6f753-b905-4308-adbd-62c88393c676",
         "x": [
          9
         ],
         "y": [
          70
         ]
        },
        {
         "marker": {
          "size": 10
         },
         "mode": "lines+markers",
         "name": "@cnbc",
         "text": [
          "2019-10-21"
         ],
         "textfont": {
          "family": "Raleway, sans-serif"
         },
         "textposition": "top center",
         "type": "scatter",
         "uid": "b1668f55-2751-4a55-99a6-6da6149d162d",
         "x": [
          9
         ],
         "y": [
          70
         ]
        },
        {
         "marker": {
          "size": 10
         },
         "mode": "lines+markers",
         "name": "@btscanchokeme",
         "text": [
          "2019-10-21"
         ],
         "textfont": {
          "family": "Raleway, sans-serif"
         },
         "textposition": "top center",
         "type": "scatter",
         "uid": "e37110a3-52c8-4df5-b7ac-0b5f9dddc656",
         "x": [
          9
         ],
         "y": [
          49
         ]
        },
        {
         "marker": {
          "size": 10
         },
         "mode": "lines+markers",
         "name": "@erineph",
         "text": [
          "2019-10-21"
         ],
         "textfont": {
          "family": "Raleway, sans-serif"
         },
         "textposition": "top center",
         "type": "scatter",
         "uid": "45c52811-f41a-493e-899a-a0148365a415",
         "x": [
          9
         ],
         "y": [
          42
         ]
        },
        {
         "marker": {
          "size": 10
         },
         "mode": "lines+markers",
         "name": "@smile64661628",
         "text": [
          "2019-10-21"
         ],
         "textfont": {
          "family": "Raleway, sans-serif"
         },
         "textposition": "top center",
         "type": "scatter",
         "uid": "89ed9a58-288d-4cfa-8dfd-4fa04556a989",
         "x": [
          9
         ],
         "y": [
          42
         ]
        },
        {
         "marker": {
          "size": 10
         },
         "mode": "lines+markers",
         "name": "@fassasss",
         "text": [
          "2019-10-21"
         ],
         "textfont": {
          "family": "Raleway, sans-serif"
         },
         "textposition": "top center",
         "type": "scatter",
         "uid": "2b511d5d-561b-4591-b454-ea9ec5aea1fe",
         "x": [
          9
         ],
         "y": [
          35
         ]
        },
        {
         "marker": {
          "size": 10
         },
         "mode": "lines+markers",
         "name": "@keithawynn",
         "text": [
          "2019-10-21"
         ],
         "textfont": {
          "family": "Raleway, sans-serif"
         },
         "textposition": "top center",
         "type": "scatter",
         "uid": "9d15e516-cc2b-4720-a0b0-a6bf16e68aad",
         "x": [
          9
         ],
         "y": [
          28
         ]
        },
        {
         "marker": {
          "size": 10
         },
         "mode": "lines+markers",
         "name": "@trubuiar",
         "text": [
          "2019-10-21"
         ],
         "textfont": {
          "family": "Raleway, sans-serif"
         },
         "textposition": "top center",
         "type": "scatter",
         "uid": "b48ead43-f468-4999-8cd4-ccaee9425cfc",
         "x": [
          9
         ],
         "y": [
          28
         ]
        },
        {
         "marker": {
          "size": 10
         },
         "mode": "lines+markers",
         "name": "@diewaid",
         "text": [
          "2019-10-21"
         ],
         "textfont": {
          "family": "Raleway, sans-serif"
         },
         "textposition": "top center",
         "type": "scatter",
         "uid": "d26c9210-6f64-4ada-aa02-158b8b6add03",
         "x": [
          9
         ],
         "y": [
          28
         ]
        },
        {
         "marker": {
          "size": 10
         },
         "mode": "lines+markers",
         "name": "@msmphonare",
         "text": [
          "2019-10-21"
         ],
         "textfont": {
          "family": "Raleway, sans-serif"
         },
         "textposition": "top center",
         "type": "scatter",
         "uid": "55875ae2-731d-4791-828c-94b9ad971abb",
         "x": [
          9
         ],
         "y": [
          21
         ]
        },
        {
         "marker": {
          "size": 10
         },
         "mode": "lines+markers",
         "name": "@aabbigail_p",
         "text": [
          "2019-10-21"
         ],
         "textfont": {
          "family": "Raleway, sans-serif"
         },
         "textposition": "top center",
         "type": "scatter",
         "uid": "0444af50-af5d-4db5-aeff-7418fd421919",
         "x": [
          9
         ],
         "y": [
          21
         ]
        },
        {
         "marker": {
          "size": 10
         },
         "mode": "lines+markers",
         "name": "@fairyxjm",
         "text": [
          "2019-10-21"
         ],
         "textfont": {
          "family": "Raleway, sans-serif"
         },
         "textposition": "top center",
         "type": "scatter",
         "uid": "45ef1181-927f-42c2-8a0f-137c295eaf19",
         "x": [
          9
         ],
         "y": [
          21
         ]
        }
       ],
       "layout": {}
      },
      "text/html": [
       "<div>\n",
       "        \n",
       "        \n",
       "            <div id=\"ac7e2337-e2c6-48c3-901a-3e8c54bf760f\" class=\"plotly-graph-div\" style=\"height:525px; width:100%;\"></div>\n",
       "            <script type=\"text/javascript\">\n",
       "                require([\"plotly\"], function(Plotly) {\n",
       "                    window.PLOTLYENV=window.PLOTLYENV || {};\n",
       "                    window.PLOTLYENV.BASE_URL='https://plot.ly';\n",
       "                    \n",
       "                if (document.getElementById(\"ac7e2337-e2c6-48c3-901a-3e8c54bf760f\")) {\n",
       "                    Plotly.newPlot(\n",
       "                        'ac7e2337-e2c6-48c3-901a-3e8c54bf760f',\n",
       "                        [{\"marker\": {\"size\": 10}, \"mode\": \"lines+markers\", \"name\": \"@kimkardashian\", \"text\": [\"2019-10-12\", \"2019-10-13\", \"2019-10-14\"], \"textfont\": {\"family\": \"Raleway, sans-serif\"}, \"textposition\": \"top center\", \"type\": \"scatter\", \"uid\": \"b6dc7619-cb2d-4fa7-8ca6-eb1ee12923c7\", \"x\": [0, 1, 2], \"y\": [406, 176, 36]}, {\"marker\": {\"size\": 10}, \"mode\": \"lines+markers\", \"name\": \"@geulisceunah\", \"text\": [\"2019-10-12\", \"2019-10-13\"], \"textfont\": {\"family\": \"Raleway, sans-serif\"}, \"textposition\": \"top center\", \"type\": \"scatter\", \"uid\": \"d58e0920-5fbd-4767-abb8-26f49a1d6fe2\", \"x\": [0, 1], \"y\": [42, 56]}, {\"marker\": {\"size\": 10}, \"mode\": \"lines+markers\", \"name\": \"@_harururu\", \"text\": [\"2019-10-12\", \"2019-10-13\"], \"textfont\": {\"family\": \"Raleway, sans-serif\"}, \"textposition\": \"top center\", \"type\": \"scatter\", \"uid\": \"094149e6-241d-4e14-8271-a3725ffeba5e\", \"x\": [0, 1], \"y\": [28, 16]}, {\"marker\": {\"size\": 10}, \"mode\": \"lines+markers\", \"name\": \"@yunhobub\", \"text\": [\"2019-10-12\", \"2019-10-13\"], \"textfont\": {\"family\": \"Raleway, sans-serif\"}, \"textposition\": \"top center\", \"type\": \"scatter\", \"uid\": \"163626b1-d691-4a1f-acc4-809e4f3a67e5\", \"x\": [0, 1], \"y\": [21, 32]}, {\"marker\": {\"size\": 10}, \"mode\": \"lines+markers\", \"name\": \"@ketodietapp\", \"text\": [\"2019-10-12\", \"2019-10-17\"], \"textfont\": {\"family\": \"Raleway, sans-serif\"}, \"textposition\": \"top center\", \"type\": \"scatter\", \"uid\": \"4be2db46-f87a-478d-a294-1cd166e384c9\", \"x\": [0, 5], \"y\": [21, 35]}, {\"marker\": {\"size\": 10}, \"mode\": \"lines+markers\", \"name\": \"@foodislyfph\", \"text\": [\"2019-10-12\", \"2019-10-13\", \"2019-10-20\"], \"textfont\": {\"family\": \"Raleway, sans-serif\"}, \"textposition\": \"top center\", \"type\": \"scatter\", \"uid\": \"82e8b1b1-d78f-4adf-b2d5-89dffc89fd90\", \"x\": [0, 1, 8], \"y\": [14, 56, 12]}, {\"marker\": {\"size\": 10}, \"mode\": \"lines+markers\", \"name\": \"@fairievante\", \"text\": [\"2019-10-12\", \"2019-10-13\"], \"textfont\": {\"family\": \"Raleway, sans-serif\"}, \"textposition\": \"top center\", \"type\": \"scatter\", \"uid\": \"0246d92a-94aa-4d48-86f3-145f513863eb\", \"x\": [0, 1], \"y\": [7, 160]}, {\"marker\": {\"size\": 10}, \"mode\": \"lines+markers\", \"name\": \"@landoffacts\", \"text\": [\"2019-10-12\", \"2019-10-13\", \"2019-10-15\", \"2019-10-17\", \"2019-10-18\"], \"textfont\": {\"family\": \"Raleway, sans-serif\"}, \"textposition\": \"top center\", \"type\": \"scatter\", \"uid\": \"bdf7768e-c6fd-4e44-9d9c-f47a9a9d6538\", \"x\": [0, 1, 3, 5, 6], \"y\": [21, 232, 42, 182, 18]}, {\"marker\": {\"size\": 10}, \"mode\": \"lines+markers\", \"name\": \"@fact\", \"text\": [\"2019-10-13\", \"2019-10-14\", \"2019-10-21\"], \"textfont\": {\"family\": \"Raleway, sans-serif\"}, \"textposition\": \"top center\", \"type\": \"scatter\", \"uid\": \"9b387f9c-69f5-4173-8fde-cba09e58bf7f\", \"x\": [1, 2, 9], \"y\": [1336, 99, 1239]}, {\"marker\": {\"size\": 10}, \"mode\": \"lines+markers\", \"name\": \"@jonghosneckmole\", \"text\": [\"2019-10-13\", \"2019-10-14\", \"2019-10-15\", \"2019-10-17\"], \"textfont\": {\"family\": \"Raleway, sans-serif\"}, \"textposition\": \"top center\", \"type\": \"scatter\", \"uid\": \"3ea153c2-9887-4bd8-a578-6d487d7fb02f\", \"x\": [1, 2, 3, 5], \"y\": [400, 63, 18, 21]}, {\"marker\": {\"size\": 10}, \"mode\": \"lines+markers\", \"name\": \"@awkwardgoogle\", \"text\": [\"2019-10-13\"], \"textfont\": {\"family\": \"Raleway, sans-serif\"}, \"textposition\": \"top center\", \"type\": \"scatter\", \"uid\": \"2ae46f93-c0db-4a10-82db-6e27ee16366a\", \"x\": [1], \"y\": [288]}, {\"marker\": {\"size\": 10}, \"mode\": \"lines+markers\", \"name\": \"@anebhel14\", \"text\": [\"2019-10-13\"], \"textfont\": {\"family\": \"Raleway, sans-serif\"}, \"textposition\": \"top center\", \"type\": \"scatter\", \"uid\": \"fa96b42f-8abd-4c2a-905e-078bea0c2e8d\", \"x\": [1], \"y\": [128]}, {\"marker\": {\"size\": 10}, \"mode\": \"lines+markers\", \"name\": \"@jimintyy\", \"text\": [\"2019-10-13\"], \"textfont\": {\"family\": \"Raleway, sans-serif\"}, \"textposition\": \"top center\", \"type\": \"scatter\", \"uid\": \"ddf4b3b2-9865-40e8-9078-2000d0ee29e8\", \"x\": [1], \"y\": [64]}, {\"marker\": {\"size\": 10}, \"mode\": \"lines+markers\", \"name\": \"@darth_vaderno1\", \"text\": [\"2019-10-13\", \"2019-10-14\"], \"textfont\": {\"family\": \"Raleway, sans-serif\"}, \"textposition\": \"top center\", \"type\": \"scatter\", \"uid\": \"2ed47c12-4b3a-47fa-934b-3cc9e759337a\", \"x\": [1, 2], \"y\": [56, 27]}, {\"marker\": {\"size\": 10}, \"mode\": \"lines+markers\", \"name\": \"@skylarr_kleinn\", \"text\": [\"2019-10-13\", \"2019-10-14\", \"2019-10-15\", \"2019-10-16\"], \"textfont\": {\"family\": \"Raleway, sans-serif\"}, \"textposition\": \"top center\", \"type\": \"scatter\", \"uid\": \"611a8698-d1da-4470-bff3-61ffe0958a62\", \"x\": [1, 2, 3, 4], \"y\": [56, 225, 33, 12]}, {\"marker\": {\"size\": 10}, \"mode\": \"lines+markers\", \"name\": \"@chookook\", \"text\": [\"2019-10-13\", \"2019-10-14\", \"2019-10-15\"], \"textfont\": {\"family\": \"Raleway, sans-serif\"}, \"textposition\": \"top center\", \"type\": \"scatter\", \"uid\": \"223daf5f-f38e-4a43-b6dd-a648de92de38\", \"x\": [1, 2, 3], \"y\": [48, 639, 15]}, {\"marker\": {\"size\": 10}, \"mode\": \"lines+markers\", \"name\": \"@bieberftonfroy\", \"text\": [\"2019-10-13\"], \"textfont\": {\"family\": \"Raleway, sans-serif\"}, \"textposition\": \"top center\", \"type\": \"scatter\", \"uid\": \"ae71f04c-b02f-45be-99dc-8b39562be1fb\", \"x\": [1], \"y\": [48]}, {\"marker\": {\"size\": 10}, \"mode\": \"lines+markers\", \"name\": \"@philyeomans\", \"text\": [\"2019-10-13\"], \"textfont\": {\"family\": \"Raleway, sans-serif\"}, \"textposition\": \"top center\", \"type\": \"scatter\", \"uid\": \"54fe156e-9217-49db-b141-cc06959da73f\", \"x\": [1], \"y\": [40]}, {\"marker\": {\"size\": 10}, \"mode\": \"lines+markers\", \"name\": \"@factsseungmin\", \"text\": [\"2019-10-13\", \"2019-10-14\"], \"textfont\": {\"family\": \"Raleway, sans-serif\"}, \"textposition\": \"top center\", \"type\": \"scatter\", \"uid\": \"ee499b04-55bf-47d0-a804-7b9aca515406\", \"x\": [1, 2], \"y\": [40, 36]}, {\"marker\": {\"size\": 10}, \"mode\": \"lines+markers\", \"name\": \"@rivaled_\", \"text\": [\"2019-10-13\"], \"textfont\": {\"family\": \"Raleway, sans-serif\"}, \"textposition\": \"top center\", \"type\": \"scatter\", \"uid\": \"71833611-f9e2-48af-8637-47448e00284d\", \"x\": [1], \"y\": [40]}, {\"marker\": {\"size\": 10}, \"mode\": \"lines+markers\", \"name\": \"@emirichuyt\", \"text\": [\"2019-10-13\", \"2019-10-14\"], \"textfont\": {\"family\": \"Raleway, sans-serif\"}, \"textposition\": \"top center\", \"type\": \"scatter\", \"uid\": \"ecab0616-59eb-4f2b-b3ae-90a12592ec7a\", \"x\": [1, 2], \"y\": [32, 18]}, {\"marker\": {\"size\": 10}, \"mode\": \"lines+markers\", \"name\": \"@justdawnm\", \"text\": [\"2019-10-13\"], \"textfont\": {\"family\": \"Raleway, sans-serif\"}, \"textposition\": \"top center\", \"type\": \"scatter\", \"uid\": \"dcde17a9-ac39-4238-89b9-6e217b2a86db\", \"x\": [1], \"y\": [32]}, {\"marker\": {\"size\": 10}, \"mode\": \"lines+markers\", \"name\": \"@oprahmagazine\", \"text\": [\"2019-10-13\", \"2019-10-15\", \"2019-10-17\", \"2019-10-18\", \"2019-10-19\"], \"textfont\": {\"family\": \"Raleway, sans-serif\"}, \"textposition\": \"top center\", \"type\": \"scatter\", \"uid\": \"d1a55442-c1dc-476f-bfd8-c4d419d10662\", \"x\": [1, 3, 5, 6, 7], \"y\": [24, 9, 14, 12, 20]}, {\"marker\": {\"size\": 10}, \"mode\": \"lines+markers\", \"name\": \"@ayshahbukar\", \"text\": [\"2019-10-13\"], \"textfont\": {\"family\": \"Raleway, sans-serif\"}, \"textposition\": \"top center\", \"type\": \"scatter\", \"uid\": \"199546bd-e61e-426a-b5c6-609f59cab9ef\", \"x\": [1], \"y\": [24]}, {\"marker\": {\"size\": 10}, \"mode\": \"lines+markers\", \"name\": \"@batman007562411\", \"text\": [\"2019-10-13\", \"2019-10-15\"], \"textfont\": {\"family\": \"Raleway, sans-serif\"}, \"textposition\": \"top center\", \"type\": \"scatter\", \"uid\": \"f27fcd79-3b9d-4768-813b-fb2177f43060\", \"x\": [1, 3], \"y\": [24, 3]}, {\"marker\": {\"size\": 10}, \"mode\": \"lines+markers\", \"name\": \"@larissafae\", \"text\": [\"2019-10-13\"], \"textfont\": {\"family\": \"Raleway, sans-serif\"}, \"textposition\": \"top center\", \"type\": \"scatter\", \"uid\": \"565028ea-ea0f-4133-bd31-e588ce56b31f\", \"x\": [1], \"y\": [24]}, {\"marker\": {\"size\": 10}, \"mode\": \"lines+markers\", \"name\": \"@mo49alshaif\", \"text\": [\"2019-10-13\"], \"textfont\": {\"family\": \"Raleway, sans-serif\"}, \"textposition\": \"top center\", \"type\": \"scatter\", \"uid\": \"5954b909-521c-4c2c-a9f9-4855c775b185\", \"x\": [1], \"y\": [16]}, {\"marker\": {\"size\": 10}, \"mode\": \"lines+markers\", \"name\": \"@ag611127\", \"text\": [\"2019-10-13\"], \"textfont\": {\"family\": \"Raleway, sans-serif\"}, \"textposition\": \"top center\", \"type\": \"scatter\", \"uid\": \"6a89a061-7b7e-4196-b824-318c315e7f5c\", \"x\": [1], \"y\": [16]}, {\"marker\": {\"size\": 10}, \"mode\": \"lines+markers\", \"name\": \"@nouqdubai\", \"text\": [\"2019-10-13\"], \"textfont\": {\"family\": \"Raleway, sans-serif\"}, \"textposition\": \"top center\", \"type\": \"scatter\", \"uid\": \"98e08543-c300-4a19-8043-246da34518da\", \"x\": [1], \"y\": [16]}, {\"marker\": {\"size\": 10}, \"mode\": \"lines+markers\", \"name\": \"@jamescraigmyle\", \"text\": [\"2019-10-14\", \"2019-10-15\"], \"textfont\": {\"family\": \"Raleway, sans-serif\"}, \"textposition\": \"top center\", \"type\": \"scatter\", \"uid\": \"13f726a1-03ac-4045-9d51-c4258b7eee84\", \"x\": [2, 3], \"y\": [198, 18]}, {\"marker\": {\"size\": 10}, \"mode\": \"lines+markers\", \"name\": \"@flooderino\", \"text\": [\"2019-10-14\"], \"textfont\": {\"family\": \"Raleway, sans-serif\"}, \"textposition\": \"top center\", \"type\": \"scatter\", \"uid\": \"de0ecb4e-b36c-4823-a004-4b510a72dd04\", \"x\": [2], \"y\": [117]}, {\"marker\": {\"size\": 10}, \"mode\": \"lines+markers\", \"name\": \"@sujjjwqx3znqkyj\", \"text\": [\"2019-10-14\", \"2019-10-16\", \"2019-10-20\"], \"textfont\": {\"family\": \"Raleway, sans-serif\"}, \"textposition\": \"top center\", \"type\": \"scatter\", \"uid\": \"8df13421-c45d-46f8-a600-1fd89a608a14\", \"x\": [2, 4, 8], \"y\": [81, 24, 16]}, {\"marker\": {\"size\": 10}, \"mode\": \"lines+markers\", \"name\": \"@chipichipibmbn\", \"text\": [\"2019-10-14\", \"2019-10-15\", \"2019-10-16\"], \"textfont\": {\"family\": \"Raleway, sans-serif\"}, \"textposition\": \"top center\", \"type\": \"scatter\", \"uid\": \"5cd2b5dc-d499-4af4-ba8b-79fcf2744980\", \"x\": [2, 3, 4], \"y\": [63, 15, 8]}, {\"marker\": {\"size\": 10}, \"mode\": \"lines+markers\", \"name\": \"@hasmitarora\", \"text\": [\"2019-10-14\"], \"textfont\": {\"family\": \"Raleway, sans-serif\"}, \"textposition\": \"top center\", \"type\": \"scatter\", \"uid\": \"fa28f4fe-8ac9-4dd3-ac63-6aa343176252\", \"x\": [2], \"y\": [54]}, {\"marker\": {\"size\": 10}, \"mode\": \"lines+markers\", \"name\": \"@thesun\", \"text\": [\"2019-10-14\"], \"textfont\": {\"family\": \"Raleway, sans-serif\"}, \"textposition\": \"top center\", \"type\": \"scatter\", \"uid\": \"92300eab-eb15-4a71-9347-a02297568bd6\", \"x\": [2], \"y\": [45]}, {\"marker\": {\"size\": 10}, \"mode\": \"lines+markers\", \"name\": \"@natalieptay\", \"text\": [\"2019-10-14\"], \"textfont\": {\"family\": \"Raleway, sans-serif\"}, \"textposition\": \"top center\", \"type\": \"scatter\", \"uid\": \"54209aa6-df97-446b-aa1b-10ac765ec4d1\", \"x\": [2], \"y\": [45]}, {\"marker\": {\"size\": 10}, \"mode\": \"lines+markers\", \"name\": \"@denniskwilliams\", \"text\": [\"2019-10-14\"], \"textfont\": {\"family\": \"Raleway, sans-serif\"}, \"textposition\": \"top center\", \"type\": \"scatter\", \"uid\": \"8979418b-96ce-486d-8fb4-a6f39263a118\", \"x\": [2], \"y\": [45]}, {\"marker\": {\"size\": 10}, \"mode\": \"lines+markers\", \"name\": \"@wrightsbaking\", \"text\": [\"2019-10-14\"], \"textfont\": {\"family\": \"Raleway, sans-serif\"}, \"textposition\": \"top center\", \"type\": \"scatter\", \"uid\": \"cfdc6ad6-8501-4fb4-86c0-9302e09acf6b\", \"x\": [2], \"y\": [36]}, {\"marker\": {\"size\": 10}, \"mode\": \"lines+markers\", \"name\": \"@jmudukesvote\", \"text\": [\"2019-10-14\"], \"textfont\": {\"family\": \"Raleway, sans-serif\"}, \"textposition\": \"top center\", \"type\": \"scatter\", \"uid\": \"cbac9e6a-137a-43c5-8085-5d2fdfbb5bc7\", \"x\": [2], \"y\": [36]}, {\"marker\": {\"size\": 10}, \"mode\": \"lines+markers\", \"name\": \"@visitfelixstowe\", \"text\": [\"2019-10-14\", \"2019-10-15\", \"2019-10-16\"], \"textfont\": {\"family\": \"Raleway, sans-serif\"}, \"textposition\": \"top center\", \"type\": \"scatter\", \"uid\": \"067f18ce-fd95-43a9-9cd5-30494870e1ba\", \"x\": [2, 3, 4], \"y\": [36, 6, 4]}, {\"marker\": {\"size\": 10}, \"mode\": \"lines+markers\", \"name\": \"@allanimalrights\", \"text\": [\"2019-10-14\"], \"textfont\": {\"family\": \"Raleway, sans-serif\"}, \"textposition\": \"top center\", \"type\": \"scatter\", \"uid\": \"30e29ea5-cb61-4368-a824-88d2057e66b2\", \"x\": [2], \"y\": [36]}, {\"marker\": {\"size\": 10}, \"mode\": \"lines+markers\", \"name\": \"@chrisshaffa222\", \"text\": [\"2019-10-14\"], \"textfont\": {\"family\": \"Raleway, sans-serif\"}, \"textposition\": \"top center\", \"type\": \"scatter\", \"uid\": \"ba5cb81f-9ba5-41cc-99ce-587980a4afae\", \"x\": [2], \"y\": [36]}, {\"marker\": {\"size\": 10}, \"mode\": \"lines+markers\", \"name\": \"@maneatsdragon\", \"text\": [\"2019-10-14\"], \"textfont\": {\"family\": \"Raleway, sans-serif\"}, \"textposition\": \"top center\", \"type\": \"scatter\", \"uid\": \"5bf5e8a5-83a8-4d9e-990e-2010ea05fde3\", \"x\": [2], \"y\": [36]}, {\"marker\": {\"size\": 10}, \"mode\": \"lines+markers\", \"name\": \"@adamhayes900\", \"text\": [\"2019-10-14\"], \"textfont\": {\"family\": \"Raleway, sans-serif\"}, \"textposition\": \"top center\", \"type\": \"scatter\", \"uid\": \"dc6de568-d08f-4bcb-9e9f-8933f455907a\", \"x\": [2], \"y\": [27]}, {\"marker\": {\"size\": 10}, \"mode\": \"lines+markers\", \"name\": \"@leoslivelife\", \"text\": [\"2019-10-14\"], \"textfont\": {\"family\": \"Raleway, sans-serif\"}, \"textposition\": \"top center\", \"type\": \"scatter\", \"uid\": \"d36da04e-3ceb-4536-bc1b-c38e2f56a432\", \"x\": [2], \"y\": [27]}, {\"marker\": {\"size\": 10}, \"mode\": \"lines+markers\", \"name\": \"@sleepygurll\", \"text\": [\"2019-10-14\"], \"textfont\": {\"family\": \"Raleway, sans-serif\"}, \"textposition\": \"top center\", \"type\": \"scatter\", \"uid\": \"f380650f-8cb9-4b70-be99-2e5e0a8a7e24\", \"x\": [2], \"y\": [27]}, {\"marker\": {\"size\": 10}, \"mode\": \"lines+markers\", \"name\": \"@ballarina_\", \"text\": [\"2019-10-14\"], \"textfont\": {\"family\": \"Raleway, sans-serif\"}, \"textposition\": \"top center\", \"type\": \"scatter\", \"uid\": \"d7c35cd2-4381-4aeb-b604-2bbf3548a32f\", \"x\": [2], \"y\": [27]}, {\"marker\": {\"size\": 10}, \"mode\": \"lines+markers\", \"name\": \"@_channz\", \"text\": [\"2019-10-14\"], \"textfont\": {\"family\": \"Raleway, sans-serif\"}, \"textposition\": \"top center\", \"type\": \"scatter\", \"uid\": \"bcf4f7c2-47a0-4d3e-99c4-1c598be89b33\", \"x\": [2], \"y\": [27]}, {\"marker\": {\"size\": 10}, \"mode\": \"lines+markers\", \"name\": \"@usdays4\", \"text\": [\"2019-10-14\"], \"textfont\": {\"family\": \"Raleway, sans-serif\"}, \"textposition\": \"top center\", \"type\": \"scatter\", \"uid\": \"4b979686-992c-44a0-b599-5fad576c5f85\", \"x\": [2], \"y\": [18]}, {\"marker\": {\"size\": 10}, \"mode\": \"lines+markers\", \"name\": \"@g2pengu\", \"text\": [\"2019-10-15\", \"2019-10-16\"], \"textfont\": {\"family\": \"Raleway, sans-serif\"}, \"textposition\": \"top center\", \"type\": \"scatter\", \"uid\": \"fa5c1cc2-f8b5-4d8f-a8a6-314829e3c352\", \"x\": [3, 4], \"y\": [183, 28]}, {\"marker\": {\"size\": 10}, \"mode\": \"lines+markers\", \"name\": \"@di8nna\", \"text\": [\"2019-10-15\"], \"textfont\": {\"family\": \"Raleway, sans-serif\"}, \"textposition\": \"top center\", \"type\": \"scatter\", \"uid\": \"ea170c73-b08f-488b-9986-31c9d9b45efa\", \"x\": [3], \"y\": [57]}, {\"marker\": {\"size\": 10}, \"mode\": \"lines+markers\", \"name\": \"@bloomingtae\", \"text\": [\"2019-10-15\"], \"textfont\": {\"family\": \"Raleway, sans-serif\"}, \"textposition\": \"top center\", \"type\": \"scatter\", \"uid\": \"adaf4135-841c-4e6d-8996-840972fbf9e3\", \"x\": [3], \"y\": [42]}, {\"marker\": {\"size\": 10}, \"mode\": \"lines+markers\", \"name\": \"@saragaza1\", \"text\": [\"2019-10-15\", \"2019-10-16\"], \"textfont\": {\"family\": \"Raleway, sans-serif\"}, \"textposition\": \"top center\", \"type\": \"scatter\", \"uid\": \"76c9d472-2a16-4b13-b1ae-fa44dc69110a\", \"x\": [3, 4], \"y\": [39, 16]}, {\"marker\": {\"size\": 10}, \"mode\": \"lines+markers\", \"name\": \"@hubertvestra\", \"text\": [\"2019-10-15\", \"2019-10-16\"], \"textfont\": {\"family\": \"Raleway, sans-serif\"}, \"textposition\": \"top center\", \"type\": \"scatter\", \"uid\": \"fcac72ad-8659-404e-94e1-8e38692a36c6\", \"x\": [3, 4], \"y\": [27, 12]}, {\"marker\": {\"size\": 10}, \"mode\": \"lines+markers\", \"name\": \"@amnasalah_\", \"text\": [\"2019-10-15\"], \"textfont\": {\"family\": \"Raleway, sans-serif\"}, \"textposition\": \"top center\", \"type\": \"scatter\", \"uid\": \"6f7056a6-6b67-4435-a1e9-ec41cc066935\", \"x\": [3], \"y\": [27]}, {\"marker\": {\"size\": 10}, \"mode\": \"lines+markers\", \"name\": \"@mariagaza3\", \"text\": [\"2019-10-15\", \"2019-10-16\"], \"textfont\": {\"family\": \"Raleway, sans-serif\"}, \"textposition\": \"top center\", \"type\": \"scatter\", \"uid\": \"aeb94113-aaaa-4831-8f44-0bc54280bafc\", \"x\": [3, 4], \"y\": [24, 12]}, {\"marker\": {\"size\": 10}, \"mode\": \"lines+markers\", \"name\": \"@delishdotcom\", \"text\": [\"2019-10-15\", \"2019-10-18\", \"2019-10-21\"], \"textfont\": {\"family\": \"Raleway, sans-serif\"}, \"textposition\": \"top center\", \"type\": \"scatter\", \"uid\": \"cde23f7d-d133-4182-9a57-d21abeee2327\", \"x\": [3, 6, 9], \"y\": [3, 6, 21]}, {\"marker\": {\"size\": 10}, \"mode\": \"lines+markers\", \"name\": \"@katiequixotic\", \"text\": [\"2019-10-16\", \"2019-10-17\"], \"textfont\": {\"family\": \"Raleway, sans-serif\"}, \"textposition\": \"top center\", \"type\": \"scatter\", \"uid\": \"de632dab-1a65-41be-b714-68df5fe50836\", \"x\": [4, 5], \"y\": [72, 28]}, {\"marker\": {\"size\": 10}, \"mode\": \"lines+markers\", \"name\": \"@christi_stevens\", \"text\": [\"2019-10-16\"], \"textfont\": {\"family\": \"Raleway, sans-serif\"}, \"textposition\": \"top center\", \"type\": \"scatter\", \"uid\": \"99bee822-d928-440b-9f0b-13094b88ebde\", \"x\": [4], \"y\": [40]}, {\"marker\": {\"size\": 10}, \"mode\": \"lines+markers\", \"name\": \"@carterpeak\", \"text\": [\"2019-10-16\"], \"textfont\": {\"family\": \"Raleway, sans-serif\"}, \"textposition\": \"top center\", \"type\": \"scatter\", \"uid\": \"a80b423c-62de-48e5-bd26-4688587db0bb\", \"x\": [4], \"y\": [28]}, {\"marker\": {\"size\": 10}, \"mode\": \"lines+markers\", \"name\": \"@cesar_7300\", \"text\": [\"2019-10-16\"], \"textfont\": {\"family\": \"Raleway, sans-serif\"}, \"textposition\": \"top center\", \"type\": \"scatter\", \"uid\": \"0dac471f-1baa-4205-8dd6-d0505d2b8d1a\", \"x\": [4], \"y\": [20]}, {\"marker\": {\"size\": 10}, \"mode\": \"lines+markers\", \"name\": \"@reallyavampyre\", \"text\": [\"2019-10-16\"], \"textfont\": {\"family\": \"Raleway, sans-serif\"}, \"textposition\": \"top center\", \"type\": \"scatter\", \"uid\": \"4fff3504-eb1a-48c8-b4ce-1bae9d259c28\", \"x\": [4], \"y\": [20]}, {\"marker\": {\"size\": 10}, \"mode\": \"lines+markers\", \"name\": \"@okxynaaji\", \"text\": [\"2019-10-16\"], \"textfont\": {\"family\": \"Raleway, sans-serif\"}, \"textposition\": \"top center\", \"type\": \"scatter\", \"uid\": \"576e04e7-abf0-4783-ade3-8ed8a9a4b92e\", \"x\": [4], \"y\": [20]}, {\"marker\": {\"size\": 10}, \"mode\": \"lines+markers\", \"name\": \"@shawajason\", \"text\": [\"2019-10-16\"], \"textfont\": {\"family\": \"Raleway, sans-serif\"}, \"textposition\": \"top center\", \"type\": \"scatter\", \"uid\": \"b540442d-71e6-4dd9-b118-63f33c83cd24\", \"x\": [4], \"y\": [16]}, {\"marker\": {\"size\": 10}, \"mode\": \"lines+markers\", \"name\": \"@brasseriesixty6\", \"text\": [\"2019-10-16\"], \"textfont\": {\"family\": \"Raleway, sans-serif\"}, \"textposition\": \"top center\", \"type\": \"scatter\", \"uid\": \"1fee792f-5dc2-411c-8e82-0cbbd33a4c78\", \"x\": [4], \"y\": [16]}, {\"marker\": {\"size\": 10}, \"mode\": \"lines+markers\", \"name\": \"@nymoneeyy\", \"text\": [\"2019-10-16\"], \"textfont\": {\"family\": \"Raleway, sans-serif\"}, \"textposition\": \"top center\", \"type\": \"scatter\", \"uid\": \"08c530f6-21a0-4de1-91d3-85c248ce4311\", \"x\": [4], \"y\": [16]}, {\"marker\": {\"size\": 10}, \"mode\": \"lines+markers\", \"name\": \"@angeldawnsam\", \"text\": [\"2019-10-16\", \"2019-10-17\"], \"textfont\": {\"family\": \"Raleway, sans-serif\"}, \"textposition\": \"top center\", \"type\": \"scatter\", \"uid\": \"6dd09d41-f2f6-43ab-b160-458d0a175a7b\", \"x\": [4, 5], \"y\": [16, 14]}, {\"marker\": {\"size\": 10}, \"mode\": \"lines+markers\", \"name\": \"@joallenparker\", \"text\": [\"2019-10-16\"], \"textfont\": {\"family\": \"Raleway, sans-serif\"}, \"textposition\": \"top center\", \"type\": \"scatter\", \"uid\": \"4f0ebbcc-5c72-4476-8d76-7ad412335ba1\", \"x\": [4], \"y\": [16]}, {\"marker\": {\"size\": 10}, \"mode\": \"lines+markers\", \"name\": \"@vegnews\", \"text\": [\"2019-10-16\", \"2019-10-17\", \"2019-10-18\"], \"textfont\": {\"family\": \"Raleway, sans-serif\"}, \"textposition\": \"top center\", \"type\": \"scatter\", \"uid\": \"5f086e63-0710-4719-aacc-cd1f9974bcd6\", \"x\": [4, 5, 6], \"y\": [8, 7, 24]}, {\"marker\": {\"size\": 10}, \"mode\": \"lines+markers\", \"name\": \"@ilovebluebell\", \"text\": [\"2019-10-17\", \"2019-10-18\", \"2019-10-19\"], \"textfont\": {\"family\": \"Raleway, sans-serif\"}, \"textposition\": \"top center\", \"type\": \"scatter\", \"uid\": \"e69a452d-7af0-4249-b77f-4ee318015add\", \"x\": [5, 6, 7], \"y\": [462, 120, 25]}, {\"marker\": {\"size\": 10}, \"mode\": \"lines+markers\", \"name\": \"@jbf1755\", \"text\": [\"2019-10-17\", \"2019-10-18\"], \"textfont\": {\"family\": \"Raleway, sans-serif\"}, \"textposition\": \"top center\", \"type\": \"scatter\", \"uid\": \"17e752b0-2a46-4a1c-9b88-138818836f60\", \"x\": [5, 6], \"y\": [140, 24]}, {\"marker\": {\"size\": 10}, \"mode\": \"lines+markers\", \"name\": \"@metickleu\", \"text\": [\"2019-10-17\", \"2019-10-18\"], \"textfont\": {\"family\": \"Raleway, sans-serif\"}, \"textposition\": \"top center\", \"type\": \"scatter\", \"uid\": \"2e9eb35d-690e-49f3-b270-d075c415f26b\", \"x\": [5, 6], \"y\": [84, 24]}, {\"marker\": {\"size\": 10}, \"mode\": \"lines+markers\", \"name\": \"@uncletypewriter\", \"text\": [\"2019-10-17\", \"2019-10-18\"], \"textfont\": {\"family\": \"Raleway, sans-serif\"}, \"textposition\": \"top center\", \"type\": \"scatter\", \"uid\": \"c2a10d0f-a7ab-4c71-9a6b-8916c99c636c\", \"x\": [5, 6], \"y\": [56, 48]}, {\"marker\": {\"size\": 10}, \"mode\": \"lines+markers\", \"name\": \"@bsnapz2019\", \"text\": [\"2019-10-17\"], \"textfont\": {\"family\": \"Raleway, sans-serif\"}, \"textposition\": \"top center\", \"type\": \"scatter\", \"uid\": \"2922904d-efed-47a5-9c8c-ac3e8691c9ab\", \"x\": [5], \"y\": [56]}, {\"marker\": {\"size\": 10}, \"mode\": \"lines+markers\", \"name\": \"@vanessa12news\", \"text\": [\"2019-10-17\"], \"textfont\": {\"family\": \"Raleway, sans-serif\"}, \"textposition\": \"top center\", \"type\": \"scatter\", \"uid\": \"014b9c1a-bbaf-4f7b-ae7f-686dfbaff0b8\", \"x\": [5], \"y\": [49]}, {\"marker\": {\"size\": 10}, \"mode\": \"lines+markers\", \"name\": \"@gnormous15\", \"text\": [\"2019-10-17\"], \"textfont\": {\"family\": \"Raleway, sans-serif\"}, \"textposition\": \"top center\", \"type\": \"scatter\", \"uid\": \"3eb4f714-33f2-4140-8378-5ccef3fdd8e2\", \"x\": [5], \"y\": [42]}, {\"marker\": {\"size\": 10}, \"mode\": \"lines+markers\", \"name\": \"@pavilion_road\", \"text\": [\"2019-10-17\"], \"textfont\": {\"family\": \"Raleway, sans-serif\"}, \"textposition\": \"top center\", \"type\": \"scatter\", \"uid\": \"d4e5f154-4610-4e9f-8fc9-cb36a8ff2525\", \"x\": [5], \"y\": [35]}, {\"marker\": {\"size\": 10}, \"mode\": \"lines+markers\", \"name\": \"@ericaonabc13\", \"text\": [\"2019-10-17\"], \"textfont\": {\"family\": \"Raleway, sans-serif\"}, \"textposition\": \"top center\", \"type\": \"scatter\", \"uid\": \"22a2a3a6-6839-4d36-bdf4-2ff79ea627d7\", \"x\": [5], \"y\": [35]}, {\"marker\": {\"size\": 10}, \"mode\": \"lines+markers\", \"name\": \"@joannasare\", \"text\": [\"2019-10-17\"], \"textfont\": {\"family\": \"Raleway, sans-serif\"}, \"textposition\": \"top center\", \"type\": \"scatter\", \"uid\": \"4f9486c1-48e5-41d5-a579-c0e7b761ad72\", \"x\": [5], \"y\": [35]}, {\"marker\": {\"size\": 10}, \"mode\": \"lines+markers\", \"name\": \"@cornell\", \"text\": [\"2019-10-17\"], \"textfont\": {\"family\": \"Raleway, sans-serif\"}, \"textposition\": \"top center\", \"type\": \"scatter\", \"uid\": \"f491c076-8ba0-4107-84f8-e2b921fa384e\", \"x\": [5], \"y\": [28]}, {\"marker\": {\"size\": 10}, \"mode\": \"lines+markers\", \"name\": \"@news6wkmg\", \"text\": [\"2019-10-17\"], \"textfont\": {\"family\": \"Raleway, sans-serif\"}, \"textposition\": \"top center\", \"type\": \"scatter\", \"uid\": \"056bd7cc-462b-4a85-808d-70632adff064\", \"x\": [5], \"y\": [21]}, {\"marker\": {\"size\": 10}, \"mode\": \"lines+markers\", \"name\": \"@dmcgale76\", \"text\": [\"2019-10-17\", \"2019-10-18\"], \"textfont\": {\"family\": \"Raleway, sans-serif\"}, \"textposition\": \"top center\", \"type\": \"scatter\", \"uid\": \"ecb846a8-8e65-4379-a7ba-258092bdf343\", \"x\": [5, 6], \"y\": [21, 12]}, {\"marker\": {\"size\": 10}, \"mode\": \"lines+markers\", \"name\": \"@heart10looks3\", \"text\": [\"2019-10-17\"], \"textfont\": {\"family\": \"Raleway, sans-serif\"}, \"textposition\": \"top center\", \"type\": \"scatter\", \"uid\": \"755fb3ba-929f-443a-ac03-388dcce461b4\", \"x\": [5], \"y\": [21]}, {\"marker\": {\"size\": 10}, \"mode\": \"lines+markers\", \"name\": \"@bluezenbrwnskin\", \"text\": [\"2019-10-17\"], \"textfont\": {\"family\": \"Raleway, sans-serif\"}, \"textposition\": \"top center\", \"type\": \"scatter\", \"uid\": \"89d07cc5-0c90-4047-a712-c9adccdbd346\", \"x\": [5], \"y\": [21]}, {\"marker\": {\"size\": 10}, \"mode\": \"lines+markers\", \"name\": \"@nobuworldwide\", \"text\": [\"2019-10-17\"], \"textfont\": {\"family\": \"Raleway, sans-serif\"}, \"textposition\": \"top center\", \"type\": \"scatter\", \"uid\": \"c8ca7c7f-6536-4f2e-b51a-17e01ac00727\", \"x\": [5], \"y\": [21]}, {\"marker\": {\"size\": 10}, \"mode\": \"lines+markers\", \"name\": \"@nandiniv\", \"text\": [\"2019-10-17\"], \"textfont\": {\"family\": \"Raleway, sans-serif\"}, \"textposition\": \"top center\", \"type\": \"scatter\", \"uid\": \"73562412-c7ec-48c3-82e9-90852cc1e0a8\", \"x\": [5], \"y\": [21]}, {\"marker\": {\"size\": 10}, \"mode\": \"lines+markers\", \"name\": \"@inmykitchen_uk\", \"text\": [\"2019-10-17\", \"2019-10-18\"], \"textfont\": {\"family\": \"Raleway, sans-serif\"}, \"textposition\": \"top center\", \"type\": \"scatter\", \"uid\": \"d2bd2598-86e8-441a-a153-add8d7b2abb4\", \"x\": [5, 6], \"y\": [14, 18]}, {\"marker\": {\"size\": 10}, \"mode\": \"lines+markers\", \"name\": \"@samagram93\", \"text\": [\"2019-10-18\", \"2019-10-19\"], \"textfont\": {\"family\": \"Raleway, sans-serif\"}, \"textposition\": \"top center\", \"type\": \"scatter\", \"uid\": \"cd8b0d6c-c4b2-42f7-b053-4f17d35e1e61\", \"x\": [6, 7], \"y\": [330, 35]}, {\"marker\": {\"size\": 10}, \"mode\": \"lines+markers\", \"name\": \"@wowfactsoflife\", \"text\": [\"2019-10-18\", \"2019-10-19\"], \"textfont\": {\"family\": \"Raleway, sans-serif\"}, \"textposition\": \"top center\", \"type\": \"scatter\", \"uid\": \"12bb243a-0bdb-4a21-94a3-ffe288801738\", \"x\": [6, 7], \"y\": [192, 20]}, {\"marker\": {\"size\": 10}, \"mode\": \"lines+markers\", \"name\": \"@littlenova20\", \"text\": [\"2019-10-18\", \"2019-10-19\"], \"textfont\": {\"family\": \"Raleway, sans-serif\"}, \"textposition\": \"top center\", \"type\": \"scatter\", \"uid\": \"784c3e0b-3bc6-43a3-9544-4e9de497e90d\", \"x\": [6, 7], \"y\": [102, 10]}, {\"marker\": {\"size\": 10}, \"mode\": \"lines+markers\", \"name\": \"@detective_files\", \"text\": [\"2019-10-18\"], \"textfont\": {\"family\": \"Raleway, sans-serif\"}, \"textposition\": \"top center\", \"type\": \"scatter\", \"uid\": \"8656aaa7-34d4-4bd7-b6d7-76a68005dcdd\", \"x\": [6], \"y\": [96]}, {\"marker\": {\"size\": 10}, \"mode\": \"lines+markers\", \"name\": \"@dansharifuddin\", \"text\": [\"2019-10-18\"], \"textfont\": {\"family\": \"Raleway, sans-serif\"}, \"textposition\": \"top center\", \"type\": \"scatter\", \"uid\": \"0d7b8d55-1963-4aa2-aee8-7b2ae1ec4a9d\", \"x\": [6], \"y\": [54]}, {\"marker\": {\"size\": 10}, \"mode\": \"lines+markers\", \"name\": \"@skziest\", \"text\": [\"2019-10-18\"], \"textfont\": {\"family\": \"Raleway, sans-serif\"}, \"textposition\": \"top center\", \"type\": \"scatter\", \"uid\": \"2c8b018f-e197-44f1-92e2-381b750f0821\", \"x\": [6], \"y\": [42]}, {\"marker\": {\"size\": 10}, \"mode\": \"lines+markers\", \"name\": \"@retrocherrycoke\", \"text\": [\"2019-10-18\", \"2019-10-19\"], \"textfont\": {\"family\": \"Raleway, sans-serif\"}, \"textposition\": \"top center\", \"type\": \"scatter\", \"uid\": \"8498d38d-c967-4234-b8a0-80c96b7483b6\", \"x\": [6, 7], \"y\": [30, 45]}, {\"marker\": {\"size\": 10}, \"mode\": \"lines+markers\", \"name\": \"@fcbarcelonafl\", \"text\": [\"2019-10-18\"], \"textfont\": {\"family\": \"Raleway, sans-serif\"}, \"textposition\": \"top center\", \"type\": \"scatter\", \"uid\": \"3219f5cb-a4fa-4031-8c89-6a234ed19fc2\", \"x\": [6], \"y\": [30]}, {\"marker\": {\"size\": 10}, \"mode\": \"lines+markers\", \"name\": \"@ezzhasya\", \"text\": [\"2019-10-18\"], \"textfont\": {\"family\": \"Raleway, sans-serif\"}, \"textposition\": \"top center\", \"type\": \"scatter\", \"uid\": \"6148498d-509e-4079-bdb3-1d259d39996b\", \"x\": [6], \"y\": [24]}, {\"marker\": {\"size\": 10}, \"mode\": \"lines+markers\", \"name\": \"@viti_kid\", \"text\": [\"2019-10-18\"], \"textfont\": {\"family\": \"Raleway, sans-serif\"}, \"textposition\": \"top center\", \"type\": \"scatter\", \"uid\": \"65456981-faed-483b-a362-80327dd6dc72\", \"x\": [6], \"y\": [24]}, {\"marker\": {\"size\": 10}, \"mode\": \"lines+markers\", \"name\": \"@hyunllama1\", \"text\": [\"2019-10-18\"], \"textfont\": {\"family\": \"Raleway, sans-serif\"}, \"textposition\": \"top center\", \"type\": \"scatter\", \"uid\": \"696024e6-533e-4ddb-a5ef-abf48c098e24\", \"x\": [6], \"y\": [24]}, {\"marker\": {\"size\": 10}, \"mode\": \"lines+markers\", \"name\": \"@smilinginventor\", \"text\": [\"2019-10-18\"], \"textfont\": {\"family\": \"Raleway, sans-serif\"}, \"textposition\": \"top center\", \"type\": \"scatter\", \"uid\": \"6c0dc050-add9-42cb-946a-bad96c411554\", \"x\": [6], \"y\": [18]}, {\"marker\": {\"size\": 10}, \"mode\": \"lines+markers\", \"name\": \"@gankush1\", \"text\": [\"2019-10-18\"], \"textfont\": {\"family\": \"Raleway, sans-serif\"}, \"textposition\": \"top center\", \"type\": \"scatter\", \"uid\": \"08899bd0-2b35-4d51-8088-085ced5c4647\", \"x\": [6], \"y\": [18]}, {\"marker\": {\"size\": 10}, \"mode\": \"lines+markers\", \"name\": \"@cosmicblackgirl\", \"text\": [\"2019-10-18\"], \"textfont\": {\"family\": \"Raleway, sans-serif\"}, \"textposition\": \"top center\", \"type\": \"scatter\", \"uid\": \"221bb7c2-93fd-4bae-9bdd-bc9c976a5acb\", \"x\": [6], \"y\": [18]}, {\"marker\": {\"size\": 10}, \"mode\": \"lines+markers\", \"name\": \"@harithjohari_\", \"text\": [\"2019-10-18\", \"2019-10-19\"], \"textfont\": {\"family\": \"Raleway, sans-serif\"}, \"textposition\": \"top center\", \"type\": \"scatter\", \"uid\": \"f0a02fd3-498c-486b-8bdb-7260dd2d04ef\", \"x\": [6, 7], \"y\": [18, 15]}, {\"marker\": {\"size\": 10}, \"mode\": \"lines+markers\", \"name\": \"@foodpornaddicts\", \"text\": [\"2019-10-18\"], \"textfont\": {\"family\": \"Raleway, sans-serif\"}, \"textposition\": \"top center\", \"type\": \"scatter\", \"uid\": \"e9a5e4c0-15bd-4fb2-8248-7f033e63fffd\", \"x\": [6], \"y\": [36]}, {\"marker\": {\"size\": 10}, \"mode\": \"lines+markers\", \"name\": \"@theresasnyder19\", \"text\": [\"2019-10-18\"], \"textfont\": {\"family\": \"Raleway, sans-serif\"}, \"textposition\": \"top center\", \"type\": \"scatter\", \"uid\": \"6d41bd9d-eb9d-42fe-b74b-dff8e28e49fe\", \"x\": [6], \"y\": [18]}, {\"marker\": {\"size\": 10}, \"mode\": \"lines+markers\", \"name\": \"@vej_gee\", \"text\": [\"2019-10-18\"], \"textfont\": {\"family\": \"Raleway, sans-serif\"}, \"textposition\": \"top center\", \"type\": \"scatter\", \"uid\": \"a686e8f9-1cf1-4209-8296-07525006a883\", \"x\": [6], \"y\": [18]}, {\"marker\": {\"size\": 10}, \"mode\": \"lines+markers\", \"name\": \"@thejaxdane\", \"text\": [\"2019-10-19\", \"2019-10-20\"], \"textfont\": {\"family\": \"Raleway, sans-serif\"}, \"textposition\": \"top center\", \"type\": \"scatter\", \"uid\": \"bbfa17dd-bb00-40e1-ad5e-d5a90d3e6ae1\", \"x\": [7, 8], \"y\": [205, 12]}, {\"marker\": {\"size\": 10}, \"mode\": \"lines+markers\", \"name\": \"@chaenmail\", \"text\": [\"2019-10-19\"], \"textfont\": {\"family\": \"Raleway, sans-serif\"}, \"textposition\": \"top center\", \"type\": \"scatter\", \"uid\": \"b2398e96-367e-4138-85c6-92987885e6ff\", \"x\": [7], \"y\": [130]}, {\"marker\": {\"size\": 10}, \"mode\": \"lines+markers\", \"name\": \"@venusjinnie\", \"text\": [\"2019-10-19\"], \"textfont\": {\"family\": \"Raleway, sans-serif\"}, \"textposition\": \"top center\", \"type\": \"scatter\", \"uid\": \"83791336-66ef-47f0-9995-19be8c70a8ba\", \"x\": [7], \"y\": [130]}, {\"marker\": {\"size\": 10}, \"mode\": \"lines+markers\", \"name\": \"@x4milly\", \"text\": [\"2019-10-19\", \"2019-10-20\"], \"textfont\": {\"family\": \"Raleway, sans-serif\"}, \"textposition\": \"top center\", \"type\": \"scatter\", \"uid\": \"4b0896af-cbad-4fc6-a370-c70e45391854\", \"x\": [7, 8], \"y\": [80, 120]}, {\"marker\": {\"size\": 10}, \"mode\": \"lines+markers\", \"name\": \"@kateness8\", \"text\": [\"2019-10-19\"], \"textfont\": {\"family\": \"Raleway, sans-serif\"}, \"textposition\": \"top center\", \"type\": \"scatter\", \"uid\": \"a3dd6a79-9316-4aa2-93a5-88292ae65818\", \"x\": [7], \"y\": [80]}, {\"marker\": {\"size\": 10}, \"mode\": \"lines+markers\", \"name\": \"@northernovation\", \"text\": [\"2019-10-19\", \"2019-10-20\"], \"textfont\": {\"family\": \"Raleway, sans-serif\"}, \"textposition\": \"top center\", \"type\": \"scatter\", \"uid\": \"57a0c8fd-d12c-49c5-8cbb-a1c6cb76a42e\", \"x\": [7, 8], \"y\": [55, 28]}, {\"marker\": {\"size\": 10}, \"mode\": \"lines+markers\", \"name\": \"@bkikulina\", \"text\": [\"2019-10-19\"], \"textfont\": {\"family\": \"Raleway, sans-serif\"}, \"textposition\": \"top center\", \"type\": \"scatter\", \"uid\": \"796033c3-3886-4249-ab37-8850f8cbfe4d\", \"x\": [7], \"y\": [40]}, {\"marker\": {\"size\": 10}, \"mode\": \"lines+markers\", \"name\": \"@jamesdrodger\", \"text\": [\"2019-10-19\"], \"textfont\": {\"family\": \"Raleway, sans-serif\"}, \"textposition\": \"top center\", \"type\": \"scatter\", \"uid\": \"e2468a1b-671e-4c46-a020-13d626d55d93\", \"x\": [7], \"y\": [40]}, {\"marker\": {\"size\": 10}, \"mode\": \"lines+markers\", \"name\": \"@pixielixe\", \"text\": [\"2019-10-19\"], \"textfont\": {\"family\": \"Raleway, sans-serif\"}, \"textposition\": \"top center\", \"type\": \"scatter\", \"uid\": \"c43ecb9e-3a3c-4a80-b8d7-4465dd869fdd\", \"x\": [7], \"y\": [30]}, {\"marker\": {\"size\": 10}, \"mode\": \"lines+markers\", \"name\": \"@chrisburtchef\", \"text\": [\"2019-10-19\", \"2019-10-20\"], \"textfont\": {\"family\": \"Raleway, sans-serif\"}, \"textposition\": \"top center\", \"type\": \"scatter\", \"uid\": \"b5a99fff-2aa7-4856-b390-c5b9b951f5d8\", \"x\": [7, 8], \"y\": [20, 8]}, {\"marker\": {\"size\": 10}, \"mode\": \"lines+markers\", \"name\": \"@samantha_giese\", \"text\": [\"2019-10-19\"], \"textfont\": {\"family\": \"Raleway, sans-serif\"}, \"textposition\": \"top center\", \"type\": \"scatter\", \"uid\": \"2ad292c3-c246-45cc-922a-18e82af06e77\", \"x\": [7], \"y\": [20]}, {\"marker\": {\"size\": 10}, \"mode\": \"lines+markers\", \"name\": \"@montyjustchilln\", \"text\": [\"2019-10-19\"], \"textfont\": {\"family\": \"Raleway, sans-serif\"}, \"textposition\": \"top center\", \"type\": \"scatter\", \"uid\": \"93b997fb-91f3-44ca-b8a0-7a848a6422fa\", \"x\": [7], \"y\": [20]}, {\"marker\": {\"size\": 10}, \"mode\": \"lines+markers\", \"name\": \"@coldrockaspley\", \"text\": [\"2019-10-19\", \"2019-10-21\"], \"textfont\": {\"family\": \"Raleway, sans-serif\"}, \"textposition\": \"top center\", \"type\": \"scatter\", \"uid\": \"3121c208-204b-4816-b31e-f829d982c785\", \"x\": [7, 9], \"y\": [10, 28]}, {\"marker\": {\"size\": 10}, \"mode\": \"lines+markers\", \"name\": \"@gayhefner\", \"text\": [\"2019-10-20\", \"2019-10-21\"], \"textfont\": {\"family\": \"Raleway, sans-serif\"}, \"textposition\": \"top center\", \"type\": \"scatter\", \"uid\": \"3a9d7655-ed68-4fe2-8396-aa0319c77dc8\", \"x\": [8, 9], \"y\": [304, 2114]}, {\"marker\": {\"size\": 10}, \"mode\": \"lines+markers\", \"name\": \"@unicef\", \"text\": [\"2019-10-20\", \"2019-10-21\"], \"textfont\": {\"family\": \"Raleway, sans-serif\"}, \"textposition\": \"top center\", \"type\": \"scatter\", \"uid\": \"e2393189-1e03-4d68-a040-73cd524672ce\", \"x\": [8, 9], \"y\": [224, 28]}, {\"marker\": {\"size\": 10}, \"mode\": \"lines+markers\", \"name\": \"@andlikelaura\", \"text\": [\"2019-10-20\", \"2019-10-21\"], \"textfont\": {\"family\": \"Raleway, sans-serif\"}, \"textposition\": \"top center\", \"type\": \"scatter\", \"uid\": \"18cec42d-ea7c-4414-8e22-2c05c9c0ba51\", \"x\": [8, 9], \"y\": [204, 231]}, {\"marker\": {\"size\": 10}, \"mode\": \"lines+markers\", \"name\": \"@kpophappenings_\", \"text\": [\"2019-10-20\", \"2019-10-21\"], \"textfont\": {\"family\": \"Raleway, sans-serif\"}, \"textposition\": \"top center\", \"type\": \"scatter\", \"uid\": \"f707449c-442c-45c1-ab91-607d1936cabb\", \"x\": [8, 9], \"y\": [144, 6202]}, {\"marker\": {\"size\": 10}, \"mode\": \"lines+markers\", \"name\": \"@sammystela\", \"text\": [\"2019-10-20\", \"2019-10-21\"], \"textfont\": {\"family\": \"Raleway, sans-serif\"}, \"textposition\": \"top center\", \"type\": \"scatter\", \"uid\": \"0b8101e7-8c18-49ea-8fa5-158dfcb639b4\", \"x\": [8, 9], \"y\": [144, 21]}, {\"marker\": {\"size\": 10}, \"mode\": \"lines+markers\", \"name\": \"@grampasweater\", \"text\": [\"2019-10-20\", \"2019-10-21\"], \"textfont\": {\"family\": \"Raleway, sans-serif\"}, \"textposition\": \"top center\", \"type\": \"scatter\", \"uid\": \"8b9ae707-e4d7-4ae6-af8c-280566d9df7f\", \"x\": [8, 9], \"y\": [92, 42]}, {\"marker\": {\"size\": 10}, \"mode\": \"lines+markers\", \"name\": \"@galaxyseungmin\", \"text\": [\"2019-10-20\"], \"textfont\": {\"family\": \"Raleway, sans-serif\"}, \"textposition\": \"top center\", \"type\": \"scatter\", \"uid\": \"cbc0c2ce-9916-4ab4-8ef5-873be0479bde\", \"x\": [8], \"y\": [92]}, {\"marker\": {\"size\": 10}, \"mode\": \"lines+markers\", \"name\": \"@bloomyngjm\", \"text\": [\"2019-10-20\"], \"textfont\": {\"family\": \"Raleway, sans-serif\"}, \"textposition\": \"top center\", \"type\": \"scatter\", \"uid\": \"8ac1dee7-a5d8-4ae7-a5fb-46ef567bb967\", \"x\": [8], \"y\": [56]}, {\"marker\": {\"size\": 10}, \"mode\": \"lines+markers\", \"name\": \"@ihpower\", \"text\": [\"2019-10-20\"], \"textfont\": {\"family\": \"Raleway, sans-serif\"}, \"textposition\": \"top center\", \"type\": \"scatter\", \"uid\": \"c45d6aca-fed1-41cf-b40d-7365d4d605b4\", \"x\": [8], \"y\": [32]}, {\"marker\": {\"size\": 10}, \"mode\": \"lines+markers\", \"name\": \"@soobakery\", \"text\": [\"2019-10-20\"], \"textfont\": {\"family\": \"Raleway, sans-serif\"}, \"textposition\": \"top center\", \"type\": \"scatter\", \"uid\": \"dff4190d-52d2-4309-8655-6b43b9642192\", \"x\": [8], \"y\": [32]}, {\"marker\": {\"size\": 10}, \"mode\": \"lines+markers\", \"name\": \"@ateneodsws\", \"text\": [\"2019-10-20\", \"2019-10-21\"], \"textfont\": {\"family\": \"Raleway, sans-serif\"}, \"textposition\": \"top center\", \"type\": \"scatter\", \"uid\": \"e8e2f6d9-fa13-4be6-a339-1cee90ba5cfb\", \"x\": [8, 9], \"y\": [20, 21]}, {\"marker\": {\"size\": 10}, \"mode\": \"lines+markers\", \"name\": \"@taniarubiod\", \"text\": [\"2019-10-20\"], \"textfont\": {\"family\": \"Raleway, sans-serif\"}, \"textposition\": \"top center\", \"type\": \"scatter\", \"uid\": \"b06dd397-63a7-4af3-a4f1-f0c4e74c2091\", \"x\": [8], \"y\": [20]}, {\"marker\": {\"size\": 10}, \"mode\": \"lines+markers\", \"name\": \"@whiffleyeol\", \"text\": [\"2019-10-20\"], \"textfont\": {\"family\": \"Raleway, sans-serif\"}, \"textposition\": \"top center\", \"type\": \"scatter\", \"uid\": \"93077bcd-4ab1-48bc-8eeb-15cb50f03a06\", \"x\": [8], \"y\": [20]}, {\"marker\": {\"size\": 10}, \"mode\": \"lines+markers\", \"name\": \"@cookglobal\", \"text\": [\"2019-10-20\", \"2019-10-21\"], \"textfont\": {\"family\": \"Raleway, sans-serif\"}, \"textposition\": \"top center\", \"type\": \"scatter\", \"uid\": \"dbe67047-d63b-46ba-bcb5-451e968c1dca\", \"x\": [8, 9], \"y\": [16, 14]}, {\"marker\": {\"size\": 10}, \"mode\": \"lines+markers\", \"name\": \"@torontovino\", \"text\": [\"2019-10-20\"], \"textfont\": {\"family\": \"Raleway, sans-serif\"}, \"textposition\": \"top center\", \"type\": \"scatter\", \"uid\": \"7926a8fc-b569-404e-8cfc-612c5821ebb1\", \"x\": [8], \"y\": [16]}, {\"marker\": {\"size\": 10}, \"mode\": \"lines+markers\", \"name\": \"@foodpornsx\", \"text\": [\"2019-10-21\"], \"textfont\": {\"family\": \"Raleway, sans-serif\"}, \"textposition\": \"top center\", \"type\": \"scatter\", \"uid\": \"6f3a91f8-0235-4f5e-9751-2b48ced08adf\", \"x\": [9], \"y\": [1561]}, {\"marker\": {\"size\": 10}, \"mode\": \"lines+markers\", \"name\": \"@euphorihan\", \"text\": [\"2019-10-21\"], \"textfont\": {\"family\": \"Raleway, sans-serif\"}, \"textposition\": \"top center\", \"type\": \"scatter\", \"uid\": \"5d98de08-cb76-4c34-945c-9cc988081b5e\", \"x\": [9], \"y\": [168]}, {\"marker\": {\"size\": 10}, \"mode\": \"lines+markers\", \"name\": \"@hertlife\", \"text\": [\"2019-10-21\"], \"textfont\": {\"family\": \"Raleway, sans-serif\"}, \"textposition\": \"top center\", \"type\": \"scatter\", \"uid\": \"68a1751c-faed-4df9-b2c8-4ca0d0035c3e\", \"x\": [9], \"y\": [154]}, {\"marker\": {\"size\": 10}, \"mode\": \"lines+markers\", \"name\": \"@letestpic\", \"text\": [\"2019-10-21\"], \"textfont\": {\"family\": \"Raleway, sans-serif\"}, \"textposition\": \"top center\", \"type\": \"scatter\", \"uid\": \"be049164-3ecc-4711-b699-60bd525d078e\", \"x\": [9], \"y\": [70]}, {\"marker\": {\"size\": 10}, \"mode\": \"lines+markers\", \"name\": \"@cnbc\", \"text\": [\"2019-10-21\"], \"textfont\": {\"family\": \"Raleway, sans-serif\"}, \"textposition\": \"top center\", \"type\": \"scatter\", \"uid\": \"015fcfd7-2201-44b7-ae72-2a37d51b670a\", \"x\": [9], \"y\": [70]}, {\"marker\": {\"size\": 10}, \"mode\": \"lines+markers\", \"name\": \"@btscanchokeme\", \"text\": [\"2019-10-21\"], \"textfont\": {\"family\": \"Raleway, sans-serif\"}, \"textposition\": \"top center\", \"type\": \"scatter\", \"uid\": \"e444e868-6a9b-48f3-b4ae-d16b2a38449f\", \"x\": [9], \"y\": [49]}, {\"marker\": {\"size\": 10}, \"mode\": \"lines+markers\", \"name\": \"@erineph\", \"text\": [\"2019-10-21\"], \"textfont\": {\"family\": \"Raleway, sans-serif\"}, \"textposition\": \"top center\", \"type\": \"scatter\", \"uid\": \"f5573023-e5e8-46dc-97b4-eb2ab8e03624\", \"x\": [9], \"y\": [42]}, {\"marker\": {\"size\": 10}, \"mode\": \"lines+markers\", \"name\": \"@smile64661628\", \"text\": [\"2019-10-21\"], \"textfont\": {\"family\": \"Raleway, sans-serif\"}, \"textposition\": \"top center\", \"type\": \"scatter\", \"uid\": \"85ca743a-65f6-44d6-80a2-f14c31fd408a\", \"x\": [9], \"y\": [42]}, {\"marker\": {\"size\": 10}, \"mode\": \"lines+markers\", \"name\": \"@fassasss\", \"text\": [\"2019-10-21\"], \"textfont\": {\"family\": \"Raleway, sans-serif\"}, \"textposition\": \"top center\", \"type\": \"scatter\", \"uid\": \"91ea570f-8c97-4a9a-838e-0aab1863b57f\", \"x\": [9], \"y\": [35]}, {\"marker\": {\"size\": 10}, \"mode\": \"lines+markers\", \"name\": \"@keithawynn\", \"text\": [\"2019-10-21\"], \"textfont\": {\"family\": \"Raleway, sans-serif\"}, \"textposition\": \"top center\", \"type\": \"scatter\", \"uid\": \"78c81106-85f7-440f-a7ef-f7169b03fb57\", \"x\": [9], \"y\": [28]}, {\"marker\": {\"size\": 10}, \"mode\": \"lines+markers\", \"name\": \"@trubuiar\", \"text\": [\"2019-10-21\"], \"textfont\": {\"family\": \"Raleway, sans-serif\"}, \"textposition\": \"top center\", \"type\": \"scatter\", \"uid\": \"eaa618e5-9191-4581-aa0a-da7dfc61b2fd\", \"x\": [9], \"y\": [28]}, {\"marker\": {\"size\": 10}, \"mode\": \"lines+markers\", \"name\": \"@diewaid\", \"text\": [\"2019-10-21\"], \"textfont\": {\"family\": \"Raleway, sans-serif\"}, \"textposition\": \"top center\", \"type\": \"scatter\", \"uid\": \"5db7095b-eb7d-4986-be25-8f5b50f40972\", \"x\": [9], \"y\": [28]}, {\"marker\": {\"size\": 10}, \"mode\": \"lines+markers\", \"name\": \"@msmphonare\", \"text\": [\"2019-10-21\"], \"textfont\": {\"family\": \"Raleway, sans-serif\"}, \"textposition\": \"top center\", \"type\": \"scatter\", \"uid\": \"c095c076-42ac-4efd-b3df-d461caac72d8\", \"x\": [9], \"y\": [21]}, {\"marker\": {\"size\": 10}, \"mode\": \"lines+markers\", \"name\": \"@aabbigail_p\", \"text\": [\"2019-10-21\"], \"textfont\": {\"family\": \"Raleway, sans-serif\"}, \"textposition\": \"top center\", \"type\": \"scatter\", \"uid\": \"cb293df4-b6f0-4f58-a4b2-f494a0eef0d0\", \"x\": [9], \"y\": [21]}, {\"marker\": {\"size\": 10}, \"mode\": \"lines+markers\", \"name\": \"@fairyxjm\", \"text\": [\"2019-10-21\"], \"textfont\": {\"family\": \"Raleway, sans-serif\"}, \"textposition\": \"top center\", \"type\": \"scatter\", \"uid\": \"61c6d8dd-f733-4195-8baf-24145a45dfc2\", \"x\": [9], \"y\": [21]}],\n",
       "                        {},\n",
       "                        {\"showLink\": {\"xaxis\": {\"autorange\": true, \"title\": \"Period\"}, \"yaxis\": {\"autorange\": true, \"title\": \"Top\"}, \"legend\": {\"y\": 0.5, \"yref\": \"paper\", \"font\": {\"family\": \"Arial, sans-serif\", \"size\": 20, \"color\": \"grey\"}}, \"title\": \"Top over time\"}, \"linkText\": \"Export to plot.ly\", \"plotlyServerURL\": \"https://plot.ly\", \"responsive\": true}\n",
       "                    ).then(function(){\n",
       "                            \n",
       "var gd = document.getElementById('ac7e2337-e2c6-48c3-901a-3e8c54bf760f');\n",
       "var x = new MutationObserver(function (mutations, observer) {{\n",
       "        var display = window.getComputedStyle(gd).display;\n",
       "        if (!display || display === 'none') {{\n",
       "            console.log([gd, 'removed!']);\n",
       "            Plotly.purge(gd);\n",
       "            observer.disconnect();\n",
       "        }}\n",
       "}});\n",
       "\n",
       "// Listen for the removal of the full notebook cells\n",
       "var notebookContainer = gd.closest('#notebook-container');\n",
       "if (notebookContainer) {{\n",
       "    x.observe(notebookContainer, {childList: true});\n",
       "}}\n",
       "\n",
       "// Listen for the clearing of the current output cell\n",
       "var outputEl = gd.closest('.output');\n",
       "if (outputEl) {{\n",
       "    x.observe(outputEl, {childList: true});\n",
       "}}\n",
       "\n",
       "                        })\n",
       "                };\n",
       "                });\n",
       "            </script>\n",
       "        </div>"
      ]
     },
     "metadata": {},
     "output_type": "display_data"
    }
   ],
   "source": [
    "#configure_plotly_browser_state()\n",
    "top_influencers(top_rt, max_items, output=None, inline=True)"
   ]
  },
  {
   "cell_type": "markdown",
   "metadata": {},
   "source": [
    "#### Top associated tags"
   ]
  },
  {
   "cell_type": "code",
   "execution_count": 27,
   "metadata": {},
   "outputs": [
    {
     "data": {
      "application/vnd.plotly.v1+json": {
       "config": {
        "linkText": "Export to plot.ly",
        "plotlyServerURL": "https://plot.ly",
        "responsive": true,
        "showLink": {
         "legend": {
          "font": {
           "color": "grey",
           "family": "Arial, sans-serif",
           "size": 20
          },
          "y": 0.5,
          "yref": "paper"
         },
         "title": "Top over time",
         "xaxis": {
          "autorange": true,
          "title": "Period"
         },
         "yaxis": {
          "autorange": true,
          "title": "Top"
         }
        }
       },
       "data": [
        {
         "marker": {
          "size": 10
         },
         "mode": "lines+markers",
         "name": "@notanad",
         "text": [
          "2019-10-12",
          "2019-10-13"
         ],
         "textfont": {
          "family": "Raleway, sans-serif"
         },
         "textposition": "top center",
         "type": "scatter",
         "uid": "aeff4044-7028-40d7-a97b-fcfd3332e026",
         "x": [
          0,
          1
         ],
         "y": [
          58,
          22
         ]
        },
        {
         "marker": {
          "size": 10
         },
         "mode": "lines+markers",
         "name": "@nationaldessertday",
         "text": [
          "2019-10-14"
         ],
         "textfont": {
          "family": "Raleway, sans-serif"
         },
         "textposition": "top center",
         "type": "scatter",
         "uid": "5a35dfde-c218-464b-ade0-b3404f031b8c",
         "x": [
          2
         ],
         "y": [
          22
         ]
        },
        {
         "marker": {
          "size": 10
         },
         "mode": "lines+markers",
         "name": "@writingcommunity",
         "text": [
          "2019-10-18"
         ],
         "textfont": {
          "family": "Raleway, sans-serif"
         },
         "textposition": "top center",
         "type": "scatter",
         "uid": "819c56c3-3689-48e5-9e66-fc5effb0446d",
         "x": [
          6
         ],
         "y": [
          16
         ]
        },
        {
         "marker": {
          "size": 10
         },
         "mode": "lines+markers",
         "name": "@chaeyeonmail",
         "text": [
          "2019-10-19"
         ],
         "textfont": {
          "family": "Raleway, sans-serif"
         },
         "textposition": "top center",
         "type": "scatter",
         "uid": "d855051a-1823-4c37-83df-42606ee88947",
         "x": [
          7
         ],
         "y": [
          26
         ]
        },
        {
         "marker": {
          "size": 10
         },
         "mode": "lines+markers",
         "name": "@foreverychild",
         "text": [
          "2019-10-20"
         ],
         "textfont": {
          "family": "Raleway, sans-serif"
         },
         "textposition": "top center",
         "type": "scatter",
         "uid": "60075440-c3a2-4ad6-b411-04d9b53193e6",
         "x": [
          8
         ],
         "y": [
          56
         ]
        }
       ],
       "layout": {}
      },
      "text/html": [
       "<div>\n",
       "        \n",
       "        \n",
       "            <div id=\"cb3e9ace-992c-4084-b5de-c5127f806d38\" class=\"plotly-graph-div\" style=\"height:525px; width:100%;\"></div>\n",
       "            <script type=\"text/javascript\">\n",
       "                require([\"plotly\"], function(Plotly) {\n",
       "                    window.PLOTLYENV=window.PLOTLYENV || {};\n",
       "                    window.PLOTLYENV.BASE_URL='https://plot.ly';\n",
       "                    \n",
       "                if (document.getElementById(\"cb3e9ace-992c-4084-b5de-c5127f806d38\")) {\n",
       "                    Plotly.newPlot(\n",
       "                        'cb3e9ace-992c-4084-b5de-c5127f806d38',\n",
       "                        [{\"marker\": {\"size\": 10}, \"mode\": \"lines+markers\", \"name\": \"@notanad\", \"text\": [\"2019-10-12\", \"2019-10-13\"], \"textfont\": {\"family\": \"Raleway, sans-serif\"}, \"textposition\": \"top center\", \"type\": \"scatter\", \"uid\": \"b4b82be5-5c6f-4bb6-a3bf-e6092c8730d5\", \"x\": [0, 1], \"y\": [58, 22]}, {\"marker\": {\"size\": 10}, \"mode\": \"lines+markers\", \"name\": \"@nationaldessertday\", \"text\": [\"2019-10-14\"], \"textfont\": {\"family\": \"Raleway, sans-serif\"}, \"textposition\": \"top center\", \"type\": \"scatter\", \"uid\": \"781eeefa-5428-4254-98dd-1cacc8d1911a\", \"x\": [2], \"y\": [22]}, {\"marker\": {\"size\": 10}, \"mode\": \"lines+markers\", \"name\": \"@writingcommunity\", \"text\": [\"2019-10-18\"], \"textfont\": {\"family\": \"Raleway, sans-serif\"}, \"textposition\": \"top center\", \"type\": \"scatter\", \"uid\": \"84507182-a5a8-4bcc-b3c9-acd38648b3d7\", \"x\": [6], \"y\": [16]}, {\"marker\": {\"size\": 10}, \"mode\": \"lines+markers\", \"name\": \"@chaeyeonmail\", \"text\": [\"2019-10-19\"], \"textfont\": {\"family\": \"Raleway, sans-serif\"}, \"textposition\": \"top center\", \"type\": \"scatter\", \"uid\": \"4c2a2e79-53db-4cd8-bbeb-5ee545765011\", \"x\": [7], \"y\": [26]}, {\"marker\": {\"size\": 10}, \"mode\": \"lines+markers\", \"name\": \"@foreverychild\", \"text\": [\"2019-10-20\"], \"textfont\": {\"family\": \"Raleway, sans-serif\"}, \"textposition\": \"top center\", \"type\": \"scatter\", \"uid\": \"c2f29b08-b27e-4ed9-b535-cdecff7cf3ad\", \"x\": [8], \"y\": [56]}],\n",
       "                        {},\n",
       "                        {\"showLink\": {\"xaxis\": {\"autorange\": true, \"title\": \"Period\"}, \"yaxis\": {\"autorange\": true, \"title\": \"Top\"}, \"legend\": {\"y\": 0.5, \"yref\": \"paper\", \"font\": {\"family\": \"Arial, sans-serif\", \"size\": 20, \"color\": \"grey\"}}, \"title\": \"Top over time\"}, \"linkText\": \"Export to plot.ly\", \"plotlyServerURL\": \"https://plot.ly\", \"responsive\": true}\n",
       "                    ).then(function(){\n",
       "                            \n",
       "var gd = document.getElementById('cb3e9ace-992c-4084-b5de-c5127f806d38');\n",
       "var x = new MutationObserver(function (mutations, observer) {{\n",
       "        var display = window.getComputedStyle(gd).display;\n",
       "        if (!display || display === 'none') {{\n",
       "            console.log([gd, 'removed!']);\n",
       "            Plotly.purge(gd);\n",
       "            observer.disconnect();\n",
       "        }}\n",
       "}});\n",
       "\n",
       "// Listen for the removal of the full notebook cells\n",
       "var notebookContainer = gd.closest('#notebook-container');\n",
       "if (notebookContainer) {{\n",
       "    x.observe(notebookContainer, {childList: true});\n",
       "}}\n",
       "\n",
       "// Listen for the clearing of the current output cell\n",
       "var outputEl = gd.closest('.output');\n",
       "if (outputEl) {{\n",
       "    x.observe(outputEl, {childList: true});\n",
       "}}\n",
       "\n",
       "                        })\n",
       "                };\n",
       "                });\n",
       "            </script>\n",
       "        </div>"
      ]
     },
     "metadata": {},
     "output_type": "display_data"
    }
   ],
   "source": [
    "#configure_plotly_browser_state()\n",
    "top_influencers(top_ht, max_items, output=None, inline=True)"
   ]
  },
  {
   "cell_type": "markdown",
   "metadata": {},
   "source": [
    "#### Detail communities"
   ]
  },
  {
   "cell_type": "code",
   "execution_count": 28,
   "metadata": {},
   "outputs": [
    {
     "data": {
      "application/vnd.plotly.v1+json": {
       "config": {
        "linkText": "Export to plot.ly",
        "plotlyServerURL": "https://plot.ly",
        "responsive": true,
        "showLink": {
         "legend": {
          "font": {
           "color": "grey",
           "family": "Arial, sans-serif",
           "size": 20
          },
          "y": 0.5,
          "yref": "paper"
         },
         "title": "Detailed communities",
         "xaxis": {
          "autorange": true,
          "title": "Period"
         },
         "yaxis": {
          "autorange": true,
          "title": "Number"
         }
        }
       },
       "data": [
        {
         "marker": {
          "size": 6
         },
         "mode": "lines+markers",
         "name": "Counter",
         "text": [
          "P0 - 2019-10-12",
          "P1 - 2019-10-13",
          "P2 - 2019-10-14",
          "P3 - 2019-10-15",
          "P4 - 2019-10-16",
          "P5 - 2019-10-17",
          "P6 - 2019-10-18",
          "P7 - 2019-10-19",
          "P8 - 2019-10-20",
          "P9 - 2019-10-21"
         ],
         "textfont": {
          "family": "Raleway, sans-serif"
         },
         "textposition": "top center",
         "type": "scatter",
         "uid": "326c5d4a-9f0b-41f8-be3f-fec43a19285c",
         "x": [
          "2019-10-12",
          "2019-10-13",
          "2019-10-14",
          "2019-10-15",
          "2019-10-16",
          "2019-10-17",
          "2019-10-18",
          "2019-10-19",
          "2019-10-20",
          "2019-10-21"
         ],
         "y": [
          129,
          532,
          344,
          332,
          220,
          284,
          297,
          280,
          518,
          1836
         ]
        }
       ],
       "layout": {}
      },
      "text/html": [
       "<div>\n",
       "        \n",
       "        \n",
       "            <div id=\"3c5382f6-2a09-4afe-a3ab-de79fdf36fde\" class=\"plotly-graph-div\" style=\"height:525px; width:100%;\"></div>\n",
       "            <script type=\"text/javascript\">\n",
       "                require([\"plotly\"], function(Plotly) {\n",
       "                    window.PLOTLYENV=window.PLOTLYENV || {};\n",
       "                    window.PLOTLYENV.BASE_URL='https://plot.ly';\n",
       "                    \n",
       "                if (document.getElementById(\"3c5382f6-2a09-4afe-a3ab-de79fdf36fde\")) {\n",
       "                    Plotly.newPlot(\n",
       "                        '3c5382f6-2a09-4afe-a3ab-de79fdf36fde',\n",
       "                        [{\"marker\": {\"size\": 6}, \"mode\": \"lines+markers\", \"name\": \"Counter\", \"text\": [\"P0 - 2019-10-12\", \"P1 - 2019-10-13\", \"P2 - 2019-10-14\", \"P3 - 2019-10-15\", \"P4 - 2019-10-16\", \"P5 - 2019-10-17\", \"P6 - 2019-10-18\", \"P7 - 2019-10-19\", \"P8 - 2019-10-20\", \"P9 - 2019-10-21\"], \"textfont\": {\"family\": \"Raleway, sans-serif\"}, \"textposition\": \"top center\", \"type\": \"scatter\", \"uid\": \"c4590559-7dab-4985-8df2-db28ae4e9a96\", \"x\": [\"2019-10-12\", \"2019-10-13\", \"2019-10-14\", \"2019-10-15\", \"2019-10-16\", \"2019-10-17\", \"2019-10-18\", \"2019-10-19\", \"2019-10-20\", \"2019-10-21\"], \"y\": [129, 532, 344, 332, 220, 284, 297, 280, 518, 1836]}],\n",
       "                        {},\n",
       "                        {\"showLink\": {\"xaxis\": {\"autorange\": true, \"title\": \"Period\"}, \"yaxis\": {\"autorange\": true, \"title\": \"Number\"}, \"legend\": {\"y\": 0.5, \"yref\": \"paper\", \"font\": {\"family\": \"Arial, sans-serif\", \"size\": 20, \"color\": \"grey\"}}, \"title\": \"Detailed communities\"}, \"linkText\": \"Export to plot.ly\", \"plotlyServerURL\": \"https://plot.ly\", \"responsive\": true}\n",
       "                    ).then(function(){\n",
       "                            \n",
       "var gd = document.getElementById('3c5382f6-2a09-4afe-a3ab-de79fdf36fde');\n",
       "var x = new MutationObserver(function (mutations, observer) {{\n",
       "        var display = window.getComputedStyle(gd).display;\n",
       "        if (!display || display === 'none') {{\n",
       "            console.log([gd, 'removed!']);\n",
       "            Plotly.purge(gd);\n",
       "            observer.disconnect();\n",
       "        }}\n",
       "}});\n",
       "\n",
       "// Listen for the removal of the full notebook cells\n",
       "var notebookContainer = gd.closest('#notebook-container');\n",
       "if (notebookContainer) {{\n",
       "    x.observe(notebookContainer, {childList: true});\n",
       "}}\n",
       "\n",
       "// Listen for the clearing of the current output cell\n",
       "var outputEl = gd.closest('.output');\n",
       "if (outputEl) {{\n",
       "    x.observe(outputEl, {childList: true});\n",
       "}}\n",
       "\n",
       "                        })\n",
       "                };\n",
       "                });\n",
       "            </script>\n",
       "        </div>"
      ]
     },
     "metadata": {},
     "output_type": "display_data"
    }
   ],
   "source": [
    "#configure_plotly_browser_state()\n",
    "detail_communities(time, output=None, inline=True)"
   ]
  },
  {
   "cell_type": "markdown",
   "metadata": {},
   "source": [
    "### Write data from communities\n",
    "\n",
    "Data is automatically written to `community_items.xlsx` and `community_users.xlsx`, with each sheet describing a specific period."
   ]
  },
  {
   "cell_type": "code",
   "execution_count": 29,
   "metadata": {},
   "outputs": [
    {
     "name": "stdout",
     "output_type": "stream",
     "text": [
      "0 2019-10-12\n",
      "1 2019-10-13\n",
      "2 2019-10-14\n",
      "3 2019-10-15\n",
      "4 2019-10-16\n",
      "5 2019-10-17\n",
      "6 2019-10-18\n",
      "7 2019-10-19\n",
      "8 2019-10-20\n",
      "9 2019-10-21\n"
     ]
    }
   ],
   "source": [
    "write_communities(time, dates)"
   ]
  },
  {
   "cell_type": "markdown",
   "metadata": {},
   "source": [
    "#### Compress output →  `output.zip`"
   ]
  },
  {
   "cell_type": "code",
   "execution_count": 30,
   "metadata": {},
   "outputs": [
    {
     "name": "stdout",
     "output_type": "stream",
     "text": [
      "\tzip warning: name not matched: *csv\r\n",
      "\tzip warning: name not matched: *xls\r\n",
      "\tzip warning: name not matched: *html\r\n",
      "\tzip warning: name not matched: *json\r\n",
      "  adding: communities_items.xlsx (deflated 27%)\r\n",
      "  adding: communities_users.xlsx (deflated 10%)\r\n"
     ]
    }
   ],
   "source": [
    "!zip output.zip *xlsx"
   ]
  },
  {
   "cell_type": "code",
   "execution_count": 31,
   "metadata": {},
   "outputs": [
    {
     "name": "stdout",
     "output_type": "stream",
     "text": [
      "communities_items.xlsx\t__pycache__\t  smlib.py\r\n",
      "communities_users.xlsx\tREADME.md\t  SubgraphManipulator.ipynb\r\n",
      "__init__.py\t\trequirements.txt  SubgraphManipulator.py\r\n",
      "MSM.py\t\t\tRESULTS\t\t  TSM.py\r\n",
      "output.zip\t\tRSM.py\r\n"
     ]
    }
   ],
   "source": [
    "!ls"
   ]
  },
  {
   "cell_type": "markdown",
   "metadata": {},
   "source": [
    "### [Download output files](output.zip)"
   ]
  },
  {
   "cell_type": "markdown",
   "metadata": {},
   "source": [
    "___\n",
    "\n",
    "### References\n",
    "\n",
    "* TSM on GitHub: https://github.com/dfreelon/TSM\n",
    "* The TSM author, Deen Freelon: http://dfreelon.org/\n",
    "* Line charts with plot.ly: https://plot.ly/python/line-charts/\n",
    "* Bringing Matplotlib to the Browser: https://mpld3.github.io/examples/html_tooltips.html\n",
    "* matplotlib.pyplot.scatter: https://matplotlib.org/api/_as_gen/matplotlib.pyplot.scatter.html"
   ]
  }
 ],
 "metadata": {
  "kernelspec": {
   "display_name": "Python 3",
   "language": "python",
   "name": "python3"
  },
  "language_info": {
   "codemirror_mode": {
    "name": "ipython",
    "version": 3
   },
   "file_extension": ".py",
   "mimetype": "text/x-python",
   "name": "python",
   "nbconvert_exporter": "python",
   "pygments_lexer": "ipython3",
   "version": "3.7.5"
  }
 },
 "nbformat": 4,
 "nbformat_minor": 2
}
