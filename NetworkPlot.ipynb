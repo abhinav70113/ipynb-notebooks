{
 "cells": [
  {
   "cell_type": "markdown",
   "metadata": {},
   "source": [
    "## NetworkPlot\n",
    "\n",
    "### Set environmental variables\n",
    "\n",
    "In order to properly load modules within this notebook from outside the repository folder, set the script **PATH** below,  e.g. ```C:/NetworkPlot```:"
   ]
  },
  {
   "cell_type": "code",
   "execution_count": null,
   "metadata": {},
   "outputs": [],
   "source": [
    "PATH = \"/path/to/NetworkPlot\" # <-- optional if running from native path"
   ]
  },
  {
   "cell_type": "code",
   "execution_count": null,
   "metadata": {},
   "outputs": [],
   "source": [
    "import importlib.util, os\n",
    "\n",
    "if not os.path.isdir(PATH):\n",
    "    PATH = os.getcwd()\n",
    "PATH = os.path.realpath(PATH)\n",
    "\n",
    "spec = importlib.util.spec_from_file_location(\"__init__\", PATH+'/__init__.py')\n",
    "init = importlib.util.module_from_spec(spec)\n",
    "spec.loader.exec_module(init)\n",
    "\n",
    "%matplotlib inline\n",
    "%load_ext autoreload\n",
    "%autoreload 2"
   ]
  },
  {
   "cell_type": "markdown",
   "metadata": {},
   "source": [
    "### Import functions"
   ]
  },
  {
   "cell_type": "code",
   "execution_count": null,
   "metadata": {},
   "outputs": [],
   "source": [
    "import plotly.offline as py\n",
    "\n",
    "from dflib import df_load, df_describe\n",
    "from NetworkPlot import NetworkPlot\n",
    "from nxlib import nx_readgraph, nx_readfile\n",
    "\n",
    "py.init_notebook_mode(connected=True)"
   ]
  },
  {
   "cell_type": "markdown",
   "metadata": {},
   "source": [
    "### Load network data\n",
    "\n",
    "Choose and import a network graph object to analyze below.\n",
    "\n",
    "#### 1) Graph file\n",
    "\n",
    "Reads graph file data and returns a `networkx.Graph()` object. Accepts GDF, GEXF, GML, Pickle, GraphML, LEDA, YAML, PAJEK and SHP formats."
   ]
  },
  {
   "cell_type": "code",
   "execution_count": null,
   "metadata": {},
   "outputs": [],
   "source": [
    "graph_file = \"\"\n",
    "\n",
    "G = nx_readgraph(graph_file)"
   ]
  },
  {
   "cell_type": "markdown",
   "metadata": {},
   "source": [
    "#### 2) Text file\n",
    "\n",
    "Reads content from file and builds graph object, e.g. from `TwitterCollector` data. Accepts CSV, TAB, TXT, XLS and XLSX formats."
   ]
  },
  {
   "cell_type": "code",
   "execution_count": null,
   "metadata": {},
   "outputs": [],
   "source": [
    "input_file = \"\" # \"tweets.csv\"\n",
    "source     = \"\" # \"original_tweet_screen_name\"\n",
    "target     = \"\" # \"retweet_screen_name\"\n",
    "\n",
    "G, dataset = nx_readfile(input_file, source, target)"
   ]
  },
  {
   "cell_type": "markdown",
   "metadata": {},
   "source": [
    "#### 3) Citation data\n",
    "\n",
    "Reads content from folder using `metaknowledge.RecordCollection`, split by year and assign it to a graph object."
   ]
  },
  {
   "cell_type": "code",
   "execution_count": null,
   "metadata": {},
   "outputs": [],
   "source": [
    "import metaknowledge as mk"
   ]
  },
  {
   "cell_type": "code",
   "execution_count": null,
   "metadata": {},
   "outputs": [],
   "source": [
    "raw_data   = \"\"\n",
    "start_year = 2017\n",
    "end_year   = 2018\n",
    "\n",
    "if raw_data:\n",
    "    RC = mk.RecordCollection(raw_data, cached=True)\n",
    "    RC = RC.yearSplit(start_year, end_year)\n",
    "    G = RC.networkCitation()\n",
    "    print(len(RC),'total records\\n')\n",
    "    for line in RC.glimpse().split('\\n')[3:]:\n",
    "        print(line)"
   ]
  },
  {
   "cell_type": "markdown",
   "metadata": {},
   "source": [
    "### Network analysis\n",
    "\n",
    "Calls NetworkPlot in order to compute centrality measures, identify modules (communities) and render graphs.\n",
    "\n",
    "#### Advanced settings\n",
    "\n",
    "* Layouts: `circular`, `kamada_kawai`, `fruchterman_reingold`, `spring` (F-R),  `spectral`, `forceatlas2` or `random`.\n",
    "\n",
    "* Renderers: `networkx`, `datashader`, `ds_bundled` or `plotly`."
   ]
  },
  {
   "cell_type": "code",
   "execution_count": null,
   "metadata": {},
   "outputs": [],
   "source": [
    "k = 0                     # value for k-core filter\n",
    "it = 500                  # maximum number of iterations\n",
    "df_centrality = \"\"        # saved centrality data frame\n",
    "\n",
    "layout = 'forceatlas2'    # from networkx or datashader\n",
    "renderer = 'networkx'     # library to plot graph\n",
    "sort_by = 'degree'        # centrality measure to sort by\n",
    "\n",
    "max_nodes = None          # number of top nodes by degree\n",
    "max_modules = None        # number of top modules to output\n",
    "max_r_nodes = None        # number of top nodes to render\n",
    "max_labels = None         # number of top node labels to render\n",
    "\n",
    "include_nodes = \"\"        # list of nodes to include (comma separated)\n",
    "exclude_nodes = \"\"        # list of nodes to exclude (comma separated)\n",
    "\n",
    "deg = True                # degree centrality measure\n",
    "clu = False               # clustering coefficient\n",
    "clo = False               # closeness centrality\n",
    "eig = False               # eigenvector centrality\n",
    "bet = False               # betweenness centrality\n",
    "bri = False               # bridgeness centrality\n",
    "bro = False               # brokeness centrality\n",
    "den = False               # network density\n",
    "dia = False               # network diameter\n",
    "mod = False               # Louvain method for modularity\n",
    "\n",
    "group_modules = False     # group nodes by their communities\n",
    "normalized = False        # all except degree centrality\n",
    "show_labels = False       # write node names (all by default)\n",
    "\n",
    "plot_network = False      # set as True to plot network graph\n",
    "plot_modules = False      # set as True to plot modules graphs\n",
    "inline = True             # display rendered graphs inline\n",
    "\n",
    "name = 'Network graph'    # graph name for whole network\n",
    "output_folder = 'NETWORK' # optionally set the output folder name"
   ]
  },
  {
   "cell_type": "markdown",
   "metadata": {},
   "source": [
    "#### Analyze network\n",
    "\n",
    "Calls NetworkPlot main function based on the settings above. **Note:** a returned `df` might be used as input parameter to skip centrality computing."
   ]
  },
  {
   "cell_type": "code",
   "execution_count": null,
   "metadata": {},
   "outputs": [],
   "source": [
    "df, dfm = NetworkPlot(G,\n",
    "                      k=k,\n",
    "                      it=it,\n",
    "                      df=df_centrality,\n",
    "                      layout=layout,\n",
    "                      renderer=renderer,\n",
    "                      sort_by=sort_by,\n",
    "                      name=name,\n",
    "                      include=include_nodes,\n",
    "                      exclude=exclude_nodes,\n",
    "                      deg=deg,\n",
    "                      clu=clu,\n",
    "                      clo=clo,\n",
    "                      eig=eig,\n",
    "                      bet=bet,\n",
    "                      bri=bri,\n",
    "                      bro=bro,\n",
    "                      den=den,\n",
    "                      dia=dia,\n",
    "                      mod=mod,\n",
    "                      group_modules=group_modules,\n",
    "                      normalized=normalized,\n",
    "                      show_labels=show_labels,\n",
    "                      max_nodes=max_nodes,\n",
    "                      max_modules=max_modules,\n",
    "                      max_r_nodes=max_r_nodes,\n",
    "                      max_labels=max_labels,\n",
    "                      plot_network=plot_network,\n",
    "                      plot_modules=plot_modules,\n",
    "                      inline=inline,\n",
    "                      output_folder=output_folder)"
   ]
  },
  {
   "cell_type": "markdown",
   "metadata": {},
   "source": [
    "### Data frame\n",
    "\n",
    "Display data frame of centrality measures from the nodes."
   ]
  },
  {
   "cell_type": "code",
   "execution_count": null,
   "metadata": {},
   "outputs": [],
   "source": [
    "df"
   ]
  },
  {
   "cell_type": "markdown",
   "metadata": {},
   "source": [
    "#### Data frame from modules\n",
    "\n",
    "Display data frame of centrality measures from identified modules."
   ]
  },
  {
   "cell_type": "code",
   "execution_count": null,
   "metadata": {},
   "outputs": [],
   "source": [
    "dfm"
   ]
  },
  {
   "cell_type": "markdown",
   "metadata": {},
   "source": [
    "#### Data frame from nodes in a module\n",
    "\n",
    "Display data frame of centrality measures from the nodes in a specific module **m**. By default, shows objects from the first module (`m=0`)."
   ]
  },
  {
   "cell_type": "code",
   "execution_count": null,
   "metadata": {},
   "outputs": [],
   "source": [
    "m = 0\n",
    "\n",
    "df_ = df[df['module'] == m]; df_"
   ]
  },
  {
   "cell_type": "markdown",
   "metadata": {},
   "source": [
    "### Statistics from data frame\n",
    "\n",
    "Display statistics from nodes in a data frame."
   ]
  },
  {
   "cell_type": "code",
   "execution_count": null,
   "metadata": {},
   "outputs": [],
   "source": [
    "df_describe(df)"
   ]
  },
  {
   "cell_type": "markdown",
   "metadata": {},
   "source": [
    "#### Statistics from modules\n",
    "\n",
    "Displays statistics from all modules in a data frame."
   ]
  },
  {
   "cell_type": "code",
   "execution_count": null,
   "metadata": {},
   "outputs": [],
   "source": [
    "df_describe(dfm)"
   ]
  },
  {
   "cell_type": "markdown",
   "metadata": {},
   "source": [
    "#### Statistics from nodes in a module\n",
    "\n",
    "Display statistics from the nodes in a specific module **m**. By default, shows objects from the first module (`m=0`)."
   ]
  },
  {
   "cell_type": "code",
   "execution_count": null,
   "metadata": {},
   "outputs": [],
   "source": [
    "m = 0\n",
    "\n",
    "df_ = df[df['module'] == m]; df_describe(df_)"
   ]
  },
  {
   "cell_type": "markdown",
   "metadata": {},
   "source": [
    "### Correlate centralities\n",
    "\n",
    "Displays chart correlating centrality measures. **Note:** one-liner requires `plotly_express` (bundled with `plotly >= 4`)."
   ]
  },
  {
   "cell_type": "code",
   "execution_count": null,
   "metadata": {},
   "outputs": [],
   "source": [
    "import plotly_express as px # >=0.3\n",
    "#import plotly.express as px # >=0.4"
   ]
  },
  {
   "cell_type": "code",
   "execution_count": null,
   "metadata": {},
   "outputs": [],
   "source": [
    "x = 'in_degree'\n",
    "y = 'out_degree'\n",
    "size = 'degree'\n",
    "color = None # 'module'"
   ]
  },
  {
   "cell_type": "markdown",
   "metadata": {},
   "source": [
    "#### Correlate nodes centralities\n",
    "\n",
    "Returns chart correlating centrality from nodes (`df`)."
   ]
  },
  {
   "cell_type": "code",
   "execution_count": null,
   "metadata": {},
   "outputs": [],
   "source": [
    "fig = px.scatter(df, x=x, y=y, size=size, color=color); fig\n",
    "#fig.write_html('%s/network-centrality.html' % output_folder) # <-- uncomment to save as HTML file"
   ]
  },
  {
   "cell_type": "markdown",
   "metadata": {},
   "source": [
    "#### Correlate modules centralities\n",
    "\n",
    "Returns chart correlating centrality from modules (`dfm`)."
   ]
  },
  {
   "cell_type": "code",
   "execution_count": null,
   "metadata": {},
   "outputs": [],
   "source": [
    "fig = px.scatter(dfm, x=x, y=y, size=size, color=color); fig\n",
    "#fig.write_html('%s/modules-centrality.html' % output_folder) # <-- uncomment to save as HTML file"
   ]
  },
  {
   "cell_type": "markdown",
   "metadata": {},
   "source": [
    "### Filter data set by module\n",
    "\n",
    "Returns data frame only for a specific module **m**. By default, shows objects from the first module (`m=0`). **Note:** requires a loaded `dataset` from file."
   ]
  },
  {
   "cell_type": "code",
   "execution_count": null,
   "metadata": {},
   "outputs": [],
   "source": [
    "m = 0\n",
    "\n",
    "mod = list(df[df['module'] == m].index)\n",
    "df_ = dataset[dataset[source].isin(mod)]; df_\n",
    "\n",
    "#df_.to_csv('%s/module_%s.csv' % (output_folder, k)) # <-- uncomment to save as CSV file"
   ]
  },
  {
   "cell_type": "markdown",
   "metadata": {},
   "source": [
    "#### Filter data set for all modules (!)\n",
    "\n",
    "Output all data filtered by top modules as CSV files. **Note:** requires a loded `dataset` from file."
   ]
  },
  {
   "cell_type": "code",
   "execution_count": null,
   "metadata": {},
   "outputs": [],
   "source": [
    "for m in sorted(dfm.index[:max_modules]):\n",
    "    mod = list(df[df['partition'] == m].index)\n",
    "    df_ = dataset[dataset[source].isin(mod)]; df_\n",
    "    df_.to_csv('%s/module_%s.csv' % (output_folder, m))"
   ]
  },
  {
   "cell_type": "markdown",
   "metadata": {},
   "source": [
    "#### Compress output →  `output.zip`"
   ]
  },
  {
   "cell_type": "code",
   "execution_count": null,
   "metadata": {},
   "outputs": [],
   "source": [
    "!zip -r output.zip NETWORK"
   ]
  },
  {
   "cell_type": "markdown",
   "metadata": {},
   "source": [
    "### [Download output files](output.zip)"
   ]
  },
  {
   "cell_type": "markdown",
   "metadata": {},
   "source": [
    "_____\n",
    "### References\n",
    "\n",
    "* NetworkX: https://networkx.github.io\n",
    "\n",
    "* Datashader: http://datashader.org/\n",
    "\n",
    "* HoloViews: http://holoviews.org/\n",
    "\n",
    "* Plotly: https://plot.ly"
   ]
  }
 ],
 "metadata": {
  "kernelspec": {
   "display_name": "Python 3",
   "language": "python",
   "name": "python3"
  },
  "language_info": {
   "codemirror_mode": {
    "name": "ipython",
    "version": 3
   },
   "file_extension": ".py",
   "mimetype": "text/x-python",
   "name": "python",
   "nbconvert_exporter": "python",
   "pygments_lexer": "ipython3",
   "version": "3.7.6"
  }
 },
 "nbformat": 4,
 "nbformat_minor": 2
}
