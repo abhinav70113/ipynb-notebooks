{
 "cells": [
  {
   "cell_type": "markdown",
   "metadata": {},
   "source": [
    "## NetworkPlot\n",
    "\n",
    "### Set environmental variables\n",
    "\n",
    "In order to properly load modules within this notebook from outside the repository folder, set the script **PATH** below,  e.g. ```C:/NetworkPlot```:"
   ]
  },
  {
   "cell_type": "code",
   "execution_count": null,
   "metadata": {},
   "outputs": [],
   "source": [
    "PATH = \"/media/data/scripts/chn@git/chn-tools/tools/NetworkPlot\" # <-- optional if running from native path"
   ]
  },
  {
   "cell_type": "code",
   "execution_count": null,
   "metadata": {},
   "outputs": [],
   "source": [
    "import importlib.util, os\n",
    "\n",
    "if not os.path.isdir(PATH):\n",
    "    PATH = os.getcwd()\n",
    "PATH = os.path.realpath(PATH)\n",
    "\n",
    "spec = importlib.util.spec_from_file_location(\"__init__\", PATH+'/__init__.py')\n",
    "init = importlib.util.module_from_spec(spec)\n",
    "spec.loader.exec_module(init)\n",
    "\n",
    "%matplotlib inline\n",
    "%load_ext autoreload\n",
    "%autoreload 2"
   ]
  },
  {
   "cell_type": "markdown",
   "metadata": {},
   "source": [
    "### Import functions"
   ]
  },
  {
   "cell_type": "code",
   "execution_count": 6,
   "metadata": {},
   "outputs": [],
   "source": [
    "#import metaknowledge as mk # <-- required for citation network\n",
    "#import networkx as nx # <-- required for random graph\n",
    "\n",
    "from NetworkPlot import NetworkPlot\n",
    "from nxlib import nx_readgraph, nx_readfile"
   ]
  },
  {
   "cell_type": "markdown",
   "metadata": {},
   "source": [
    "### Load network data\n",
    "\n",
    "Choose and import a network graph object to analyze below.\n",
    "\n",
    "#### 1) Graph data file\n",
    "\n",
    "Common graph file formats to be imported as a ```networkx.Graph()``` object. Accepts GDF/GEXF/GML/GraphML, among others."
   ]
  },
  {
   "cell_type": "code",
   "execution_count": 9,
   "metadata": {},
   "outputs": [
    {
     "ename": "TypeError",
     "evalue": "nx_readfile() missing 2 required positional arguments: 'source' and 'target'",
     "output_type": "error",
     "traceback": [
      "\u001b[0;31m---------------------------------------------------------------------------\u001b[0m",
      "\u001b[0;31mTypeError\u001b[0m                                 Traceback (most recent call last)",
      "\u001b[0;32m<ipython-input-9-16277b591684>\u001b[0m in \u001b[0;36m<module>\u001b[0;34m\u001b[0m\n\u001b[1;32m      1\u001b[0m \u001b[0mgraph_file\u001b[0m \u001b[0;34m=\u001b[0m \u001b[0;34m\"/home/neo/workspace/kmeans_tweets/TheExpanse_250.csv\"\u001b[0m\u001b[0;34m\u001b[0m\u001b[0;34m\u001b[0m\u001b[0m\n\u001b[1;32m      2\u001b[0m \u001b[0;34m\u001b[0m\u001b[0m\n\u001b[0;32m----> 3\u001b[0;31m \u001b[0mG\u001b[0m \u001b[0;34m=\u001b[0m \u001b[0mnx_readgraph\u001b[0m\u001b[0;34m(\u001b[0m\u001b[0mgraph_file\u001b[0m\u001b[0;34m)\u001b[0m\u001b[0;34m\u001b[0m\u001b[0;34m\u001b[0m\u001b[0m\n\u001b[0m",
      "\u001b[0;32m~/scripts/chn@git/NetworkPlot/nxlib.py\u001b[0m in \u001b[0;36mnx_readgraph\u001b[0;34m(filename, format)\u001b[0m\n\u001b[1;32m     93\u001b[0m         \u001b[0;32mreturn\u001b[0m \u001b[0mnx\u001b[0m\u001b[0;34m.\u001b[0m\u001b[0mread_shp\u001b[0m\u001b[0;34m(\u001b[0m\u001b[0mfilename\u001b[0m\u001b[0;34m)\u001b[0m\u001b[0;34m\u001b[0m\u001b[0;34m\u001b[0m\u001b[0m\n\u001b[1;32m     94\u001b[0m     \u001b[0;32melif\u001b[0m \u001b[0mformat\u001b[0m \u001b[0;32min\u001b[0m \u001b[0mSHEET_FORMATS\u001b[0m\u001b[0;34m:\u001b[0m\u001b[0;34m\u001b[0m\u001b[0;34m\u001b[0m\u001b[0m\n\u001b[0;32m---> 95\u001b[0;31m         \u001b[0;32mreturn\u001b[0m \u001b[0mnx_readfile\u001b[0m\u001b[0;34m(\u001b[0m\u001b[0mfilename\u001b[0m\u001b[0;34m)\u001b[0m\u001b[0;34m\u001b[0m\u001b[0;34m\u001b[0m\u001b[0m\n\u001b[0m\u001b[1;32m     96\u001b[0m     \u001b[0;32melse\u001b[0m\u001b[0;34m:\u001b[0m \u001b[0;31m# return empty graph\u001b[0m\u001b[0;34m\u001b[0m\u001b[0;34m\u001b[0m\u001b[0m\n\u001b[1;32m     97\u001b[0m         print('Warning: unidentified file extension.\\n'+\\\n",
      "\u001b[0;31mTypeError\u001b[0m: nx_readfile() missing 2 required positional arguments: 'source' and 'target'"
     ]
    }
   ],
   "source": [
    "graph_file = \"/home/neo/workspace/kmeans_tweets/TheExpanse_250.csv\"\n",
    "\n",
    "G = nx_readgraph(graph_file)"
   ]
  },
  {
   "cell_type": "markdown",
   "metadata": {},
   "source": [
    "#### 2) Spreadsheet file\n",
    "\n",
    "Reads content from file and build graph object. Accepts CSV/TAB/XLS/XLSX formats."
   ]
  },
  {
   "cell_type": "code",
   "execution_count": 2,
   "metadata": {},
   "outputs": [
    {
     "ename": "NameError",
     "evalue": "name 'nx_readfile' is not defined",
     "output_type": "error",
     "traceback": [
      "\u001b[0;31m---------------------------------------------------------------------------\u001b[0m",
      "\u001b[0;31mNameError\u001b[0m                                 Traceback (most recent call last)",
      "\u001b[0;32m<ipython-input-2-0eba23dded33>\u001b[0m in \u001b[0;36m<module>\u001b[0;34m\u001b[0m\n\u001b[1;32m      3\u001b[0m \u001b[0mtarget\u001b[0m     \u001b[0;34m=\u001b[0m \u001b[0;34m\"rt_user\"\u001b[0m\u001b[0;34m\u001b[0m\u001b[0;34m\u001b[0m\u001b[0m\n\u001b[1;32m      4\u001b[0m \u001b[0;34m\u001b[0m\u001b[0m\n\u001b[0;32m----> 5\u001b[0;31m \u001b[0mG\u001b[0m \u001b[0;34m=\u001b[0m \u001b[0mnx_readfile\u001b[0m\u001b[0;34m(\u001b[0m\u001b[0minput_file\u001b[0m\u001b[0;34m,\u001b[0m \u001b[0msource\u001b[0m\u001b[0;34m=\u001b[0m\u001b[0msource\u001b[0m\u001b[0;34m,\u001b[0m \u001b[0mtarget\u001b[0m\u001b[0;34m=\u001b[0m\u001b[0mtarget\u001b[0m\u001b[0;34m)\u001b[0m\u001b[0;34m\u001b[0m\u001b[0;34m\u001b[0m\u001b[0m\n\u001b[0m",
      "\u001b[0;31mNameError\u001b[0m: name 'nx_readfile' is not defined"
     ]
    }
   ],
   "source": [
    "input_file = \"/home/neo/workspace/kmeans_tweets/TheExpanse_250.csv\"\n",
    "source     = \"from_user\"\n",
    "target     = \"rt_user\"\n",
    "\n",
    "G = nx_readfile(input_file, source=source, target=target)"
   ]
  },
  {
   "cell_type": "markdown",
   "metadata": {},
   "source": [
    "#### 3) Citation Network\n",
    "\n",
    "Reads content from folder using ```metaknowledge.RecordCollection```, split by year and assign it to a graph object."
   ]
  },
  {
   "cell_type": "code",
   "execution_count": 1,
   "metadata": {},
   "outputs": [],
   "source": [
    "raw_data   = \"\"\n",
    "start_year = 2017\n",
    "end_year   = 2018\n",
    "\n",
    "if raw_data:\n",
    "    RC = mk.RecordCollection(raw_data, cached=True)\n",
    "    RC = RC.yearSplit(start_year, end_year)\n",
    "    G = RC.networkCitation()\n",
    "    print(len(RC),'total records\\n')\n",
    "    for line in RC.glimpse().split('\\n')[3:]:\n",
    "        print(line)"
   ]
  },
  {
   "cell_type": "markdown",
   "metadata": {},
   "source": [
    "#### 4) Random test data\n",
    "\n",
    "Loads a random geometric graph for testing purposes."
   ]
  },
  {
   "cell_type": "code",
   "execution_count": null,
   "metadata": {},
   "outputs": [],
   "source": [
    "G = nx.random_geometric_graph(100, 0.1)"
   ]
  },
  {
   "cell_type": "markdown",
   "metadata": {},
   "source": [
    "### Generate network analysis\n",
    "\n",
    "Calls NetworkPlot in order to compute centrality measures, identify modules (clusters) and render graph.\n",
    "\n",
    "Accepted layouts: `circular`, `kamada_kawai`, `fruchterman_reingold`, `spectral`, `spring`, `forceatlas2` and `random`."
   ]
  },
  {
   "cell_type": "code",
   "execution_count": null,
   "metadata": {
    "scrolled": false
   },
   "outputs": [],
   "source": [
    "NetworkPlot(G,                     # <-- input graph (required)\n",
    "            k=1,                   # <-- k-value for k-core filter\n",
    "            labels=True,           # <-- write names above nodes\n",
    "            layout='kamada_kawai', # <-- from networkx or datashader\n",
    "            it=500,                # <-- maximum number of iterations\n",
    "            deg=True,              # <-- degree centrality measure\n",
    "            clu=True,              # <-- clustering coefficient\n",
    "            clo=True,              # <-- closeness coefficient\n",
    "            eig=True,              # <-- eigenvector centrality\n",
    "            bet=False,             # <-- betweenness centrality\n",
    "            bri=False,             # <-- bridgeness centrality\n",
    "            bro=False,             # <-- brokeness centrality\n",
    "            mod=True,              # <-- identifies modules by Louvain method\n",
    "            normalized=False,      # <-- set as True for MinMax scale\n",
    "            max_nodes=1000,        # <-- number of top nodes to output\n",
    "            max_modules=22,        # <-- number of top modules to output\n",
    "            centrality_file=None,  # <-- previously output centrality measures\n",
    "            plot_days=False,       # <-- set as True to plot daily graphs\n",
    "            plot_modules=False,    # <-- set as True to plot modules' graphs\n",
    "            output='network')      # <-- optionally set the output folder name"
   ]
  },
  {
   "cell_type": "markdown",
   "metadata": {},
   "source": [
    "#### Compress output →  `output.zip`"
   ]
  },
  {
   "cell_type": "code",
   "execution_count": null,
   "metadata": {},
   "outputs": [],
   "source": [
    "raw_data = PATH+\"/sample/raw_data.tar.bz2\"\n",
    "\n",
    "if raw_data:\n",
    "    zipper.untar(raw_data, PATH+'/sample/') # <-- extract data\n",
    "    RC = mk.RecordCollection(PATH+'/sample/raw_data', cached=True)\n",
    "    RC = RC.yearSplit(2017, 2018) # <-- start, end\n",
    "    G = RC.networkCitation() # <-- citation network\n",
    "    print(len(RC),'total records\\n')\n",
    "    for line in RC.glimpse().split('\\n')[3:]:\n",
    "        print(line)"
   ]
  },
  {
   "cell_type": "code",
   "execution_count": null,
   "metadata": {},
   "outputs": [],
   "source": [
    "!zip -r output.zip network/"
   ]
  },
  {
   "cell_type": "markdown",
   "metadata": {},
   "source": [
    "### [Download output files](output.zip)"
   ]
  },
  {
   "cell_type": "markdown",
   "metadata": {},
   "source": [
    "_____\n",
    "### References\n",
    "\n",
    "* NetworkX: https://networkx.github.io\n",
    "\n",
    "* Datashader: http://datashader.org/\n",
    "\n",
    "* HoloViews: http://holoviews.org/\n",
    "\n",
    "* plotly: https://plot.ly"
   ]
  }
 ],
 "metadata": {
  "kernelspec": {
   "display_name": "Python 3",
   "language": "python",
   "name": "python3"
  },
  "language_info": {
   "codemirror_mode": {
    "name": "ipython",
    "version": 3
   },
   "file_extension": ".py",
   "mimetype": "text/x-python",
   "name": "python",
   "nbconvert_exporter": "python",
   "pygments_lexer": "ipython3",
   "version": "3.7.4"
  }
 },
 "nbformat": 4,
 "nbformat_minor": 2
}
