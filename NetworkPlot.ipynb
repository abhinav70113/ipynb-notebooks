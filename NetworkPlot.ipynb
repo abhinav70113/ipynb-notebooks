{
 "cells": [
  {
   "cell_type": "markdown",
   "metadata": {},
   "source": [
    "## NetworkPlot\n",
    "\n",
    "### Set environmental variables\n",
    "\n",
    "In order to properly load modules within this notebook from outside the repository folder, set the script **PATH** below,  e.g. ```C:/NetworkPlot```:"
   ]
  },
  {
   "cell_type": "code",
   "execution_count": null,
   "metadata": {},
   "outputs": [],
   "source": [
    "PATH = \"/path/to/NetworkPlot\" # <-- optional if running from native path"
   ]
  },
  {
   "cell_type": "code",
   "execution_count": null,
   "metadata": {},
   "outputs": [],
   "source": [
    "import importlib.util, os\n",
    "\n",
    "if not os.path.isdir(PATH):\n",
    "    PATH = os.getcwd()\n",
    "PATH = os.path.realpath(PATH)\n",
    "\n",
    "spec = importlib.util.spec_from_file_location(\"__init__\", PATH+'/__init__.py')\n",
    "init = importlib.util.module_from_spec(spec)\n",
    "spec.loader.exec_module(init)\n",
    "\n",
    "%matplotlib inline\n",
    "%load_ext autoreload\n",
    "%autoreload 2"
   ]
  },
  {
   "cell_type": "markdown",
   "metadata": {},
   "source": [
    "### Import functions"
   ]
  },
  {
   "cell_type": "code",
   "execution_count": null,
   "metadata": {},
   "outputs": [],
   "source": [
    "import plotly.graph_objs as go\n",
    "import plotly.offline as py\n",
    "\n",
    "from NetworkPlot import NetworkPlot\n",
    "from nxlib import nx_readgraph, nx_readfile\n",
    "from plotlib import py_plot\n",
    "\n",
    "py.init_notebook_mode(connected=True)"
   ]
  },
  {
   "cell_type": "markdown",
   "metadata": {},
   "source": [
    "### Load network data\n",
    "\n",
    "Choose and import a network graph object to analyze below.\n",
    "\n",
    "#### 1) Graph data file\n",
    "\n",
    "Common graph file formats to be imported as a ```networkx.Graph()``` object. Accepts GDF/GEXF/GML/GraphML/Pajek & others."
   ]
  },
  {
   "cell_type": "code",
   "execution_count": null,
   "metadata": {},
   "outputs": [],
   "source": [
    "graph_file = \"\"\n",
    "\n",
    "G = nx_readgraph(graph_file)"
   ]
  },
  {
   "cell_type": "markdown",
   "metadata": {},
   "source": [
    "#### 2) Spreadsheet file\n",
    "\n",
    "Reads content from file and build graph object, e.g. from `TwitterCollector` data. Accepts CSV/TAB/XLS/XLSX/TXT formats."
   ]
  },
  {
   "cell_type": "code",
   "execution_count": null,
   "metadata": {},
   "outputs": [],
   "source": [
    "input_file = \"\" # \"tweets.csv\"\n",
    "source     = \"\" # \"original_tweet_screen_name\"\n",
    "target     = \"\" # \"retweet_screen_name\"\n",
    "\n",
    "G = nx_readfile(input_file, source=source, target=target)"
   ]
  },
  {
   "cell_type": "markdown",
   "metadata": {},
   "source": [
    "#### 3) Citation Network\n",
    "\n",
    "Reads content from folder using ```metaknowledge.RecordCollection```, split by year and assign it to a graph object."
   ]
  },
  {
   "cell_type": "code",
   "execution_count": null,
   "metadata": {},
   "outputs": [],
   "source": [
    "import metaknowledge as mk"
   ]
  },
  {
   "cell_type": "code",
   "execution_count": null,
   "metadata": {},
   "outputs": [],
   "source": [
    "raw_data   = \"\"\n",
    "start_year = 2017\n",
    "end_year   = 2018\n",
    "\n",
    "if raw_data:\n",
    "    RC = mk.RecordCollection(raw_data, cached=True)\n",
    "    RC = RC.yearSplit(start_year, end_year)\n",
    "    G = RC.networkCitation()\n",
    "    print(len(RC),'total records\\n')\n",
    "    for line in RC.glimpse().split('\\n')[3:]:\n",
    "        print(line)"
   ]
  },
  {
   "cell_type": "markdown",
   "metadata": {},
   "source": [
    "### Generate network analysis\n",
    "\n",
    "Calls NetworkPlot in order to compute centrality measures, identify modules (clusters) and render graph.\n",
    "\n",
    "* Layouts: `circular`, `kamada_kawai`, `fruchterman_reingold`, `spring` (F-R),  `spectral`, `forceatlas2` or `random`.\n",
    "\n",
    "* Renderers: `networkx`, `datashader`, `ds_bundled`, `plotly` or `none`."
   ]
  },
  {
   "cell_type": "code",
   "execution_count": null,
   "metadata": {
    "scrolled": false
   },
   "outputs": [],
   "source": [
    "df, dfm, graphs = NetworkPlot(G,          # <-- input graph (required)\n",
    "                  k=1,                    # <-- k-value for k-core filter\n",
    "                  df=[],                  # <-- previously saved centrality\n",
    "                  layout='forceatlas2',   # <-- from networkx or datashader\n",
    "                  renderer='networkx',    # <-- library to plot graph\n",
    "                  it=500,                 # <-- maximum number of iterations\n",
    "                  deg=True,               # <-- degree centrality measure\n",
    "                  clu=True,               # <-- clustering coefficient\n",
    "                  clo=True,               # <-- closeness centrality\n",
    "                  eig=True,               # <-- eigenvector centrality\n",
    "                  bet=True,               # <-- betweenness centrality\n",
    "                  bri=True,               # <-- bridgeness centrality\n",
    "                  bro=True,               # <-- brokeness centrality\n",
    "                  mod=True,               # <-- Louvain method for modularity\n",
    "                  normalized=True,        # <-- all except degree centrality\n",
    "                  show_labels=True,       # <-- write names above nodes\n",
    "                  max_nodes=1000,         # <-- number of top nodes to render\n",
    "                  max_modules=22,         # <-- number of top modules to render\n",
    "                  max_labels=30,          # <-- number of top node labels to render\n",
    "                  plot_modules=False,     # <-- set as True to plot modules' graphs\n",
    "                  output_folder='output') # <-- optionally set the output folder name"
   ]
  },
  {
   "cell_type": "markdown",
   "metadata": {},
   "source": [
    "#### Data frame from nodes\n",
    "\n",
    "Displays data frame of centrality measures from the nodes."
   ]
  },
  {
   "cell_type": "code",
   "execution_count": null,
   "metadata": {},
   "outputs": [],
   "source": [
    "df"
   ]
  },
  {
   "cell_type": "markdown",
   "metadata": {},
   "source": [
    "#### Data frame from modules\n",
    "\n",
    "Displays data frame of centrality measures from identified modules."
   ]
  },
  {
   "cell_type": "code",
   "execution_count": null,
   "metadata": {},
   "outputs": [],
   "source": [
    "dfm"
   ]
  },
  {
   "cell_type": "markdown",
   "metadata": {},
   "source": [
    "#### Correlate measures\n",
    "\n",
    "Displays chart correlating centrality measures from the modules. **Note:** one-liner requires `plotly_express`."
   ]
  },
  {
   "cell_type": "code",
   "execution_count": null,
   "metadata": {},
   "outputs": [],
   "source": [
    "import plotly_express as px"
   ]
  },
  {
   "cell_type": "code",
   "execution_count": null,
   "metadata": {},
   "outputs": [],
   "source": [
    "x = 'eigenvector'\n",
    "y = 'betweenness'\n",
    "\n",
    "px.scatter(dfm, x=x, y=y, color='cat', size='degree')#.write_html('chart.html')"
   ]
  },
  {
   "cell_type": "markdown",
   "metadata": {},
   "source": [
    "#### Compress output →  `output.zip`"
   ]
  },
  {
   "cell_type": "code",
   "execution_count": null,
   "metadata": {},
   "outputs": [],
   "source": [
    "!zip -r output.zip output"
   ]
  },
  {
   "cell_type": "markdown",
   "metadata": {},
   "source": [
    "### [Download output files](output.zip)"
   ]
  },
  {
   "cell_type": "markdown",
   "metadata": {},
   "source": [
    "_____\n",
    "### References\n",
    "\n",
    "* NetworkX: https://networkx.github.io\n",
    "\n",
    "* Datashader: http://datashader.org/\n",
    "\n",
    "* HoloViews: http://holoviews.org/\n",
    "\n",
    "* Plotly: https://plot.ly"
   ]
  }
 ],
 "metadata": {
  "kernelspec": {
   "display_name": "Python 3",
   "language": "python",
   "name": "python3"
  },
  "language_info": {
   "codemirror_mode": {
    "name": "ipython",
    "version": 3
   },
   "file_extension": ".py",
   "mimetype": "text/x-python",
   "name": "python",
   "nbconvert_exporter": "python",
   "pygments_lexer": "ipython3",
   "version": "3.7.5"
  }
 },
 "nbformat": 4,
 "nbformat_minor": 2
}
