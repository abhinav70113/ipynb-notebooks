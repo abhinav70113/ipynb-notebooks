{
 "cells": [
  {
   "cell_type": "markdown",
   "metadata": {},
   "source": [
    "## TwitterCollector\n",
    "\n",
    "### Set environmental variables\n",
    "\n",
    "In order to properly load modules within this notebook from outside the repository folder, set the script **PATH** below,  e.g. ```C:/TwitterCollector```:"
   ]
  },
  {
   "cell_type": "code",
   "execution_count": null,
   "metadata": {
    "scrolled": true
   },
   "outputs": [],
   "source": [
    "PATH = \"/path/to/TwitterCollector\" # <-- optional if running from native path"
   ]
  },
  {
   "cell_type": "code",
   "execution_count": null,
   "metadata": {},
   "outputs": [],
   "source": [
    "import importlib.util, os\n",
    "\n",
    "if not os.path.isdir(PATH):\n",
    "    PATH = os.getcwd()\n",
    "PATH = os.path.realpath(PATH)\n",
    "\n",
    "spec = importlib.util.spec_from_file_location(\"__init__\", PATH+'/__init__.py')\n",
    "init = importlib.util.module_from_spec(spec)\n",
    "spec.loader.exec_module(init)\n",
    "\n",
    "%matplotlib inline\n",
    "%load_ext autoreload\n",
    "%autoreload 2"
   ]
  },
  {
   "cell_type": "markdown",
   "metadata": {},
   "source": [
    "### Import functions"
   ]
  },
  {
   "cell_type": "code",
   "execution_count": null,
   "metadata": {},
   "outputs": [],
   "source": [
    "from collect import collect_twitter\n",
    "from convert import convert_json_tweets\n",
    "from hydrate import dehydrate_tweets\n",
    "from hydrate import hydrate_tweets\n",
    "from stream import stream_tweets\n",
    "from trends import trending_topics\n",
    "from woeid import WHERE_ON_EARTH"
   ]
  },
  {
   "cell_type": "markdown",
   "metadata": {},
   "source": [
    "#### Import API credentials"
   ]
  },
  {
   "cell_type": "code",
   "execution_count": null,
   "metadata": {},
   "outputs": [],
   "source": [
    "from config import TWITTER_KEYS as APP_KEYS\n",
    "from config import TWITTER_TOKENS as TOKENS\n",
    "\n",
    "APP_KEY     = TOKENS[0][0]\n",
    "APP_TOKEN   = TOKENS[0][1]\n",
    "OAUTH_KEY   = TOKENS[0][2]\n",
    "OAUTH_TOKEN = TOKENS[0][3]"
   ]
  },
  {
   "cell_type": "markdown",
   "metadata": {},
   "source": [
    "#### Override API credentials\n",
    "\n",
    "User definitions stored in ```config.py``` make this step optional."
   ]
  },
  {
   "cell_type": "code",
   "execution_count": null,
   "metadata": {},
   "outputs": [],
   "source": [
    "#APP_KEY = \"\"                         # <-- application key\n",
    "#APP_TOKEN = \"\"                       # <-- application token\n",
    "#OAUTH_KEY = \"\"                       # <-- required for Streaming API only\n",
    "#OAUTH_TOKEN = \"\"                     # <-- required for Streaming API only\n",
    "#APP_KEYS = [ [APP_KEY, APP_TOKEN] ]  # <-- list of application keys (REST API)"
   ]
  },
  {
   "cell_type": "markdown",
   "metadata": {},
   "source": [
    "### Hydrate and dehydrate"
   ]
  },
  {
   "cell_type": "code",
   "execution_count": null,
   "metadata": {},
   "outputs": [],
   "source": [
    "FILENAME = \"\" # tweets.csv; tweets.txt"
   ]
  },
  {
   "cell_type": "markdown",
   "metadata": {},
   "source": [
    "#### Hydrate tweets\n",
    "\n",
    "Get metadata from a list of dehydrated tweet IDs in a text file by querying the Twitter API. This method uses the [REST API](https://developer.twitter.com/en/docs/tweets/timelines/api-reference/get-statuses-user_timeline.html)."
   ]
  },
  {
   "cell_type": "code",
   "execution_count": null,
   "metadata": {},
   "outputs": [],
   "source": [
    "hydrate_tweets(FILENAME, app_keys=APP_KEYS, format='csv', output_file='tweets_dehydrated.txt')"
   ]
  },
  {
   "cell_type": "markdown",
   "metadata": {},
   "source": [
    "#### Dehydrate tweets\n",
    "\n",
    "Dehydrating tweets to store only the IDs is required in order to share Twitter data sets, according to the platform's [Terms of Service](https://developer.twitter.com/en/developer-terms/more-on-restricted-use-cases.html)."
   ]
  },
  {
   "cell_type": "code",
   "execution_count": null,
   "metadata": {},
   "outputs": [],
   "source": [
    "dehydrate_tweets(FILENAME, format='csv', output_file='tweets_dehydrated.txt')"
   ]
  },
  {
   "cell_type": "markdown",
   "metadata": {},
   "source": [
    "### Query tweet data"
   ]
  },
  {
   "cell_type": "code",
   "execution_count": null,
   "metadata": {},
   "outputs": [],
   "source": [
    "QUERY   = \"\" # keywords, #hashtags and/or @mentions \n",
    "LANG    = \"\" # language code, e.g.: en/es/pt/fr/... (optional)\n",
    "GEOCODE = \"\" # latitude,longitude,radius, e.g.: \"-20.23,-40.43,100km\" (optional)\n",
    "LIMIT   = 0  # limit maximum tweets to capture (optional)"
   ]
  },
  {
   "cell_type": "markdown",
   "metadata": {},
   "source": [
    "#### Collect recent tweets\n",
    "\n",
    "Captured tweets are limited to those published up to ~9 days ago. Allows the usage of [Twitter operators](https://developer.twitter.com/en/docs/tweets/rules-and-filtering/overview/standard-operators.html) on input query. Uses the [REST API](https://developer.twitter.com/en/docs/tweets/search/api-reference/get-search-tweets)."
   ]
  },
  {
   "cell_type": "code",
   "execution_count": null,
   "metadata": {
    "scrolled": true
   },
   "outputs": [],
   "source": [
    "collect_twitter(QUERY, APP_KEYS, lang=LANG, geocode=GEOCODE, limit=LIMIT, output_folder='tweets')"
   ]
  },
  {
   "cell_type": "markdown",
   "metadata": {},
   "source": [
    "#### Timeline from profiles\n",
    "\n",
    "Get timeline of up to 3200 most recent tweets from a user profile. Uses the [REST API](https://developer.twitter.com/en/docs/tweets/timelines/api-reference/get-statuses-user_timeline.html)."
   ]
  },
  {
   "cell_type": "code",
   "execution_count": null,
   "metadata": {},
   "outputs": [],
   "source": [
    "collect_twitter(QUERY, app_keys=APP_KEYS, limit=LIMIT, query_type='timeline', output_folder='timeline')"
   ]
  },
  {
   "cell_type": "markdown",
   "metadata": {},
   "source": [
    "#### Stream tweets in real time\n",
    "\n",
    "Keep script alive in the foreground streaming tweets. **Warning**: without setting ```LIMIT``` it'll run in a loop. Uses the [Stream API](https://developer.twitter.com/en/docs/tweets/filter-realtime/overview)."
   ]
  },
  {
   "cell_type": "code",
   "execution_count": null,
   "metadata": {
    "scrolled": false
   },
   "outputs": [],
   "source": [
    "stream_tweets(APP_KEY, APP_TOKEN, OAUTH_KEY, OAUTH_TOKEN, query=QUERY,\n",
    "              limit=LIMIT, ats=True, rts=True, output_folder='stream')"
   ]
  },
  {
   "cell_type": "markdown",
   "metadata": {},
   "source": [
    "#### Sample of flowing data (1%)\n",
    "\n",
    "Capture up to 1% of data being currently published to Twitter through the API. **Warning**: without setting ```LIMIT``` it'll run in a loop. Uses the [Stream API](https://developer.twitter.com/en/docs/tweets/sample-realtime/overview/GET_statuse_sample)."
   ]
  },
  {
   "cell_type": "code",
   "execution_count": null,
   "metadata": {
    "scrolled": true
   },
   "outputs": [],
   "source": [
    "stream_tweets(APP_KEY, APP_TOKEN, OAUTH_KEY, OAUTH_TOKEN, stream_type='sample',\n",
    "              limit=LIMIT, ats=False, rts=False, output_folder='sample')"
   ]
  },
  {
   "cell_type": "markdown",
   "metadata": {},
   "source": [
    "#### Convert JSON streaming tweets\n",
    "\n",
    "When streaming tweets, outputting is done to a JSON file by default for smaller footprints. This function converts it to a CSV table of the same name."
   ]
  },
  {
   "cell_type": "code",
   "execution_count": null,
   "metadata": {
    "scrolled": false
   },
   "outputs": [],
   "source": [
    "convert_json_tweets('tweets.json') # 'stream/tweets.json'; 'sample/tweets.json'"
   ]
  },
  {
   "cell_type": "markdown",
   "metadata": {},
   "source": [
    "### Expand retweets\n",
    "\n",
    "Get retweets for existing tweets in a data set, expanding available data **in file (!)**. **Allows resuming**. Uses the [REST](https://developer.twitter.com/en/docs/tweets/post-and-engage/api-reference/get-statuses-retweets-id) [API](https://developer.twitter.com/en/docs/tweets/post-and-engage/api-reference/get-statuses-retweeters-ids.html)."
   ]
  },
  {
   "cell_type": "code",
   "execution_count": null,
   "metadata": {
    "scrolled": false
   },
   "outputs": [],
   "source": [
    "collect_twitter('tweets.txt', app_keys=APP_KEYS, query_type='rts', resume=False)"
   ]
  },
  {
   "cell_type": "markdown",
   "metadata": {},
   "source": [
    "### Trending topics\n",
    "\n",
    "List currently trending topics in a region or worldwide. Uses the [REST API](https://developer.twitter.com/en/docs/trends/trends-for-location/api-reference/get-trends-place.html)"
   ]
  },
  {
   "cell_type": "code",
   "execution_count": null,
   "metadata": {
    "scrolled": true
   },
   "outputs": [],
   "source": [
    "trending_topics(query=1, app_keys=APP_KEYS, show_all_topics=False)"
   ]
  },
  {
   "cell_type": "code",
   "execution_count": null,
   "metadata": {},
   "outputs": [],
   "source": [
    "trending_topics('list') # WHERE_ON_EARTH"
   ]
  },
  {
   "cell_type": "markdown",
   "metadata": {},
   "source": [
    "### Query user data\n",
    "\n",
    "#### Followers (API)\n",
    "\n",
    "Get a list of user IDs currently following a profile. Uses the [REST API](https://developer.twitter.com/en/docs/accounts-and-users/follow-search-get-users/api-reference/get-followers-ids.html)."
   ]
  },
  {
   "cell_type": "code",
   "execution_count": null,
   "metadata": {},
   "outputs": [],
   "source": [
    "collect_twitter(INPUT, app_keys=APP_KEYS, query_type='followers', output='followers')"
   ]
  },
  {
   "cell_type": "markdown",
   "metadata": {},
   "source": [
    "#### Friends (API)\n",
    "\n",
    "Get a list of user IDs currently friends with (followed by) a profile. Uses the [REST API](https://developer.twitter.com/en/docs/accounts-and-users/follow-search-get-users/api-reference/get-friends-ids)."
   ]
  },
  {
   "cell_type": "code",
   "execution_count": null,
   "metadata": {},
   "outputs": [],
   "source": [
    "collect_twitter(INPUT, app_keys=APP_KEYS, query_type='friends', output='friends')"
   ]
  },
  {
   "cell_type": "markdown",
   "metadata": {},
   "source": [
    "#### User metadata (API)\n",
    "\n",
    "Get user metadata information for a list of profiles. Uses the [REST API](https://developer.twitter.com/en/docs/accounts-and-users/follow-search-get-users/api-reference/get-users-lookup.html)."
   ]
  },
  {
   "cell_type": "code",
   "execution_count": null,
   "metadata": {},
   "outputs": [],
   "source": [
    "collect_twitter(INPUT, app_keys=APP_KEYS, query_type='users', output='users')"
   ]
  },
  {
   "cell_type": "markdown",
   "metadata": {},
   "source": [
    "#### Compress output →  `output.zip`"
   ]
  },
  {
   "cell_type": "code",
   "execution_count": null,
   "metadata": {},
   "outputs": [],
   "source": [
    "!zip output.zip *csv *xls *xlsx *txt *json tweets timeline stream sample followers friends users"
   ]
  },
  {
   "cell_type": "markdown",
   "metadata": {},
   "source": [
    "### [Download output files](output.zip)"
   ]
  },
  {
   "cell_type": "markdown",
   "metadata": {},
   "source": [
    "___\n",
    "\n",
    "### References\n",
    "\n",
    "* Twython @ PyPI: https://pypi.org/project/twython/\n",
    "\n",
    "* GWU datasets: https://tweetsets.library.gwu.edu/datasets\n",
    "\n",
    "* GWU dataverse: https://dataverse.harvard.edu/dataverse/gwu-libraries\n",
    "\n",
    "* Twitter Event Datasets: https://figshare.com/articles/Twitter_event_datasets_2012-2016_/5100460\n",
    "\n",
    "* Twitter API Documentation: https://developer.twitter.com"
   ]
  }
 ],
 "metadata": {
  "kernelspec": {
   "display_name": "Python 3",
   "language": "python",
   "name": "python3"
  },
  "language_info": {
   "codemirror_mode": {
    "name": "ipython",
    "version": 3
   },
   "file_extension": ".py",
   "mimetype": "text/x-python",
   "name": "python",
   "nbconvert_exporter": "python",
   "pygments_lexer": "ipython3",
   "version": "3.7.7"
  }
 },
 "nbformat": 4,
 "nbformat_minor": 2
}
