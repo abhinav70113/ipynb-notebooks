{
 "cells": [
  {
   "cell_type": "markdown",
   "metadata": {},
   "source": [
    "## DataFramePlot\n",
    "\n",
    "### Set environmental variables\n",
    "\n",
    "In order to properly load modules within this notebook from outside the repository folder, set the script **PATH** below,  e.g. ```C:/DataFramePlot```:"
   ]
  },
  {
   "cell_type": "code",
   "execution_count": null,
   "metadata": {
    "scrolled": true
   },
   "outputs": [],
   "source": [
    "PATH = \"/path/to/DataFramePlot\" # <-- optional if running from native path"
   ]
  },
  {
   "cell_type": "code",
   "execution_count": null,
   "metadata": {
    "scrolled": true
   },
   "outputs": [],
   "source": [
    "import importlib.util, os\n",
    "\n",
    "if not os.path.isdir(PATH):\n",
    "    PATH = os.getcwd()\n",
    "PATH = os.path.realpath(PATH)\n",
    "\n",
    "spec = importlib.util.spec_from_file_location(\"__init__\", PATH+'/__init__.py')\n",
    "init = importlib.util.module_from_spec(spec)\n",
    "spec.loader.exec_module(init)\n",
    "\n",
    "%matplotlib inline\n",
    "%load_ext autoreload\n",
    "%autoreload 2"
   ]
  },
  {
   "cell_type": "markdown",
   "metadata": {},
   "source": [
    "### Import functions"
   ]
  },
  {
   "cell_type": "code",
   "execution_count": null,
   "metadata": {
    "scrolled": true
   },
   "outputs": [],
   "source": [
    "import plotly.offline as py\n",
    "\n",
    "from tagging import df_load\n",
    "from tagging import df_write\n",
    "from tagging import tag_df\n",
    "from tagging import tagged_bar\n",
    "from tagging import tagged_series\n",
    "\n",
    "py.init_notebook_mode(connected=True)"
   ]
  },
  {
   "cell_type": "markdown",
   "metadata": {},
   "source": [
    "### Load data from file\n",
    "\n",
    "Accepts both pure text files and Excel extension formats: `CSV`, `TAB`, `TXT`, `XLS`, `XLSX`."
   ]
  },
  {
   "cell_type": "code",
   "execution_count": null,
   "metadata": {
    "scrolled": true
   },
   "outputs": [],
   "source": [
    "file_name = \"\"\n",
    "\n",
    "df = df_load(file_name); df.head(1)"
   ]
  },
  {
   "cell_type": "markdown",
   "metadata": {},
   "source": [
    "### Tag data\n",
    "\n",
    "Select parameters to optionally tag rows in data frame by text matching rules. **Note:** only considers string values by default."
   ]
  },
  {
   "cell_type": "code",
   "execution_count": null,
   "metadata": {
    "scrolled": false
   },
   "outputs": [],
   "source": [
    "keywords = \"\"             # comma separated (required)\n",
    "tag_name = \"\"             # category or tag name (optional)\n",
    "columns  = \"\"             # comma separated (optional)\n",
    "\n",
    "case_sensitive = False    # match keywords as case sensitive (AaBbCc) \n",
    "invert_match   = False    # tag unmatching rows only i.e. not matching any rule\n",
    "whole_words    = False    # do NOT allow partial matches (e.g 'book' matches 'books')\n",
    "\n",
    "tag_column     = \"tag\"    # existing or new field title (required)\n",
    "output_folder  = \"TAGGED\" # output directory for new files (optional)\n",
    "\n",
    "df = tag_df(df, keywords, tag_name, columns, tag_column, case_sensitive, invert_match, whole_words)"
   ]
  },
  {
   "cell_type": "markdown",
   "metadata": {},
   "source": [
    "### Plot bar chart\n",
    "\n",
    "Generate a simple bar chart comparing each tag count. **Note:** disregards untagged rows by default."
   ]
  },
  {
   "cell_type": "code",
   "execution_count": null,
   "metadata": {
    "scrolled": false
   },
   "outputs": [],
   "source": [
    "tagged_bar(df, y=tag_column, output_folder=output_folder, untagged=False, inline=True)"
   ]
  },
  {
   "cell_type": "markdown",
   "metadata": {},
   "source": [
    "### Plot time series\n",
    "\n",
    "Generate a line chart comparing tags by date. Requires a valid `date_column` with corresponding time values. **Note:** disregards untagged rows by default."
   ]
  },
  {
   "cell_type": "code",
   "execution_count": null,
   "metadata": {
    "scrolled": true
   },
   "outputs": [],
   "source": [
    "date_column = \"\""
   ]
  },
  {
   "cell_type": "code",
   "execution_count": null,
   "metadata": {
    "scrolled": true
   },
   "outputs": [],
   "source": [
    "tagged_series(df, x=date_column, y=tag_column, output_folder=output_folder, untagged=False, inline=True)"
   ]
  },
  {
   "cell_type": "markdown",
   "metadata": {},
   "source": [
    "### Write tagged data to file\n",
    "\n",
    "Accepts both pure text `CSV` (Comma Separated Values) and `XLS/XLSX` (Excel) extension formats."
   ]
  },
  {
   "cell_type": "code",
   "execution_count": null,
   "metadata": {
    "scrolled": true
   },
   "outputs": [],
   "source": [
    "output_file = \"tagged_data.csv\" # \"tagged_data.xls\"\n",
    "\n",
    "df_write(df, \"%s/%s\" % (output_folder, output_file))"
   ]
  },
  {
   "cell_type": "markdown",
   "metadata": {},
   "source": [
    "#### Compress output →  `output.zip`"
   ]
  },
  {
   "cell_type": "code",
   "execution_count": null,
   "metadata": {
    "scrolled": true
   },
   "outputs": [],
   "source": [
    "!zip output.zip TAGGED"
   ]
  },
  {
   "cell_type": "markdown",
   "metadata": {},
   "source": [
    "### [Download output files](output.zip)"
   ]
  },
  {
   "cell_type": "markdown",
   "metadata": {},
   "source": [
    "___\n",
    "\n",
    "### References\n",
    "\n",
    "* Pandas documentation: https://pandas.pydata.org/\n",
    "\n",
    "* Plotly documentation: https://plotly.com/python/"
   ]
  }
 ],
 "metadata": {
  "kernelspec": {
   "display_name": "Python 3",
   "language": "python",
   "name": "python3"
  },
  "language_info": {
   "codemirror_mode": {
    "name": "ipython",
    "version": 3
   },
   "file_extension": ".py",
   "mimetype": "text/x-python",
   "name": "python",
   "nbconvert_exporter": "python",
   "pygments_lexer": "ipython3",
   "version": "3.7.7"
  }
 },
 "nbformat": 4,
 "nbformat_minor": 2
}
